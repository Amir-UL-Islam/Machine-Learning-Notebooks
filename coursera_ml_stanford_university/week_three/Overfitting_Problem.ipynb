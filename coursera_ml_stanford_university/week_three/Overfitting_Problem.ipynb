{
 "cells": [
  {
   "cell_type": "markdown",
   "id": "7a014c2e-be0b-408d-b0e0-ba5a63a03f21",
   "metadata": {},
   "source": [
    "#### This terminology is applied to both linear and logistic regression. There are two main options to address the issue of **overfitting:**\n"
   ]
  },
  {
   "cell_type": "markdown",
   "id": "e2f5f2c2-625e-4b34-87bf-7ff95e673012",
   "metadata": {},
   "source": [
    "### 1) Reduce the number of features:"
   ]
  },
  {
   "cell_type": "markdown",
   "id": "29188a65-0b7f-41da-ad85-8a40736728d7",
   "metadata": {},
   "source": [
    "#### Manually select which features to keep.\n",
    "#### Use a model selection algorithm (studied later in the course).\n"
   ]
  },
  {
   "cell_type": "markdown",
   "id": "bcb28d4c-b85d-4823-93ec-b5c3855105b0",
   "metadata": {},
   "source": [
    "### 2) Regularization"
   ]
  },
  {
   "cell_type": "markdown",
   "id": "cf703cd2-53b3-4131-80b8-d8ad9b46fe6c",
   "metadata": {},
   "source": [
    "#### Keep all the features, but reduce the magnitude of parameters $\\theta_j$."
   ]
  },
  {
   "cell_type": "markdown",
   "id": "2e3f18bb-46e8-43cb-92df-03000ccd7c92",
   "metadata": {},
   "source": [
    "#### Regularization works well when we have a lot of slightly useful features."
   ]
  },
  {
   "cell_type": "markdown",
   "id": "afceb710-ff03-4315-bda4-4ad0e7f9a2d2",
   "metadata": {},
   "source": [
    ">#### Higher order polynomials have a larger number of factors than quadratic polynomials."
   ]
  },
  {
   "cell_type": "markdown",
   "id": "ff76bec7-1d22-4b9d-a5cd-b33e825ae483",
   "metadata": {},
   "source": [
    "#### If we have overfitting from our hypothesis function, we can **reduce the weight(features number)** that some of the terms in our function carry by increasing their cost."
   ]
  },
  {
   "cell_type": "markdown",
   "id": "cc6e7a7e-a309-4fab-a015-161d199fcab0",
   "metadata": {},
   "source": [
    ">#### We wanted to make the following function more quadratic(or minimize)"
   ]
  },
  {
   "cell_type": "markdown",
   "id": "b9dcb599-5ef1-4582-ac60-a0e8440a558a",
   "metadata": {},
   "source": [
    "### $\\theta_0$ + $\\theta_1x$ + $\\theta_2x$ + $\\theta_3x$ + $\\theta_4x$"
   ]
  },
  {
   "cell_type": "markdown",
   "id": "41230f53-1617-4d4b-8c11-4155cbbbcc5b",
   "metadata": {},
   "source": [
    "#### We'll want to eliminate the influence of\n",
    "### $\\theta_3x$ and $\\theta_4x$\n",
    "#### Without actually getting rid of these features or changing the form of our hypothesis, we can instead modify our cost function:"
   ]
  },
  {
   "cell_type": "markdown",
   "id": "c2bc609e-2bb4-4e4e-b3bf-2cea8dd145ee",
   "metadata": {},
   "source": [
    "![lambda](lambda.png)"
   ]
  },
  {
   "cell_type": "markdown",
   "id": "96a5d879-33a4-47ee-91a4-5bdd74ae6dcf",
   "metadata": {},
   "source": [
    "#### We've added two extra terms at the end to inflate the cost of  $\\theta_3x$ and $\\theta_4x$ Now, in order for the cost function to get close to zero, we will have to reduce the values of $\\theta_3x$ and $\\theta_4x$ . This will in turn greatly reduce the values of$\\theta_3x$ and $\\theta_4x$  in our hypothesis function. As a result, we see that the new hypothesis (depicted by the pink curve) looks like a quadratic function but fits the data better due to the extra small terms $\\theta_3x$ and $\\theta_4x$."
   ]
  },
  {
   "cell_type": "markdown",
   "id": "b4e6ad76-80ee-4a23-9ba9-4b5000bb85dc",
   "metadata": {},
   "source": [
    "![lambda_added](lambda_added.png)"
   ]
  },
  {
   "cell_type": "markdown",
   "id": "769fa450-2290-4a60-9fd5-13bc0a471cc9",
   "metadata": {},
   "source": [
    "#### The $\\lambda$, or lambda, is the regularization parameter. It determines how much the costs of our theta parameters are inflated. \n",
    "\n",
    "#### Using the above cost function with the **extra summation, we can smooth the output of our hypothesis function** to reduce overfitting. If **lambda is chosen to be too large, it may smooth out the function too much and cause underfitting.** Hence, what would happen if $\\lambda$ = 0 or is too small ?"
   ]
  },
  {
   "cell_type": "code",
   "execution_count": null,
   "id": "e3b6e27b-a292-4936-98e9-5186638fd352",
   "metadata": {},
   "outputs": [],
   "source": []
  },
  {
   "cell_type": "code",
   "execution_count": null,
   "id": "57270a50-71c0-4ec9-a21e-dfd930ebd7b9",
   "metadata": {},
   "outputs": [],
   "source": []
  }
 ],
 "metadata": {
  "kernelspec": {
   "display_name": "Python 3 (ipykernel)",
   "language": "python",
   "name": "python3"
  },
  "language_info": {
   "codemirror_mode": {
    "name": "ipython",
    "version": 3
   },
   "file_extension": ".py",
   "mimetype": "text/x-python",
   "name": "python",
   "nbconvert_exporter": "python",
   "pygments_lexer": "ipython3",
   "version": "3.11.0"
  }
 },
 "nbformat": 4,
 "nbformat_minor": 5
}
