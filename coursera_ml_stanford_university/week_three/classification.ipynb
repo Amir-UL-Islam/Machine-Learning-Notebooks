{
 "cells": [
  {
   "cell_type": "markdown",
   "id": "b8ead05c-457f-4fb1-854d-9511961ce513",
   "metadata": {},
   "source": [
    "#### To attempt classification, one method is to use linear regression and map all predictions greater than 0.5 as a 1 and all less than 0.5 as a 0. However, this method doesn't work well because classification is not actually a linear function."
   ]
  },
  {
   "cell_type": "markdown",
   "id": "adebf3fe-5ab5-4456-8ec0-8c6523a3432b",
   "metadata": {},
   "source": [
    "## The Natural number of growth is **e**\n",
    "### And the value of **e** is 2.718....."
   ]
  },
  {
   "cell_type": "markdown",
   "id": "9854e44b-8a64-4b95-be85-c53de4dbc2b5",
   "metadata": {},
   "source": [
    "### **Hypothesis Representation**"
   ]
  },
  {
   "cell_type": "markdown",
   "id": "552a75ba-8f79-4319-9bac-7a72817c70e9",
   "metadata": {},
   "source": [
    "### $h$$_\\theta$($x$) = $g$($\\theta$$^T$ $x$)"
   ]
  },
  {
   "cell_type": "markdown",
   "id": "8150be20-12ce-4495-9773-6cb7a918dc10",
   "metadata": {},
   "source": [
    "### $z$ = $\\theta_T$$x$"
   ]
  },
  {
   "cell_type": "markdown",
   "id": "4d7db0f8-d1eb-4614-9fdd-a96c292f9092",
   "metadata": {},
   "source": [
    "![hypo](hypo_log.png)"
   ]
  },
  {
   "cell_type": "markdown",
   "id": "ee386987-6d9b-44f7-bd2e-b5e277246acf",
   "metadata": {},
   "source": [
    "## Decision Boundary"
   ]
  },
  {
   "cell_type": "code",
   "execution_count": null,
   "id": "0159f7a3-303d-40f8-83d2-85ab284c172c",
   "metadata": {},
   "outputs": [],
   "source": []
  },
  {
   "cell_type": "code",
   "execution_count": null,
   "id": "047327fc-331a-4abc-b1f7-14bc0ad49b56",
   "metadata": {},
   "outputs": [],
   "source": []
  },
  {
   "cell_type": "code",
   "execution_count": null,
   "id": "e76f27a3-ab59-4956-a71c-538b9df02aeb",
   "metadata": {},
   "outputs": [],
   "source": []
  },
  {
   "cell_type": "code",
   "execution_count": null,
   "id": "5d256456-c225-4c24-ae43-3b06396dceee",
   "metadata": {},
   "outputs": [],
   "source": []
  },
  {
   "cell_type": "code",
   "execution_count": null,
   "id": "ef28ce7b-ac57-4b4e-a8d6-ba65eea9b0fe",
   "metadata": {},
   "outputs": [],
   "source": []
  },
  {
   "cell_type": "markdown",
   "id": "4d523ba3-40d9-401d-bc67-bea533daa667",
   "metadata": {},
   "source": [
    "## **Loss Function**"
   ]
  },
  {
   "cell_type": "markdown",
   "id": "d1aa85c5-f101-4aa8-9088-40af8f6df7a1",
   "metadata": {},
   "source": [
    "### $j$($\\theta$) = $1$/$m$ $\\sum$$_{i=1}^{m}$ $($h$(x^{i})-y^{i})^2$"
   ]
  },
  {
   "cell_type": "markdown",
   "id": "f5a56ac3-4009-4726-bc58-abc67e426dad",
   "metadata": {},
   "source": [
    "### $Cost$($h_\\theta$(x), y) = $-\\log$($h_\\theta$(x))-------------> if $x$ = 1"
   ]
  },
  {
   "cell_type": "markdown",
   "id": "8a1979da-f2d3-4df4-9e88-2b17d532141b",
   "metadata": {},
   "source": [
    "### $Cost$($h_\\theta$(x), y) = $-\\log$(1 $-$ $h_\\theta$(x))----------------> if $x$ = 0"
   ]
  },
  {
   "cell_type": "markdown",
   "id": "5f3ce1a0-e2d4-4c40-bb01-6adb58f7a3c0",
   "metadata": {},
   "source": [
    "### $Cost$($h_\\theta$(x), y) = $-y$ $log$($h_\\theta$(x)) $-$ (1 $-$ y)$log$(1 $-$ $h$_$\\theta$(x))"
   ]
  },
  {
   "cell_type": "markdown",
   "id": "a651959a-8e8c-4f02-8c1a-4b1a8dcd4a0c",
   "metadata": {},
   "source": [
    "### Costs\n",
    "![cost](cost.png)"
   ]
  },
  {
   "cell_type": "code",
   "execution_count": null,
   "id": "4aa017b0-b7e0-4be2-a5a6-287b0d588c7c",
   "metadata": {},
   "outputs": [],
   "source": []
  }
 ],
 "metadata": {
  "kernelspec": {
   "display_name": "Python 3 (ipykernel)",
   "language": "python",
   "name": "python3"
  },
  "language_info": {
   "codemirror_mode": {
    "name": "ipython",
    "version": 3
   },
   "file_extension": ".py",
   "mimetype": "text/x-python",
   "name": "python",
   "nbconvert_exporter": "python",
   "pygments_lexer": "ipython3",
   "version": "3.11.0"
  }
 },
 "nbformat": 4,
 "nbformat_minor": 5
}
