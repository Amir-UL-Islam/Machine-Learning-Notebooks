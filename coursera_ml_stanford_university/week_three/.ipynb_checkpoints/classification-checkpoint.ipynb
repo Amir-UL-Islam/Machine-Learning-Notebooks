{
 "cells": [
  {
   "cell_type": "markdown",
   "id": "b8ead05c-457f-4fb1-854d-9511961ce513",
   "metadata": {},
   "source": [
    "#### To attempt classification, one method is to use linear regression and map all predictions greater than 0.5 as a 1 and all less than 0.5 as a 0. However, this method doesn't work well because classification is not actually a linear function."
   ]
  },
  {
   "cell_type": "markdown",
   "id": "adebf3fe-5ab5-4456-8ec0-8c6523a3432b",
   "metadata": {},
   "source": [
    "## The Natural number of growth is **e**\n",
    "### And the value of **e** is 2.718....."
   ]
  },
  {
   "cell_type": "markdown",
   "id": "9854e44b-8a64-4b95-be85-c53de4dbc2b5",
   "metadata": {},
   "source": [
    "### **Hypothesis Representation**"
   ]
  },
  {
   "cell_type": "markdown",
   "id": "552a75ba-8f79-4319-9bac-7a72817c70e9",
   "metadata": {},
   "source": [
    "### $h$$_\\theta$($x$) = $g$($\\theta$$^T$ $x$)"
   ]
  },
  {
   "cell_type": "code",
   "execution_count": null,
   "id": "acfa0848-4006-4b9d-9dda-aff137223453",
   "metadata": {},
   "outputs": [],
   "source": []
  },
  {
   "cell_type": "code",
   "execution_count": null,
   "id": "70fc4eb6-9eb2-4518-b031-8f185bf99066",
   "metadata": {},
   "outputs": [],
   "source": []
  },
  {
   "cell_type": "markdown",
   "id": "ee386987-6d9b-44f7-bd2e-b5e277246acf",
   "metadata": {},
   "source": [
    "## Decision Boundary"
   ]
  },
  {
   "cell_type": "code",
   "execution_count": null,
   "id": "0159f7a3-303d-40f8-83d2-85ab284c172c",
   "metadata": {},
   "outputs": [],
   "source": []
  },
  {
   "cell_type": "code",
   "execution_count": null,
   "id": "047327fc-331a-4abc-b1f7-14bc0ad49b56",
   "metadata": {},
   "outputs": [],
   "source": []
  },
  {
   "cell_type": "code",
   "execution_count": null,
   "id": "e76f27a3-ab59-4956-a71c-538b9df02aeb",
   "metadata": {},
   "outputs": [],
   "source": []
  },
  {
   "cell_type": "code",
   "execution_count": null,
   "id": "5d256456-c225-4c24-ae43-3b06396dceee",
   "metadata": {},
   "outputs": [],
   "source": []
  },
  {
   "cell_type": "code",
   "execution_count": null,
   "id": "ef28ce7b-ac57-4b4e-a8d6-ba65eea9b0fe",
   "metadata": {},
   "outputs": [],
   "source": []
  },
  {
   "cell_type": "markdown",
   "id": "4d523ba3-40d9-401d-bc67-bea533daa667",
   "metadata": {},
   "source": [
    "## **Loss Function**"
   ]
  },
  {
   "cell_type": "markdown",
   "id": "d1aa85c5-f101-4aa8-9088-40af8f6df7a1",
   "metadata": {},
   "source": [
    "### $j$($\\theta$) = $1$/$m$ $\\sum$$_{m}^{i=1}$"
   ]
  },
  {
   "cell_type": "code",
   "execution_count": null,
   "id": "488292b1-5069-469c-8c60-0f35a9928398",
   "metadata": {},
   "outputs": [],
   "source": []
  },
  {
   "cell_type": "code",
   "execution_count": null,
   "id": "bcefc11c-6e04-4701-9c90-26e660ce4ee7",
   "metadata": {},
   "outputs": [],
   "source": []
  },
  {
   "cell_type": "code",
   "execution_count": null,
   "id": "a8edb7a7-6bc0-4677-bd75-bb18de33edd2",
   "metadata": {},
   "outputs": [],
   "source": []
  },
  {
   "cell_type": "code",
   "execution_count": null,
   "id": "4aa017b0-b7e0-4be2-a5a6-287b0d588c7c",
   "metadata": {},
   "outputs": [],
   "source": []
  }
 ],
 "metadata": {
  "kernelspec": {
   "display_name": "Python 3 (ipykernel)",
   "language": "python",
   "name": "python3"
  },
  "language_info": {
   "codemirror_mode": {
    "name": "ipython",
    "version": 3
   },
   "file_extension": ".py",
   "mimetype": "text/x-python",
   "name": "python",
   "nbconvert_exporter": "python",
   "pygments_lexer": "ipython3",
   "version": "3.10.7"
  }
 },
 "nbformat": 4,
 "nbformat_minor": 5
}
