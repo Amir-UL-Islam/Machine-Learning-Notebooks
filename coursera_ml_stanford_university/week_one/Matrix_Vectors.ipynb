{
 "cells": [
  {
   "cell_type": "markdown",
   "id": "edf959fb-85cc-4f3b-b91b-24f3784c3472",
   "metadata": {},
   "source": [
    "## **Matrix & Vector**"
   ]
  },
  {
   "cell_type": "markdown",
   "id": "0f53be76-76b4-48a0-8129-54e055021067",
   "metadata": {},
   "source": [
    "#### 1. ```%``` Use to start a comment in **Matlab**\n",
    "#### 2. ```;``` To start a new line"
   ]
  },
  {
   "cell_type": "code",
   "execution_count": 3,
   "id": "6514eef6-a0aa-4c15-afa6-0cacd0276705",
   "metadata": {},
   "outputs": [
    {
     "ename": "SyntaxError",
     "evalue": "invalid syntax (1528422720.py, line 2)",
     "output_type": "error",
     "traceback": [
      "\u001b[0;36m  File \u001b[0;32m\"/tmp/ipykernel_6564/1528422720.py\"\u001b[0;36m, line \u001b[0;32m2\u001b[0m\n\u001b[0;31m    A = [1, 2, 3; 4, 5, 6; 7, 8, 9; 10, 11, 12]\u001b[0m\n\u001b[0m                ^\u001b[0m\n\u001b[0;31mSyntaxError\u001b[0m\u001b[0;31m:\u001b[0m invalid syntax\n"
     ]
    }
   ],
   "source": [
    "% The ; denotes we are going back to a new row.\n",
    "A = [1, 2, 3; 4, 5, 6; 7, 8, 9; 10, 11, 12]\n",
    "\n",
    "% Initialize a vector \n",
    "v = [1;2;3] \n",
    "\n",
    "% Get the dimension of the matrix A where m = rows and n = columns\n",
    "[m,n] = size(A)\n",
    "\n",
    "% You could also store it this way\n",
    "dim_A = size(A)\n",
    "\n",
    "% Get the dimension of the vector v \n",
    "dim_v = size(v)\n",
    "\n",
    "% Now let's index into the 2nd row 3rd column of matrix A\n",
    "A_23 = A(2,3)"
   ]
  },
  {
   "cell_type": "markdown",
   "id": "102e61e5-49c9-4e04-97c4-d458cfeddf8f",
   "metadata": {},
   "source": [
    "### Matrix Add, subtract, Multiplication, Divide"
   ]
  },
  {
   "cell_type": "code",
   "execution_count": null,
   "id": "1f4cac6c-30ad-4d85-ba5f-9b3832284d31",
   "metadata": {},
   "outputs": [],
   "source": [
    "% Initialize matrix A and B \n",
    "A = [1, 2, 4; 5, 3, 2]\n",
    "B = [1, 3, 4; 1, 1, 1]\n",
    "\n",
    "% Initialize constant s \n",
    "s = 2\n",
    "\n",
    "% See how element-wise addition works\n",
    "add_AB = A + B \n",
    "\n",
    "% See how element-wise subtraction works\n",
    "sub_AB = A - B\n",
    "\n",
    "% See how scalar multiplication works\n",
    "mult_As = A * s\n",
    "\n",
    "% Divide A by s\n",
    "div_As = A / s\n",
    "\n",
    "% What happens if we have a Matrix + scalar?\n",
    "add_As = A + s"
   ]
  }
 ],
 "metadata": {
  "kernelspec": {
   "display_name": "Python 3 (ipykernel)",
   "language": "python",
   "name": "python3"
  },
  "language_info": {
   "codemirror_mode": {
    "name": "ipython",
    "version": 3
   },
   "file_extension": ".py",
   "mimetype": "text/x-python",
   "name": "python",
   "nbconvert_exporter": "python",
   "pygments_lexer": "ipython3",
   "version": "3.10.6"
  }
 },
 "nbformat": 4,
 "nbformat_minor": 5
}
