{
 "cells": [
  {
   "cell_type": "markdown",
   "id": "01354163-1dfb-4858-8714-f97ade46f689",
   "metadata": {},
   "source": [
    "## Online Learning"
   ]
  },
  {
   "cell_type": "markdown",
   "id": "fa6271db-5099-48d9-a012-513bfc637625",
   "metadata": {},
   "source": [
    "#### Mostly for continuous flow of data. One that have a **non-stop data input** LIKE a Social Media application or **Shipping Website**(Where you will give a **prize based on the *customer Desire location and the Package to be send*)**"
   ]
  },
  {
   "cell_type": "markdown",
   "id": "9f50846b-3dd5-4cb6-a870-bd20a4a36947",
   "metadata": {},
   "source": [
    ">### **Online learning algorithm can adapt to changing user preferences.**"
   ]
  },
  {
   "cell_type": "code",
   "execution_count": null,
   "id": "2b45fd8c-1688-4853-88f1-ae95cb1cf61f",
   "metadata": {},
   "outputs": [],
   "source": []
  }
 ],
 "metadata": {
  "kernelspec": {
   "display_name": "Python 3 (ipykernel)",
   "language": "python",
   "name": "python3"
  },
  "language_info": {
   "codemirror_mode": {
    "name": "ipython",
    "version": 3
   },
   "file_extension": ".py",
   "mimetype": "text/x-python",
   "name": "python",
   "nbconvert_exporter": "python",
   "pygments_lexer": "ipython3",
   "version": "3.10.6"
  }
 },
 "nbformat": 4,
 "nbformat_minor": 5
}
