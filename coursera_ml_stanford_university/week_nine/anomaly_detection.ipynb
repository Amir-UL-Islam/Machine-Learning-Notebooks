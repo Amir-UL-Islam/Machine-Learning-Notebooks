{
 "cells": [
  {
   "cell_type": "markdown",
   "id": "2521e314-26b8-4c91-abb4-a112f2f853d1",
   "metadata": {},
   "source": [
    "## Anomaly Detection."
   ]
  },
  {
   "cell_type": "markdown",
   "id": "0270438f-d93e-4d89-ba38-cffa386adf17",
   "metadata": {},
   "source": [
    "#### The most common application of anomaly detection is actually for **detection if you have many users, and if each of your users take different activities, you know maybe on your website or in the physical plant or something, you can compute features of the different users activities.**\n",
    "#### **Fraud detection**"
   ]
  },
  {
   "cell_type": "markdown",
   "id": "e15e2e11-9827-4317-a7cb-f11fd4e75ff8",
   "metadata": {},
   "source": [
    "### Gaussian Distribution(normal distribution)"
   ]
  },
  {
   "cell_type": "markdown",
   "id": "4be156d7-bfbd-4d78-9801-d2f9af083e8f",
   "metadata": {},
   "source": [
    "### Parameter Estimators"
   ]
  },
  {
   "cell_type": "markdown",
   "id": "010c6505-73c5-4c6f-953a-8cd4ea3892da",
   "metadata": {},
   "source": [
    "### $x^i$~$N$($\\mu$, $\\sigma^2$)"
   ]
  },
  {
   "cell_type": "markdown",
   "id": "6ee00c8c-8897-4631-87d4-485ab78589ea",
   "metadata": {},
   "source": [
    "#### Here ```x``` came from a Gaussian Distribution and Distributed according to Normal or Gaussian Distribution with same parameter $\\mu$ and some parameter $\\sigma^2$."
   ]
  },
  {
   "cell_type": "markdown",
   "id": "2f0dc168-19a2-4a45-9c91-4320f13a8a79",
   "metadata": {},
   "source": [
    "#### We can estimate the value of  $\\mu$  and $\\sigma^2$ (Variance) using their formulas."
   ]
  },
  {
   "cell_type": "markdown",
   "id": "a77808ea-c97e-4d2b-a910-688c08a6e4ed",
   "metadata": {},
   "source": [
    "### Probability Density Estimation"
   ]
  },
  {
   "cell_type": "code",
   "execution_count": null,
   "id": "3d4e596c-f8d8-45df-8049-642c8780da2b",
   "metadata": {},
   "outputs": [],
   "source": []
  },
  {
   "cell_type": "markdown",
   "id": "71245356-7ce8-4c82-beb0-f4353dceb4c9",
   "metadata": {},
   "source": [
    "### Anomaly Detection Algorithm"
   ]
  },
  {
   "cell_type": "markdown",
   "id": "31ab2233-38ea-4378-8fdc-35aa2c2311d4",
   "metadata": {},
   "source": [
    "#### 1. Chose Feature $x$ , Which you think might be an example of Anomalous .\n",
    "#### 2. fit parameter $\\mu_1$.....,$\\mu_n$ and $\\sigma_1^2$.....$\\sigma_n^2$.\n",
    ">#### Where $\\mu_j$ = $1/m$$\\sum_i$\n",
    "#### 3. "
   ]
  }
 ],
 "metadata": {
  "kernelspec": {
   "display_name": "Python 3 (ipykernel)",
   "language": "python",
   "name": "python3"
  },
  "language_info": {
   "codemirror_mode": {
    "name": "ipython",
    "version": 3
   },
   "file_extension": ".py",
   "mimetype": "text/x-python",
   "name": "python",
   "nbconvert_exporter": "python",
   "pygments_lexer": "ipython3",
   "version": "3.10.7"
  }
 },
 "nbformat": 4,
 "nbformat_minor": 5
}
