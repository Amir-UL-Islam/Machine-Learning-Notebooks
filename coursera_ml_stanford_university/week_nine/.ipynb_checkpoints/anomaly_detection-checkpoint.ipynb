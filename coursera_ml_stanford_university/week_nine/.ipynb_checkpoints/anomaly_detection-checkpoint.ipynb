{
 "cells": [
  {
   "cell_type": "markdown",
   "id": "2521e314-26b8-4c91-abb4-a112f2f853d1",
   "metadata": {},
   "source": [
    "## Anomaly Detection."
   ]
  },
  {
   "cell_type": "markdown",
   "id": "0270438f-d93e-4d89-ba38-cffa386adf17",
   "metadata": {},
   "source": [
    "#### The most common application of anomaly detection is actually for **detection if you have many users, and if each of your users take different activities, you know maybe on your website or in the physical plant or something, you can compute features of the different users activities.**\n",
    "#### **Fraud detection**"
   ]
  },
  {
   "cell_type": "code",
   "execution_count": null,
   "id": "101e2c65-7aa2-42f1-aaf5-00d0e23ebaeb",
   "metadata": {},
   "outputs": [],
   "source": [
    "Gaussian Distribution(normal distribution)"
   ]
  }
 ],
 "metadata": {
  "kernelspec": {
   "display_name": "Python 3 (ipykernel)",
   "language": "python",
   "name": "python3"
  },
  "language_info": {
   "codemirror_mode": {
    "name": "ipython",
    "version": 3
   },
   "file_extension": ".py",
   "mimetype": "text/x-python",
   "name": "python",
   "nbconvert_exporter": "python",
   "pygments_lexer": "ipython3",
   "version": "3.10.7"
  }
 },
 "nbformat": 4,
 "nbformat_minor": 5
}
