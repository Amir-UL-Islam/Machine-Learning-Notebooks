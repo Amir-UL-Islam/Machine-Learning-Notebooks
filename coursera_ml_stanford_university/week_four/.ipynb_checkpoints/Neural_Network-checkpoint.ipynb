{
 "cells": [
  {
   "cell_type": "markdown",
   "id": "e2521c60-0f5a-4e97-96f0-c08df2304d33",
   "metadata": {},
   "source": [
    "### Total number of Output in Neural Network"
   ]
  },
  {
   "cell_type": "code",
   "execution_count": null,
   "id": "7ed8ef68-62a9-43ec-829b-37f6f71b55de",
   "metadata": {},
   "outputs": [],
   "source": []
  },
  {
   "cell_type": "code",
   "execution_count": null,
   "id": "c6d8e5a5-fdf6-4330-97c9-754211ceb07c",
   "metadata": {},
   "outputs": [],
   "source": []
  },
  {
   "cell_type": "code",
   "execution_count": null,
   "id": "66927b84-fd6a-4a76-87ad-977492841fea",
   "metadata": {},
   "outputs": [],
   "source": []
  },
  {
   "cell_type": "code",
   "execution_count": null,
   "id": "21a3e487-caa8-407a-bcd7-9a9e0930d56d",
   "metadata": {},
   "outputs": [],
   "source": []
  }
 ],
 "metadata": {
  "kernelspec": {
   "display_name": "Python 3 (ipykernel)",
   "language": "python",
   "name": "python3"
  },
  "language_info": {
   "codemirror_mode": {
    "name": "ipython",
    "version": 3
   },
   "file_extension": ".py",
   "mimetype": "text/x-python",
   "name": "python",
   "nbconvert_exporter": "python",
   "pygments_lexer": "ipython3",
   "version": "3.10.7"
  }
 },
 "nbformat": 4,
 "nbformat_minor": 5
}
