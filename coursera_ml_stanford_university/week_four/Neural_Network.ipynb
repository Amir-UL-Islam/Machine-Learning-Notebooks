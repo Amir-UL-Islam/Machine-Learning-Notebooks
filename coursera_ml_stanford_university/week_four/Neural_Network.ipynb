{
 "cells": [
  {
   "cell_type": "markdown",
   "id": "e2521c60-0f5a-4e97-96f0-c08df2304d33",
   "metadata": {},
   "source": [
    "### Total number of Output in Neural Network"
   ]
  },
  {
   "cell_type": "markdown",
   "id": "69a4ba3b-3f70-4acd-9300-fc1bf16aa4b1",
   "metadata": {},
   "source": [
    "![total_dim](neurons_dim.png)"
   ]
  },
  {
   "cell_type": "markdown",
   "id": "a34291ce-56d6-4089-bdb8-76cb53ad9155",
   "metadata": {},
   "source": [
    "#### Answer is : 4x3"
   ]
  },
  {
   "cell_type": "code",
   "execution_count": null,
   "id": "66927b84-fd6a-4a76-87ad-977492841fea",
   "metadata": {},
   "outputs": [],
   "source": []
  },
  {
   "cell_type": "code",
   "execution_count": null,
   "id": "21a3e487-caa8-407a-bcd7-9a9e0930d56d",
   "metadata": {},
   "outputs": [],
   "source": []
  }
 ],
 "metadata": {
  "kernelspec": {
   "display_name": "Python 3 (ipykernel)",
   "language": "python",
   "name": "python3"
  },
  "language_info": {
   "codemirror_mode": {
    "name": "ipython",
    "version": 3
   },
   "file_extension": ".py",
   "mimetype": "text/x-python",
   "name": "python",
   "nbconvert_exporter": "python",
   "pygments_lexer": "ipython3",
   "version": "3.10.7"
  }
 },
 "nbformat": 4,
 "nbformat_minor": 5
}
