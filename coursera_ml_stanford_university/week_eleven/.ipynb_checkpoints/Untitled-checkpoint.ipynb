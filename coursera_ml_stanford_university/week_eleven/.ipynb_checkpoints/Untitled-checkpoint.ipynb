{
 "cells": [
  {
   "cell_type": "markdown",
   "id": "0fe96fb0-2079-4a21-bc9d-8f741274b111",
   "metadata": {},
   "source": [
    "## **Photo OCR() Pipeline**"
   ]
  },
  {
   "cell_type": "markdown",
   "id": "388ce008-cbe8-4e9a-824d-1ca8a41c29da",
   "metadata": {},
   "source": [
    "#### If you're designing a machine learning system one of the most important decisions will often be what exactly is the pipeline that you want to put together. In other words, given the photo OCR problem, **how do you break this problem down into a sequence of different modules.** And you design the pipeline and each the performance of each of the modules in your pipeline. will often have a big impact on the final performance of your algorithm."
   ]
  },
  {
   "cell_type": "markdown",
   "id": "74e3e9b4-823f-4b33-b654-0747e63db522",
   "metadata": {},
   "source": [
    "#### In many complex machine learning systems, these sorts of pipelines are common, **where you can have multiple modules--in this example, the text detection, character segmentation, character recognition modules--each of which may be machine learning component, or sometimes it may not be a machine learning component but to have a set of modules that act one after another on some piece of data in order to produce the output you want, which in the photo OCR example is to find the transcription of the text that appeared in the image.** "
   ]
  },
  {
   "cell_type": "markdown",
   "id": "9899f280-6738-4865-8e6f-ca0f8fb9e809",
   "metadata": {},
   "source": [
    "![a](img/a.png)"
   ]
  },
  {
   "cell_type": "markdown",
   "id": "90c7c4a2-adc6-4d66-bc47-2e375c5076f4",
   "metadata": {},
   "source": [
    "#### If you have a team of engineers working on a problem like this is also very common to have different individuals work on different modules. So I could easily imagine tech easily being the of anywhere from 1 to 5 engineers, character segmentation maybe another 1-5 engineers, and character recognition being another 1-5"
   ]
  },
  {
   "cell_type": "markdown",
   "id": "967368de-c5d2-4a60-ba8d-7e76c3369573",
   "metadata": {},
   "source": [
    "## **Sliding Window**"
   ]
  },
  {
   "cell_type": "markdown",
   "id": "9864754a-4759-4073-b426-7157492f41a8",
   "metadata": {},
   "source": [
    "#### Suppose you are running a text detector using 20x20 image patches. You run the classifier on a 200x200 image and when using sliding window, you “step” the detector by 4 pixels each time. (For this problem assume you apply the algorithm at only one scale.) About how many times will you end up running your classifier on a single image? (Pick the closest answer.)"
   ]
  },
  {
   "cell_type": "code",
   "execution_count": null,
   "id": "552ab8f2-9f56-4fff-a758-9d7483c4788e",
   "metadata": {},
   "outputs": [],
   "source": []
  },
  {
   "cell_type": "markdown",
   "id": "6425addc-8904-4637-868a-88466cf2f3da",
   "metadata": {},
   "source": [
    "## **Synthetic Data**"
   ]
  },
  {
   "cell_type": "markdown",
   "id": "9a2de427-0522-48f2-a94b-56f53629fc52",
   "metadata": {},
   "source": [
    "#### Synthetic data is any information manufactured artificially which does not represent events or objects in the real world. Algorithms create synthetic data used in model datasets for testing or training purposes. The synthetic data can mimic operational or production data and help train machine learning (ML) models or test out mathematical models."
   ]
  },
  {
   "cell_type": "markdown",
   "id": "283eeb30-e2ab-4349-892d-9c4697262d99",
   "metadata": {},
   "source": [
    "### **Other sources are:**\n",
    ">#### Collect or label yourself\n",
    ">#### 'Crowd Source'(Amazon Mechanical Turk)"
   ]
  },
  {
   "cell_type": "markdown",
   "id": "a7ea0c4b-1d9f-44f5-a3d6-de82c479eb55",
   "metadata": {},
   "source": [
    "## **Ceiling analysis**"
   ]
  },
  {
   "cell_type": "markdown",
   "id": "20694b88-ce57-4bba-a75d-98e48c7fa764",
   "metadata": {},
   "source": [
    "#### Ceiling analysis is the **process of manually overriding each component in your system to provide 100% accurate predictions with that component.** Thereafter, you can observe the overall improvement of your deep learning system component by component."
   ]
  },
  {
   "cell_type": "markdown",
   "id": "bfe17026-6be4-4d73-9853-ffc39230f722",
   "metadata": {},
   "source": [
    "#### So to summarize, pipelines are pretty pervasive in complex machine learning applications. And when you're working on a big machine learning application, your time as developer is so valuable, **so just don't waste your time working on something that ultimately isn't going to matter.** "
   ]
  },
  {
   "cell_type": "code",
   "execution_count": null,
   "id": "2c5ae62b-b61b-466e-869a-d2f7801a134f",
   "metadata": {},
   "outputs": [],
   "source": []
  },
  {
   "cell_type": "code",
   "execution_count": null,
   "id": "3b22200c-a60a-4c80-ae34-f2fbcedf98f6",
   "metadata": {},
   "outputs": [],
   "source": []
  }
 ],
 "metadata": {
  "kernelspec": {
   "display_name": "Python 3 (ipykernel)",
   "language": "python",
   "name": "python3"
  },
  "language_info": {
   "codemirror_mode": {
    "name": "ipython",
    "version": 3
   },
   "file_extension": ".py",
   "mimetype": "text/x-python",
   "name": "python",
   "nbconvert_exporter": "python",
   "pygments_lexer": "ipython3",
   "version": "3.10.7"
  }
 },
 "nbformat": 4,
 "nbformat_minor": 5
}
