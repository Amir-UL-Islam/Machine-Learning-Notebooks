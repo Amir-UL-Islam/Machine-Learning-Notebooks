{
 "cells": [
  {
   "cell_type": "markdown",
   "id": "ed33b017-863c-4160-8c71-e98ec81417f1",
   "metadata": {},
   "source": [
    "## **Learning Curves in Machine Learning**"
   ]
  },
  {
   "cell_type": "markdown",
   "id": "1f308e36-dc0e-4a42-a8c3-ecd8bb9645a7",
   "metadata": {},
   "source": [
    ">### **Cross Validation**"
   ]
  },
  {
   "cell_type": "markdown",
   "id": "c9621092-fbc9-4c59-a683-454402122e16",
   "metadata": {},
   "source": [
    "#### **Cross Validation** allows us to **compare different machine learning methods** and get a sense of how well they will work in practice."
   ]
  },
  {
   "cell_type": "markdown",
   "id": "42412067-7c37-4606-afee-33b0379948ec",
   "metadata": {},
   "source": [
    ">### **Steps for Cross Validation**\n",
    ">>#### 1. Train the Machine Learning Methods(Estimate)\n",
    ">>#### 2. Test the Machine Learning Methods(Evaluate) or How well The **algorithm** work."
   ]
  },
  {
   "cell_type": "markdown",
   "id": "e74c4f8c-9561-4691-a337-6b7198fe3b7a",
   "metadata": {},
   "source": [
    "#### If we divide the data set into 4 equal parts for training and testing, Then it will be call a **Four-Fold-Cross-Validation**\n",
    "#### Common Approach will be **Ten-Fold-Cross-Validation**"
   ]
  },
  {
   "cell_type": "code",
   "execution_count": null,
   "id": "540ea14c-ba93-4b55-9b0d-c2edd68d790c",
   "metadata": {},
   "outputs": [],
   "source": []
  },
  {
   "cell_type": "markdown",
   "id": "13e2abf1-a745-44cf-841f-9544286b0662",
   "metadata": {},
   "source": [
    "![b](img/b.png)"
   ]
  },
  {
   "cell_type": "code",
   "execution_count": null,
   "id": "8768d032-ea09-458f-874a-24e08c300161",
   "metadata": {},
   "outputs": [],
   "source": []
  },
  {
   "cell_type": "markdown",
   "id": "890f08e8-96dd-4274-9adc-3aa32c9eeca4",
   "metadata": {},
   "source": [
    "## **The Basic Idea**"
   ]
  },
  {
   "cell_type": "code",
   "execution_count": null,
   "id": "1c8415a2-28b1-4f4f-8368-306ddb431d11",
   "metadata": {},
   "outputs": [],
   "source": []
  },
  {
   "cell_type": "code",
   "execution_count": null,
   "id": "05cfabbb-d796-47b6-8221-d155bcde09ec",
   "metadata": {},
   "outputs": [],
   "source": []
  },
  {
   "cell_type": "code",
   "execution_count": null,
   "id": "d92e88c9-8472-4b37-a4f7-a2332950ee34",
   "metadata": {},
   "outputs": [],
   "source": []
  },
  {
   "cell_type": "code",
   "execution_count": null,
   "id": "d140d3a1-f4c8-4fa0-9845-79703046d5e4",
   "metadata": {},
   "outputs": [],
   "source": []
  },
  {
   "cell_type": "code",
   "execution_count": null,
   "id": "f8b970b2-e8e1-43ff-a63d-3c812708b2e7",
   "metadata": {},
   "outputs": [],
   "source": []
  },
  {
   "cell_type": "code",
   "execution_count": null,
   "id": "7a34a674-ed87-416e-839f-c32bac8bf798",
   "metadata": {},
   "outputs": [],
   "source": []
  },
  {
   "cell_type": "code",
   "execution_count": null,
   "id": "7fe98b51-2fe3-4403-8e81-27ea54b2ebc3",
   "metadata": {},
   "outputs": [],
   "source": []
  },
  {
   "cell_type": "code",
   "execution_count": null,
   "id": "858eb066-8213-4cbe-b6c0-5c2986f27230",
   "metadata": {},
   "outputs": [],
   "source": []
  },
  {
   "cell_type": "code",
   "execution_count": null,
   "id": "22a02e62-89a0-4d30-afcc-b37769596e6e",
   "metadata": {},
   "outputs": [],
   "source": []
  }
 ],
 "metadata": {
  "kernelspec": {
   "display_name": "Python 3 (ipykernel)",
   "language": "python",
   "name": "python3"
  },
  "language_info": {
   "codemirror_mode": {
    "name": "ipython",
    "version": 3
   },
   "file_extension": ".py",
   "mimetype": "text/x-python",
   "name": "python",
   "nbconvert_exporter": "python",
   "pygments_lexer": "ipython3",
   "version": "3.10.7"
  }
 },
 "nbformat": 4,
 "nbformat_minor": 5
}
