{
 "cells": [
  {
   "cell_type": "markdown",
   "id": "48bb62d3-27e4-4aa2-b507-0e22298bd263",
   "metadata": {},
   "source": [
    "## **Reading the data**"
   ]
  },
  {
   "cell_type": "code",
   "execution_count": 1,
   "id": "9b525cc0-b231-4007-8f9c-a97f020463ce",
   "metadata": {},
   "outputs": [
    {
     "data": {
      "text/html": [
       "<div>\n",
       "<style scoped>\n",
       "    .dataframe tbody tr th:only-of-type {\n",
       "        vertical-align: middle;\n",
       "    }\n",
       "\n",
       "    .dataframe tbody tr th {\n",
       "        vertical-align: top;\n",
       "    }\n",
       "\n",
       "    .dataframe thead th {\n",
       "        text-align: right;\n",
       "    }\n",
       "</style>\n",
       "<table border=\"1\" class=\"dataframe\">\n",
       "  <thead>\n",
       "    <tr style=\"text-align: right;\">\n",
       "      <th></th>\n",
       "      <th>caseid</th>\n",
       "      <th>outcome</th>\n",
       "      <th>birthwgt_lb1</th>\n",
       "      <th>birthwgt_oz1</th>\n",
       "      <th>prglngth</th>\n",
       "      <th>nbrnaliv</th>\n",
       "      <th>agecon</th>\n",
       "      <th>agepreg</th>\n",
       "      <th>hpagelb</th>\n",
       "      <th>wgt2013_2015</th>\n",
       "    </tr>\n",
       "  </thead>\n",
       "  <tbody>\n",
       "    <tr>\n",
       "      <th>0</th>\n",
       "      <td>60418</td>\n",
       "      <td>1</td>\n",
       "      <td>5.0</td>\n",
       "      <td>4.0</td>\n",
       "      <td>40</td>\n",
       "      <td>1.0</td>\n",
       "      <td>2000</td>\n",
       "      <td>2075.0</td>\n",
       "      <td>22.0</td>\n",
       "      <td>3554.964843</td>\n",
       "    </tr>\n",
       "    <tr>\n",
       "      <th>1</th>\n",
       "      <td>60418</td>\n",
       "      <td>1</td>\n",
       "      <td>4.0</td>\n",
       "      <td>12.0</td>\n",
       "      <td>36</td>\n",
       "      <td>1.0</td>\n",
       "      <td>2291</td>\n",
       "      <td>2358.0</td>\n",
       "      <td>25.0</td>\n",
       "      <td>3554.964843</td>\n",
       "    </tr>\n",
       "    <tr>\n",
       "      <th>2</th>\n",
       "      <td>60418</td>\n",
       "      <td>1</td>\n",
       "      <td>5.0</td>\n",
       "      <td>4.0</td>\n",
       "      <td>36</td>\n",
       "      <td>1.0</td>\n",
       "      <td>3241</td>\n",
       "      <td>3308.0</td>\n",
       "      <td>52.0</td>\n",
       "      <td>3554.964843</td>\n",
       "    </tr>\n",
       "    <tr>\n",
       "      <th>3</th>\n",
       "      <td>60419</td>\n",
       "      <td>6</td>\n",
       "      <td>NaN</td>\n",
       "      <td>NaN</td>\n",
       "      <td>33</td>\n",
       "      <td>NaN</td>\n",
       "      <td>3650</td>\n",
       "      <td>NaN</td>\n",
       "      <td>NaN</td>\n",
       "      <td>2484.535358</td>\n",
       "    </tr>\n",
       "    <tr>\n",
       "      <th>4</th>\n",
       "      <td>60420</td>\n",
       "      <td>1</td>\n",
       "      <td>8.0</td>\n",
       "      <td>13.0</td>\n",
       "      <td>41</td>\n",
       "      <td>1.0</td>\n",
       "      <td>2191</td>\n",
       "      <td>2266.0</td>\n",
       "      <td>24.0</td>\n",
       "      <td>2903.782914</td>\n",
       "    </tr>\n",
       "  </tbody>\n",
       "</table>\n",
       "</div>"
      ],
      "text/plain": [
       "   caseid  outcome  birthwgt_lb1  birthwgt_oz1  prglngth  nbrnaliv  agecon  \\\n",
       "0   60418        1           5.0           4.0        40       1.0    2000   \n",
       "1   60418        1           4.0          12.0        36       1.0    2291   \n",
       "2   60418        1           5.0           4.0        36       1.0    3241   \n",
       "3   60419        6           NaN           NaN        33       NaN    3650   \n",
       "4   60420        1           8.0          13.0        41       1.0    2191   \n",
       "\n",
       "   agepreg  hpagelb  wgt2013_2015  \n",
       "0   2075.0     22.0   3554.964843  \n",
       "1   2358.0     25.0   3554.964843  \n",
       "2   3308.0     52.0   3554.964843  \n",
       "3      NaN      NaN   2484.535358  \n",
       "4   2266.0     24.0   2903.782914  "
      ]
     },
     "metadata": {},
     "output_type": "display_data"
    },
    {
     "data": {
      "text/plain": [
       "(9358, 10)"
      ]
     },
     "metadata": {},
     "output_type": "display_data"
    }
   ],
   "source": [
    "# importing library\n",
    "import pandas as pd\n",
    "import numpy as np \n",
    "import matplotlib.pyplot as plt\n",
    "\n",
    "data = pd.read_hdf('data/nsfg.hdf5', 'nsfg')\n",
    "\n",
    "display(data.head())\n",
    "display(data.shape)"
   ]
  },
  {
   "cell_type": "markdown",
   "id": "822f67cf-e982-496b-9019-9e7101ace159",
   "metadata": {},
   "source": [
    "## **Data Validation**"
   ]
  },
  {
   "cell_type": "markdown",
   "id": "9c0d760c-502f-4d71-8452-b1d0eab7f50b",
   "metadata": {},
   "source": [
    "#### When we deal with data validation, function like ```value_counts()```, ```sort_index()``` and ```describe()``` are really useful."
   ]
  },
  {
   "cell_type": "markdown",
   "id": "4f4a9cc4-e143-4c42-8f7f-415ea29835be",
   "metadata": {},
   "source": [
    "#### And the ```.info()``` function also worth to join."
   ]
  },
  {
   "cell_type": "code",
   "execution_count": 2,
   "id": "2ac25db4-441e-40eb-8593-24ec4d86e0f3",
   "metadata": {},
   "outputs": [
    {
     "data": {
      "text/html": [
       "<div>\n",
       "<style scoped>\n",
       "    .dataframe tbody tr th:only-of-type {\n",
       "        vertical-align: middle;\n",
       "    }\n",
       "\n",
       "    .dataframe tbody tr th {\n",
       "        vertical-align: top;\n",
       "    }\n",
       "\n",
       "    .dataframe thead th {\n",
       "        text-align: right;\n",
       "    }\n",
       "</style>\n",
       "<table border=\"1\" class=\"dataframe\">\n",
       "  <thead>\n",
       "    <tr style=\"text-align: right;\">\n",
       "      <th></th>\n",
       "      <th>caseid</th>\n",
       "      <th>outcome</th>\n",
       "      <th>birthwgt_lb1</th>\n",
       "      <th>birthwgt_oz1</th>\n",
       "      <th>prglngth</th>\n",
       "      <th>nbrnaliv</th>\n",
       "      <th>agecon</th>\n",
       "      <th>agepreg</th>\n",
       "      <th>hpagelb</th>\n",
       "      <th>wgt2013_2015</th>\n",
       "    </tr>\n",
       "  </thead>\n",
       "  <tbody>\n",
       "    <tr>\n",
       "      <th>count</th>\n",
       "      <td>9358.000000</td>\n",
       "      <td>9358.000000</td>\n",
       "      <td>6485.000000</td>\n",
       "      <td>6391.000000</td>\n",
       "      <td>9358.000000</td>\n",
       "      <td>6485.000000</td>\n",
       "      <td>9358.000000</td>\n",
       "      <td>9109.000000</td>\n",
       "      <td>6485.000000</td>\n",
       "      <td>9358.000000</td>\n",
       "    </tr>\n",
       "    <tr>\n",
       "      <th>mean</th>\n",
       "      <td>65502.392605</td>\n",
       "      <td>1.773990</td>\n",
       "      <td>8.055204</td>\n",
       "      <td>7.213895</td>\n",
       "      <td>29.896345</td>\n",
       "      <td>1.018042</td>\n",
       "      <td>2446.330199</td>\n",
       "      <td>2494.934570</td>\n",
       "      <td>28.992136</td>\n",
       "      <td>10759.200147</td>\n",
       "    </tr>\n",
       "    <tr>\n",
       "      <th>std</th>\n",
       "      <td>2953.471315</td>\n",
       "      <td>1.348648</td>\n",
       "      <td>11.178893</td>\n",
       "      <td>8.254885</td>\n",
       "      <td>13.685389</td>\n",
       "      <td>0.160433</td>\n",
       "      <td>579.392363</td>\n",
       "      <td>578.099231</td>\n",
       "      <td>10.367124</td>\n",
       "      <td>11400.179222</td>\n",
       "    </tr>\n",
       "    <tr>\n",
       "      <th>min</th>\n",
       "      <td>60418.000000</td>\n",
       "      <td>1.000000</td>\n",
       "      <td>0.000000</td>\n",
       "      <td>0.000000</td>\n",
       "      <td>0.000000</td>\n",
       "      <td>1.000000</td>\n",
       "      <td>750.000000</td>\n",
       "      <td>825.000000</td>\n",
       "      <td>5.000000</td>\n",
       "      <td>1859.105000</td>\n",
       "    </tr>\n",
       "    <tr>\n",
       "      <th>25%</th>\n",
       "      <td>62875.750000</td>\n",
       "      <td>1.000000</td>\n",
       "      <td>6.000000</td>\n",
       "      <td>3.000000</td>\n",
       "      <td>14.000000</td>\n",
       "      <td>1.000000</td>\n",
       "      <td>1983.000000</td>\n",
       "      <td>2041.000000</td>\n",
       "      <td>23.000000</td>\n",
       "      <td>4340.053407</td>\n",
       "    </tr>\n",
       "    <tr>\n",
       "      <th>50%</th>\n",
       "      <td>65499.000000</td>\n",
       "      <td>1.000000</td>\n",
       "      <td>7.000000</td>\n",
       "      <td>6.000000</td>\n",
       "      <td>38.000000</td>\n",
       "      <td>1.000000</td>\n",
       "      <td>2366.000000</td>\n",
       "      <td>2416.000000</td>\n",
       "      <td>27.000000</td>\n",
       "      <td>7062.994158</td>\n",
       "    </tr>\n",
       "    <tr>\n",
       "      <th>75%</th>\n",
       "      <td>68111.000000</td>\n",
       "      <td>2.000000</td>\n",
       "      <td>8.000000</td>\n",
       "      <td>11.000000</td>\n",
       "      <td>39.000000</td>\n",
       "      <td>1.000000</td>\n",
       "      <td>2850.000000</td>\n",
       "      <td>2900.000000</td>\n",
       "      <td>33.000000</td>\n",
       "      <td>12629.322982</td>\n",
       "    </tr>\n",
       "    <tr>\n",
       "      <th>max</th>\n",
       "      <td>70619.000000</td>\n",
       "      <td>6.000000</td>\n",
       "      <td>99.000000</td>\n",
       "      <td>99.000000</td>\n",
       "      <td>48.000000</td>\n",
       "      <td>8.000000</td>\n",
       "      <td>4350.000000</td>\n",
       "      <td>4350.000000</td>\n",
       "      <td>99.000000</td>\n",
       "      <td>75399.410000</td>\n",
       "    </tr>\n",
       "  </tbody>\n",
       "</table>\n",
       "</div>"
      ],
      "text/plain": [
       "             caseid      outcome  birthwgt_lb1  birthwgt_oz1     prglngth  \\\n",
       "count   9358.000000  9358.000000   6485.000000   6391.000000  9358.000000   \n",
       "mean   65502.392605     1.773990      8.055204      7.213895    29.896345   \n",
       "std     2953.471315     1.348648     11.178893      8.254885    13.685389   \n",
       "min    60418.000000     1.000000      0.000000      0.000000     0.000000   \n",
       "25%    62875.750000     1.000000      6.000000      3.000000    14.000000   \n",
       "50%    65499.000000     1.000000      7.000000      6.000000    38.000000   \n",
       "75%    68111.000000     2.000000      8.000000     11.000000    39.000000   \n",
       "max    70619.000000     6.000000     99.000000     99.000000    48.000000   \n",
       "\n",
       "          nbrnaliv       agecon      agepreg      hpagelb  wgt2013_2015  \n",
       "count  6485.000000  9358.000000  9109.000000  6485.000000   9358.000000  \n",
       "mean      1.018042  2446.330199  2494.934570    28.992136  10759.200147  \n",
       "std       0.160433   579.392363   578.099231    10.367124  11400.179222  \n",
       "min       1.000000   750.000000   825.000000     5.000000   1859.105000  \n",
       "25%       1.000000  1983.000000  2041.000000    23.000000   4340.053407  \n",
       "50%       1.000000  2366.000000  2416.000000    27.000000   7062.994158  \n",
       "75%       1.000000  2850.000000  2900.000000    33.000000  12629.322982  \n",
       "max       8.000000  4350.000000  4350.000000    99.000000  75399.410000  "
      ]
     },
     "metadata": {},
     "output_type": "display_data"
    }
   ],
   "source": [
    "display(data.describe())"
   ]
  },
  {
   "cell_type": "markdown",
   "id": "995e5e67-a405-4116-95b0-1f765b68e33c",
   "metadata": {},
   "source": [
    "## **Cleaning Data**"
   ]
  },
  {
   "cell_type": "code",
   "execution_count": 3,
   "id": "7b95fc47-c59f-4fa5-b405-777aa7fc8e39",
   "metadata": {},
   "outputs": [],
   "source": [
    "# Assigning values to pound and ounces variables\n",
    "pound = data['birthwgt_lb1']\n",
    "ounces = data['birthwgt_oz1']"
   ]
  },
  {
   "cell_type": "markdown",
   "id": "3d89e3e3-81ec-45d5-be9f-b1f24a9c46a7",
   "metadata": {},
   "source": [
    "#### By looking at the values, we can easily determined that the ```99.00 & 98.00``` are some invalid entities."
   ]
  },
  {
   "cell_type": "code",
   "execution_count": 4,
   "id": "282e3c2b-33aa-42ca-9bcc-328d1b128f39",
   "metadata": {},
   "outputs": [
    {
     "name": "stdout",
     "output_type": "stream",
     "text": [
      "0.0        6\n",
      "1.0       34\n",
      "2.0       47\n",
      "3.0       67\n",
      "4.0      196\n",
      "5.0      586\n",
      "6.0     1666\n",
      "7.0     2146\n",
      "8.0     1168\n",
      "9.0      363\n",
      "10.0      82\n",
      "11.0      17\n",
      "12.0       7\n",
      "13.0       2\n",
      "14.0       2\n",
      "17.0       1\n",
      "98.0       1\n",
      "99.0      94\n",
      "Name: birthwgt_lb1, dtype: int64\n",
      "\n",
      "\n",
      "0.0     757\n",
      "1.0     297\n",
      "2.0     429\n",
      "3.0     393\n",
      "4.0     386\n",
      "5.0     407\n",
      "6.0     543\n",
      "7.0     346\n",
      "8.0     518\n",
      "9.0     377\n",
      "10.0    295\n",
      "11.0    418\n",
      "12.0    388\n",
      "13.0    275\n",
      "14.0    258\n",
      "15.0    268\n",
      "98.0      1\n",
      "99.0     35\n",
      "Name: birthwgt_oz1, dtype: int64\n"
     ]
    }
   ],
   "source": [
    "print(pound.value_counts().sort_index())\n",
    "print('\\n')\n",
    "print(ounces.value_counts().sort_index())"
   ]
  },
  {
   "cell_type": "markdown",
   "id": "c6d2d88e-1bf2-44f5-b781-a552cb14005b",
   "metadata": {},
   "source": [
    "#### We will replace the invalid entity with ```np.nan```  and also we won't take any copy of it. So, we will make ```inplace=True``` in ```replace()``` method."
   ]
  },
  {
   "cell_type": "code",
   "execution_count": 5,
   "id": "f863f7a4-9bb7-44e1-a8c8-940c569c1013",
   "metadata": {},
   "outputs": [],
   "source": [
    "pound = pound.replace([99.00, 98.00], np.nan)\n",
    "ounces = ounces.replace([99.00, 98.00], np.nan)"
   ]
  },
  {
   "cell_type": "markdown",
   "id": "e18af63f-75d7-48e5-9c0d-cb6b56b80965",
   "metadata": {},
   "source": [
    "### **Dealing with data types.**"
   ]
  },
  {
   "cell_type": "markdown",
   "id": "65bfaad4-394c-4eee-b0ad-3253133483e0",
   "metadata": {},
   "source": [
    "#### The variable 'agecon' encodes the respondent's age at conception, and 'agepreg' the respondent's age at the end of the pregnancy. Both variables are recorded as integers with two implicit decimal places, so the value 2575 means that the respondent's age was 25.75.\n",
    "#### So, we need to change them to their right form."
   ]
  },
  {
   "cell_type": "code",
   "execution_count": 6,
   "id": "52b2d180-7bec-4877-be18-2970b1370f34",
   "metadata": {},
   "outputs": [],
   "source": [
    "agecon = data['agecon']/100\n",
    "agepreg = data['agepreg']/100"
   ]
  },
  {
   "cell_type": "code",
   "execution_count": 7,
   "id": "824abdcb-337b-4d2a-8db3-1577d2488088",
   "metadata": {},
   "outputs": [
    {
     "data": {
      "image/png": "[encoded data removed]",
      "text/plain": [
       "<Figure size 432x288 with 1 Axes>"
      ]
     },
     "metadata": {
      "needs_background": "light"
     },
     "output_type": "display_data"
    }
   ],
   "source": [
    "agecon.hist(bins=20, histtype='step')\n",
    "plt.show()"
   ]
  },
  {
   "cell_type": "markdown",
   "id": "d9d6e2b7-0dfb-40c2-84fe-1c1fb8682e8b",
   "metadata": {},
   "source": [
    "### **Mean for full-term babies.**"
   ]
  },
  {
   "cell_type": "code",
   "execution_count": 8,
   "id": "9981db3a-1a2e-47c4-9f8f-890488200d0f",
   "metadata": {},
   "outputs": [
    {
     "name": "stdout",
     "output_type": "stream",
     "text": [
      "7.372323879231473\n"
     ]
    }
   ],
   "source": [
    "birth_weight = pound + ounces/16\n",
    "\n",
    "# Create a Boolean Series for full-term babies\n",
    "full_term = data['prglngth'] >= 37\n",
    "# print(full_term)\n",
    "\n",
    "# # # Select the weights of full-term babies\n",
    "full_term_weight = birth_weight[full_term]\n",
    "\n",
    "# # # Compute the mean weight of full-term babies\n",
    "print(full_term_weight.mean())"
   ]
  },
  {
   "cell_type": "markdown",
   "id": "b4aa21c8-ea2d-41af-8510-55b3c775496d",
   "metadata": {},
   "source": [
    "### **Mean for full-term Single and Multiple babies.**"
   ]
  },
  {
   "cell_type": "code",
   "execution_count": 9,
   "id": "1cb0cdfc-775b-4c9c-9683-bd04a27c7dc2",
   "metadata": {},
   "outputs": [
    {
     "name": "stdout",
     "output_type": "stream",
     "text": [
      "Single full-term mean: 7.385643450184502\n",
      "Multiple full-term mean: 5.768055555555556\n"
     ]
    }
   ],
   "source": [
    "# Filter full-term babies\n",
    "full_term = data['prglngth'] >= 37\n",
    "\n",
    "# Filter single births\n",
    "single = data['nbrnaliv'] == 1\n",
    "\n",
    "# Compute birth weight for single full-term babies\n",
    "single_full_term_weight = birth_weight[full_term & single]\n",
    "print('Single full-term mean:', single_full_term_weight.mean())\n",
    "\n",
    "# Compute birth weight for multiple full-term babies\n",
    "mult_full_term_weight = birth_weight[ full_term & ~single]\n",
    "print('Multiple full-term mean:', mult_full_term_weight.mean())"
   ]
  },
  {
   "cell_type": "markdown",
   "id": "9546a752-84fb-4423-91cd-b98fb59f1fef",
   "metadata": {},
   "source": [
    "## **Do people tend to gain weight as they get older?**"
   ]
  },
  {
   "cell_type": "code",
   "execution_count": 10,
   "id": "f3642b89-1284-4691-ae2e-f962f930aa27",
   "metadata": {},
   "outputs": [
    {
     "data": {
      "text/html": [
       "<div>\n",
       "<style scoped>\n",
       "    .dataframe tbody tr th:only-of-type {\n",
       "        vertical-align: middle;\n",
       "    }\n",
       "\n",
       "    .dataframe tbody tr th {\n",
       "        vertical-align: top;\n",
       "    }\n",
       "\n",
       "    .dataframe thead th {\n",
       "        text-align: right;\n",
       "    }\n",
       "</style>\n",
       "<table border=\"1\" class=\"dataframe\">\n",
       "  <thead>\n",
       "    <tr style=\"text-align: right;\">\n",
       "      <th></th>\n",
       "      <th>year</th>\n",
       "      <th>age</th>\n",
       "      <th>cohort</th>\n",
       "      <th>sex</th>\n",
       "      <th>race</th>\n",
       "      <th>educ</th>\n",
       "      <th>realinc</th>\n",
       "      <th>gunlaw</th>\n",
       "      <th>grass</th>\n",
       "      <th>wtssall</th>\n",
       "    </tr>\n",
       "  </thead>\n",
       "  <tbody>\n",
       "    <tr>\n",
       "      <th>0</th>\n",
       "      <td>1972</td>\n",
       "      <td>26.0</td>\n",
       "      <td>1946.0</td>\n",
       "      <td>1</td>\n",
       "      <td>1</td>\n",
       "      <td>18.0</td>\n",
       "      <td>13537.0</td>\n",
       "      <td>2.0</td>\n",
       "      <td>NaN</td>\n",
       "      <td>0.8893</td>\n",
       "    </tr>\n",
       "    <tr>\n",
       "      <th>1</th>\n",
       "      <td>1972</td>\n",
       "      <td>38.0</td>\n",
       "      <td>1934.0</td>\n",
       "      <td>2</td>\n",
       "      <td>1</td>\n",
       "      <td>12.0</td>\n",
       "      <td>18951.0</td>\n",
       "      <td>1.0</td>\n",
       "      <td>NaN</td>\n",
       "      <td>0.4446</td>\n",
       "    </tr>\n",
       "    <tr>\n",
       "      <th>2</th>\n",
       "      <td>1972</td>\n",
       "      <td>57.0</td>\n",
       "      <td>1915.0</td>\n",
       "      <td>1</td>\n",
       "      <td>1</td>\n",
       "      <td>12.0</td>\n",
       "      <td>30458.0</td>\n",
       "      <td>1.0</td>\n",
       "      <td>NaN</td>\n",
       "      <td>1.3339</td>\n",
       "    </tr>\n",
       "    <tr>\n",
       "      <th>3</th>\n",
       "      <td>1972</td>\n",
       "      <td>61.0</td>\n",
       "      <td>1911.0</td>\n",
       "      <td>2</td>\n",
       "      <td>1</td>\n",
       "      <td>14.0</td>\n",
       "      <td>37226.0</td>\n",
       "      <td>1.0</td>\n",
       "      <td>NaN</td>\n",
       "      <td>0.8893</td>\n",
       "    </tr>\n",
       "    <tr>\n",
       "      <th>4</th>\n",
       "      <td>1972</td>\n",
       "      <td>59.0</td>\n",
       "      <td>1913.0</td>\n",
       "      <td>1</td>\n",
       "      <td>1</td>\n",
       "      <td>12.0</td>\n",
       "      <td>30458.0</td>\n",
       "      <td>2.0</td>\n",
       "      <td>NaN</td>\n",
       "      <td>0.8893</td>\n",
       "    </tr>\n",
       "  </tbody>\n",
       "</table>\n",
       "</div>"
      ],
      "text/plain": [
       "   year   age  cohort  sex  race  educ  realinc  gunlaw  grass  wtssall\n",
       "0  1972  26.0  1946.0    1     1  18.0  13537.0     2.0    NaN   0.8893\n",
       "1  1972  38.0  1934.0    2     1  12.0  18951.0     1.0    NaN   0.4446\n",
       "2  1972  57.0  1915.0    1     1  12.0  30458.0     1.0    NaN   1.3339\n",
       "3  1972  61.0  1911.0    2     1  14.0  37226.0     1.0    NaN   0.8893\n",
       "4  1972  59.0  1913.0    1     1  12.0  30458.0     2.0    NaN   0.8893"
      ]
     },
     "metadata": {},
     "output_type": "display_data"
    }
   ],
   "source": [
    "# Reading the data\n",
    "data = pd.read_hdf('data/gss.hdf5', 'gss')\n",
    "\n",
    "display(data.head())"
   ]
  },
  {
   "cell_type": "markdown",
   "id": "01d3a996-65de-4a39-8811-5665d6c0955b",
   "metadata": {},
   "source": [
    "## **PMF(Probability Mass Function)**"
   ]
  },
  {
   "cell_type": "markdown",
   "id": "8c3e9ec9-8d7a-4a12-9cc5-3493c23ded53",
   "metadata": {},
   "source": [
    "### PMF tells you\n",
    ">#### if you draw a random value from a distribution - what's the chance of getting x, for any given value of x.\n"
   ]
  },
  {
   "cell_type": "code",
   "execution_count": 12,
   "id": "e8a6dd3a-0f43-4f5d-98ab-79305a7215a1",
   "metadata": {},
   "outputs": [
    {
     "data": {
      "image/png": "[encoded data removed]",
      "text/plain": [
       "<Figure size 432x288 with 1 Axes>"
      ]
     },
     "metadata": {
      "needs_background": "light"
     },
     "output_type": "display_data"
    }
   ],
   "source": [
    "from empiricaldist import Pmf\n",
    "\n",
    "# Extract age\n",
    "age = data['age']\n",
    "\n",
    "# Plot the PMF\n",
    "pmf_age = Pmf(age)\n",
    "# pmf_age.bar()\n",
    "pmf_age.hist()\n",
    "\n",
    "# # Label the axes\n",
    "plt.xlabel('Age in years')\n",
    "plt.ylabel('PMF')\n",
    "plt.show()"
   ]
  },
  {
   "cell_type": "markdown",
   "id": "4106743b-ca4c-49a0-8ae3-2ec519e58534",
   "metadata": {},
   "source": [
    "#### In other words what is percentage of Distribution present in the particular Region.**Take between 20-30 There are around over 8000 distribution present.**"
   ]
  },
  {
   "cell_type": "markdown",
   "id": "e8fbc187-cc19-40bb-969b-0efd2fc3d6f1",
   "metadata": {},
   "source": [
    "### The CDF is similar\n",
    ">#### if you draw a random value from a distribution, it tells you the chance of getting a value less than or equal to x."
   ]
  },
  {
   "cell_type": "code",
   "execution_count": 13,
   "id": "ba8e21ac-d9e0-4ac7-a04b-039a01e95549",
   "metadata": {},
   "outputs": [
    {
     "data": {
      "image/png": "[encoded data removed]",
      "text/plain": [
       "<Figure size 432x288 with 1 Axes>"
      ]
     },
     "metadata": {
      "needs_background": "light"
     },
     "output_type": "display_data"
    }
   ],
   "source": [
    "from empiricaldist import Cdf\n",
    "\n",
    "# Extract age\n",
    "age = data['age']\n",
    "\n",
    "# Plot the PMF\n",
    "cdf_age = Cdf(age)\n",
    "# pmf_age.bar()\n",
    "plt.plot(cdf_age)\n",
    "\n",
    "# # Label the axes\n",
    "plt.xlabel('Age in years')\n",
    "plt.ylabel('CDF')\n",
    "plt.show()"
   ]
  },
  {
   "cell_type": "code",
   "execution_count": 14,
   "id": "544dc066-e904-4332-b7e4-0eaae681f3ed",
   "metadata": {},
   "outputs": [
    {
     "data": {
      "image/png": "[encoded data removed]",
      "text/plain": [
       "<Figure size 432x288 with 1 Axes>"
      ]
     },
     "metadata": {
      "needs_background": "light"
     },
     "output_type": "display_data"
    }
   ],
   "source": [
    "# Select realinc\n",
    "income = data['realinc']\n",
    "\n",
    "# Make the CDF\n",
    "cdf_income = Cdf(income)\n",
    "\n",
    "# Plot it\n",
    "cdf_income.plot()\n",
    "\n",
    "# Label the axes\n",
    "plt.xlabel('Income (1986 USD)')\n",
    "plt.ylabel('CDF')\n",
    "plt.show()"
   ]
  },
  {
   "cell_type": "markdown",
   "id": "f0a289c1-020d-4a98-b434-9fd831ae7197",
   "metadata": {},
   "source": [
    "## **Calculating IQR using CDF**"
   ]
  },
  {
   "cell_type": "code",
   "execution_count": 16,
   "id": "1cb9ae0b-be0f-4801-bfe1-a99aa6382619",
   "metadata": {},
   "outputs": [
    {
     "name": "stdout",
     "output_type": "stream",
     "text": [
      "0.0\n"
     ]
    }
   ],
   "source": [
    "income = data['realinc']\n",
    "\n",
    "# Make the CDF\n",
    "cdf_income = Cdf(income)\n",
    "# print(cdf_income)\n",
    "\n",
    "# Calculate the 75th percentile \n",
    "percentile_75th = cdf_income.inverse(.75) \n",
    "# print(percentile_75th)\n",
    "\n",
    "# Calculate the 25th percentile\n",
    "percentile_25th = cdf_income.inverse(0.25)\n",
    "\n",
    "# Calculate the interquartile range\n",
    "iqr =  percentile_75th - percentile_25th\n",
    "\n",
    "# Print the interquartile range\n",
    "print(iqr)\n"
   ]
  },
  {
   "cell_type": "markdown",
   "id": "08e70903-17c2-4ab1-adda-8b131f1d1710",
   "metadata": {},
   "source": [
    "### Creating Boolean values"
   ]
  },
  {
   "cell_type": "code",
   "execution_count": 17,
   "id": "434ab721-c067-4ae0-82ac-2bbb08937d39",
   "metadata": {},
   "outputs": [],
   "source": [
    "educ = data['educ']\n",
    "\n",
    "assc = (educ >= 14) & (educ < 16)\n"
   ]
  },
  {
   "cell_type": "markdown",
   "id": "9a1f95a9-f24a-4e0c-86f7-c6db874e1bfd",
   "metadata": {},
   "source": [
    "## **Visualizing Relationships**"
   ]
  },
  {
   "cell_type": "code",
   "execution_count": 20,
   "id": "a5482c00-2a7a-475d-85db-579d6eacc194",
   "metadata": {},
   "outputs": [
    {
     "data": {
      "text/html": [
       "<div>\n",
       "<style scoped>\n",
       "    .dataframe tbody tr th:only-of-type {\n",
       "        vertical-align: middle;\n",
       "    }\n",
       "\n",
       "    .dataframe tbody tr th {\n",
       "        vertical-align: top;\n",
       "    }\n",
       "\n",
       "    .dataframe thead th {\n",
       "        text-align: right;\n",
       "    }\n",
       "</style>\n",
       "<table border=\"1\" class=\"dataframe\">\n",
       "  <thead>\n",
       "    <tr style=\"text-align: right;\">\n",
       "      <th></th>\n",
       "      <th>SEX</th>\n",
       "      <th>HTM4</th>\n",
       "      <th>WTKG3</th>\n",
       "      <th>INCOME2</th>\n",
       "      <th>_LLCPWT</th>\n",
       "      <th>_AGEG5YR</th>\n",
       "      <th>_VEGESU1</th>\n",
       "      <th>_HTMG10</th>\n",
       "      <th>AGE</th>\n",
       "    </tr>\n",
       "  </thead>\n",
       "  <tbody>\n",
       "    <tr>\n",
       "      <th>96230</th>\n",
       "      <td>2.0</td>\n",
       "      <td>160.0</td>\n",
       "      <td>60.33</td>\n",
       "      <td>8.0</td>\n",
       "      <td>1398.525290</td>\n",
       "      <td>6.0</td>\n",
       "      <td>2.14</td>\n",
       "      <td>150.0</td>\n",
       "      <td>47.0</td>\n",
       "    </tr>\n",
       "    <tr>\n",
       "      <th>244920</th>\n",
       "      <td>2.0</td>\n",
       "      <td>163.0</td>\n",
       "      <td>58.97</td>\n",
       "      <td>5.0</td>\n",
       "      <td>84.057503</td>\n",
       "      <td>13.0</td>\n",
       "      <td>3.14</td>\n",
       "      <td>160.0</td>\n",
       "      <td>89.5</td>\n",
       "    </tr>\n",
       "    <tr>\n",
       "      <th>57312</th>\n",
       "      <td>2.0</td>\n",
       "      <td>163.0</td>\n",
       "      <td>72.57</td>\n",
       "      <td>8.0</td>\n",
       "      <td>390.248599</td>\n",
       "      <td>5.0</td>\n",
       "      <td>2.64</td>\n",
       "      <td>160.0</td>\n",
       "      <td>42.0</td>\n",
       "    </tr>\n",
       "    <tr>\n",
       "      <th>32573</th>\n",
       "      <td>2.0</td>\n",
       "      <td>165.0</td>\n",
       "      <td>74.84</td>\n",
       "      <td>1.0</td>\n",
       "      <td>11566.705300</td>\n",
       "      <td>3.0</td>\n",
       "      <td>1.46</td>\n",
       "      <td>160.0</td>\n",
       "      <td>32.0</td>\n",
       "    </tr>\n",
       "    <tr>\n",
       "      <th>355929</th>\n",
       "      <td>2.0</td>\n",
       "      <td>170.0</td>\n",
       "      <td>108.86</td>\n",
       "      <td>3.0</td>\n",
       "      <td>844.485450</td>\n",
       "      <td>3.0</td>\n",
       "      <td>1.81</td>\n",
       "      <td>160.0</td>\n",
       "      <td>32.0</td>\n",
       "    </tr>\n",
       "  </tbody>\n",
       "</table>\n",
       "</div>"
      ],
      "text/plain": [
       "        SEX   HTM4   WTKG3  INCOME2       _LLCPWT  _AGEG5YR  _VEGESU1  \\\n",
       "96230   2.0  160.0   60.33      8.0   1398.525290       6.0      2.14   \n",
       "244920  2.0  163.0   58.97      5.0     84.057503      13.0      3.14   \n",
       "57312   2.0  163.0   72.57      8.0    390.248599       5.0      2.64   \n",
       "32573   2.0  165.0   74.84      1.0  11566.705300       3.0      1.46   \n",
       "355929  2.0  170.0  108.86      3.0    844.485450       3.0      1.81   \n",
       "\n",
       "        _HTMG10   AGE  \n",
       "96230     150.0  47.0  \n",
       "244920    160.0  89.5  \n",
       "57312     160.0  42.0  \n",
       "32573     160.0  32.0  \n",
       "355929    160.0  32.0  "
      ]
     },
     "metadata": {},
     "output_type": "display_data"
    }
   ],
   "source": [
    "brfss = pd.read_hdf('data/brfss.hdf5')\n",
    "display(brfss.head())"
   ]
  },
  {
   "cell_type": "code",
   "execution_count": 26,
   "id": "6dbaef71-0e0c-4cb8-a309-f9951d3bbe2e",
   "metadata": {},
   "outputs": [
    {
     "data": {
      "image/png": "[encoded data removed]",
      "text/plain": [
       "<Figure size 432x288 with 1 Axes>"
      ]
     },
     "metadata": {},
     "output_type": "display_data"
    }
   ],
   "source": [
    "import seaborn as sns\n",
    "plt.style.use('ggplot')\n",
    "\n",
    "# Drop rows with missing data\n",
    "data = brfss.dropna(subset=['_HTMG10', 'WTKG3'])\n",
    "\n",
    "# Make a box plot\n",
    "sns.boxplot(x='_HTMG10',y='WTKG3', data=data, whis=10 )\n",
    "\n",
    "# Plot the y-axis on a log scale\n",
    "plt.yscale('log')\n",
    "\n",
    "# Remove unneeded lines and label axes\n",
    "sns.despine(left=True, bottom=True)\n",
    "plt.xlabel('Height in cm')\n",
    "plt.ylabel('Weight in kg')\n",
    "plt.show()\n"
   ]
  },
  {
   "cell_type": "code",
   "execution_count": null,
   "id": "ba70b6f2-74f5-485f-b8fe-17d8fc42b957",
   "metadata": {},
   "outputs": [],
   "source": [
    "# Extract income\n",
    "income = brfss['INCOME2']\n",
    "\n",
    "# Plot the PMF\n",
    "Pmf(income).bar()\n",
    "\n",
    "# Label the axes\n",
    "plt.xlabel('Income level')\n",
    "plt.ylabel('PMF')\n",
    "plt.show()"
   ]
  },
  {
   "cell_type": "code",
   "execution_count": null,
   "id": "d0b1940a-c5ec-467b-b277-46db324795e7",
   "metadata": {},
   "outputs": [],
   "source": [
    "# Drop rows with missing data\n",
    "data = brfss.dropna(subset=['INCOME2', 'HTM4'])\n",
    "\n",
    "# Make a violin plot\n",
    "sns.violinplot(x='INCOME2', y='HTM4', data=data, inner=None)\n",
    "\n",
    "# Remove unneeded lines and label axes\n",
    "sns.despine(left=True, bottom=True)\n",
    "plt.xlabel('Income level')\n",
    "plt.ylabel('Height in cm')\n",
    "plt.show()"
   ]
  },
  {
   "cell_type": "markdown",
   "id": "2b4eb6ad-45db-417a-a2d9-0a868b577edc",
   "metadata": {},
   "source": [
    "## **Regression is not causation**"
   ]
  }
 ],
 "metadata": {
  "kernelspec": {
   "display_name": "Python 3 (ipykernel)",
   "language": "python",
   "name": "python3"
  },
  "language_info": {
   "codemirror_mode": {
    "name": "ipython",
    "version": 3
   },
   "file_extension": ".py",
   "mimetype": "text/x-python",
   "name": "python",
   "nbconvert_exporter": "python",
   "pygments_lexer": "ipython3",
   "version": "3.10.7"
  }
 },
 "nbformat": 4,
 "nbformat_minor": 5
}
