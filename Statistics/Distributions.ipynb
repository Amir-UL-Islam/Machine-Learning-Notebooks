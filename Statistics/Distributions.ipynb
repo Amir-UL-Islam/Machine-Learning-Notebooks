{
 "cells": [
  {
   "cell_type": "markdown",
   "id": "3a02967f-5d1f-4d13-b4f1-c4a996461086",
   "metadata": {},
   "source": [
    "### **Lognormal distribution**"
   ]
  },
  {
   "cell_type": "markdown",
   "id": "2b4332e9-a121-4fed-ad53-5e996ee5e142",
   "metadata": {},
   "source": [
    ">#### If you get a distribution by applying a log function to a dataset then dataset is log distributed."
   ]
  },
  {
   "cell_type": "markdown",
   "id": "8205986d-5b67-4e4d-bbba-881b44706153",
   "metadata": {},
   "source": [
    "### The general principal of Machine Learning Model is that **If the numbers (features) are on a similar scale the Model will perform High.**\n",
    ">#### **That's why log Transform is applied.**\n",
    ">#### **The Distribution Transform into More Like Normal Distribution.**"
   ]
  },
  {
   "cell_type": "markdown",
   "id": "14a74bd6-a042-48e1-ba54-20d90073621b",
   "metadata": {},
   "source": [
    "### **Binomial distribution**"
   ]
  },
  {
   "cell_type": "markdown",
   "id": "9bb34540-1d56-4746-bc2a-c540d6f91083",
   "metadata": {},
   "source": [
    "#### A **binomial distribution** can be thought of as simply the probability of a **SUCCESS** or **FAILURE** outcome in an experiment or survey that is repeated multiple times. The binomial is a type of distribution that has **two possible outcomes** (the prefix “bi” means two, or twice). For example, a **coin toss** has only two possible outcomes: heads or tails and taking a test could have two possible outcomes: pass or fail."
   ]
  },
  {
   "cell_type": "code",
   "execution_count": 1,
   "id": "6bc497bf-f6a0-4358-9d24-947cc51d6a38",
   "metadata": {},
   "outputs": [
    {
     "data": {
      "image/png": "[encoded data removed]",
      "text/plain": [
       "<Figure size 720x576 with 1 Axes>"
      ]
     },
     "metadata": {
      "needs_background": "light"
     },
     "output_type": "display_data"
    }
   ],
   "source": [
    "# importing library\n",
    "import numpy as np\n",
    "import matplotlib.pyplot as plt\n",
    "import seaborn as sns\n",
    "from scipy.stats import binom\n",
    "import statistics\n",
    "\n",
    "# This makes plots appear in the notebook\n",
    "%matplotlib inline\n",
    "\n",
    "# Number of experiments\n",
    "n = 10\n",
    "\n",
    "# Probability of success\n",
    "p = 0.5\n",
    "\n",
    "# Array of probable outcomes of number of heads\n",
    "x = range(0,11)\n",
    "\n",
    "# Get probabilities\n",
    "prob = binom.pmf(x, n, p)\n",
    "\n",
    "# Set properties of the plot\n",
    "fig, binom_plot = plt.subplots(figsize=(10,8))\n",
    "binom_plot.set_xlabel(\"Number of Heads\",fontsize=16)\n",
    "binom_plot.set_ylabel(\"Probability\",fontsize=16)\n",
    "binom_plot.vlines(x, 0, prob, colors='r', lw=5, alpha=0.5)\n",
    "\n",
    "# Plot the graph\n",
    "binom_plot.plot(x, prob, 'ro')\n",
    "plt.show()"
   ]
  },
  {
   "cell_type": "markdown",
   "id": "0e7006c5-5985-4987-bfe9-780d0731e283",
   "metadata": {},
   "source": [
    "### **Calculate the number of Heads in coin flips using Binomial Distribution**"
   ]
  },
  {
   "cell_type": "markdown",
   "id": "56f5e002-9981-4c32-8b1f-535a553a4b89",
   "metadata": {},
   "source": [
    ">### The method ```binom.rvs(x, p, n)``` takes 3 parameters.\n",
    "#### We will discuss **Binomial Distribution** in turns of **Coins(Heads or Tail).\n",
    ">### **x** is the number of coins \n",
    ">### **p** is the probability of getting **Head**.(Which is **customizable** from 0-1)\n",
    ">### **n** number of flips."
   ]
  },
  {
   "cell_type": "code",
   "execution_count": 3,
   "id": "01fed850-2a9a-4b55-a9f9-83812de0618f",
   "metadata": {},
   "outputs": [
    {
     "data": {
      "text/plain": [
       "7"
      ]
     },
     "execution_count": 3,
     "metadata": {},
     "output_type": "execute_result"
    }
   ],
   "source": [
    "binom.rvs(8, 0.5, 1)"
   ]
  },
  {
   "cell_type": "markdown",
   "id": "dc873ff4-1ff4-4c26-8288-041e50a41447",
   "metadata": {},
   "source": [
    "### **We can also calculate the probability of getting certain number of Heads.**"
   ]
  },
  {
   "cell_type": "markdown",
   "id": "eb9aeeeb-5703-4bdd-bce3-412e7970c4ba",
   "metadata": {},
   "source": [
    ">### The method ```binom.pmf(num heads, num trial, prob of heads)``` takes 3 parameters.\n",
    "\n"
   ]
  },
  {
   "cell_type": "code",
   "execution_count": 4,
   "id": "c2f93b5e-b7f6-4e0a-a181-0337f92a0716",
   "metadata": {},
   "outputs": [
    {
     "data": {
      "text/plain": [
       "0.07392883300781249"
      ]
     },
     "execution_count": 4,
     "metadata": {},
     "output_type": "execute_result"
    }
   ],
   "source": [
    "binom.pmf(7, 20, 0.5)"
   ]
  },
  {
   "cell_type": "markdown",
   "id": "3f453cd3-8a0f-443e-8a77-90bc0b158722",
   "metadata": {},
   "source": [
    "### **What is probability of getting 7 or less Heads?**"
   ]
  },
  {
   "cell_type": "markdown",
   "id": "b325fe23-4557-4fb8-8493-4034b4556905",
   "metadata": {},
   "source": [
    ">### The method ```binom.cdf(x or less, num trial, prob of head)``` takes 3 parameters."
   ]
  },
  {
   "cell_type": "code",
   "execution_count": 5,
   "id": "d6465f94-72df-4983-ae22-fe8aca3f1756",
   "metadata": {},
   "outputs": [
    {
     "data": {
      "text/plain": [
       "0.13158798217773438"
      ]
     },
     "execution_count": 5,
     "metadata": {},
     "output_type": "execute_result"
    }
   ],
   "source": [
    "binom.cdf(7, 20, 0.5)"
   ]
  },
  {
   "cell_type": "markdown",
   "id": "b1f0f7eb-ae9e-4038-9363-5dbee0ec1520",
   "metadata": {},
   "source": [
    "### **Expected Value**"
   ]
  },
  {
   "cell_type": "markdown",
   "id": "a4180410-fecd-4149-8e70-2510dfa8586c",
   "metadata": {},
   "source": [
    ">#### The expected value, or mean value can be calculated ```expected_value = n*p```"
   ]
  },
  {
   "cell_type": "markdown",
   "id": "4d206b02-7dd3-4227-9503-e12460da07ba",
   "metadata": {},
   "source": [
    "## **Normal distribution**"
   ]
  },
  {
   "cell_type": "markdown",
   "id": "cb49d421-7545-4d4e-8d69-6035b60faaa3",
   "metadata": {},
   "source": [
    "#### This distribution uses a **continuous random variable**, so it is a certain type of **continuous probability distribution**. The results from a normal distribution are always centered around the **mean or average value**. This means that 50% of the values are below the mean, 50% are above the mean, and the majority of the values are close to the mean value. The function used to calculate probabilities in a normal distribution is known as a probability density function.\n"
   ]
  },
  {
   "cell_type": "markdown",
   "id": "23fbe9cd-e3cc-451e-a36b-af204b548b86",
   "metadata": {},
   "source": [
    "#### ***Normal Distribution*** is a probability function used in statistics that tells about how the data values are distributed."
   ]
  },
  {
   "cell_type": "markdown",
   "id": "9786fc2c-4258-4fd7-a86e-e58c989234c5",
   "metadata": {},
   "source": [
    "### **Standard Normal Distribution Tables, Z Scores, Probability & Empirical Rule**"
   ]
  },
  {
   "cell_type": "markdown",
   "id": "28634aa3-8cfc-4e03-b2c5-52bc8059d216",
   "metadata": {},
   "source": [
    ">### What Is the **Empirical Rule?**"
   ]
  },
  {
   "cell_type": "markdown",
   "id": "807d4519-2f82-4f6e-a71b-eed87ce46f94",
   "metadata": {},
   "source": [
    "#### The empirical rule, also referred to as the three-sigma rule or 68-95-99.7 rule, is a statistical rule which states that for a normal distribution, almost all observed data will fall within three standard deviations (denoted by σ) of the mean or average (denoted by µ)."
   ]
  },
  {
   "cell_type": "markdown",
   "id": "f0a75aff-668d-4a0b-9331-73f931ddfe61",
   "metadata": {},
   "source": [
    ">#### In particular, the empirical rule predicts that **68% of observations falls within the first standard deviation (µ ± σ), 95% within the first two standard deviations (µ ± 2σ), and 99.7% within the first three standard deviations (µ ± 3σ).**\n",
    "![a](img/a.png)"
   ]
  },
  {
   "cell_type": "markdown",
   "id": "6ea4d625-361e-4160-b163-f3962e8d8e6c",
   "metadata": {},
   "source": [
    "### **Standard Normal Distribution**\n",
    ">#### When a normal distribution has mean 0 and a standard deviation of 1, it's a special distribution called the standard normal distribution "
   ]
  },
  {
   "cell_type": "markdown",
   "id": "16326cb8-bab6-4cc1-8675-6371705440d0",
   "metadata": {},
   "source": [
    "#### **Notation** for Standard Normal Distribution: \n",
    "### ```X~N(mu(mean), sigma(std))```"
   ]
  },
  {
   "cell_type": "markdown",
   "id": "b30534dd-24cc-4388-9d0b-bdfbde51d6c8",
   "metadata": {},
   "source": [
    "#### The normal distribution graph and the above information are used when we want to know if a given set of data follows a normal trend or not. The normal trend is when the normal distribution of a dataset produces a graph just like above, and the dataset can then be considered stable. If the resultant graph is left-skewed ( the left curve is longer ) or right-skewed ( the right curve is longer ), then it indicates that the dataset is not stable. For example, if a normal distribution graph is computed for a year’s worth of data of some company’s stock and the graph for it comes out to be perfect like above, it means that the company is stable, has steady growth, and is suitable for investing. If the graph comes out to be left or right-skewed, then it indicates some unstable elements depending on how much skewness is observed."
   ]
  },
  {
   "cell_type": "markdown",
   "id": "76011108-1bcc-41a5-b3ed-e527c4715885",
   "metadata": {},
   "source": [
    "#### A perfect normal distribution graph can be observed **Like This One Below**A perfect normal distribution graph can be observed above. A perfect normal distribution graph can be observed above. . "
   ]
  },
  {
   "cell_type": "code",
   "execution_count": 6,
   "id": "8ce5abe8-3651-432c-bffe-7ab93ca58b9e",
   "metadata": {},
   "outputs": [
    {
     "data": {
      "image/png": "[encoded data removed]",
      "text/plain": [
       "<Figure size 720x576 with 1 Axes>"
      ]
     },
     "metadata": {
      "needs_background": "light"
     },
     "output_type": "display_data"
    }
   ],
   "source": [
    "import scipy.stats\n",
    "\n",
    "# Generate 100 random numbers between 0 and 20\n",
    "Rv = np.linspace(0.0, 20.0, 100)\n",
    "\n",
    "#calculate the normal distribution\n",
    "nd = scipy.stats.norm.pdf(Rv,Rv.mean())\n",
    "\n",
    "# Set properties of the plot\n",
    "fig, nd_plot = plt.subplots(figsize=(10,8))\n",
    "nd_plot.set_xlabel(\"Values of Random Variable\", fontsize=16)\n",
    "nd_plot.set_ylabel(\"Normal Distribution Values\", fontsize=16)\n",
    "\n",
    "# Plot the graph\n",
    "nd_plot.plot(Rv,nd)\n",
    "plt.show()"
   ]
  },
  {
   "cell_type": "markdown",
   "id": "4f4e4ff6-903b-4b8f-8130-90543ad0441a",
   "metadata": {},
   "source": [
    "## **Poisson Distribution**"
   ]
  },
  {
   "cell_type": "markdown",
   "id": "458b14ab-790a-47e6-9f97-094412839694",
   "metadata": {},
   "source": [
    ">### what is **poisson**?"
   ]
  },
  {
   "cell_type": "markdown",
   "id": "25c54516-76b6-4691-8701-21cb0a1e9247",
   "metadata": {},
   "source": [
    "#### A Poisson process is a process where **events appear to happen at a certain rate, but completely at random.** "
   ]
  },
  {
   "cell_type": "markdown",
   "id": "b40d640b-46e0-499f-903e-d3d27e490eb6",
   "metadata": {},
   "source": [
    "#### For example: \n",
    "1. The number of animals adopted from an animal shelter each week is a Poisson process - we may know that on average there are 8 adoptions per week, but this number can differ randomly. \n",
    "2. Other examples would be the number of people arriving at a restaurant each hour, or \n",
    "3. The number of earthquakes per year in California. "
   ]
  },
  {
   "cell_type": "markdown",
   "id": "fe1bf0d8-2f36-4617-85e6-cebb9d4a7b70",
   "metadata": {},
   "source": [
    ">#### The **Poisson distribution** describes the probability of some number of events happening over a fixed period of time."
   ]
  },
  {
   "cell_type": "markdown",
   "id": "a5939bb3-e588-48fa-bdad-c0af046f5659",
   "metadata": {},
   "source": [
    "## **Exponential distribution**"
   ]
  },
  {
   "cell_type": "markdown",
   "id": "3e9f7c6d-9c80-49ec-9047-1ba91bb05186",
   "metadata": {},
   "source": [
    ">#### Which represents the probability of a certain time passing between Poisson events."
   ]
  },
  {
   "cell_type": "markdown",
   "id": "3959d594-d560-41d1-aa63-a855253122d8",
   "metadata": {},
   "source": [
    "#### We can use the exponential distribution to predict, \n",
    "#### for example, the probability of more than 1 day between adoptions, the probability of fewer than 10 minutes between restaurant arrivals, and the probability of 6-8 months passing between earthquakes.\n",
    "#### Just like the Poisson distribution, the time unit doesn't matter as long as it's consistent. The exponential distribution uses the same lambda value, which represents the rate, that the Poisson distribution does. Note that lambda and rate mean the same value in this context. It's also continuous, unlike the Poisson distribution, since it represents time."
   ]
  },
  {
   "cell_type": "code",
   "execution_count": 9,
   "id": "48927f0d-c66d-4fe9-8192-4e3248d067f4",
   "metadata": {},
   "outputs": [
    {
     "name": "stdout",
     "output_type": "stream",
     "text": [
      "0.09929769391754684\n"
     ]
    }
   ],
   "source": [
    "# Import expon from scipy.stats\n",
    "from scipy.stats import expon\n",
    "\n",
    "# Print probability response takes 3-4 hours\n",
    "print(expon.cdf(4, scale=2.5) - expon.cdf(3, scale=2.5))"
   ]
  },
  {
   "cell_type": "markdown",
   "id": "c0396770-4f36-4f6e-9f2c-2d1b44fc0b3c",
   "metadata": {},
   "source": [
    "### **Lambda in exponential distribution**"
   ]
  },
  {
   "cell_type": "markdown",
   "id": "b4b1f675-2e7e-4c1f-aff2-f26b8dd1850a",
   "metadata": {},
   "source": [
    "#### The rate affects the shape of the distribution and how steeply it declines."
   ]
  },
  {
   "cell_type": "markdown",
   "id": "0e754aa5-fd86-43c3-a02c-2e1e3b868147",
   "metadata": {},
   "source": [
    "### Expected value of exponential distribution\n",
    "#### Recall that lambda is the expected value of the Poisson distribution, **which measures frequency in terms of rate or number of events.** In our customer service ticket example, **this means that the expected number of requests per minute is point-5.**\n",
    "\n",
    "#### The exponential distribution **measures frequency in terms of time between events.** The expected value of the exponential distribution can be calculated by **taking 1 divided by lambda.** In our example, **the expected time between requests is 1 over one half, which is 2**, so there is an average of 2 minutes between requests."
   ]
  },
  {
   "cell_type": "markdown",
   "id": "898c3824-915d-4981-8edc-478566b3a217",
   "metadata": {},
   "source": [
    "### **(Student's) t-distribution**\n",
    "#### The next distribution is the t-distribution, which is also sometimes called Student's t-distribution. Its shape is similar to the normal distribution, but not quite the same. If we compare the normal distribution, in blue, with the t-distribution with one degree of freedom, in orange, the t-distribution's tails are thicker. This means that in a t-distribution, observations are more likely to fall further from the mean."
   ]
  },
  {
   "cell_type": "markdown",
   "id": "3bc8f343-f66e-4788-b230-b69d0efa9756",
   "metadata": {},
   "source": [
    "#### Degrees of freedom\n",
    "#### As we increase the degrees of freedom, the t-distribution gets closer to the normal distribution. In fact, a normal distribution is a t-distribution with infinite degrees of freedom. **Degrees of freedom are defined as the maximum number of logically independent values in the data sample.**"
   ]
  },
  {
   "cell_type": "markdown",
   "id": "74e3cc4f-ea13-4298-b59e-990cbadd8bbf",
   "metadata": {},
   "source": [
    "### **Log-normal distribution**\n",
    "#### Log-normal distribution. **Variables that follow a log-normal distribution have a logarithm that is normally distributed.** This results in distributions that are skewed, unlike the normal distribution. \n",
    "#### There are lots of real-world examples that follow this distribution, **such as the length of chess games, blood pressure in adults, and the number of hospitalizations in the 2003 SARS outbreak.**"
   ]
  }
 ],
 "metadata": {
  "kernelspec": {
   "display_name": "Python 3 (ipykernel)",
   "language": "python",
   "name": "python3"
  },
  "language_info": {
   "codemirror_mode": {
    "name": "ipython",
    "version": 3
   },
   "file_extension": ".py",
   "mimetype": "text/x-python",
   "name": "python",
   "nbconvert_exporter": "python",
   "pygments_lexer": "ipython3",
   "version": "3.11.4"
  }
 },
 "nbformat": 4,
 "nbformat_minor": 5
}
