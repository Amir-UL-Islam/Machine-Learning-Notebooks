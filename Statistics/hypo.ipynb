{
 "cells": [
  {
   "cell_type": "code",
   "execution_count": 2,
   "id": "5c81960b-1751-4704-9f3d-9dc141aa9418",
   "metadata": {},
   "outputs": [],
   "source": [
    "import numpy as np\n",
    "import scipy as sp\n",
    "import pandas as pd\n",
    "import matplotlib.pyplot as plt\n",
    "import seaborn as sns\n",
    "\n",
    "# For show all columns and full value of columns\n",
    "pd.set_option('display.max_columns', None)\n",
    "pd.set_option('display.max_colwidth',300)\n",
    "\n",
    "# Colors\n",
    "color_pal = sns.colpor_palette()\n",
    "plt.style.use('ggplot')"
   ]
  },
  {
   "cell_type": "markdown",
   "id": "77dbcfea-47aa-4bd5-b0be-7c730a56da9c",
   "metadata": {},
   "source": [
    "## **Hypothesis Testing**\n"
   ]
  },
  {
   "cell_type": "markdown",
   "id": "fd640fb9-beaa-436a-9177-f8cab181094b",
   "metadata": {},
   "source": [
    "#### Hypothesis testing is a technique for **evaluating a theory using data.**\n",
    "#### The hypothesis is the Researcher’s **initial belief about the situation before the study.**\n",
    "\n",
    "#### The commonly accepted fact is known as the null hypothesis while the opposite is the alternate hypothesis. The researcher’s task is to reject, nullify, or disprove the null hypothesis. In fact, the word “null” is meant to imply that it’s a commonly accepted fact that researchers work to nullify (zero effect).\n",
    "\n",
    "#### For example, if we consider a study about cell phones and cancer risk, we might have the following hypothesis:\n",
    "\n",
    "#### **Null hypothesis: “Cell phones have no effect on cancer risk.”**\n",
    "#### **Alternative hypothesis (the one under investigation): “Cell phones affect the risk of cancer.”**"
   ]
  },
  {
   "cell_type": "markdown",
   "id": "f07a1f8a-c61c-4970-afcb-ce850624d107",
   "metadata": {},
   "source": [
    "#### The hypothesis that there is **no difference**between things is called **Null Hypothesis.**"
   ]
  },
  {
   "cell_type": "markdown",
   "id": "7d2c6883-cde1-414f-ad8b-25876d883e00",
   "metadata": {},
   "source": [
    ">#### There are **three types of tests, and the phrasing of the alternative hypothesis** determines which type we should use.\n",
    "#### If we are checking for a **difference compared to a hypothesized value**, we look for **extreme values in either tail and perform a two-tailed test**. \n",
    "#### If the **alternative hypothesis uses language like \"less\" or \"fewer\", we perform a left-tailed test**\n",
    "#### **Words like \"greater\" or \"exceeds\" correspond to a right-tailed test.** "
   ]
  },
  {
   "cell_type": "markdown",
   "id": "149e8bf8-5b70-417e-9941-4c2a3ff5c0db",
   "metadata": {},
   "source": [
    ">### **Statistical Test**\n",
    "#### The output of a Statistical Test is a **Decision to (Reject or Fail to Reject) Null Hypothesis.**\n",
    "#### A Statistical Test Need 3 thins:\n",
    "#### **1. Data**\n",
    "#### **2. Its needs a Null or Primary Hypothesis to Reject or Fail to Reject.**(Cell phones have no effect on cancer risk)\n",
    "#### **3. Its needs an Alternative Hypothesis**.(Cell phones affect the risk of cancer)"
   ]
  },
  {
   "cell_type": "code",
   "execution_count": null,
   "id": "d1f35265-79d1-4e0e-824b-e07331bc2653",
   "metadata": {},
   "outputs": [],
   "source": []
  },
  {
   "cell_type": "code",
   "execution_count": null,
   "id": "c935fd2c-b409-4a9a-9261-f9f09c2b01e7",
   "metadata": {},
   "outputs": [],
   "source": []
  },
  {
   "cell_type": "code",
   "execution_count": null,
   "id": "2877a373-0724-4784-b0a8-4b3563e95e22",
   "metadata": {},
   "outputs": [],
   "source": []
  },
  {
   "cell_type": "code",
   "execution_count": null,
   "id": "b443f75e-3fa4-455e-94fe-0d16673a30c4",
   "metadata": {},
   "outputs": [],
   "source": []
  },
  {
   "cell_type": "code",
   "execution_count": null,
   "id": "eae8fc3a-781a-49e3-acfd-50dac5288986",
   "metadata": {},
   "outputs": [],
   "source": []
  },
  {
   "cell_type": "code",
   "execution_count": null,
   "id": "c64254ac-7c75-4fdd-abbe-7cb5c297f1e9",
   "metadata": {},
   "outputs": [],
   "source": []
  },
  {
   "cell_type": "markdown",
   "id": "6f2dd2fc-2471-4fc0-9d0f-e0758a47d285",
   "metadata": {},
   "source": [
    "## TEST ONE"
   ]
  },
  {
   "cell_type": "markdown",
   "id": "600c6d19-3b6e-4cc5-bfa5-d131d3c7c410",
   "metadata": {},
   "source": [
    ">#### A hypothesize that the mean annual compensation of the population of data scientists is 110,000 dollars."
   ]
  },
  {
   "cell_type": "code",
   "execution_count": 9,
   "id": "865835b2-fef2-4b59-b4d6-02cf3025384a",
   "metadata": {},
   "outputs": [
    {
     "data": {
      "text/html": [
       "<div>\n",
       "<style scoped>\n",
       "    .dataframe tbody tr th:only-of-type {\n",
       "        vertical-align: middle;\n",
       "    }\n",
       "\n",
       "    .dataframe tbody tr th {\n",
       "        vertical-align: top;\n",
       "    }\n",
       "\n",
       "    .dataframe thead th {\n",
       "        text-align: right;\n",
       "    }\n",
       "</style>\n",
       "<table border=\"1\" class=\"dataframe\">\n",
       "  <thead>\n",
       "    <tr style=\"text-align: right;\">\n",
       "      <th></th>\n",
       "      <th>respondent</th>\n",
       "      <th>main_branch</th>\n",
       "      <th>hobbyist</th>\n",
       "      <th>age</th>\n",
       "      <th>age_1st_code</th>\n",
       "      <th>age_first_code_cut</th>\n",
       "      <th>comp_freq</th>\n",
       "      <th>comp_total</th>\n",
       "      <th>converted_comp</th>\n",
       "      <th>country</th>\n",
       "      <th>currency_desc</th>\n",
       "      <th>currency_symbol</th>\n",
       "      <th>database_desire_next_year</th>\n",
       "      <th>database_worked_with</th>\n",
       "      <th>dev_type</th>\n",
       "      <th>ed_level</th>\n",
       "      <th>employment</th>\n",
       "      <th>ethnicity</th>\n",
       "      <th>gender</th>\n",
       "      <th>job_factors</th>\n",
       "      <th>job_sat</th>\n",
       "      <th>job_seek</th>\n",
       "      <th>language_desire_next_year</th>\n",
       "      <th>language_worked_with</th>\n",
       "      <th>misc_tech_desire_next_year</th>\n",
       "      <th>misc_tech_worked_with</th>\n",
       "      <th>new_collab_tools_desire_next_year</th>\n",
       "      <th>new_collab_tools_worked_with</th>\n",
       "      <th>new_dev_ops</th>\n",
       "      <th>new_dev_ops_impt</th>\n",
       "      <th>new_ed_impt</th>\n",
       "      <th>new_job_hunt</th>\n",
       "      <th>new_job_hunt_research</th>\n",
       "      <th>new_learn</th>\n",
       "      <th>new_off_topic</th>\n",
       "      <th>new_onboard_good</th>\n",
       "      <th>new_other_comms</th>\n",
       "      <th>new_overtime</th>\n",
       "      <th>new_purchase_research</th>\n",
       "      <th>purple_link</th>\n",
       "      <th>newso_sites</th>\n",
       "      <th>new_stuck</th>\n",
       "      <th>op_sys</th>\n",
       "      <th>org_size</th>\n",
       "      <th>platform_desire_next_year</th>\n",
       "      <th>platform_worked_with</th>\n",
       "      <th>purchase_what</th>\n",
       "      <th>sexuality</th>\n",
       "      <th>so_account</th>\n",
       "      <th>so_comm</th>\n",
       "      <th>so_part_freq</th>\n",
       "      <th>so_visit_freq</th>\n",
       "      <th>survey_ease</th>\n",
       "      <th>survey_length</th>\n",
       "      <th>trans</th>\n",
       "      <th>undergrad_major</th>\n",
       "      <th>webframe_desire_next_year</th>\n",
       "      <th>webframe_worked_with</th>\n",
       "      <th>welcome_change</th>\n",
       "      <th>work_week_hrs</th>\n",
       "      <th>years_code</th>\n",
       "      <th>years_code_pro</th>\n",
       "      <th>age_cat</th>\n",
       "    </tr>\n",
       "  </thead>\n",
       "  <tbody>\n",
       "    <tr>\n",
       "      <th>0</th>\n",
       "      <td>36.0</td>\n",
       "      <td>I am not primarily a developer, but I write code sometimes as part of my work</td>\n",
       "      <td>Yes</td>\n",
       "      <td>34.0</td>\n",
       "      <td>30.0</td>\n",
       "      <td>adult</td>\n",
       "      <td>Yearly</td>\n",
       "      <td>60000.0</td>\n",
       "      <td>77556.0</td>\n",
       "      <td>United Kingdom</td>\n",
       "      <td>Pound sterling</td>\n",
       "      <td>GBP</td>\n",
       "      <td>Microsoft SQL Server;MongoDB;SQLite</td>\n",
       "      <td>IBM DB2;Microsoft SQL Server;MongoDB;SQLite</td>\n",
       "      <td>Data or business analyst;Data scientist or machine learning specialist</td>\n",
       "      <td>Some college/university study without earning a degree</td>\n",
       "      <td>Employed full-time</td>\n",
       "      <td>White or of European descent</td>\n",
       "      <td>Man</td>\n",
       "      <td>Flex time or a flexible schedule;Office environment or company culture;Opportunities for professional development</td>\n",
       "      <td>Slightly satisfied</td>\n",
       "      <td>I’m not actively looking, but I am open to new opportunities</td>\n",
       "      <td>C#;Go;HTML/CSS;JavaScript;Python;SQL</td>\n",
       "      <td>C#;Go;HTML/CSS;Java;JavaScript;Python;R;SQL</td>\n",
       "      <td>Keras;Node.js;Pandas;TensorFlow</td>\n",
       "      <td>Node.js;Pandas</td>\n",
       "      <td>Confluence;Jira;Github;Slack;Trello</td>\n",
       "      <td>Confluence;Jira;Github;Slack;Trello</td>\n",
       "      <td>Not sure</td>\n",
       "      <td>Neutral</td>\n",
       "      <td>Somewhat important</td>\n",
       "      <td>Having a bad day (or week or month) at work;Curious about other opportunities;Wanting to work with new technologies;Growth or leadership opportunities</td>\n",
       "      <td>None</td>\n",
       "      <td>Every few months</td>\n",
       "      <td>No</td>\n",
       "      <td>Yes</td>\n",
       "      <td>No</td>\n",
       "      <td>Sometimes: 1-2 days per month but less than weekly</td>\n",
       "      <td>None</td>\n",
       "      <td>Hello, old friend</td>\n",
       "      <td>Stack Overflow (public Q&amp;A for anyone who codes);Stack Exchange (public Q&amp;A for a variety of topics)</td>\n",
       "      <td>Visit Stack Overflow;Go for a walk or other physical activity;Watch help / tutorial videos;Do other work and come back later</td>\n",
       "      <td>Windows</td>\n",
       "      <td>1,000 to 4,999 employees</td>\n",
       "      <td>Linux;MacOS;Windows</td>\n",
       "      <td>MacOS;Windows</td>\n",
       "      <td>I have little or no influence</td>\n",
       "      <td>Straight / Heterosexual</td>\n",
       "      <td>Yes</td>\n",
       "      <td>Yes, somewhat</td>\n",
       "      <td>Less than once per month or monthly</td>\n",
       "      <td>Multiple times per day</td>\n",
       "      <td>Easy</td>\n",
       "      <td>Appropriate in length</td>\n",
       "      <td>No</td>\n",
       "      <td>Computer science, computer engineering, or software engineering</td>\n",
       "      <td>Express;React.js</td>\n",
       "      <td>Express;React.js</td>\n",
       "      <td>Just as welcome now as I felt last year</td>\n",
       "      <td>40.0</td>\n",
       "      <td>4.0</td>\n",
       "      <td>3.0</td>\n",
       "      <td>At least 30</td>\n",
       "    </tr>\n",
       "    <tr>\n",
       "      <th>1</th>\n",
       "      <td>47.0</td>\n",
       "      <td>I am a developer by profession</td>\n",
       "      <td>Yes</td>\n",
       "      <td>53.0</td>\n",
       "      <td>10.0</td>\n",
       "      <td>child</td>\n",
       "      <td>Yearly</td>\n",
       "      <td>58000.0</td>\n",
       "      <td>74970.0</td>\n",
       "      <td>United Kingdom</td>\n",
       "      <td>Pound sterling</td>\n",
       "      <td>GBP</td>\n",
       "      <td>PostgreSQL;SQLite</td>\n",
       "      <td>Microsoft SQL Server;Oracle;PostgreSQL;SQLite</td>\n",
       "      <td>Data scientist or machine learning specialist;Developer, back-end;Developer, QA or test;Engineer, data;Scientist</td>\n",
       "      <td>Other doctoral degree (Ph.D., Ed.D., etc.)</td>\n",
       "      <td>Employed full-time</td>\n",
       "      <td>White or of European descent</td>\n",
       "      <td>Man</td>\n",
       "      <td>Remote work options;How widely used or impactful my work output would be;Opportunities for professional development</td>\n",
       "      <td>Very satisfied</td>\n",
       "      <td>I’m not actively looking, but I am open to new opportunities</td>\n",
       "      <td>Bash/Shell/PowerShell;Java;Python;SQL</td>\n",
       "      <td>Bash/Shell/PowerShell;C#;Java;JavaScript;Python;Ruby;SQL</td>\n",
       "      <td>Pandas</td>\n",
       "      <td>.NET;.NET Core</td>\n",
       "      <td>Github;Gitlab</td>\n",
       "      <td>Confluence;Jira;Github;Gitlab;Microsoft Azure;Google Suite (Docs, Meet, etc)</td>\n",
       "      <td>Yes</td>\n",
       "      <td>Neutral</td>\n",
       "      <td>Not at all important/not necessary</td>\n",
       "      <td>Just because;Having a bad day (or week or month) at work;Curious about other opportunities;Wanting to work with new technologies;Looking to relocate</td>\n",
       "      <td>Read company media, such as employee blogs or company culture videos;Company reviews from third party sites (e.g. Glassdoor, Blind);Personal network - friends or family;Directly asking current or past employees at the company</td>\n",
       "      <td>Once a year</td>\n",
       "      <td>No</td>\n",
       "      <td>Onboarding? What onboarding?</td>\n",
       "      <td>Yes</td>\n",
       "      <td>Occasionally: 1-2 days per quarter but less than monthly</td>\n",
       "      <td>Start a free trial;Ask developers I know/work with;Visit developer communities like Stack Overflow</td>\n",
       "      <td>Hello, old friend</td>\n",
       "      <td>Stack Overflow (public Q&amp;A for anyone who codes);Stack Exchange (public Q&amp;A for a variety of topics);Stack Overflow Jobs (for job seekers)</td>\n",
       "      <td>Call a coworker or friend;Visit Stack Overflow;Go for a walk or other physical activity;Do other work and come back later</td>\n",
       "      <td>Linux-based</td>\n",
       "      <td>10 to 19 employees</td>\n",
       "      <td>Arduino;Docker;Linux;Raspberry Pi</td>\n",
       "      <td>Arduino;AWS;Linux;Microsoft Azure;Raspberry Pi</td>\n",
       "      <td>I have some influence</td>\n",
       "      <td>Straight / Heterosexual</td>\n",
       "      <td>Yes</td>\n",
       "      <td>Yes, definitely</td>\n",
       "      <td>A few times per week</td>\n",
       "      <td>A few times per week</td>\n",
       "      <td>Neither easy nor difficult</td>\n",
       "      <td>Appropriate in length</td>\n",
       "      <td>No</td>\n",
       "      <td>A natural science (such as biology, chemistry, physics, etc.)</td>\n",
       "      <td>Flask;Spring</td>\n",
       "      <td>Flask;Spring</td>\n",
       "      <td>Just as welcome now as I felt last year</td>\n",
       "      <td>40.0</td>\n",
       "      <td>43.0</td>\n",
       "      <td>28.0</td>\n",
       "      <td>At least 30</td>\n",
       "    </tr>\n",
       "    <tr>\n",
       "      <th>2</th>\n",
       "      <td>69.0</td>\n",
       "      <td>I am a developer by profession</td>\n",
       "      <td>Yes</td>\n",
       "      <td>25.0</td>\n",
       "      <td>12.0</td>\n",
       "      <td>child</td>\n",
       "      <td>Yearly</td>\n",
       "      <td>550000.0</td>\n",
       "      <td>594539.0</td>\n",
       "      <td>France</td>\n",
       "      <td>European Euro</td>\n",
       "      <td>EUR</td>\n",
       "      <td>PostgreSQL</td>\n",
       "      <td>MongoDB</td>\n",
       "      <td>Data scientist or machine learning specialist;Database administrator;Developer, back-end;Developer, full-stack;Engineer, data</td>\n",
       "      <td>Master’s degree (M.A., M.S., M.Eng., MBA, etc.)</td>\n",
       "      <td>Employed full-time</td>\n",
       "      <td>White or of European descent</td>\n",
       "      <td>Man</td>\n",
       "      <td>Flex time or a flexible schedule;How widely used or impactful my work output would be;Opportunities for professional development</td>\n",
       "      <td>Very satisfied</td>\n",
       "      <td>I am not interested in new job opportunities</td>\n",
       "      <td>Python;Rust;Scala;SQL</td>\n",
       "      <td>HTML/CSS;Python</td>\n",
       "      <td>Keras;Pandas;TensorFlow</td>\n",
       "      <td>Keras;Pandas;TensorFlow</td>\n",
       "      <td>Github;Slack;Google Suite (Docs, Meet, etc)</td>\n",
       "      <td>Confluence;Jira;Github;Slack;Google Suite (Docs, Meet, etc)</td>\n",
       "      <td>Yes</td>\n",
       "      <td>Extremely important</td>\n",
       "      <td>Very important</td>\n",
       "      <td>Curious about other opportunities;Better compensation;Trouble with leadership at my company;Wanting to work with new technologies;Growth or leadership opportunities;Looking to relocate</td>\n",
       "      <td>Read company media, such as employee blogs or company culture videos;Personal network - friends or family;Read other media like news articles, founder profiles, etc. about the company;Directly asking current or past employees at the company</td>\n",
       "      <td>Once a year</td>\n",
       "      <td>No</td>\n",
       "      <td>No</td>\n",
       "      <td>No</td>\n",
       "      <td>Sometimes: 1-2 days per month but less than weekly</td>\n",
       "      <td>Ask developers I know/work with;Visit developer communities like Stack Overflow</td>\n",
       "      <td>Hello, old friend</td>\n",
       "      <td>Stack Overflow (public Q&amp;A for anyone who codes);Stack Exchange (public Q&amp;A for a variety of topics)</td>\n",
       "      <td>Call a coworker or friend;Visit Stack Overflow;Go for a walk or other physical activity;Watch help / tutorial videos;Do other work and come back later</td>\n",
       "      <td>MacOS</td>\n",
       "      <td>20 to 99 employees</td>\n",
       "      <td>Kubernetes;Linux</td>\n",
       "      <td>Linux;Microsoft Azure</td>\n",
       "      <td>I have some influence</td>\n",
       "      <td>Bisexual</td>\n",
       "      <td>Yes</td>\n",
       "      <td>Yes, somewhat</td>\n",
       "      <td>A few times per month or weekly</td>\n",
       "      <td>A few times per week</td>\n",
       "      <td>Easy</td>\n",
       "      <td>Too short</td>\n",
       "      <td>No</td>\n",
       "      <td>Computer science, computer engineering, or software engineering</td>\n",
       "      <td>Django;Flask</td>\n",
       "      <td>Django;Flask</td>\n",
       "      <td>Just as welcome now as I felt last year</td>\n",
       "      <td>40.0</td>\n",
       "      <td>13.0</td>\n",
       "      <td>3.0</td>\n",
       "      <td>Under 30</td>\n",
       "    </tr>\n",
       "    <tr>\n",
       "      <th>3</th>\n",
       "      <td>125.0</td>\n",
       "      <td>I am not primarily a developer, but I write code sometimes as part of my work</td>\n",
       "      <td>Yes</td>\n",
       "      <td>41.0</td>\n",
       "      <td>30.0</td>\n",
       "      <td>adult</td>\n",
       "      <td>Monthly</td>\n",
       "      <td>200000.0</td>\n",
       "      <td>2000000.0</td>\n",
       "      <td>United States</td>\n",
       "      <td>United States dollar</td>\n",
       "      <td>USD</td>\n",
       "      <td>PostgreSQL</td>\n",
       "      <td>PostgreSQL</td>\n",
       "      <td>Data scientist or machine learning specialist;Scientist</td>\n",
       "      <td>Other doctoral degree (Ph.D., Ed.D., etc.)</td>\n",
       "      <td>Employed full-time</td>\n",
       "      <td>White or of European descent</td>\n",
       "      <td>Man</td>\n",
       "      <td>Flex time or a flexible schedule;Family friendliness</td>\n",
       "      <td>Very satisfied</td>\n",
       "      <td>I am not interested in new job opportunities</td>\n",
       "      <td>Python</td>\n",
       "      <td>Python;SQL</td>\n",
       "      <td>Keras;Pandas;TensorFlow;Torch/PyTorch</td>\n",
       "      <td>Keras;Pandas;TensorFlow</td>\n",
       "      <td>Jira</td>\n",
       "      <td>Jira</td>\n",
       "      <td>Not sure</td>\n",
       "      <td>Neutral</td>\n",
       "      <td>Critically important</td>\n",
       "      <td>Better work/life balance</td>\n",
       "      <td>Personal network - friends or family;Directly asking current or past employees at the company</td>\n",
       "      <td>Once every few years</td>\n",
       "      <td>No</td>\n",
       "      <td>Yes</td>\n",
       "      <td>No</td>\n",
       "      <td>Occasionally: 1-2 days per quarter but less than monthly</td>\n",
       "      <td>None</td>\n",
       "      <td>Amused</td>\n",
       "      <td>Stack Overflow (public Q&amp;A for anyone who codes);Stack Exchange (public Q&amp;A for a variety of topics)</td>\n",
       "      <td>Visit Stack Overflow;Go for a walk or other physical activity;Watch help / tutorial videos;Visit another developer community (please name):</td>\n",
       "      <td>Windows</td>\n",
       "      <td>5,000 to 9,999 employees</td>\n",
       "      <td>Docker;Kubernetes</td>\n",
       "      <td>Docker</td>\n",
       "      <td>I have little or no influence</td>\n",
       "      <td>Straight / Heterosexual</td>\n",
       "      <td>Not sure/can't remember</td>\n",
       "      <td>No, not really</td>\n",
       "      <td>None</td>\n",
       "      <td>Multiple times per day</td>\n",
       "      <td>Easy</td>\n",
       "      <td>Appropriate in length</td>\n",
       "      <td>No</td>\n",
       "      <td>None</td>\n",
       "      <td>None</td>\n",
       "      <td>None</td>\n",
       "      <td>Just as welcome now as I felt last year</td>\n",
       "      <td>40.0</td>\n",
       "      <td>11.0</td>\n",
       "      <td>11.0</td>\n",
       "      <td>At least 30</td>\n",
       "    </tr>\n",
       "    <tr>\n",
       "      <th>4</th>\n",
       "      <td>147.0</td>\n",
       "      <td>I am not primarily a developer, but I write code sometimes as part of my work</td>\n",
       "      <td>No</td>\n",
       "      <td>28.0</td>\n",
       "      <td>15.0</td>\n",
       "      <td>adult</td>\n",
       "      <td>Yearly</td>\n",
       "      <td>50000.0</td>\n",
       "      <td>37816.0</td>\n",
       "      <td>Canada</td>\n",
       "      <td>Canadian dollar</td>\n",
       "      <td>CAD</td>\n",
       "      <td>None</td>\n",
       "      <td>MariaDB</td>\n",
       "      <td>Data scientist or machine learning specialist;Database administrator;Designer;Developer, back-end;Developer, front-end;Developer, full-stack</td>\n",
       "      <td>Bachelor’s degree (B.A., B.S., B.Eng., etc.)</td>\n",
       "      <td>Employed full-time</td>\n",
       "      <td>White or of European descent</td>\n",
       "      <td>Man</td>\n",
       "      <td>Diversity of the company or organization;Flex time or a flexible schedule;Office environment or company culture</td>\n",
       "      <td>Very satisfied</td>\n",
       "      <td>I am not interested in new job opportunities</td>\n",
       "      <td>Rust</td>\n",
       "      <td>HTML/CSS;JavaScript;Python;TypeScript</td>\n",
       "      <td>None</td>\n",
       "      <td>Node.js;Pandas</td>\n",
       "      <td>None</td>\n",
       "      <td>Github;Slack</td>\n",
       "      <td>No</td>\n",
       "      <td>Somewhat important</td>\n",
       "      <td>Very important</td>\n",
       "      <td>Curious about other opportunities;Wanting to work with new technologies;Growth or leadership opportunities</td>\n",
       "      <td>Read company media, such as employee blogs or company culture videos;Personal network - friends or family</td>\n",
       "      <td>Once a year</td>\n",
       "      <td>No</td>\n",
       "      <td>Onboarding? What onboarding?</td>\n",
       "      <td>Yes</td>\n",
       "      <td>Rarely: 1-2 days per year or less</td>\n",
       "      <td>Start a free trial;Ask developers I know/work with;Visit developer communities like Stack Overflow</td>\n",
       "      <td>Hello, old friend</td>\n",
       "      <td>Stack Overflow (public Q&amp;A for anyone who codes);Stack Exchange (public Q&amp;A for a variety of topics)</td>\n",
       "      <td>Play games;Call a coworker or friend;Visit Stack Overflow;Go for a walk or other physical activity;Visit another developer community (please name):</td>\n",
       "      <td>Windows</td>\n",
       "      <td>2 to 9 employees</td>\n",
       "      <td>Docker;Kubernetes</td>\n",
       "      <td>None</td>\n",
       "      <td>I have some influence</td>\n",
       "      <td>Straight / Heterosexual</td>\n",
       "      <td>Yes</td>\n",
       "      <td>Yes, somewhat</td>\n",
       "      <td>A few times per month or weekly</td>\n",
       "      <td>Daily or almost daily</td>\n",
       "      <td>Easy</td>\n",
       "      <td>Appropriate in length</td>\n",
       "      <td>No</td>\n",
       "      <td>Another engineering discipline (such as civil, electrical, mechanical, etc.)</td>\n",
       "      <td>None</td>\n",
       "      <td>Express;Flask</td>\n",
       "      <td>Just as welcome now as I felt last year</td>\n",
       "      <td>40.0</td>\n",
       "      <td>5.0</td>\n",
       "      <td>3.0</td>\n",
       "      <td>Under 30</td>\n",
       "    </tr>\n",
       "  </tbody>\n",
       "</table>\n",
       "</div>"
      ],
      "text/plain": [
       "   respondent  \\\n",
       "0        36.0   \n",
       "1        47.0   \n",
       "2        69.0   \n",
       "3       125.0   \n",
       "4       147.0   \n",
       "\n",
       "                                                                     main_branch  \\\n",
       "0  I am not primarily a developer, but I write code sometimes as part of my work   \n",
       "1                                                 I am a developer by profession   \n",
       "2                                                 I am a developer by profession   \n",
       "3  I am not primarily a developer, but I write code sometimes as part of my work   \n",
       "4  I am not primarily a developer, but I write code sometimes as part of my work   \n",
       "\n",
       "  hobbyist   age  age_1st_code age_first_code_cut comp_freq  comp_total  \\\n",
       "0      Yes  34.0          30.0              adult    Yearly     60000.0   \n",
       "1      Yes  53.0          10.0              child    Yearly     58000.0   \n",
       "2      Yes  25.0          12.0              child    Yearly    550000.0   \n",
       "3      Yes  41.0          30.0              adult   Monthly    200000.0   \n",
       "4       No  28.0          15.0              adult    Yearly     50000.0   \n",
       "\n",
       "   converted_comp         country         currency_desc currency_symbol  \\\n",
       "0         77556.0  United Kingdom        Pound sterling             GBP   \n",
       "1         74970.0  United Kingdom        Pound sterling             GBP   \n",
       "2        594539.0          France         European Euro             EUR   \n",
       "3       2000000.0   United States  United States dollar             USD   \n",
       "4         37816.0          Canada       Canadian dollar             CAD   \n",
       "\n",
       "             database_desire_next_year  \\\n",
       "0  Microsoft SQL Server;MongoDB;SQLite   \n",
       "1                    PostgreSQL;SQLite   \n",
       "2                           PostgreSQL   \n",
       "3                           PostgreSQL   \n",
       "4                                 None   \n",
       "\n",
       "                            database_worked_with  \\\n",
       "0    IBM DB2;Microsoft SQL Server;MongoDB;SQLite   \n",
       "1  Microsoft SQL Server;Oracle;PostgreSQL;SQLite   \n",
       "2                                        MongoDB   \n",
       "3                                     PostgreSQL   \n",
       "4                                        MariaDB   \n",
       "\n",
       "                                                                                                                                       dev_type  \\\n",
       "0                                                                        Data or business analyst;Data scientist or machine learning specialist   \n",
       "1                              Data scientist or machine learning specialist;Developer, back-end;Developer, QA or test;Engineer, data;Scientist   \n",
       "2                 Data scientist or machine learning specialist;Database administrator;Developer, back-end;Developer, full-stack;Engineer, data   \n",
       "3                                                                                       Data scientist or machine learning specialist;Scientist   \n",
       "4  Data scientist or machine learning specialist;Database administrator;Designer;Developer, back-end;Developer, front-end;Developer, full-stack   \n",
       "\n",
       "                                                 ed_level          employment  \\\n",
       "0  Some college/university study without earning a degree  Employed full-time   \n",
       "1              Other doctoral degree (Ph.D., Ed.D., etc.)  Employed full-time   \n",
       "2         Master’s degree (M.A., M.S., M.Eng., MBA, etc.)  Employed full-time   \n",
       "3              Other doctoral degree (Ph.D., Ed.D., etc.)  Employed full-time   \n",
       "4            Bachelor’s degree (B.A., B.S., B.Eng., etc.)  Employed full-time   \n",
       "\n",
       "                      ethnicity gender  \\\n",
       "0  White or of European descent    Man   \n",
       "1  White or of European descent    Man   \n",
       "2  White or of European descent    Man   \n",
       "3  White or of European descent    Man   \n",
       "4  White or of European descent    Man   \n",
       "\n",
       "                                                                                                                        job_factors  \\\n",
       "0                 Flex time or a flexible schedule;Office environment or company culture;Opportunities for professional development   \n",
       "1               Remote work options;How widely used or impactful my work output would be;Opportunities for professional development   \n",
       "2  Flex time or a flexible schedule;How widely used or impactful my work output would be;Opportunities for professional development   \n",
       "3                                                                              Flex time or a flexible schedule;Family friendliness   \n",
       "4                   Diversity of the company or organization;Flex time or a flexible schedule;Office environment or company culture   \n",
       "\n",
       "              job_sat  \\\n",
       "0  Slightly satisfied   \n",
       "1      Very satisfied   \n",
       "2      Very satisfied   \n",
       "3      Very satisfied   \n",
       "4      Very satisfied   \n",
       "\n",
       "                                                       job_seek  \\\n",
       "0  I’m not actively looking, but I am open to new opportunities   \n",
       "1  I’m not actively looking, but I am open to new opportunities   \n",
       "2                  I am not interested in new job opportunities   \n",
       "3                  I am not interested in new job opportunities   \n",
       "4                  I am not interested in new job opportunities   \n",
       "\n",
       "               language_desire_next_year  \\\n",
       "0   C#;Go;HTML/CSS;JavaScript;Python;SQL   \n",
       "1  Bash/Shell/PowerShell;Java;Python;SQL   \n",
       "2                  Python;Rust;Scala;SQL   \n",
       "3                                 Python   \n",
       "4                                   Rust   \n",
       "\n",
       "                                       language_worked_with  \\\n",
       "0               C#;Go;HTML/CSS;Java;JavaScript;Python;R;SQL   \n",
       "1  Bash/Shell/PowerShell;C#;Java;JavaScript;Python;Ruby;SQL   \n",
       "2                                           HTML/CSS;Python   \n",
       "3                                                Python;SQL   \n",
       "4                     HTML/CSS;JavaScript;Python;TypeScript   \n",
       "\n",
       "              misc_tech_desire_next_year    misc_tech_worked_with  \\\n",
       "0        Keras;Node.js;Pandas;TensorFlow           Node.js;Pandas   \n",
       "1                                 Pandas           .NET;.NET Core   \n",
       "2                Keras;Pandas;TensorFlow  Keras;Pandas;TensorFlow   \n",
       "3  Keras;Pandas;TensorFlow;Torch/PyTorch  Keras;Pandas;TensorFlow   \n",
       "4                                   None           Node.js;Pandas   \n",
       "\n",
       "             new_collab_tools_desire_next_year  \\\n",
       "0          Confluence;Jira;Github;Slack;Trello   \n",
       "1                                Github;Gitlab   \n",
       "2  Github;Slack;Google Suite (Docs, Meet, etc)   \n",
       "3                                         Jira   \n",
       "4                                         None   \n",
       "\n",
       "                                                   new_collab_tools_worked_with  \\\n",
       "0                                           Confluence;Jira;Github;Slack;Trello   \n",
       "1  Confluence;Jira;Github;Gitlab;Microsoft Azure;Google Suite (Docs, Meet, etc)   \n",
       "2                   Confluence;Jira;Github;Slack;Google Suite (Docs, Meet, etc)   \n",
       "3                                                                          Jira   \n",
       "4                                                                  Github;Slack   \n",
       "\n",
       "  new_dev_ops     new_dev_ops_impt                         new_ed_impt  \\\n",
       "0    Not sure              Neutral                  Somewhat important   \n",
       "1         Yes              Neutral  Not at all important/not necessary   \n",
       "2         Yes  Extremely important                      Very important   \n",
       "3    Not sure              Neutral                Critically important   \n",
       "4          No   Somewhat important                      Very important   \n",
       "\n",
       "                                                                                                                                                                               new_job_hunt  \\\n",
       "0                                    Having a bad day (or week or month) at work;Curious about other opportunities;Wanting to work with new technologies;Growth or leadership opportunities   \n",
       "1                                      Just because;Having a bad day (or week or month) at work;Curious about other opportunities;Wanting to work with new technologies;Looking to relocate   \n",
       "2  Curious about other opportunities;Better compensation;Trouble with leadership at my company;Wanting to work with new technologies;Growth or leadership opportunities;Looking to relocate   \n",
       "3                                                                                                                                                                  Better work/life balance   \n",
       "4                                                                                Curious about other opportunities;Wanting to work with new technologies;Growth or leadership opportunities   \n",
       "\n",
       "                                                                                                                                                                                                                              new_job_hunt_research  \\\n",
       "0                                                                                                                                                                                                                                              None   \n",
       "1                 Read company media, such as employee blogs or company culture videos;Company reviews from third party sites (e.g. Glassdoor, Blind);Personal network - friends or family;Directly asking current or past employees at the company   \n",
       "2  Read company media, such as employee blogs or company culture videos;Personal network - friends or family;Read other media like news articles, founder profiles, etc. about the company;Directly asking current or past employees at the company   \n",
       "3                                                                                                                                                     Personal network - friends or family;Directly asking current or past employees at the company   \n",
       "4                                                                                                                                         Read company media, such as employee blogs or company culture videos;Personal network - friends or family   \n",
       "\n",
       "              new_learn new_off_topic              new_onboard_good  \\\n",
       "0      Every few months            No                           Yes   \n",
       "1           Once a year            No  Onboarding? What onboarding?   \n",
       "2           Once a year            No                            No   \n",
       "3  Once every few years            No                           Yes   \n",
       "4           Once a year            No  Onboarding? What onboarding?   \n",
       "\n",
       "  new_other_comms                                              new_overtime  \\\n",
       "0              No        Sometimes: 1-2 days per month but less than weekly   \n",
       "1             Yes  Occasionally: 1-2 days per quarter but less than monthly   \n",
       "2              No        Sometimes: 1-2 days per month but less than weekly   \n",
       "3              No  Occasionally: 1-2 days per quarter but less than monthly   \n",
       "4             Yes                         Rarely: 1-2 days per year or less   \n",
       "\n",
       "                                                                                new_purchase_research  \\\n",
       "0                                                                                                None   \n",
       "1  Start a free trial;Ask developers I know/work with;Visit developer communities like Stack Overflow   \n",
       "2                     Ask developers I know/work with;Visit developer communities like Stack Overflow   \n",
       "3                                                                                                None   \n",
       "4  Start a free trial;Ask developers I know/work with;Visit developer communities like Stack Overflow   \n",
       "\n",
       "         purple_link  \\\n",
       "0  Hello, old friend   \n",
       "1  Hello, old friend   \n",
       "2  Hello, old friend   \n",
       "3             Amused   \n",
       "4  Hello, old friend   \n",
       "\n",
       "                                                                                                                                  newso_sites  \\\n",
       "0                                        Stack Overflow (public Q&A for anyone who codes);Stack Exchange (public Q&A for a variety of topics)   \n",
       "1  Stack Overflow (public Q&A for anyone who codes);Stack Exchange (public Q&A for a variety of topics);Stack Overflow Jobs (for job seekers)   \n",
       "2                                        Stack Overflow (public Q&A for anyone who codes);Stack Exchange (public Q&A for a variety of topics)   \n",
       "3                                        Stack Overflow (public Q&A for anyone who codes);Stack Exchange (public Q&A for a variety of topics)   \n",
       "4                                        Stack Overflow (public Q&A for anyone who codes);Stack Exchange (public Q&A for a variety of topics)   \n",
       "\n",
       "                                                                                                                                                new_stuck  \\\n",
       "0                            Visit Stack Overflow;Go for a walk or other physical activity;Watch help / tutorial videos;Do other work and come back later   \n",
       "1                               Call a coworker or friend;Visit Stack Overflow;Go for a walk or other physical activity;Do other work and come back later   \n",
       "2  Call a coworker or friend;Visit Stack Overflow;Go for a walk or other physical activity;Watch help / tutorial videos;Do other work and come back later   \n",
       "3             Visit Stack Overflow;Go for a walk or other physical activity;Watch help / tutorial videos;Visit another developer community (please name):   \n",
       "4     Play games;Call a coworker or friend;Visit Stack Overflow;Go for a walk or other physical activity;Visit another developer community (please name):   \n",
       "\n",
       "        op_sys                  org_size          platform_desire_next_year  \\\n",
       "0      Windows  1,000 to 4,999 employees                Linux;MacOS;Windows   \n",
       "1  Linux-based        10 to 19 employees  Arduino;Docker;Linux;Raspberry Pi   \n",
       "2        MacOS        20 to 99 employees                   Kubernetes;Linux   \n",
       "3      Windows  5,000 to 9,999 employees                  Docker;Kubernetes   \n",
       "4      Windows          2 to 9 employees                  Docker;Kubernetes   \n",
       "\n",
       "                             platform_worked_with  \\\n",
       "0                                   MacOS;Windows   \n",
       "1  Arduino;AWS;Linux;Microsoft Azure;Raspberry Pi   \n",
       "2                           Linux;Microsoft Azure   \n",
       "3                                          Docker   \n",
       "4                                            None   \n",
       "\n",
       "                   purchase_what                sexuality  \\\n",
       "0  I have little or no influence  Straight / Heterosexual   \n",
       "1          I have some influence  Straight / Heterosexual   \n",
       "2          I have some influence                 Bisexual   \n",
       "3  I have little or no influence  Straight / Heterosexual   \n",
       "4          I have some influence  Straight / Heterosexual   \n",
       "\n",
       "                so_account          so_comm  \\\n",
       "0                      Yes    Yes, somewhat   \n",
       "1                      Yes  Yes, definitely   \n",
       "2                      Yes    Yes, somewhat   \n",
       "3  Not sure/can't remember   No, not really   \n",
       "4                      Yes    Yes, somewhat   \n",
       "\n",
       "                          so_part_freq           so_visit_freq  \\\n",
       "0  Less than once per month or monthly  Multiple times per day   \n",
       "1                 A few times per week    A few times per week   \n",
       "2      A few times per month or weekly    A few times per week   \n",
       "3                                 None  Multiple times per day   \n",
       "4      A few times per month or weekly   Daily or almost daily   \n",
       "\n",
       "                  survey_ease          survey_length trans  \\\n",
       "0                        Easy  Appropriate in length    No   \n",
       "1  Neither easy nor difficult  Appropriate in length    No   \n",
       "2                        Easy              Too short    No   \n",
       "3                        Easy  Appropriate in length    No   \n",
       "4                        Easy  Appropriate in length    No   \n",
       "\n",
       "                                                                undergrad_major  \\\n",
       "0               Computer science, computer engineering, or software engineering   \n",
       "1                 A natural science (such as biology, chemistry, physics, etc.)   \n",
       "2               Computer science, computer engineering, or software engineering   \n",
       "3                                                                          None   \n",
       "4  Another engineering discipline (such as civil, electrical, mechanical, etc.)   \n",
       "\n",
       "  webframe_desire_next_year webframe_worked_with  \\\n",
       "0          Express;React.js     Express;React.js   \n",
       "1              Flask;Spring         Flask;Spring   \n",
       "2              Django;Flask         Django;Flask   \n",
       "3                      None                 None   \n",
       "4                      None        Express;Flask   \n",
       "\n",
       "                            welcome_change  work_week_hrs  years_code  \\\n",
       "0  Just as welcome now as I felt last year           40.0         4.0   \n",
       "1  Just as welcome now as I felt last year           40.0        43.0   \n",
       "2  Just as welcome now as I felt last year           40.0        13.0   \n",
       "3  Just as welcome now as I felt last year           40.0        11.0   \n",
       "4  Just as welcome now as I felt last year           40.0         5.0   \n",
       "\n",
       "   years_code_pro      age_cat  \n",
       "0             3.0  At least 30  \n",
       "1            28.0  At least 30  \n",
       "2             3.0     Under 30  \n",
       "3            11.0  At least 30  \n",
       "4             3.0     Under 30  "
      ]
     },
     "execution_count": 9,
     "metadata": {},
     "output_type": "execute_result"
    }
   ],
   "source": [
    "df_stack_overflow = pd.read_feather('data/stack_overflow.feather')\n",
    "df_stack_overflow.head()"
   ]
  },
  {
   "cell_type": "code",
   "execution_count": 10,
   "id": "8367a366-25c5-470f-85a2-fbee0d6c9524",
   "metadata": {},
   "outputs": [
    {
     "data": {
      "text/plain": [
       "119574.71738168952"
      ]
     },
     "execution_count": 10,
     "metadata": {},
     "output_type": "execute_result"
    }
   ],
   "source": [
    "df_stack_overflow['converted_comp'].mean()"
   ]
  },
  {
   "cell_type": "markdown",
   "id": "55f65df4-8a80-4f41-9ee1-67e1d728a8f3",
   "metadata": {},
   "source": [
    "#### The mean is not meaning full enough."
   ]
  },
  {
   "cell_type": "markdown",
   "id": "bfe37834-6a85-4e36-bb76-61e99b511822",
   "metadata": {},
   "source": [
    "### Before we Hypothesis the value, we need to **Standardize Value** the values.\n",
    "#### A common way to do that is ```subtract mean from value and divide std``` $Standardize Value$ = ($value$ - $\\mu$)/$\\sigma$"
   ]
  },
  {
   "cell_type": "markdown",
   "id": "04f88637-e909-42bf-8bc4-0173db49f50d",
   "metadata": {},
   "source": [
    "### What is **Z-Score**?"
   ]
  },
  {
   "cell_type": "markdown",
   "id": "902a5d39-88d0-400e-95c0-570cbf6ce278",
   "metadata": {
    "tags": []
   },
   "source": [
    "#### A **Z-score** is a numerical measurement that **describes a value's relationship to the mean** of a group of values. **Z-score is measured in terms of standard deviations from the mean.**\n",
    ">#### **If a Z-score is 0, it indicates that the data point's score is identical to the mean score.**"
   ]
  },
  {
   "cell_type": "markdown",
   "id": "5a0ae8eb-e4ee-4f2d-8993-833ebed5172b",
   "metadata": {},
   "source": [
    "### $z.Score$ = ($sample.stat$ - $hypothesis.parameter.value$)/$standard.error$"
   ]
  },
  {
   "cell_type": "code",
   "execution_count": 4,
   "id": "b5804d91-a410-47d9-b1c3-f622b19359f5",
   "metadata": {},
   "outputs": [],
   "source": [
    "sample_stat = df_stack_overflow['converted_comp'].sample(frac=1, replace=True).mean()\n",
    "hypothesis_parameter_value = 110000\n"
   ]
  },
  {
   "cell_type": "markdown",
   "id": "1920844e-cd3c-4159-883f-5160d31385e6",
   "metadata": {},
   "source": [
    "### What is **StandardError**?"
   ]
  },
  {
   "cell_type": "markdown",
   "id": "b6cb1dca-c50c-49f6-85dc-91d203b5d71b",
   "metadata": {},
   "source": [
    "#### Standard deviation of the mean is called **StandardError**."
   ]
  },
  {
   "cell_type": "markdown",
   "id": "33fcec0f-5332-413e-9b8b-6c1fe8efe0e4",
   "metadata": {},
   "source": [
    "### **Standard Deviation** vs **Standard Error**"
   ]
  },
  {
   "cell_type": "markdown",
   "id": "b2264505-52a8-4310-bf4f-8f4e656c73fa",
   "metadata": {},
   "source": [
    "|Std|St Error|\n",
    "|------------------------|--------------------------------------|\n",
    "|The standard deviation quantifies the variation within a set of measurements.|The standard error quantifies the variation in means from multiple set of measurements|"
   ]
  },
  {
   "cell_type": "markdown",
   "id": "ec2e1033-7778-4615-84ea-a1157bfd96ca",
   "metadata": {
    "tags": []
   },
   "source": [
    "### Bootstrap Distribution"
   ]
  },
  {
   "cell_type": "code",
   "execution_count": 5,
   "id": "6d6d2922-fedc-461f-9e98-3acd13287c78",
   "metadata": {},
   "outputs": [],
   "source": [
    "def bootstrap_distribution(sample_size, column_name):\n",
    "    x = []\n",
    "    if type(column_name) == list:\n",
    "        for i in range(sample_size):\n",
    "            x.append((df_stack_overflow[column_name[0]] == column_name[1]).sample(frac=1, replace=True).mean())\n",
    "    elif type(column_name) == str:\n",
    "        for i in range(sample_size):\n",
    "            x.append(df_stack_overflow[column_name].sample(frac=1, replace=True).mean())\n",
    "    return x"
   ]
  },
  {
   "cell_type": "code",
   "execution_count": 6,
   "id": "a86958af-7e5a-495a-b3fa-319420e88fac",
   "metadata": {
    "tags": []
   },
   "outputs": [
    {
     "data": {
      "image/png": "[encoded data removed]",
      "text/plain": [
       "<Figure size 432x288 with 1 Axes>"
      ]
     },
     "metadata": {},
     "output_type": "display_data"
    }
   ],
   "source": [
    "bootstrap_dist = bootstrap_distribution(5000, 'converted_comp')\n",
    "plt.hist(bootstrap_dist, bins=50)\n",
    "plt.show()"
   ]
  },
  {
   "cell_type": "code",
   "execution_count": 7,
   "id": "feee93b6-92bb-4cb7-8dbd-6a6485b340c3",
   "metadata": {},
   "outputs": [],
   "source": [
    "std_error = np.std(bootstrap_dist)"
   ]
  },
  {
   "cell_type": "code",
   "execution_count": 8,
   "id": "9853136b-7552-4bcd-a7ea-d719711e424b",
   "metadata": {},
   "outputs": [
    {
     "name": "stdout",
     "output_type": "stream",
     "text": [
      "1.7638935573963894\n"
     ]
    }
   ],
   "source": [
    "z_score = (sample_stat - hypothesis_parameter_value)/std_error\n",
    "print(z_score)"
   ]
  },
  {
   "cell_type": "markdown",
   "id": "5a431885-4e5d-4dc1-ae22-b58c3aa9d651",
   "metadata": {},
   "source": [
    "### The Z Score above changes as the the sample size and changes."
   ]
  },
  {
   "cell_type": "markdown",
   "id": "eaa0aee6-19e4-4282-8c1b-567a0056da60",
   "metadata": {},
   "source": [
    "## TEST TWO"
   ]
  },
  {
   "cell_type": "markdown",
   "id": "aeb4f958-6487-43c6-a0e4-6fc8311709a4",
   "metadata": {},
   "source": [
    "#### Suppose **previous research suggests that 35 percent of software developers programmed as children**.\n",
    "#### This raises a question answerable with our dataset.\n",
    "- Does our sample provide evidence that a greater proportion of data scientists started programming as children?"
   ]
  },
  {
   "cell_type": "markdown",
   "id": "17fa866f-cb86-46d7-89e2-5ae8376917e1",
   "metadata": {},
   "source": [
    "#### A hypothesis is a statement about a population parameter. We don't know the true value of this population parameter; we can only make inferences about it from the data.\n",
    "#### Hypothesis tests compare two competing hypotheses. These two hypotheses are the \n",
    "- **Null Hypothesis:, representing the existing idea,**  denoted $H_0$\n",
    "- **Alternative Hypothesis:, representing a new idea** that challenges the existing one. denoted $H_A$\n",
    "\n",
    "#### Here, the **null hypothesis** is that the proportion of data scientists that started programming as children follows the research on software developers, at 35 percent. \n",
    "#### The **alternative hypothesis** is that the percentage is greater than 35."
   ]
  },
  {
   "cell_type": "markdown",
   "id": "0a43d91d-bd36-43af-8f82-179512a3903f",
   "metadata": {},
   "source": [
    "### Rather than saying we accept the alternative hypothesis, it is **convention to refer to rejecting the null hypothesis, or failing to reject the null hypothesis.** "
   ]
  },
  {
   "cell_type": "code",
   "execution_count": 9,
   "id": "fb678596-c43a-41c5-9cbf-75684aed3776",
   "metadata": {},
   "outputs": [
    {
     "data": {
      "image/png": "[encoded data removed]",
      "text/plain": [
       "<Figure size 432x288 with 1 Axes>"
      ]
     },
     "metadata": {},
     "output_type": "display_data"
    }
   ],
   "source": [
    "samples = sp.stats.norm.rvs(loc=5, scale=3 ** 2, size=5000)\n",
    "sns.histplot(samples, kde=True)\n",
    "plt.show()"
   ]
  },
  {
   "cell_type": "markdown",
   "id": "2ffc9e5e-44e1-4806-b74b-2b23f6b5a6ab",
   "metadata": {},
   "source": [
    "#### The **tails of a distribution are the left and right edges of its PDF**. \n",
    ">#### Hypothesis tests **determine whether the sample statistics lie in the tails of the null distribution,** which is the distribution of the statistic if the null hypothesis was true. \n",
    "\n",
    "### There are three types of tests, and the phrasing of the alternative hypothesis determines which type we should use."
   ]
  },
  {
   "cell_type": "markdown",
   "id": "32b39812-7417-4a76-800c-d41cf95f76ec",
   "metadata": {},
   "source": [
    "| Test | Tails | When |\n",
    "| ------------------------------- | ----------------- | --------------------------------------------------------------- |\n",
    "| Alternative Difference from Null | two-tailed | Checking for a difference compared to a hypothesized value, and **looking for extreme values in either tail** |\n",
    "| Alternative less than Null | left-tail | If the alternative hypothesis uses language like \"less\" or \"fewer\", we perform a left-tailed test. |\n",
    "| Alternative greater than Null | right-tail | Words like \"greater\" or \"exceeds\" correspond to a right-tailed test. |\n"
   ]
  },
  {
   "cell_type": "markdown",
   "id": "c31025d8-ef06-4f85-b2f0-0d20efbe26c2",
   "metadata": {},
   "source": [
    "### For the Stack Overflow hypothesis test, we **need a right-tailed test since we are looking for extreme values** in the right tail."
   ]
  },
  {
   "cell_type": "markdown",
   "id": "c311b43c-261c-48d4-a0a2-c1571cad51ac",
   "metadata": {},
   "source": [
    "### **P-value**\n",
    "#### The p-value **quantifies the rareness** in our results.\n",
    "- **p-values** measure the strength of support for the null hypothesis, or in other words, they measure the probability of obtaining a result, assuming the null hypothesis is true"
   ]
  },
  {
   "cell_type": "markdown",
   "id": "9c251d27-7779-4452-bb3e-81e1fb901a83",
   "metadata": {},
   "source": [
    "- **The probability of obtain a result. Assuming the null Hypothesis is True.**\n",
    "- **P-value** Quantify the evidence for the null hypothesis."
   ]
  },
  {
   "cell_type": "markdown",
   "id": "515efd38-72e5-4c12-bca0-7e069206d171",
   "metadata": {},
   "source": [
    "#### **Large p-values** mean our statistic is producing a **result that is likely not in a tail of our null distribution,** and chance could be a good explanation for the result.\n",
    "#### **Small p-values** mean our statistic is producing a **result likely in the tail of our null distribution.** \n",
    "#### **Because p-values are probabilities, they are always between zero and one.**"
   ]
  },
  {
   "cell_type": "markdown",
   "id": "fd616fc0-b71f-4443-8ffd-f6cef874a3fe",
   "metadata": {},
   "source": [
    "- #### **Large p-values** --> Failed to Reject Null Hypothesis.\n",
    "- #### **Small p-values** --> Reject Null Hypothesis. "
   ]
  },
  {
   "cell_type": "markdown",
   "id": "c1ca3a83-b7e8-4b98-b8f4-58fb866d2824",
   "metadata": {},
   "source": [
    "### Calculating P value\n",
    "- #### z-score\n",
    "- #### pass the z-score to norm.cdf()"
   ]
  },
  {
   "cell_type": "code",
   "execution_count": 18,
   "id": "27c87f0b-a87b-47be-bf8e-08d0a9299daa",
   "metadata": {},
   "outputs": [
    {
     "name": "stdout",
     "output_type": "stream",
     "text": [
      "0.3931888544891641\n",
      "4.197514773591409\n"
     ]
    }
   ],
   "source": [
    "# Creating a Bootstrap Distribution\n",
    "bootstrap_dist_for_age = bootstrap_distribution(5000, [\"age_first_code_cut\", \"child\"])\n",
    "\n",
    "# Standard Error\n",
    "std_error_age = np.std(bootstrap_dist_for_age)\n",
    "\n",
    "# Sample stat\n",
    "sample_stat_age = (df_stack_overflow['age_first_code_cut']== 'child').sample(frac=1, replace=True).mean()\n",
    "print(sample_stat_age)\n",
    "\n",
    "# Hypothesis params value which is 35%\n",
    "hypothesis_parameter_value_age = 0.35\n",
    "\n",
    "# Z score\n",
    "z_score_age = (sample_stat_age - hypothesis_parameter_value_age)/std_error_age\n",
    "\n",
    "print(z_score_age)"
   ]
  },
  {
   "cell_type": "markdown",
   "id": "654b3ef5-c8ae-4731-b8a2-8e1cbfc5ab30",
   "metadata": {},
   "source": [
    "| Test | How |\n",
    "| ----------------- | --------------------------- | \n",
    "| left-tail test | ```norm.cdf()``` |\n",
    "| right-tail test | ``` 1 - norm.cdf()``` |"
   ]
  },
  {
   "cell_type": "code",
   "execution_count": 19,
   "id": "77f986c4-09fd-442a-ab0b-fe2fd9599b07",
   "metadata": {},
   "outputs": [
    {
     "data": {
      "text/plain": [
       "1.34930029108693e-05"
      ]
     },
     "execution_count": 19,
     "metadata": {},
     "output_type": "execute_result"
    }
   ],
   "source": [
    "p_value = 1 - sp.stats.norm.cdf(z_score_age, loc=0, scale=1)\n",
    "p_value"
   ]
  },
  {
   "cell_type": "markdown",
   "id": "5274ed37-6bda-405e-9fde-2bd19d019559",
   "metadata": {},
   "source": [
    "#### P value is 2 out of 5000(can be change if the above code run again)"
   ]
  },
  {
   "cell_type": "markdown",
   "id": "929cd6b8-ad29-48bc-b489-a2212a3fc12b",
   "metadata": {},
   "source": [
    "### **Significance level**\n",
    "#### The **cutoff point is known as the significance level**, and is **denoted alpha.** $\\alpha$ The appropriate significance level depends on the dataset and the discipline worked in.\n",
    "#### **Five percent is the most common choice,** but **ten percent** and **one percent** are also popular. \n",
    "#### The significance level gives us a decision process for which hypothesis to support. \n",
    ">#### If the **p-value** is less than or equal to alpha, we **reject the null hypothesis.** Otherwise, we fail to reject it."
   ]
  },
  {
   "cell_type": "code",
   "execution_count": 12,
   "id": "b79422e7-ffae-4416-b865-e16a6b523e9c",
   "metadata": {},
   "outputs": [
    {
     "data": {
      "text/plain": [
       "True"
      ]
     },
     "execution_count": 12,
     "metadata": {},
     "output_type": "execute_result"
    }
   ],
   "source": [
    "alpha = 0.05\n",
    "p_value <= alpha"
   ]
  },
  {
   "cell_type": "markdown",
   "id": "25555733-bc59-4529-85cf-0f4551ab1f95",
   "metadata": {},
   "source": [
    "### So, We **Reject Null Hypothesis.**"
   ]
  },
  {
   "cell_type": "markdown",
   "id": "bf66e478-aa57-4c87-99c4-0e1bf983f17b",
   "metadata": {},
   "source": [
    "### **Calculating a confidence interval.**\n"
   ]
  },
  {
   "cell_type": "markdown",
   "id": "e82a8715-1d2b-4d9e-91fd-140e9f801f8f",
   "metadata": {},
   "source": [
    "#### To get a sense of the **potential values of the population parameter,** it's common to choose a confidence interval level of one minus the significance level. "
   ]
  },
  {
   "cell_type": "markdown",
   "id": "58e432f8-b798-4eaa-85d3-fc2cec57dc8e",
   "metadata": {},
   "source": [
    "#### For a significance level of point-zero-five, we'd use a 95 percent confidence interval."
   ]
  },
  {
   "cell_type": "markdown",
   "id": "02d46975-6b2a-4496-a5c9-c75776358163",
   "metadata": {},
   "source": [
    "#### For hypothesis testing, there are **two ways to get it right**, and **two types of error.** If we support the alternative hypothesis when the null hypothesis was correct, we made a false positive error. If we support the null hypothesis when the alternative hypothesis was correct, we made a false negative error."
   ]
  },
  {
   "cell_type": "markdown",
   "id": "2388b6a2-34b6-4b87-aee6-25551d21b132",
   "metadata": {},
   "source": [
    "| | actual $H_o$ | actual $H_A$ |\n",
    "| ----------------------- | --------------------------- | ---------------------------- |\n",
    "| chose $H_o$ | correct | false negative |\n",
    "| chose $H_A$ | false positive | correct |"
   ]
  },
  {
   "cell_type": "markdown",
   "id": "d7b2a592-be0b-4cb2-a6c3-a57ac6386d9c",
   "metadata": {},
   "source": [
    "#### In the case of data scientists coding as children, if we had a p-value less than or equal to the significance level, and rejected the null hypothesis, it's possible we made a false positive error.\n",
    "#### Although we thought data scientists started coding as children at a higher rate, it may not be true in the whole population.\n",
    "#### Conversely, if the p-value was greater than the significance level, and we failed to reject the null hypothesis, it's possible we made a false negative error."
   ]
  },
  {
   "cell_type": "code",
   "execution_count": 13,
   "id": "6194c621-6fc8-4dcb-baf2-2f2afb766afb",
   "metadata": {},
   "outputs": [
    {
     "name": "stdout",
     "output_type": "stream",
     "text": [
      "(0.3746130030959752, 0.4082264484741265)\n"
     ]
    }
   ],
   "source": [
    "# Calculate 95% confidence interval using quantile method\n",
    "lower = np.quantile(bootstrap_dist_for_age, 0.05)\n",
    "upper = np.quantile(bootstrap_dist_for_age, 0.95)\n",
    "\n",
    "# Print the confidence interval\n",
    "print((lower, upper))"
   ]
  },
  {
   "cell_type": "markdown",
   "id": "2fe78e38-d588-463f-ba8b-4cf343453036",
   "metadata": {},
   "source": [
    "### **T-Test**"
   ]
  },
  {
   "cell_type": "markdown",
   "id": "5fe84c02-c2e1-467a-a797-e59dff3e5b89",
   "metadata": {},
   "source": [
    ">#### A t-test is an inferential statistic used to determine if there is a **significant difference between the means of two groups and how they are related.**"
   ]
  },
  {
   "cell_type": "markdown",
   "id": "16275bbc-2608-457a-9fa4-6f194ef92201",
   "metadata": {},
   "source": [
    "#### **We used an approximation for the test statistic standard error using sample information. Using this approximation adds more uncertainty and that's why this is a t instead of a z problem. The t distribution allows for more uncertainty when using multiple estimates in a single statistic calculation.** "
   ]
  },
  {
   "cell_type": "markdown",
   "id": "ef9a347b-90f2-4ccd-9dc2-2a286ce02a09",
   "metadata": {},
   "source": [
    "### **Why is t needed?**"
   ]
  },
  {
   "cell_type": "markdown",
   "id": "7346e0db-68c4-41d4-9a55-668ada8c5eaa",
   "metadata": {},
   "source": [
    ">#### When a sample standard deviation is used in estimating a standard error."
   ]
  },
  {
   "cell_type": "markdown",
   "id": "26cd1ad6-cc46-4634-8483-b4ad7c2d451e",
   "metadata": {},
   "source": [
    "#### Normal distribution, is a probability distribution that is **symmetric about the mean,** showing that **data near the mean are more frequent in occurrence than data far from the mean.**"
   ]
  },
  {
   "cell_type": "code",
   "execution_count": 14,
   "id": "5a707708-3d85-4f64-b635-4c37da82c5df",
   "metadata": {},
   "outputs": [
    {
     "data": {
      "text/html": [
       "<div>\n",
       "<style scoped>\n",
       "    .dataframe tbody tr th:only-of-type {\n",
       "        vertical-align: middle;\n",
       "    }\n",
       "\n",
       "    .dataframe tbody tr th {\n",
       "        vertical-align: top;\n",
       "    }\n",
       "\n",
       "    .dataframe thead th {\n",
       "        text-align: right;\n",
       "    }\n",
       "</style>\n",
       "<table border=\"1\" class=\"dataframe\">\n",
       "  <thead>\n",
       "    <tr style=\"text-align: right;\">\n",
       "      <th></th>\n",
       "      <th>id</th>\n",
       "      <th>country</th>\n",
       "      <th>managed_by</th>\n",
       "      <th>fulfill_via</th>\n",
       "      <th>vendor_inco_term</th>\n",
       "      <th>shipment_mode</th>\n",
       "      <th>late_delivery</th>\n",
       "      <th>late</th>\n",
       "      <th>product_group</th>\n",
       "      <th>sub_classification</th>\n",
       "      <th>vendor</th>\n",
       "      <th>item_description</th>\n",
       "      <th>molecule_test_type</th>\n",
       "      <th>brand</th>\n",
       "      <th>dosage</th>\n",
       "      <th>dosage_form</th>\n",
       "      <th>unit_of_measure_per_pack</th>\n",
       "      <th>line_item_quantity</th>\n",
       "      <th>line_item_value</th>\n",
       "      <th>pack_price</th>\n",
       "      <th>unit_price</th>\n",
       "      <th>manufacturing_site</th>\n",
       "      <th>first_line_designation</th>\n",
       "      <th>weight_kilograms</th>\n",
       "      <th>freight_cost_usd</th>\n",
       "      <th>freight_cost_groups</th>\n",
       "      <th>line_item_insurance_usd</th>\n",
       "    </tr>\n",
       "  </thead>\n",
       "  <tbody>\n",
       "    <tr>\n",
       "      <th>0</th>\n",
       "      <td>36203.0</td>\n",
       "      <td>Nigeria</td>\n",
       "      <td>PMO - US</td>\n",
       "      <td>Direct Drop</td>\n",
       "      <td>EXW</td>\n",
       "      <td>Air</td>\n",
       "      <td>1.0</td>\n",
       "      <td>Yes</td>\n",
       "      <td>HRDT</td>\n",
       "      <td>HIV test</td>\n",
       "      <td>Orgenics, Ltd</td>\n",
       "      <td>HIV 1/2, Determine Complete HIV Kit, 100 Tests</td>\n",
       "      <td>HIV 1/2, Determine Complete HIV Kit</td>\n",
       "      <td>Determine</td>\n",
       "      <td>N/A</td>\n",
       "      <td>Test kit</td>\n",
       "      <td>100.0</td>\n",
       "      <td>2996.0</td>\n",
       "      <td>266644.00</td>\n",
       "      <td>89.00</td>\n",
       "      <td>0.89</td>\n",
       "      <td>Alere Medical Co., Ltd.</td>\n",
       "      <td>Yes</td>\n",
       "      <td>1426.0</td>\n",
       "      <td>33279.83</td>\n",
       "      <td>expensive</td>\n",
       "      <td>373.83</td>\n",
       "    </tr>\n",
       "    <tr>\n",
       "      <th>1</th>\n",
       "      <td>30998.0</td>\n",
       "      <td>Botswana</td>\n",
       "      <td>PMO - US</td>\n",
       "      <td>Direct Drop</td>\n",
       "      <td>EXW</td>\n",
       "      <td>Air</td>\n",
       "      <td>0.0</td>\n",
       "      <td>No</td>\n",
       "      <td>HRDT</td>\n",
       "      <td>HIV test</td>\n",
       "      <td>Trinity Biotech, Plc</td>\n",
       "      <td>HIV 1/2, Uni-Gold HIV Kit, 20 Tests</td>\n",
       "      <td>HIV 1/2, Uni-Gold HIV Kit</td>\n",
       "      <td>Uni-Gold</td>\n",
       "      <td>N/A</td>\n",
       "      <td>Test kit</td>\n",
       "      <td>20.0</td>\n",
       "      <td>25.0</td>\n",
       "      <td>800.00</td>\n",
       "      <td>32.00</td>\n",
       "      <td>1.60</td>\n",
       "      <td>Trinity Biotech, Plc</td>\n",
       "      <td>Yes</td>\n",
       "      <td>10.0</td>\n",
       "      <td>559.89</td>\n",
       "      <td>reasonable</td>\n",
       "      <td>1.72</td>\n",
       "    </tr>\n",
       "    <tr>\n",
       "      <th>2</th>\n",
       "      <td>69871.0</td>\n",
       "      <td>Vietnam</td>\n",
       "      <td>PMO - US</td>\n",
       "      <td>Direct Drop</td>\n",
       "      <td>EXW</td>\n",
       "      <td>Air</td>\n",
       "      <td>0.0</td>\n",
       "      <td>No</td>\n",
       "      <td>ARV</td>\n",
       "      <td>Adult</td>\n",
       "      <td>HETERO LABS LIMITED</td>\n",
       "      <td>Lamivudine/Nevirapine/Stavudine 150/200/30mg, tablets, 60 Tabs</td>\n",
       "      <td>Lamivudine/Nevirapine/Stavudine</td>\n",
       "      <td>Generic</td>\n",
       "      <td>150/200/30mg</td>\n",
       "      <td>Tablet - FDC</td>\n",
       "      <td>60.0</td>\n",
       "      <td>22925.0</td>\n",
       "      <td>110040.00</td>\n",
       "      <td>4.80</td>\n",
       "      <td>0.08</td>\n",
       "      <td>Hetero Unit III Hyderabad IN</td>\n",
       "      <td>Yes</td>\n",
       "      <td>3723.0</td>\n",
       "      <td>19056.13</td>\n",
       "      <td>expensive</td>\n",
       "      <td>181.57</td>\n",
       "    </tr>\n",
       "    <tr>\n",
       "      <th>3</th>\n",
       "      <td>17648.0</td>\n",
       "      <td>South Africa</td>\n",
       "      <td>PMO - US</td>\n",
       "      <td>Direct Drop</td>\n",
       "      <td>DDP</td>\n",
       "      <td>Ocean</td>\n",
       "      <td>0.0</td>\n",
       "      <td>No</td>\n",
       "      <td>ARV</td>\n",
       "      <td>Adult</td>\n",
       "      <td>Aurobindo Pharma Limited</td>\n",
       "      <td>Lamivudine 150mg, tablets, 60 Tabs</td>\n",
       "      <td>Lamivudine</td>\n",
       "      <td>Generic</td>\n",
       "      <td>150mg</td>\n",
       "      <td>Tablet</td>\n",
       "      <td>60.0</td>\n",
       "      <td>152535.0</td>\n",
       "      <td>361507.95</td>\n",
       "      <td>2.37</td>\n",
       "      <td>0.04</td>\n",
       "      <td>Aurobindo Unit III, India</td>\n",
       "      <td>Yes</td>\n",
       "      <td>7698.0</td>\n",
       "      <td>11372.23</td>\n",
       "      <td>expensive</td>\n",
       "      <td>779.41</td>\n",
       "    </tr>\n",
       "    <tr>\n",
       "      <th>4</th>\n",
       "      <td>5647.0</td>\n",
       "      <td>Uganda</td>\n",
       "      <td>PMO - US</td>\n",
       "      <td>Direct Drop</td>\n",
       "      <td>EXW</td>\n",
       "      <td>Air</td>\n",
       "      <td>0.0</td>\n",
       "      <td>No</td>\n",
       "      <td>HRDT</td>\n",
       "      <td>HIV test - Ancillary</td>\n",
       "      <td>Orgenics, Ltd</td>\n",
       "      <td>HIV, Lancet, Safety, for HIV Test kits, 100 Pcs</td>\n",
       "      <td>HIV, Lancet, Safety, for HIV Test kits, 100 Pcs</td>\n",
       "      <td>Generic</td>\n",
       "      <td>N/A</td>\n",
       "      <td>Test kit - Ancillary</td>\n",
       "      <td>100.0</td>\n",
       "      <td>850.0</td>\n",
       "      <td>8.50</td>\n",
       "      <td>0.01</td>\n",
       "      <td>0.00</td>\n",
       "      <td>Inverness Japan</td>\n",
       "      <td>Yes</td>\n",
       "      <td>56.0</td>\n",
       "      <td>360.00</td>\n",
       "      <td>reasonable</td>\n",
       "      <td>0.01</td>\n",
       "    </tr>\n",
       "  </tbody>\n",
       "</table>\n",
       "</div>"
      ],
      "text/plain": [
       "        id       country managed_by  fulfill_via vendor_inco_term  \\\n",
       "0  36203.0       Nigeria   PMO - US  Direct Drop              EXW   \n",
       "1  30998.0      Botswana   PMO - US  Direct Drop              EXW   \n",
       "2  69871.0       Vietnam   PMO - US  Direct Drop              EXW   \n",
       "3  17648.0  South Africa   PMO - US  Direct Drop              DDP   \n",
       "4   5647.0        Uganda   PMO - US  Direct Drop              EXW   \n",
       "\n",
       "  shipment_mode  late_delivery late product_group    sub_classification  \\\n",
       "0           Air            1.0  Yes          HRDT              HIV test   \n",
       "1           Air            0.0   No          HRDT              HIV test   \n",
       "2           Air            0.0   No           ARV                 Adult   \n",
       "3         Ocean            0.0   No           ARV                 Adult   \n",
       "4           Air            0.0   No          HRDT  HIV test - Ancillary   \n",
       "\n",
       "                     vendor  \\\n",
       "0             Orgenics, Ltd   \n",
       "1      Trinity Biotech, Plc   \n",
       "2       HETERO LABS LIMITED   \n",
       "3  Aurobindo Pharma Limited   \n",
       "4             Orgenics, Ltd   \n",
       "\n",
       "                                                 item_description  \\\n",
       "0                  HIV 1/2, Determine Complete HIV Kit, 100 Tests   \n",
       "1                             HIV 1/2, Uni-Gold HIV Kit, 20 Tests   \n",
       "2  Lamivudine/Nevirapine/Stavudine 150/200/30mg, tablets, 60 Tabs   \n",
       "3                              Lamivudine 150mg, tablets, 60 Tabs   \n",
       "4                 HIV, Lancet, Safety, for HIV Test kits, 100 Pcs   \n",
       "\n",
       "                                molecule_test_type      brand        dosage  \\\n",
       "0              HIV 1/2, Determine Complete HIV Kit  Determine           N/A   \n",
       "1                        HIV 1/2, Uni-Gold HIV Kit   Uni-Gold           N/A   \n",
       "2                  Lamivudine/Nevirapine/Stavudine    Generic  150/200/30mg   \n",
       "3                                       Lamivudine    Generic         150mg   \n",
       "4  HIV, Lancet, Safety, for HIV Test kits, 100 Pcs    Generic           N/A   \n",
       "\n",
       "            dosage_form  unit_of_measure_per_pack  line_item_quantity  \\\n",
       "0              Test kit                     100.0              2996.0   \n",
       "1              Test kit                      20.0                25.0   \n",
       "2          Tablet - FDC                      60.0             22925.0   \n",
       "3                Tablet                      60.0            152535.0   \n",
       "4  Test kit - Ancillary                     100.0               850.0   \n",
       "\n",
       "   line_item_value  pack_price  unit_price            manufacturing_site  \\\n",
       "0        266644.00       89.00        0.89       Alere Medical Co., Ltd.   \n",
       "1           800.00       32.00        1.60          Trinity Biotech, Plc   \n",
       "2        110040.00        4.80        0.08  Hetero Unit III Hyderabad IN   \n",
       "3        361507.95        2.37        0.04     Aurobindo Unit III, India   \n",
       "4             8.50        0.01        0.00               Inverness Japan   \n",
       "\n",
       "  first_line_designation  weight_kilograms  freight_cost_usd  \\\n",
       "0                    Yes            1426.0          33279.83   \n",
       "1                    Yes              10.0            559.89   \n",
       "2                    Yes            3723.0          19056.13   \n",
       "3                    Yes            7698.0          11372.23   \n",
       "4                    Yes              56.0            360.00   \n",
       "\n",
       "  freight_cost_groups  line_item_insurance_usd  \n",
       "0           expensive                   373.83  \n",
       "1          reasonable                     1.72  \n",
       "2           expensive                   181.57  \n",
       "3           expensive                   779.41  \n",
       "4          reasonable                     0.01  "
      ]
     },
     "metadata": {},
     "output_type": "display_data"
    }
   ],
   "source": [
    "# Reading data\n",
    "late_shipments = pd.read_feather('data/late_shipments.feather', columns=None, use_threads=True)\n",
    "\n",
    "# Print the late_shipments dataset\n",
    "display(late_shipments.head())\n",
    "\n",
    "# Calculate the proportion of late shipments\n",
    "late_prop_samp = (late_shipments['late']=='Yes').mean()\n"
   ]
  },
  {
   "cell_type": "markdown",
   "id": "28d2c4e7-ce97-4ec0-876a-3381e0649bd1",
   "metadata": {},
   "source": [
    ">### **Bootstrap Function** for bootstrapping a mean value."
   ]
  },
  {
   "cell_type": "code",
   "execution_count": 4,
   "id": "8038ae0d-35ed-45d0-96f6-9b6f3886c825",
   "metadata": {},
   "outputs": [],
   "source": [
    "def bootstrap(x, nboot, operation):\n",
    "    \"\"\"This function will return a bootstrap sampling distribution\n",
    "    \n",
    "    Args:\n",
    "        x(list):  a list.\n",
    "        nboot(int): number of bootstrap samples\n",
    "        operation: which operation will be executed on the sample.\n",
    "    \n",
    "    Return:\n",
    "        list: late_shipments_boot_distn\n",
    "        \n",
    "    \"\"\"\n",
    "    # making a numpy array from x, so that we can use the x[index]. This process will allow us\n",
    "    # to take sample with replecement.\n",
    "    x = np.array(x)\n",
    "    \n",
    "    late_shipments_boot_distn = []\n",
    "    for i in range(nboot):\n",
    "        index = np.random.randint(0, len(x), len(x))\n",
    "        samples = x[index]\n",
    "        late_shipments_boot_distn.append(operation(samples))\n",
    "        \n",
    "    return np.array(late_shipments_boot_distn)\n",
    "\n",
    "    "
   ]
  },
  {
   "cell_type": "code",
   "execution_count": 10,
   "id": "42e217d0-0c50-4f09-8963-427ab0674958",
   "metadata": {},
   "outputs": [
    {
     "name": "stdout",
     "output_type": "stream",
     "text": [
      "0.13430087409811298\n"
     ]
    }
   ],
   "source": [
    "# Calling the bootstrap function and assign the value to *late_shipments_boot_distn\n",
    "late_shipments_boot_distn = bootstrap(late_shipments['late']=='Yes', 5000, np.mean)\n",
    "\n",
    "# Hypothesize that the proportion is 6%\n",
    "late_prop_hyp = 0.06\n",
    "\n",
    "# Calculate the standard error\n",
    "std_error = np.std(late_shipments_boot_distn, ddof=1)\n",
    "\n",
    "# Find z-score of late_prop_samp\n",
    "z_score = (late_prop_samp - late_prop_hyp) / std_error\n",
    "\n",
    "# Print z_score\n",
    "print(z_score)"
   ]
  },
  {
   "cell_type": "markdown",
   "id": "3ad19bfe-b8a1-44bb-a0a9-546cd09ccd96",
   "metadata": {},
   "source": [
    "## **Calculation P-value**"
   ]
  },
  {
   "cell_type": "code",
   "execution_count": 4,
   "id": "00109281-7f92-4a1e-a069-ee3dbd875c33",
   "metadata": {},
   "outputs": [
    {
     "name": "stdout",
     "output_type": "stream",
     "text": [
      "0.44762358697230376\n"
     ]
    }
   ],
   "source": [
    "from scipy.stats import norm\n",
    "\n",
    "# Calculate the z-score of late_prop_samp\n",
    "z_score = (late_prop_samp-late_prop_hyp)/std_error\n",
    "\n",
    "# Calculate the p-value\n",
    "p_value = 1-norm.cdf(z_score)\n",
    "                 \n",
    "# Print the p-value\n",
    "print(p_value) "
   ]
  },
  {
   "cell_type": "markdown",
   "id": "6f8aa533-c0e0-47ca-9c8b-e70b411e89a8",
   "metadata": {},
   "source": [
    "### **Types of Errors**\n",
    "#### Returning to the criminal trial analogy, there are two possible truth states and two possible test outcomes, amounting to four combinations. Two of these indicate that the verdict was correct.\n",
    "\n",
    "#### **If the defendant didn't commit the crime, but the verdict was guilty, they are wrongfully convicted. If the defendant committed the crime, but the verdict was not guilty, they got away with it.** These are both errors in justice.\n",
    "#### Similarly, for **hypothesis testing,** there are two ways to get it right, and two types of error. If we support the alternative hypothesis when the null hypothesis was correct, we made a false positive error. If we support the null hypothesis when the alternative hypothesis was correct, we made a false negative error. \n",
    ">#### These errors are sometimes known as **type one and type two errors, respectively.**\n",
    "\n",
    "### **Possible errors in our example**\n",
    "\n",
    "#### In the case of data scientists coding as children, **if we had a p-value less than or equal to the significance level, and rejected the null hypothesis, it's possible we made a false positive error.** Although we thought data scientists started coding as children at a higher rate, it may not be true in the whole population. Conversely, **if the p-value was greater than the significance level, and we failed to reject the null hypothesis, it's possible we made a false negative error.**"
   ]
  },
  {
   "cell_type": "markdown",
   "id": "3c9dc633-aa31-4654-9f41-0fdc797d95a3",
   "metadata": {},
   "source": [
    "![b](img/b.png)"
   ]
  },
  {
   "cell_type": "markdown",
   "id": "c04428ea-dc43-46f0-baec-2f9587d61053",
   "metadata": {},
   "source": [
    "## **Steps of Hypothesis Testing.**"
   ]
  },
  {
   "cell_type": "markdown",
   "id": "a5343f29-7e4a-4d28-b221-8ee20d18de98",
   "metadata": {},
   "source": [
    "![c](img/c.png)"
   ]
  },
  {
   "cell_type": "code",
   "execution_count": 6,
   "id": "0cf23e4e-cab5-46a7-9503-819328c95c66",
   "metadata": {},
   "outputs": [
    {
     "data": {
      "text/html": [
       "<div>\n",
       "<style scoped>\n",
       "    .dataframe tbody tr th:only-of-type {\n",
       "        vertical-align: middle;\n",
       "    }\n",
       "\n",
       "    .dataframe tbody tr th {\n",
       "        vertical-align: top;\n",
       "    }\n",
       "\n",
       "    .dataframe thead th {\n",
       "        text-align: right;\n",
       "    }\n",
       "</style>\n",
       "<table border=\"1\" class=\"dataframe\">\n",
       "  <thead>\n",
       "    <tr style=\"text-align: right;\">\n",
       "      <th></th>\n",
       "      <th>respondent</th>\n",
       "      <th>main_branch</th>\n",
       "      <th>hobbyist</th>\n",
       "      <th>age</th>\n",
       "      <th>age_1st_code</th>\n",
       "      <th>age_first_code_cut</th>\n",
       "      <th>comp_freq</th>\n",
       "      <th>comp_total</th>\n",
       "      <th>converted_comp</th>\n",
       "      <th>country</th>\n",
       "      <th>...</th>\n",
       "      <th>survey_length</th>\n",
       "      <th>trans</th>\n",
       "      <th>undergrad_major</th>\n",
       "      <th>webframe_desire_next_year</th>\n",
       "      <th>webframe_worked_with</th>\n",
       "      <th>welcome_change</th>\n",
       "      <th>work_week_hrs</th>\n",
       "      <th>years_code</th>\n",
       "      <th>years_code_pro</th>\n",
       "      <th>age_cat</th>\n",
       "    </tr>\n",
       "  </thead>\n",
       "  <tbody>\n",
       "    <tr>\n",
       "      <th>0</th>\n",
       "      <td>36.0</td>\n",
       "      <td>I am not primarily a developer, but I write co...</td>\n",
       "      <td>Yes</td>\n",
       "      <td>34.0</td>\n",
       "      <td>30.0</td>\n",
       "      <td>adult</td>\n",
       "      <td>Yearly</td>\n",
       "      <td>60000.0</td>\n",
       "      <td>77556.0</td>\n",
       "      <td>United Kingdom</td>\n",
       "      <td>...</td>\n",
       "      <td>Appropriate in length</td>\n",
       "      <td>No</td>\n",
       "      <td>Computer science, computer engineering, or sof...</td>\n",
       "      <td>Express;React.js</td>\n",
       "      <td>Express;React.js</td>\n",
       "      <td>Just as welcome now as I felt last year</td>\n",
       "      <td>40.0</td>\n",
       "      <td>4.0</td>\n",
       "      <td>3.0</td>\n",
       "      <td>At least 30</td>\n",
       "    </tr>\n",
       "    <tr>\n",
       "      <th>1</th>\n",
       "      <td>47.0</td>\n",
       "      <td>I am a developer by profession</td>\n",
       "      <td>Yes</td>\n",
       "      <td>53.0</td>\n",
       "      <td>10.0</td>\n",
       "      <td>child</td>\n",
       "      <td>Yearly</td>\n",
       "      <td>58000.0</td>\n",
       "      <td>74970.0</td>\n",
       "      <td>United Kingdom</td>\n",
       "      <td>...</td>\n",
       "      <td>Appropriate in length</td>\n",
       "      <td>No</td>\n",
       "      <td>A natural science (such as biology, chemistry,...</td>\n",
       "      <td>Flask;Spring</td>\n",
       "      <td>Flask;Spring</td>\n",
       "      <td>Just as welcome now as I felt last year</td>\n",
       "      <td>40.0</td>\n",
       "      <td>43.0</td>\n",
       "      <td>28.0</td>\n",
       "      <td>At least 30</td>\n",
       "    </tr>\n",
       "    <tr>\n",
       "      <th>2</th>\n",
       "      <td>69.0</td>\n",
       "      <td>I am a developer by profession</td>\n",
       "      <td>Yes</td>\n",
       "      <td>25.0</td>\n",
       "      <td>12.0</td>\n",
       "      <td>child</td>\n",
       "      <td>Yearly</td>\n",
       "      <td>550000.0</td>\n",
       "      <td>594539.0</td>\n",
       "      <td>France</td>\n",
       "      <td>...</td>\n",
       "      <td>Too short</td>\n",
       "      <td>No</td>\n",
       "      <td>Computer science, computer engineering, or sof...</td>\n",
       "      <td>Django;Flask</td>\n",
       "      <td>Django;Flask</td>\n",
       "      <td>Just as welcome now as I felt last year</td>\n",
       "      <td>40.0</td>\n",
       "      <td>13.0</td>\n",
       "      <td>3.0</td>\n",
       "      <td>Under 30</td>\n",
       "    </tr>\n",
       "    <tr>\n",
       "      <th>3</th>\n",
       "      <td>125.0</td>\n",
       "      <td>I am not primarily a developer, but I write co...</td>\n",
       "      <td>Yes</td>\n",
       "      <td>41.0</td>\n",
       "      <td>30.0</td>\n",
       "      <td>adult</td>\n",
       "      <td>Monthly</td>\n",
       "      <td>200000.0</td>\n",
       "      <td>2000000.0</td>\n",
       "      <td>United States</td>\n",
       "      <td>...</td>\n",
       "      <td>Appropriate in length</td>\n",
       "      <td>No</td>\n",
       "      <td>None</td>\n",
       "      <td>None</td>\n",
       "      <td>None</td>\n",
       "      <td>Just as welcome now as I felt last year</td>\n",
       "      <td>40.0</td>\n",
       "      <td>11.0</td>\n",
       "      <td>11.0</td>\n",
       "      <td>At least 30</td>\n",
       "    </tr>\n",
       "    <tr>\n",
       "      <th>4</th>\n",
       "      <td>147.0</td>\n",
       "      <td>I am not primarily a developer, but I write co...</td>\n",
       "      <td>No</td>\n",
       "      <td>28.0</td>\n",
       "      <td>15.0</td>\n",
       "      <td>adult</td>\n",
       "      <td>Yearly</td>\n",
       "      <td>50000.0</td>\n",
       "      <td>37816.0</td>\n",
       "      <td>Canada</td>\n",
       "      <td>...</td>\n",
       "      <td>Appropriate in length</td>\n",
       "      <td>No</td>\n",
       "      <td>Another engineering discipline (such as civil,...</td>\n",
       "      <td>None</td>\n",
       "      <td>Express;Flask</td>\n",
       "      <td>Just as welcome now as I felt last year</td>\n",
       "      <td>40.0</td>\n",
       "      <td>5.0</td>\n",
       "      <td>3.0</td>\n",
       "      <td>Under 30</td>\n",
       "    </tr>\n",
       "  </tbody>\n",
       "</table>\n",
       "<p>5 rows × 63 columns</p>\n",
       "</div>"
      ],
      "text/plain": [
       "   respondent                                        main_branch hobbyist  \\\n",
       "0        36.0  I am not primarily a developer, but I write co...      Yes   \n",
       "1        47.0                     I am a developer by profession      Yes   \n",
       "2        69.0                     I am a developer by profession      Yes   \n",
       "3       125.0  I am not primarily a developer, but I write co...      Yes   \n",
       "4       147.0  I am not primarily a developer, but I write co...       No   \n",
       "\n",
       "    age  age_1st_code age_first_code_cut comp_freq  comp_total  \\\n",
       "0  34.0          30.0              adult    Yearly     60000.0   \n",
       "1  53.0          10.0              child    Yearly     58000.0   \n",
       "2  25.0          12.0              child    Yearly    550000.0   \n",
       "3  41.0          30.0              adult   Monthly    200000.0   \n",
       "4  28.0          15.0              adult    Yearly     50000.0   \n",
       "\n",
       "   converted_comp         country  ...          survey_length trans  \\\n",
       "0         77556.0  United Kingdom  ...  Appropriate in length    No   \n",
       "1         74970.0  United Kingdom  ...  Appropriate in length    No   \n",
       "2        594539.0          France  ...              Too short    No   \n",
       "3       2000000.0   United States  ...  Appropriate in length    No   \n",
       "4         37816.0          Canada  ...  Appropriate in length    No   \n",
       "\n",
       "                                     undergrad_major  \\\n",
       "0  Computer science, computer engineering, or sof...   \n",
       "1  A natural science (such as biology, chemistry,...   \n",
       "2  Computer science, computer engineering, or sof...   \n",
       "3                                               None   \n",
       "4  Another engineering discipline (such as civil,...   \n",
       "\n",
       "  webframe_desire_next_year webframe_worked_with  \\\n",
       "0          Express;React.js     Express;React.js   \n",
       "1              Flask;Spring         Flask;Spring   \n",
       "2              Django;Flask         Django;Flask   \n",
       "3                      None                 None   \n",
       "4                      None        Express;Flask   \n",
       "\n",
       "                            welcome_change work_week_hrs years_code  \\\n",
       "0  Just as welcome now as I felt last year          40.0        4.0   \n",
       "1  Just as welcome now as I felt last year          40.0       43.0   \n",
       "2  Just as welcome now as I felt last year          40.0       13.0   \n",
       "3  Just as welcome now as I felt last year          40.0       11.0   \n",
       "4  Just as welcome now as I felt last year          40.0        5.0   \n",
       "\n",
       "  years_code_pro      age_cat  \n",
       "0            3.0  At least 30  \n",
       "1           28.0  At least 30  \n",
       "2            3.0     Under 30  \n",
       "3           11.0  At least 30  \n",
       "4            3.0     Under 30  \n",
       "\n",
       "[5 rows x 63 columns]"
      ]
     },
     "metadata": {},
     "output_type": "display_data"
    }
   ],
   "source": [
    "# Reading the data\n",
    "stack = pd.read_feather('data/stack_overflow.feather', columns=None, use_threads=True)\n",
    "display(stack.head())"
   ]
  },
  {
   "cell_type": "code",
   "execution_count": 7,
   "id": "5cd1a089-6c57-4f98-9ede-d5ac21b4a2ac",
   "metadata": {},
   "outputs": [],
   "source": [
    "# Groupby Mean\n",
    "xbar = stack.groupby('age_first_code_cut')['converted_comp'].mean()\n",
    "\n",
    "# Groupby std\n",
    "s = stack.groupby('age_first_code_cut')['converted_comp'].std()\n",
    "\n",
    "# n count\n",
    "n = stack.groupby('age_first_code_cut')['converted_comp'].count()\n"
   ]
  },
  {
   "cell_type": "code",
   "execution_count": 8,
   "id": "3073035d-36ba-42d0-a6f1-e3cc82f6519c",
   "metadata": {},
   "outputs": [
    {
     "name": "stdout",
     "output_type": "stream",
     "text": [
      "-81.99069137379603\n"
     ]
    }
   ],
   "source": [
    "# Defining xbar_yes, no, s_yes ....\n",
    "yes =late_shipments['late'] == 'Yes'\n",
    "no = late_shipments['late'] == 'No'\n",
    "xbar_yes = yes.mean()\n",
    "s_yes = yes.std()\n",
    "xbar_no = no.mean()\n",
    "s_no = no.std()\n",
    "n_yes = yes.count()\n",
    "n_no = no.count()\n",
    "\n",
    "# Calculate the numerator of the test statistic\n",
    "numerator = xbar_yes - xbar_no\n",
    "\n",
    "# Calculate the denominator of the test statistic\n",
    "denominator = np.sqrt(s_yes**2/n_yes+s_no**2/n_no)\n",
    "\n",
    "# Calculate the test statistic\n",
    "t_stat = numerator/denominator\n",
    "\n",
    "# Print the test statistic\n",
    "print(t_stat)"
   ]
  },
  {
   "cell_type": "markdown",
   "id": "ca53dacb-9c0a-4bce-8575-5cb461b2a100",
   "metadata": {},
   "source": [
    "## **From t to p-value**"
   ]
  },
  {
   "cell_type": "code",
   "execution_count": 9,
   "id": "558bd648-1373-45ff-9b98-35954c3538ae",
   "metadata": {},
   "outputs": [
    {
     "name": "stdout",
     "output_type": "stream",
     "text": [
      "0.9961179238900442\n"
     ]
    }
   ],
   "source": [
    "from scipy.stats import t\n",
    "\n",
    "x =1- t.cdf(t_stat, df=True)\n",
    "print(x)"
   ]
  },
  {
   "cell_type": "markdown",
   "id": "d5808142-54a7-41b9-816b-ab790382a005",
   "metadata": {},
   "source": [
    "## Z Test Vs T Test"
   ]
  },
  {
   "cell_type": "markdown",
   "id": "a2711102-a3f9-4da3-a191-e508a4abd647",
   "metadata": {},
   "source": [
    "|Difference In |Z test | T test |\n",
    "| ------------------------ | ------------------------- | ---------------------|\n",
    "| Population Variance | Is Known | Unknown |\n",
    "| Distribution Type | Normal Distribution | T Distribution (or kind of Normal Distribution) |\n",
    "| Degree of Freedom(Refer to the maximum number of logically independent values) | Don't Need | Needed|\n",
    "| Calculated With | Standard Error | With Estimated Standered Error "
   ]
  },
  {
   "cell_type": "raw",
   "id": "278739e9-2930-4000-8fa8-3bc6c9dae5ac",
   "metadata": {},
   "source": []
  }
 ],
 "metadata": {
  "kernelspec": {
   "display_name": "Python 3 (ipykernel)",
   "language": "python",
   "name": "python3"
  },
  "language_info": {
   "codemirror_mode": {
    "name": "ipython",
    "version": 3
   },
   "file_extension": ".py",
   "mimetype": "text/x-python",
   "name": "python",
   "nbconvert_exporter": "python",
   "pygments_lexer": "ipython3",
   "version": "3.11.4"
  }
 },
 "nbformat": 4,
 "nbformat_minor": 5
}
