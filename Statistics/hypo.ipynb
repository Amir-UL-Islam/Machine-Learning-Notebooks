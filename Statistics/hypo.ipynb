{
 "cells": [
  {
   "cell_type": "markdown",
   "id": "77dbcfea-47aa-4bd5-b0be-7c730a56da9c",
   "metadata": {},
   "source": [
    "## **Hypothesis Testing**\n"
   ]
  },
  {
   "cell_type": "markdown",
   "id": "fd640fb9-beaa-436a-9177-f8cab181094b",
   "metadata": {},
   "source": [
    "#### Hypothesis testing is a technique for **evaluating a theory using data.**\n",
    "#### The hypothesis is the Researcher’s **initial belief about the situation before the study.**\n",
    "\n",
    "#### The commonly accepted fact is known as the null hypothesis while the opposite is the alternate hypothesis. The researcher’s task is to reject, nullify, or disprove the null hypothesis. In fact, the word “null” is meant to imply that it’s a commonly accepted fact that researchers work to nullify (zero effect).\n",
    "\n",
    "#### For example, if we consider a study about cell phones and cancer risk, we might have the following hypothesis:\n",
    "\n",
    "#### **Null hypothesis: “Cell phones have no effect on cancer risk.”**\n",
    "#### **Alternative hypothesis (the one under investigation): “Cell phones affect the risk of cancer.”**"
   ]
  },
  {
   "cell_type": "markdown",
   "id": "f07a1f8a-c61c-4970-afcb-ce850624d107",
   "metadata": {},
   "source": [
    "#### The hypothesis that there is **no difference**between things is called **Null Hypothesis.**"
   ]
  },
  {
   "cell_type": "markdown",
   "id": "7d2c6883-cde1-414f-ad8b-25876d883e00",
   "metadata": {},
   "source": [
    ">#### There are **three types of tests, and the phrasing of the alternative hypothesis** determines which type we should use.\n",
    "#### If we are checking for a **difference compared to a hypothesized value**, we look for **extreme values in either tail and perform a two-tailed test**. \n",
    "#### If the **alternative hypothesis uses language like \"less\" or \"fewer\", we perform a left-tailed test**\n",
    "#### **Words like \"greater\" or \"exceeds\" correspond to a right-tailed test.** "
   ]
  },
  {
   "cell_type": "markdown",
   "id": "149e8bf8-5b70-417e-9941-4c2a3ff5c0db",
   "metadata": {},
   "source": [
    ">### **Statistical Test**\n",
    "#### The output of a Statistical Test is a **Decision to (Reject or Fail to Reject) Null Hypothesis.**\n",
    "#### A Statistical Test Need 3 thins:\n",
    "#### **1. Data**\n",
    "#### **2. Its needs a Null or Primary Hypothesis to Reject or Fail to Reject.**(Cell phones have no effect on cancer risk)\n",
    "#### **3. Its needs an Alternative Hypothesis**.(Cell phones affect the risk of cancer)"
   ]
  },
  {
   "cell_type": "markdown",
   "id": "1920844e-cd3c-4159-883f-5160d31385e6",
   "metadata": {},
   "source": [
    "## **StandardError**"
   ]
  },
  {
   "cell_type": "markdown",
   "id": "b6cb1dca-c50c-49f6-85dc-91d203b5d71b",
   "metadata": {},
   "source": [
    "#### Standard deviation of the mean is called **StandardError**."
   ]
  },
  {
   "cell_type": "markdown",
   "id": "33fcec0f-5332-413e-9b8b-6c1fe8efe0e4",
   "metadata": {},
   "source": [
    ">### **Standard Deviation** vs **Standard Error**"
   ]
  },
  {
   "cell_type": "markdown",
   "id": "b2264505-52a8-4310-bf4f-8f4e656c73fa",
   "metadata": {},
   "source": [
    "|Std|St Error|\n",
    "|------------------------|--------------------------------------|\n",
    "|The standard deviation quantifies the variation within a set of measurements.|The standard error quantifies the variation in means from multiple set of measurements|"
   ]
  },
  {
   "cell_type": "code",
   "execution_count": 2,
   "id": "5a707708-3d85-4f64-b635-4c37da82c5df",
   "metadata": {},
   "outputs": [
    {
     "data": {
      "text/html": [
       "<div>\n",
       "<style scoped>\n",
       "    .dataframe tbody tr th:only-of-type {\n",
       "        vertical-align: middle;\n",
       "    }\n",
       "\n",
       "    .dataframe tbody tr th {\n",
       "        vertical-align: top;\n",
       "    }\n",
       "\n",
       "    .dataframe thead th {\n",
       "        text-align: right;\n",
       "    }\n",
       "</style>\n",
       "<table border=\"1\" class=\"dataframe\">\n",
       "  <thead>\n",
       "    <tr style=\"text-align: right;\">\n",
       "      <th></th>\n",
       "      <th>id</th>\n",
       "      <th>country</th>\n",
       "      <th>managed_by</th>\n",
       "      <th>fulfill_via</th>\n",
       "      <th>vendor_inco_term</th>\n",
       "      <th>shipment_mode</th>\n",
       "      <th>late_delivery</th>\n",
       "      <th>late</th>\n",
       "      <th>product_group</th>\n",
       "      <th>sub_classification</th>\n",
       "      <th>...</th>\n",
       "      <th>line_item_quantity</th>\n",
       "      <th>line_item_value</th>\n",
       "      <th>pack_price</th>\n",
       "      <th>unit_price</th>\n",
       "      <th>manufacturing_site</th>\n",
       "      <th>first_line_designation</th>\n",
       "      <th>weight_kilograms</th>\n",
       "      <th>freight_cost_usd</th>\n",
       "      <th>freight_cost_groups</th>\n",
       "      <th>line_item_insurance_usd</th>\n",
       "    </tr>\n",
       "  </thead>\n",
       "  <tbody>\n",
       "    <tr>\n",
       "      <th>0</th>\n",
       "      <td>36203.0</td>\n",
       "      <td>Nigeria</td>\n",
       "      <td>PMO - US</td>\n",
       "      <td>Direct Drop</td>\n",
       "      <td>EXW</td>\n",
       "      <td>Air</td>\n",
       "      <td>1.0</td>\n",
       "      <td>Yes</td>\n",
       "      <td>HRDT</td>\n",
       "      <td>HIV test</td>\n",
       "      <td>...</td>\n",
       "      <td>2996.0</td>\n",
       "      <td>266644.00</td>\n",
       "      <td>89.00</td>\n",
       "      <td>0.89</td>\n",
       "      <td>Alere Medical Co., Ltd.</td>\n",
       "      <td>Yes</td>\n",
       "      <td>1426.0</td>\n",
       "      <td>33279.83</td>\n",
       "      <td>expensive</td>\n",
       "      <td>373.83</td>\n",
       "    </tr>\n",
       "    <tr>\n",
       "      <th>1</th>\n",
       "      <td>30998.0</td>\n",
       "      <td>Botswana</td>\n",
       "      <td>PMO - US</td>\n",
       "      <td>Direct Drop</td>\n",
       "      <td>EXW</td>\n",
       "      <td>Air</td>\n",
       "      <td>0.0</td>\n",
       "      <td>No</td>\n",
       "      <td>HRDT</td>\n",
       "      <td>HIV test</td>\n",
       "      <td>...</td>\n",
       "      <td>25.0</td>\n",
       "      <td>800.00</td>\n",
       "      <td>32.00</td>\n",
       "      <td>1.60</td>\n",
       "      <td>Trinity Biotech, Plc</td>\n",
       "      <td>Yes</td>\n",
       "      <td>10.0</td>\n",
       "      <td>559.89</td>\n",
       "      <td>reasonable</td>\n",
       "      <td>1.72</td>\n",
       "    </tr>\n",
       "    <tr>\n",
       "      <th>2</th>\n",
       "      <td>69871.0</td>\n",
       "      <td>Vietnam</td>\n",
       "      <td>PMO - US</td>\n",
       "      <td>Direct Drop</td>\n",
       "      <td>EXW</td>\n",
       "      <td>Air</td>\n",
       "      <td>0.0</td>\n",
       "      <td>No</td>\n",
       "      <td>ARV</td>\n",
       "      <td>Adult</td>\n",
       "      <td>...</td>\n",
       "      <td>22925.0</td>\n",
       "      <td>110040.00</td>\n",
       "      <td>4.80</td>\n",
       "      <td>0.08</td>\n",
       "      <td>Hetero Unit III Hyderabad IN</td>\n",
       "      <td>Yes</td>\n",
       "      <td>3723.0</td>\n",
       "      <td>19056.13</td>\n",
       "      <td>expensive</td>\n",
       "      <td>181.57</td>\n",
       "    </tr>\n",
       "    <tr>\n",
       "      <th>3</th>\n",
       "      <td>17648.0</td>\n",
       "      <td>South Africa</td>\n",
       "      <td>PMO - US</td>\n",
       "      <td>Direct Drop</td>\n",
       "      <td>DDP</td>\n",
       "      <td>Ocean</td>\n",
       "      <td>0.0</td>\n",
       "      <td>No</td>\n",
       "      <td>ARV</td>\n",
       "      <td>Adult</td>\n",
       "      <td>...</td>\n",
       "      <td>152535.0</td>\n",
       "      <td>361507.95</td>\n",
       "      <td>2.37</td>\n",
       "      <td>0.04</td>\n",
       "      <td>Aurobindo Unit III, India</td>\n",
       "      <td>Yes</td>\n",
       "      <td>7698.0</td>\n",
       "      <td>11372.23</td>\n",
       "      <td>expensive</td>\n",
       "      <td>779.41</td>\n",
       "    </tr>\n",
       "    <tr>\n",
       "      <th>4</th>\n",
       "      <td>5647.0</td>\n",
       "      <td>Uganda</td>\n",
       "      <td>PMO - US</td>\n",
       "      <td>Direct Drop</td>\n",
       "      <td>EXW</td>\n",
       "      <td>Air</td>\n",
       "      <td>0.0</td>\n",
       "      <td>No</td>\n",
       "      <td>HRDT</td>\n",
       "      <td>HIV test - Ancillary</td>\n",
       "      <td>...</td>\n",
       "      <td>850.0</td>\n",
       "      <td>8.50</td>\n",
       "      <td>0.01</td>\n",
       "      <td>0.00</td>\n",
       "      <td>Inverness Japan</td>\n",
       "      <td>Yes</td>\n",
       "      <td>56.0</td>\n",
       "      <td>360.00</td>\n",
       "      <td>reasonable</td>\n",
       "      <td>0.01</td>\n",
       "    </tr>\n",
       "  </tbody>\n",
       "</table>\n",
       "<p>5 rows × 27 columns</p>\n",
       "</div>"
      ],
      "text/plain": [
       "        id       country managed_by  fulfill_via vendor_inco_term  \\\n",
       "0  36203.0       Nigeria   PMO - US  Direct Drop              EXW   \n",
       "1  30998.0      Botswana   PMO - US  Direct Drop              EXW   \n",
       "2  69871.0       Vietnam   PMO - US  Direct Drop              EXW   \n",
       "3  17648.0  South Africa   PMO - US  Direct Drop              DDP   \n",
       "4   5647.0        Uganda   PMO - US  Direct Drop              EXW   \n",
       "\n",
       "  shipment_mode  late_delivery late product_group    sub_classification  ...  \\\n",
       "0           Air            1.0  Yes          HRDT              HIV test  ...   \n",
       "1           Air            0.0   No          HRDT              HIV test  ...   \n",
       "2           Air            0.0   No           ARV                 Adult  ...   \n",
       "3         Ocean            0.0   No           ARV                 Adult  ...   \n",
       "4           Air            0.0   No          HRDT  HIV test - Ancillary  ...   \n",
       "\n",
       "  line_item_quantity line_item_value pack_price unit_price  \\\n",
       "0             2996.0       266644.00      89.00       0.89   \n",
       "1               25.0          800.00      32.00       1.60   \n",
       "2            22925.0       110040.00       4.80       0.08   \n",
       "3           152535.0       361507.95       2.37       0.04   \n",
       "4              850.0            8.50       0.01       0.00   \n",
       "\n",
       "             manufacturing_site first_line_designation  weight_kilograms  \\\n",
       "0       Alere Medical Co., Ltd.                    Yes            1426.0   \n",
       "1          Trinity Biotech, Plc                    Yes              10.0   \n",
       "2  Hetero Unit III Hyderabad IN                    Yes            3723.0   \n",
       "3     Aurobindo Unit III, India                    Yes            7698.0   \n",
       "4               Inverness Japan                    Yes              56.0   \n",
       "\n",
       "   freight_cost_usd  freight_cost_groups  line_item_insurance_usd  \n",
       "0          33279.83            expensive                   373.83  \n",
       "1            559.89           reasonable                     1.72  \n",
       "2          19056.13            expensive                   181.57  \n",
       "3          11372.23            expensive                   779.41  \n",
       "4            360.00           reasonable                     0.01  \n",
       "\n",
       "[5 rows x 27 columns]"
      ]
     },
     "metadata": {},
     "output_type": "display_data"
    }
   ],
   "source": [
    "import numpy as np\n",
    "import pandas as pd\n",
    "\n",
    "# Reading data\n",
    "late_shipments = pd.read_feather('data/late_shipments.feather', columns=None, use_threads=True)\n",
    "\n",
    "# Print the late_shipments dataset\n",
    "display(late_shipments.head())\n",
    "\n",
    "# Calculate the proportion of late shipments\n",
    "late_prop_samp = (late_shipments['late']=='Yes').mean()\n",
    "\n",
    "# Print the results\n",
    "# print(late_prop_samp)\n",
    "# print(late_shipments)\n",
    "\n"
   ]
  },
  {
   "cell_type": "markdown",
   "id": "04f88637-e909-42bf-8bc4-0173db49f50d",
   "metadata": {},
   "source": [
    ">### What is **Z-Score**?"
   ]
  },
  {
   "cell_type": "markdown",
   "id": "902a5d39-88d0-400e-95c0-570cbf6ce278",
   "metadata": {
    "tags": []
   },
   "source": [
    "#### A **Z-score** is a numerical measurement that **describes a value's relationship to the mean** of a group of values. **Z-score is measured in terms of standard deviations from the mean.**\n",
    "#### **If a Z-score is 0, it indicates that the data point's score is identical to the mean score.**"
   ]
  },
  {
   "cell_type": "markdown",
   "id": "28d2c4e7-ce97-4ec0-876a-3381e0649bd1",
   "metadata": {},
   "source": [
    ">### **Bootstrap Function** for bootstrapping a mean value."
   ]
  },
  {
   "cell_type": "code",
   "execution_count": 5,
   "id": "8038ae0d-35ed-45d0-96f6-9b6f3886c825",
   "metadata": {},
   "outputs": [],
   "source": [
    "def bootstrap(x, nboot, operation):\n",
    "    \"\"\"This function will return a bootstrap sampling distribution\n",
    "    \n",
    "    Args:\n",
    "        x(list):  a list.\n",
    "        nboot(int): number of bootstrap samples\n",
    "        operation: which operation will be executed on the sample.\n",
    "    \n",
    "    Return:\n",
    "        list: late_shipments_boot_distn\n",
    "        \n",
    "    \"\"\"\n",
    "    # making a numpy array from x, so that we can use the x[index]. This process will allow us\n",
    "    # to take sample with replecement.\n",
    "    x = np.array(x)\n",
    "    \n",
    "    late_shipments_boot_distn = []\n",
    "    for i in range(nboot):\n",
    "        index = np.random.randint(0, len(x), len(x))\n",
    "        samples = x[index]\n",
    "        late_shipments_boot_distn.append(operation(samples))\n",
    "        \n",
    "    return np.array(late_shipments_boot_distn)\n",
    "\n",
    "    "
   ]
  },
  {
   "cell_type": "code",
   "execution_count": 6,
   "id": "42e217d0-0c50-4f09-8963-427ab0674958",
   "metadata": {},
   "outputs": [
    {
     "name": "stdout",
     "output_type": "stream",
     "text": [
      "0.12953717414434007\n"
     ]
    }
   ],
   "source": [
    "# Calling the bootstrap function and assign the value to *late_shipments_boot_distn\n",
    "late_shipments_boot_distn = bootstrap(late_shipments['late']=='Yes', 5000, np.mean)\n",
    "\n",
    "# Hypothesize that the proportion is 6%\n",
    "late_prop_hyp = 0.06\n",
    "\n",
    "# Calculate the standard error\n",
    "std_error = np.std(late_shipments_boot_distn, ddof=1)\n",
    "\n",
    "# Find z-score of late_prop_samp\n",
    "z_score = (late_prop_samp - late_prop_hyp) / std_error\n",
    "\n",
    "# Print z_score\n",
    "print(z_score)"
   ]
  },
  {
   "cell_type": "markdown",
   "id": "c311b43c-261c-48d4-a0a2-c1571cad51ac",
   "metadata": {},
   "source": [
    "## **P-value**\n",
    "#### The p-value **quantifies the rareness** in our results."
   ]
  },
  {
   "cell_type": "markdown",
   "id": "9c251d27-7779-4452-bb3e-81e1fb901a83",
   "metadata": {},
   "source": [
    ">#### **The probability of obtain a result. Assuming the null Hypothesis is True.**\n",
    ">#### **P-value** Quantify the evidence for the null hypothesis."
   ]
  },
  {
   "cell_type": "markdown",
   "id": "515efd38-72e5-4c12-bca0-7e069206d171",
   "metadata": {},
   "source": [
    "#### **Large p-values** mean our statistic is producing a **result that is likely not in a tail of our null distribution,** and chance could be a good explanation for the result. **Small p-values** mean our statistic is producing a **result likely in the tail of our null distribution.** \n",
    "### **Because p-values are probabilities, they are always between zero and one.**"
   ]
  },
  {
   "cell_type": "markdown",
   "id": "fd616fc0-b71f-4443-8ffd-f6cef874a3fe",
   "metadata": {},
   "source": [
    "#### **Large p-values** --> Failed to Reject Null Hypothesis.\n",
    "#### **Small p-values** --> Reject Null Hypothesis. "
   ]
  },
  {
   "cell_type": "markdown",
   "id": "3ad19bfe-b8a1-44bb-a0a9-546cd09ccd96",
   "metadata": {},
   "source": [
    "## **Calculation P-value**"
   ]
  },
  {
   "cell_type": "code",
   "execution_count": 4,
   "id": "00109281-7f92-4a1e-a069-ee3dbd875c33",
   "metadata": {},
   "outputs": [
    {
     "name": "stdout",
     "output_type": "stream",
     "text": [
      "0.44762358697230376\n"
     ]
    }
   ],
   "source": [
    "from scipy.stats import norm\n",
    "\n",
    "# Calculate the z-score of late_prop_samp\n",
    "z_score = (late_prop_samp-late_prop_hyp)/std_error\n",
    "\n",
    "# Calculate the p-value\n",
    "p_value = 1-norm.cdf(z_score)\n",
    "                 \n",
    "# Print the p-value\n",
    "print(p_value) "
   ]
  },
  {
   "cell_type": "markdown",
   "id": "929cd6b8-ad29-48bc-b489-a2212a3fc12b",
   "metadata": {},
   "source": [
    "### **Significance level**\n",
    "#### The **cutoff point is known as the significance level**, and is **denoted alpha.** The appropriate significance level depends on the dataset and the discipline worked in.\n",
    "#### **Five percent is the most common choice,** but **ten percent** and **one percent** are also popular. \n",
    "#### The significance level gives us a decision process for which hypothesis to support. \n",
    ">#### If the **p-value** is less than or equal to alpha, we **reject the null hypothesis.** Otherwise, we fail to reject it."
   ]
  },
  {
   "cell_type": "markdown",
   "id": "6f8aa533-c0e0-47ca-9c8b-e70b411e89a8",
   "metadata": {},
   "source": [
    "### **Types of Errors**\n",
    "#### Returning to the criminal trial analogy, there are two possible truth states and two possible test outcomes, amounting to four combinations. Two of these indicate that the verdict was correct.\n",
    "\n",
    "#### **If the defendant didn't commit the crime, but the verdict was guilty, they are wrongfully convicted. If the defendant committed the crime, but the verdict was not guilty, they got away with it.** These are both errors in justice.\n",
    "#### Similarly, for **hypothesis testing,** there are two ways to get it right, and two types of error. If we support the alternative hypothesis when the null hypothesis was correct, we made a false positive error. If we support the null hypothesis when the alternative hypothesis was correct, we made a false negative error. \n",
    ">#### These errors are sometimes known as **type one and type two errors, respectively.**\n",
    "\n",
    "### **Possible errors in our example**\n",
    "\n",
    "#### In the case of data scientists coding as children, **if we had a p-value less than or equal to the significance level, and rejected the null hypothesis, it's possible we made a false positive error.** Although we thought data scientists started coding as children at a higher rate, it may not be true in the whole population. Conversely, **if the p-value was greater than the significance level, and we failed to reject the null hypothesis, it's possible we made a false negative error.**"
   ]
  },
  {
   "cell_type": "markdown",
   "id": "bf66e478-aa57-4c87-99c4-0e1bf983f17b",
   "metadata": {},
   "source": [
    "### **Calculating a confidence interval.**"
   ]
  },
  {
   "cell_type": "code",
   "execution_count": 5,
   "id": "6194c621-6fc8-4dcb-baf2-2f2afb766afb",
   "metadata": {},
   "outputs": [
    {
     "name": "stdout",
     "output_type": "stream",
     "text": [
      "(0.049, 0.074)\n"
     ]
    }
   ],
   "source": [
    "# Calculate 95% confidence interval using quantile method\n",
    "lower = np.quantile(late_shipments_boot_distn, 0.05)\n",
    "upper = np.quantile(late_shipments_boot_distn, 0.95)\n",
    "\n",
    "# Print the confidence interval\n",
    "print((lower, upper))"
   ]
  },
  {
   "cell_type": "markdown",
   "id": "3c9dc633-aa31-4654-9f41-0fdc797d95a3",
   "metadata": {},
   "source": [
    "![b](img/b.png)"
   ]
  },
  {
   "cell_type": "markdown",
   "id": "c04428ea-dc43-46f0-baec-2f9587d61053",
   "metadata": {},
   "source": [
    "## **Steps of Hypothesis Testing.**"
   ]
  },
  {
   "cell_type": "markdown",
   "id": "a5343f29-7e4a-4d28-b221-8ee20d18de98",
   "metadata": {},
   "source": [
    "![c](img/c.png)"
   ]
  },
  {
   "cell_type": "code",
   "execution_count": 6,
   "id": "0cf23e4e-cab5-46a7-9503-819328c95c66",
   "metadata": {},
   "outputs": [
    {
     "data": {
      "text/html": [
       "<div>\n",
       "<style scoped>\n",
       "    .dataframe tbody tr th:only-of-type {\n",
       "        vertical-align: middle;\n",
       "    }\n",
       "\n",
       "    .dataframe tbody tr th {\n",
       "        vertical-align: top;\n",
       "    }\n",
       "\n",
       "    .dataframe thead th {\n",
       "        text-align: right;\n",
       "    }\n",
       "</style>\n",
       "<table border=\"1\" class=\"dataframe\">\n",
       "  <thead>\n",
       "    <tr style=\"text-align: right;\">\n",
       "      <th></th>\n",
       "      <th>respondent</th>\n",
       "      <th>main_branch</th>\n",
       "      <th>hobbyist</th>\n",
       "      <th>age</th>\n",
       "      <th>age_1st_code</th>\n",
       "      <th>age_first_code_cut</th>\n",
       "      <th>comp_freq</th>\n",
       "      <th>comp_total</th>\n",
       "      <th>converted_comp</th>\n",
       "      <th>country</th>\n",
       "      <th>...</th>\n",
       "      <th>survey_length</th>\n",
       "      <th>trans</th>\n",
       "      <th>undergrad_major</th>\n",
       "      <th>webframe_desire_next_year</th>\n",
       "      <th>webframe_worked_with</th>\n",
       "      <th>welcome_change</th>\n",
       "      <th>work_week_hrs</th>\n",
       "      <th>years_code</th>\n",
       "      <th>years_code_pro</th>\n",
       "      <th>age_cat</th>\n",
       "    </tr>\n",
       "  </thead>\n",
       "  <tbody>\n",
       "    <tr>\n",
       "      <th>0</th>\n",
       "      <td>36.0</td>\n",
       "      <td>I am not primarily a developer, but I write co...</td>\n",
       "      <td>Yes</td>\n",
       "      <td>34.0</td>\n",
       "      <td>30.0</td>\n",
       "      <td>adult</td>\n",
       "      <td>Yearly</td>\n",
       "      <td>60000.0</td>\n",
       "      <td>77556.0</td>\n",
       "      <td>United Kingdom</td>\n",
       "      <td>...</td>\n",
       "      <td>Appropriate in length</td>\n",
       "      <td>No</td>\n",
       "      <td>Computer science, computer engineering, or sof...</td>\n",
       "      <td>Express;React.js</td>\n",
       "      <td>Express;React.js</td>\n",
       "      <td>Just as welcome now as I felt last year</td>\n",
       "      <td>40.0</td>\n",
       "      <td>4.0</td>\n",
       "      <td>3.0</td>\n",
       "      <td>At least 30</td>\n",
       "    </tr>\n",
       "    <tr>\n",
       "      <th>1</th>\n",
       "      <td>47.0</td>\n",
       "      <td>I am a developer by profession</td>\n",
       "      <td>Yes</td>\n",
       "      <td>53.0</td>\n",
       "      <td>10.0</td>\n",
       "      <td>child</td>\n",
       "      <td>Yearly</td>\n",
       "      <td>58000.0</td>\n",
       "      <td>74970.0</td>\n",
       "      <td>United Kingdom</td>\n",
       "      <td>...</td>\n",
       "      <td>Appropriate in length</td>\n",
       "      <td>No</td>\n",
       "      <td>A natural science (such as biology, chemistry,...</td>\n",
       "      <td>Flask;Spring</td>\n",
       "      <td>Flask;Spring</td>\n",
       "      <td>Just as welcome now as I felt last year</td>\n",
       "      <td>40.0</td>\n",
       "      <td>43.0</td>\n",
       "      <td>28.0</td>\n",
       "      <td>At least 30</td>\n",
       "    </tr>\n",
       "    <tr>\n",
       "      <th>2</th>\n",
       "      <td>69.0</td>\n",
       "      <td>I am a developer by profession</td>\n",
       "      <td>Yes</td>\n",
       "      <td>25.0</td>\n",
       "      <td>12.0</td>\n",
       "      <td>child</td>\n",
       "      <td>Yearly</td>\n",
       "      <td>550000.0</td>\n",
       "      <td>594539.0</td>\n",
       "      <td>France</td>\n",
       "      <td>...</td>\n",
       "      <td>Too short</td>\n",
       "      <td>No</td>\n",
       "      <td>Computer science, computer engineering, or sof...</td>\n",
       "      <td>Django;Flask</td>\n",
       "      <td>Django;Flask</td>\n",
       "      <td>Just as welcome now as I felt last year</td>\n",
       "      <td>40.0</td>\n",
       "      <td>13.0</td>\n",
       "      <td>3.0</td>\n",
       "      <td>Under 30</td>\n",
       "    </tr>\n",
       "    <tr>\n",
       "      <th>3</th>\n",
       "      <td>125.0</td>\n",
       "      <td>I am not primarily a developer, but I write co...</td>\n",
       "      <td>Yes</td>\n",
       "      <td>41.0</td>\n",
       "      <td>30.0</td>\n",
       "      <td>adult</td>\n",
       "      <td>Monthly</td>\n",
       "      <td>200000.0</td>\n",
       "      <td>2000000.0</td>\n",
       "      <td>United States</td>\n",
       "      <td>...</td>\n",
       "      <td>Appropriate in length</td>\n",
       "      <td>No</td>\n",
       "      <td>None</td>\n",
       "      <td>None</td>\n",
       "      <td>None</td>\n",
       "      <td>Just as welcome now as I felt last year</td>\n",
       "      <td>40.0</td>\n",
       "      <td>11.0</td>\n",
       "      <td>11.0</td>\n",
       "      <td>At least 30</td>\n",
       "    </tr>\n",
       "    <tr>\n",
       "      <th>4</th>\n",
       "      <td>147.0</td>\n",
       "      <td>I am not primarily a developer, but I write co...</td>\n",
       "      <td>No</td>\n",
       "      <td>28.0</td>\n",
       "      <td>15.0</td>\n",
       "      <td>adult</td>\n",
       "      <td>Yearly</td>\n",
       "      <td>50000.0</td>\n",
       "      <td>37816.0</td>\n",
       "      <td>Canada</td>\n",
       "      <td>...</td>\n",
       "      <td>Appropriate in length</td>\n",
       "      <td>No</td>\n",
       "      <td>Another engineering discipline (such as civil,...</td>\n",
       "      <td>None</td>\n",
       "      <td>Express;Flask</td>\n",
       "      <td>Just as welcome now as I felt last year</td>\n",
       "      <td>40.0</td>\n",
       "      <td>5.0</td>\n",
       "      <td>3.0</td>\n",
       "      <td>Under 30</td>\n",
       "    </tr>\n",
       "  </tbody>\n",
       "</table>\n",
       "<p>5 rows × 63 columns</p>\n",
       "</div>"
      ],
      "text/plain": [
       "   respondent                                        main_branch hobbyist  \\\n",
       "0        36.0  I am not primarily a developer, but I write co...      Yes   \n",
       "1        47.0                     I am a developer by profession      Yes   \n",
       "2        69.0                     I am a developer by profession      Yes   \n",
       "3       125.0  I am not primarily a developer, but I write co...      Yes   \n",
       "4       147.0  I am not primarily a developer, but I write co...       No   \n",
       "\n",
       "    age  age_1st_code age_first_code_cut comp_freq  comp_total  \\\n",
       "0  34.0          30.0              adult    Yearly     60000.0   \n",
       "1  53.0          10.0              child    Yearly     58000.0   \n",
       "2  25.0          12.0              child    Yearly    550000.0   \n",
       "3  41.0          30.0              adult   Monthly    200000.0   \n",
       "4  28.0          15.0              adult    Yearly     50000.0   \n",
       "\n",
       "   converted_comp         country  ...          survey_length trans  \\\n",
       "0         77556.0  United Kingdom  ...  Appropriate in length    No   \n",
       "1         74970.0  United Kingdom  ...  Appropriate in length    No   \n",
       "2        594539.0          France  ...              Too short    No   \n",
       "3       2000000.0   United States  ...  Appropriate in length    No   \n",
       "4         37816.0          Canada  ...  Appropriate in length    No   \n",
       "\n",
       "                                     undergrad_major  \\\n",
       "0  Computer science, computer engineering, or sof...   \n",
       "1  A natural science (such as biology, chemistry,...   \n",
       "2  Computer science, computer engineering, or sof...   \n",
       "3                                               None   \n",
       "4  Another engineering discipline (such as civil,...   \n",
       "\n",
       "  webframe_desire_next_year webframe_worked_with  \\\n",
       "0          Express;React.js     Express;React.js   \n",
       "1              Flask;Spring         Flask;Spring   \n",
       "2              Django;Flask         Django;Flask   \n",
       "3                      None                 None   \n",
       "4                      None        Express;Flask   \n",
       "\n",
       "                            welcome_change work_week_hrs years_code  \\\n",
       "0  Just as welcome now as I felt last year          40.0        4.0   \n",
       "1  Just as welcome now as I felt last year          40.0       43.0   \n",
       "2  Just as welcome now as I felt last year          40.0       13.0   \n",
       "3  Just as welcome now as I felt last year          40.0       11.0   \n",
       "4  Just as welcome now as I felt last year          40.0        5.0   \n",
       "\n",
       "  years_code_pro      age_cat  \n",
       "0            3.0  At least 30  \n",
       "1           28.0  At least 30  \n",
       "2            3.0     Under 30  \n",
       "3           11.0  At least 30  \n",
       "4            3.0     Under 30  \n",
       "\n",
       "[5 rows x 63 columns]"
      ]
     },
     "metadata": {},
     "output_type": "display_data"
    }
   ],
   "source": [
    "# Reading the data\n",
    "stack = pd.read_feather('data/stack_overflow.feather', columns=None, use_threads=True)\n",
    "display(stack.head())"
   ]
  },
  {
   "cell_type": "code",
   "execution_count": 7,
   "id": "5cd1a089-6c57-4f98-9ede-d5ac21b4a2ac",
   "metadata": {},
   "outputs": [],
   "source": [
    "# Groupby Mean\n",
    "xbar = stack.groupby('age_first_code_cut')['converted_comp'].mean()\n",
    "\n",
    "# Groupby std\n",
    "s = stack.groupby('age_first_code_cut')['converted_comp'].std()\n",
    "\n",
    "# n count\n",
    "n = stack.groupby('age_first_code_cut')['converted_comp'].count()\n"
   ]
  },
  {
   "cell_type": "code",
   "execution_count": 8,
   "id": "3073035d-36ba-42d0-a6f1-e3cc82f6519c",
   "metadata": {},
   "outputs": [
    {
     "name": "stdout",
     "output_type": "stream",
     "text": [
      "-81.99069137379603\n"
     ]
    }
   ],
   "source": [
    "# Defining xbar_yes, no, s_yes ....\n",
    "yes =late_shipments['late'] == 'Yes'\n",
    "no = late_shipments['late'] == 'No'\n",
    "xbar_yes = yes.mean()\n",
    "s_yes = yes.std()\n",
    "xbar_no = no.mean()\n",
    "s_no = no.std()\n",
    "n_yes = yes.count()\n",
    "n_no = no.count()\n",
    "\n",
    "# Calculate the numerator of the test statistic\n",
    "numerator = xbar_yes - xbar_no\n",
    "\n",
    "# Calculate the denominator of the test statistic\n",
    "denominator = np.sqrt(s_yes**2/n_yes+s_no**2/n_no)\n",
    "\n",
    "# Calculate the test statistic\n",
    "t_stat = numerator/denominator\n",
    "\n",
    "# Print the test statistic\n",
    "print(t_stat)"
   ]
  },
  {
   "cell_type": "markdown",
   "id": "2fe78e38-d588-463f-ba8b-4cf343453036",
   "metadata": {},
   "source": [
    "## **T-Test**"
   ]
  },
  {
   "cell_type": "markdown",
   "id": "5fe84c02-c2e1-467a-a797-e59dff3e5b89",
   "metadata": {},
   "source": [
    ">#### A t-test is an inferential statistic used to determine if there is a **significant difference between the means of two groups and how they are related.**"
   ]
  },
  {
   "cell_type": "markdown",
   "id": "16275bbc-2608-457a-9fa4-6f194ef92201",
   "metadata": {},
   "source": [
    "#### **We used an approximation for the test statistic standard error using sample information. Using this approximation adds more uncertainty and that's why this is a t instead of a z problem. The t distribution allows for more uncertainty when using multiple estimates in a single statistic calculation.** "
   ]
  },
  {
   "cell_type": "markdown",
   "id": "ef9a347b-90f2-4ccd-9dc2-2a286ce02a09",
   "metadata": {},
   "source": [
    "### **Why is t needed?**"
   ]
  },
  {
   "cell_type": "markdown",
   "id": "7346e0db-68c4-41d4-9a55-668ada8c5eaa",
   "metadata": {},
   "source": [
    ">#### When a sample standard deviation is used in estimating a standard error."
   ]
  },
  {
   "cell_type": "markdown",
   "id": "26cd1ad6-cc46-4634-8483-b4ad7c2d451e",
   "metadata": {},
   "source": [
    "#### Normal distribution, is a probability distribution that is **symmetric about the mean,** showing that **data near the mean are more frequent in occurrence than data far from the mean.**"
   ]
  },
  {
   "cell_type": "markdown",
   "id": "ca53dacb-9c0a-4bce-8575-5cb461b2a100",
   "metadata": {},
   "source": [
    "## **From t to p-value**"
   ]
  },
  {
   "cell_type": "code",
   "execution_count": 9,
   "id": "558bd648-1373-45ff-9b98-35954c3538ae",
   "metadata": {},
   "outputs": [
    {
     "name": "stdout",
     "output_type": "stream",
     "text": [
      "0.9961179238900442\n"
     ]
    }
   ],
   "source": [
    "from scipy.stats import t\n",
    "\n",
    "x =1- t.cdf(t_stat, df=True)\n",
    "print(x)"
   ]
  },
  {
   "cell_type": "code",
   "execution_count": null,
   "id": "17093eb4-0648-4fd3-b53c-e49c1604c251",
   "metadata": {},
   "outputs": [],
   "source": []
  },
  {
   "cell_type": "code",
   "execution_count": null,
   "id": "c6390580-6f8e-40d5-9b62-eb4fe35f3204",
   "metadata": {},
   "outputs": [],
   "source": []
  },
  {
   "cell_type": "raw",
   "id": "278739e9-2930-4000-8fa8-3bc6c9dae5ac",
   "metadata": {},
   "source": []
  }
 ],
 "metadata": {
  "kernelspec": {
   "display_name": "Python 3 (ipykernel)",
   "language": "python",
   "name": "python3"
  },
  "language_info": {
   "codemirror_mode": {
    "name": "ipython",
    "version": 3
   },
   "file_extension": ".py",
   "mimetype": "text/x-python",
   "name": "python",
   "nbconvert_exporter": "python",
   "pygments_lexer": "ipython3",
   "version": "3.10.7"
  }
 },
 "nbformat": 4,
 "nbformat_minor": 5
}
