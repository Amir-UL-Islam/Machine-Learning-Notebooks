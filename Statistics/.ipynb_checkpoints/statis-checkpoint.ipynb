{
 "cells": [
  {
   "cell_type": "markdown",
   "id": "db8e4122-e5d8-42b0-b4c9-d81e51e964cd",
   "metadata": {},
   "source": [
    "### **Chapter 1**"
   ]
  },
  {
   "cell_type": "markdown",
   "id": "c7b6d9b8-ce49-4a99-b85f-ba1e5a0c3f2c",
   "metadata": {},
   "source": [
    "#### ***The distribution of income in almost every country is long-tailed; that is, there are a small number of people with very high incomes.**"
   ]
  },
  {
   "cell_type": "markdown",
   "id": "4c53ba53-acb6-4f48-890f-5b5a543ed56e",
   "metadata": {},
   "source": [
    "### **Statistical significance is a measure of whether our findings are meaningful or just a result of random chance.**\n",
    ">### There are 2 Type of Statistics\n",
    "#### 1. **Descriptive**(Describe and Summarize the data.)\n",
    "#### 2. **Inferential**(Use a sample data and make *inference* about large Population)"
   ]
  },
  {
   "cell_type": "markdown",
   "id": "9f427c27-8c54-46cd-b0a8-657202b2330d",
   "metadata": {},
   "source": [
    "### **There are two main types of data.**\n",
    "1. Numeric, or quantitative data is made up of numeric values.\n",
    "2. Categorical, or qualitative data is made up of values that belong to distinct groups.\n",
    "\n",
    "#### Numeric data can be further separated into **continuous and discrete data.** \n",
    "#### **Discrete data:** A random variable X has discrete data if the data it contains is finite, countable, and has specific values. For example, the outcome of a number of students in a class can only be a specific number like 50 or 60 and cannot be 50.5 or 57.7. \n",
    "#### Discrete numeric data is usually count data, like number of pets or number of packages shipped.\n",
    "\n",
    "#### And\n",
    "\n",
    "#### **Continuous data:** A random variable X has continuous data if all the data points it contains are in specific ranges. The range can either be finite or infinite. For example, if we have the data for heights of different buildings, we cannot find the probability that the height of a building is exactly 700 cm, but we can find the probability that the height of a building is between 650 - 750 cm. The height can be 700.075 or 699.874, but not exactly 700.\n",
    "#### Continuous numeric data is often quantities that can be measured, **like speed or time.** \n",
    "\n",
    "\n",
    "#### Categorical data can be **nominal or ordinal.** Sometimes, categorical variables are represented using numbers. Married and unmarried can be represented using 1 and 0, or an agreement scale could be represented with numbers 1 through 5. \n",
    ">#### Nominal categorical data is made up of categories with no inherent ordering, **like marriage status or country of residence.**\n",
    ">#### Ordinal categorical data has an inherent order, like **a survey question where you need to indicate the degree to which you agree with a statement.**\n"
   ]
  },
  {
   "cell_type": "markdown",
   "id": "63dab998-cbf3-444b-ae94-611d20725e2f",
   "metadata": {},
   "source": [
    "## **Mean, Median & Mode**"
   ]
  },
  {
   "cell_type": "code",
   "execution_count": 1,
   "id": "48cd741f-5504-42ff-814b-72390ddbe01c",
   "metadata": {},
   "outputs": [
    {
     "name": "stdout",
     "output_type": "stream",
     "text": [
      "              mean  median\n",
      "country                   \n",
      "Belgium  42.132727   12.59\n",
      "USA      44.650000   14.58\n"
     ]
    }
   ],
   "source": [
    "# Import numpy as np\n",
    "import numpy as np\n",
    "import pandas as pd\n",
    "\n",
    "food_consumption = pd.read_csv('data/food_consumption.csv')\n",
    "# Subset for Belgium and USA only\n",
    "be_and_usa = food_consumption[(food_consumption['country']=='Belgium') | (food_consumption['country']=='USA')]\n",
    "\n",
    "# Group by country, select consumption column, and compute mean and median\n",
    "print(be_and_usa.groupby(['country'])['consumption'].agg(['mean', 'median']))"
   ]
  },
  {
   "cell_type": "markdown",
   "id": "4c8c0cf4-0792-4420-96a5-136974f64698",
   "metadata": {},
   "source": [
    "## **Quantile**"
   ]
  },
  {
   "cell_type": "markdown",
   "id": "f2c4eb6d-ba8f-4485-bc7a-f08943a25195",
   "metadata": {},
   "source": [
    "#### Quantile is a statistical measure that divides the data into equal parts. The main type of quantile is called quartile, which divides data into four or less equal parts.\n"
   ]
  },
  {
   "cell_type": "markdown",
   "id": "15ccd925-b725-4e3a-8e02-6b5b8fe3560d",
   "metadata": {},
   "source": [
    "#### Three lines are dropped on data for this division. Each of these lines falls on specific values in the dataset which are explained below.\n",
    "\n",
    ">#### The value that the first line hit is called the 1st quartile and is denoted with Q1. This point of data indicates that 25% of the data is below this point, and 75% of the data is above this point. The data point that this line hits is the middle value between the smallest value of the dataset, and the median value of the dataset.\n",
    "      \n",
    ">#### The value that the second line hit is called the 2nd quartile and is denoted with Q2. This point of data indicates that 50% of the data is below this point, and 50% of the data is above this point. The data point that this line hits is the median value of the dataset.\n",
    "      \n",
    ">#### The value that the third line hit is called the 3rd quartile and is denoted with Q3. This point of data indicates that 75% of the data is below this point, and 25% of the data is above this point. The data point that this line hits is the middle value between the median value of the dataset and the largest value of the dataset."
   ]
  },
  {
   "cell_type": "markdown",
   "id": "463ef564-a7fc-40df-82f6-ccf056ac3266",
   "metadata": {},
   "source": [
    "## **Finding  the Outliers Using *IQR***"
   ]
  },
  {
   "cell_type": "markdown",
   "id": "6d561d03-0e90-4b51-b706-8148768a7d4b",
   "metadata": {},
   "source": [
    ">### **Calculate IQR Flowing These Steps**\n",
    "\n",
    ">>#### 1. **Sort the list**\n",
    ">>#### 2. Set the **Min and Max**\n",
    ">>#### 3. Set the **Q2, Q1, Q3**\n",
    ">>#### **Where**\n",
    ">>>#### **Q2 = The median of the whole dataset**\n",
    ">>>#### **Q1 = Q2 - Min** \n",
    ">>>#### **Q3 = Max - Q2** \n",
    ">>#### 4. Calculate **IQR = (Q3 - Q1)**"
   ]
  },
  {
   "cell_type": "markdown",
   "id": "4a371a5c-9c99-4e18-8e5c-40ec3e53be42",
   "metadata": {},
   "source": [
    "## **Outliers**"
   ]
  },
  {
   "cell_type": "markdown",
   "id": "28bab254-80a0-460c-bffa-73637882bc40",
   "metadata": {},
   "source": [
    "#### 1. **Calculate the lower bound ( Q1 - (IQR * 1.5) ).**\n",
    "#### 2. **Calculate the upper bound ( Q3 + (IQR * 1.5) ).**\n",
    ">### Any value that lies **below the lower bound or above the upper bound** will be declared as **Outlier**.\n",
    "### **Here**\n",
    "#### ```(Q1 - (IQR * 1.5) ) to Q3 + (IQR * 1.5) )``` is a potential outlier."
   ]
  },
  {
   "cell_type": "code",
   "execution_count": 6,
   "id": "3d49e448-bf49-44c1-90e0-08fc4cdda709",
   "metadata": {},
   "outputs": [
    {
     "name": "stdout",
     "output_type": "stream",
     "text": [
      "[   0.        5.21     16.53     62.5975 1712.    ]\n"
     ]
    }
   ],
   "source": [
    "df = pd.read_csv('data/food_consumption.csv')\n",
    "\n",
    "print(np.quantile(df['co2_emission'], [0, 0.25, 0.50, 0.75, 1]))"
   ]
  },
  {
   "cell_type": "markdown",
   "id": "2d67932b-7436-4bbe-85c8-d66ecbfc3854",
   "metadata": {},
   "source": [
    "### Same thing with ```np.linspace(start, setp, stop)```"
   ]
  },
  {
   "cell_type": "code",
   "execution_count": 3,
   "id": "cfb4402a-089f-46a5-8a32-63bc00429935",
   "metadata": {},
   "outputs": [
    {
     "name": "stdout",
     "output_type": "stream",
     "text": [
      "[0.00000e+00 6.68000e-01 3.54000e+00 7.04000e+00 1.10260e+01 1.65300e+01\n",
      " 2.55900e+01 4.42710e+01 9.99780e+01 2.03629e+02 1.71200e+03]\n"
     ]
    }
   ],
   "source": [
    "# Calculate the deciles of co2_emission\n",
    "print(np.quantile(df['co2_emission'], np.linspace(0, 1, 11)))"
   ]
  },
  {
   "cell_type": "markdown",
   "id": "359b4c6e-b5f3-48a5-8d8d-2fead0006660",
   "metadata": {},
   "source": [
    "## **Variance and Standard deviation**"
   ]
  },
  {
   "cell_type": "code",
   "execution_count": 4,
   "id": "39fe8901-d53e-4d58-9093-07e9e64cec47",
   "metadata": {},
   "outputs": [
    {
     "name": "stdout",
     "output_type": "stream",
     "text": [
      "                        var         std\n",
      "food_category                          \n",
      "beef           88748.408132  297.906710\n",
      "dairy          17671.891985  132.935669\n",
      "eggs              21.371819    4.622966\n",
      "fish             921.637349   30.358481\n",
      "lamb_goat      16475.518363  128.356996\n",
      "nuts              35.639652    5.969895\n",
      "pork            3094.963537   55.632396\n",
      "poultry          245.026801   15.653332\n",
      "rice            2281.376243   47.763754\n",
      "soybeans           0.879882    0.938020\n",
      "wheat             71.023937    8.427570\n"
     ]
    },
    {
     "data": {
      "image/png": "[encoded data removed]",
      "text/plain": [
       "<Figure size 432x288 with 1 Axes>"
      ]
     },
     "metadata": {
      "needs_background": "light"
     },
     "output_type": "display_data"
    },
    {
     "data": {
      "image/png": "[encoded data removed]",
      "text/plain": [
       "<Figure size 432x288 with 1 Axes>"
      ]
     },
     "metadata": {
      "needs_background": "light"
     },
     "output_type": "display_data"
    }
   ],
   "source": [
    "# Print variance and sd of co2_emission for each food_category\n",
    "print(df.groupby('food_category')['co2_emission'].agg([np.var, np.std]))\n",
    "\n",
    "# Import matplotlib.pyplot with alias plt\n",
    "import matplotlib.pyplot as plt\n",
    "\n",
    "# Create histogram of co2_emission for food_category 'beef'\n",
    "plt.hist(df[df['food_category'] == 'beef']['co2_emission'])\n",
    "# Show plot\n",
    "plt.show()\n",
    "\n",
    "# Create histogram of co2_emission for food_category 'eggs'\n",
    "plt.hist(df[df['food_category'] == 'eggs']['co2_emission'])\n",
    "\n",
    "# Show plot\n",
    "plt.show()"
   ]
  },
  {
   "cell_type": "code",
   "execution_count": 7,
   "id": "f06d05ca-2dc3-414f-bcb6-4313d5e174c4",
   "metadata": {},
   "outputs": [
    {
     "name": "stdout",
     "output_type": "stream",
     "text": [
      "country\n",
      "Argentina    2172.4\n",
      "Name: co2_emission, dtype: float64\n"
     ]
    }
   ],
   "source": [
    "# Calculate total co2_emission per country: emissions_by_country\n",
    "emissions_by_country = df.groupby('country')['co2_emission'].sum()\n",
    "\n",
    "# Compute the first and third quantiles and IQR of emissions_by_country\n",
    "q1 = np.quantile(emissions_by_country, 0.25)\n",
    "q3 = np.quantile(emissions_by_country, 0.75)\n",
    "iqr = q3 - q1\n",
    "\n",
    "# Calculate the lower and upper cutoffs for outliers\n",
    "lower = q1 - 1.5 * iqr\n",
    "upper = q3 + 1.5 * iqr\n",
    "\n",
    "# Subset emissions_by_country to find outliers\n",
    "outliers = emissions_by_country[(emissions_by_country < lower) | (emissions_by_country > upper)]\n",
    "\n",
    "print(outliers)"
   ]
  },
  {
   "cell_type": "code",
   "execution_count": 9,
   "id": "5b2cfc0f-66ae-4afb-9b44-98771ac55291",
   "metadata": {},
   "outputs": [
    {
     "name": "stdout",
     "output_type": "stream",
     "text": [
      "     Unnamed: 0    product   client status   amount  num_users\n",
      "162         163  Product D  Current    Won  6755.66         59\n",
      "131         132  Product B  Current    Won  6872.29         25\n",
      "87           88  Product C  Current    Won  3579.63          3\n",
      "145         146  Product A  Current    Won  4682.94         63\n",
      "145         146  Product A  Current    Won  4682.94         63\n"
     ]
    }
   ],
   "source": [
    "# Set random seed\n",
    "np.random.seed(24)\n",
    "\n",
    "# Sample 5 deals with replacement\n",
    "sample_with_replacement = df.sample(5, replace=True)\n",
    "print(sample_with_replacement)"
   ]
  },
  {
   "cell_type": "markdown",
   "id": "1e47717f-5f6e-4991-8844-f86c947c67b9",
   "metadata": {},
   "source": [
    "### Probabilities"
   ]
  },
  {
   "cell_type": "code",
   "execution_count": 12,
   "id": "185cd818-e34b-461c-8536-fb88e6d15b18",
   "metadata": {},
   "outputs": [
    {
     "data": {
      "text/html": [
       "<div>\n",
       "<style scoped>\n",
       "    .dataframe tbody tr th:only-of-type {\n",
       "        vertical-align: middle;\n",
       "    }\n",
       "\n",
       "    .dataframe tbody tr th {\n",
       "        vertical-align: top;\n",
       "    }\n",
       "\n",
       "    .dataframe thead th {\n",
       "        text-align: right;\n",
       "    }\n",
       "</style>\n",
       "<table border=\"1\" class=\"dataframe\">\n",
       "  <thead>\n",
       "    <tr style=\"text-align: right;\">\n",
       "      <th></th>\n",
       "      <th>group_id</th>\n",
       "      <th>group_size</th>\n",
       "    </tr>\n",
       "  </thead>\n",
       "  <tbody>\n",
       "    <tr>\n",
       "      <th>0</th>\n",
       "      <td>A</td>\n",
       "      <td>2</td>\n",
       "    </tr>\n",
       "    <tr>\n",
       "      <th>1</th>\n",
       "      <td>B</td>\n",
       "      <td>4</td>\n",
       "    </tr>\n",
       "    <tr>\n",
       "      <th>2</th>\n",
       "      <td>C</td>\n",
       "      <td>6</td>\n",
       "    </tr>\n",
       "    <tr>\n",
       "      <th>3</th>\n",
       "      <td>D</td>\n",
       "      <td>2</td>\n",
       "    </tr>\n",
       "    <tr>\n",
       "      <th>4</th>\n",
       "      <td>E</td>\n",
       "      <td>2</td>\n",
       "    </tr>\n",
       "    <tr>\n",
       "      <th>5</th>\n",
       "      <td>F</td>\n",
       "      <td>3</td>\n",
       "    </tr>\n",
       "  </tbody>\n",
       "</table>\n",
       "</div>"
      ],
      "text/plain": [
       "  group_id  group_size\n",
       "0        A           2\n",
       "1        B           4\n",
       "2        C           6\n",
       "3        D           2\n",
       "4        E           2\n",
       "5        F           3"
      ]
     },
     "metadata": {},
     "output_type": "display_data"
    }
   ],
   "source": [
    "data = [['A', 2], ['B', 4], ['C', 6], ['D', 2], ['E', 2], ['F', 3]]\n",
    "restaurant_groups = pd.DataFrame(data, columns=['group_id', 'group_size'])\n",
    "display(restaurant_groups)"
   ]
  },
  {
   "cell_type": "markdown",
   "id": "583762ce-6b1f-4d01-b145-f15c675ed0f2",
   "metadata": {},
   "source": [
    "### Probability of Each Group"
   ]
  },
  {
   "cell_type": "code",
   "execution_count": 29,
   "id": "4cf1e238-d612-4b84-8fd3-06352763b048",
   "metadata": {},
   "outputs": [
    {
     "name": "stdout",
     "output_type": "stream",
     "text": [
      "Probability of  2    0.500000\n",
      "4    0.166667\n",
      "6    0.166667\n",
      "3    0.166667\n",
      "Name: group_size, dtype: float64\n"
     ]
    }
   ],
   "source": [
    "\n",
    "# Create probability distribution\n",
    "size_dist = restaurant_groups['group_size'].value_counts() / restaurant_groups.shape[0]\n",
    "print('Probability of ', size_dist)\n"
   ]
  },
  {
   "cell_type": "code",
   "execution_count": 30,
   "id": "bd309ae9-05d4-449b-8031-4ffe6057d5e7",
   "metadata": {},
   "outputs": [
    {
     "name": "stdout",
     "output_type": "stream",
     "text": [
      "   index  group_size\n",
      "0      2    0.500000\n",
      "1      4    0.166667\n",
      "2      6    0.166667\n",
      "3      3    0.166667\n"
     ]
    }
   ],
   "source": [
    "# Reset index and rename columns\n",
    "size_dist = size_dist.reset_index()\n",
    "print(size_dist)"
   ]
  },
  {
   "cell_type": "code",
   "execution_count": 36,
   "id": "1e3e7f49-313f-44a6-8076-a4260973a81e",
   "metadata": {},
   "outputs": [
    {
     "name": "stdout",
     "output_type": "stream",
     "text": [
      "3.1666666666666665\n"
     ]
    }
   ],
   "source": [
    "size_dist.columns = ['group_size', 'prob']\n",
    "\n",
    "# Expected value\n",
    "expected_value = np.sum(size_dist['group_size'] * size_dist['prob'])\n",
    "\n",
    "print(expected_value)"
   ]
  },
  {
   "cell_type": "code",
   "execution_count": 37,
   "id": "c528e7d9-0860-415d-adf9-71fa7770ef0a",
   "metadata": {},
   "outputs": [
    {
     "name": "stdout",
     "output_type": "stream",
     "text": [
      "0.3333333333333333\n"
     ]
    }
   ],
   "source": [
    "# Subset groups of size 4 or more\n",
    "groups_4_or_more = size_dist[size_dist['group_size'] >= 4]\n",
    "\n",
    "# Sum the probabilities of groups_4_or_more\n",
    "prob_4_or_more = np.sum(groups_4_or_more['prob'])\n",
    "print(prob_4_or_more)"
   ]
  },
  {
   "cell_type": "markdown",
   "id": "f47161a8-222a-4a2d-a949-d3d573e74f83",
   "metadata": {},
   "source": [
    ">### Statistical significance can be broken down into **three base components**:\n",
    "#### 1. **Normal Distribution**\n",
    "#### 2. **P-values**\n",
    "#### 3. **Hypothesis Testing**"
   ]
  },
  {
   "cell_type": "markdown",
   "id": "b70fd775-f9cc-4723-a46c-6c528b6c5d71",
   "metadata": {},
   "source": [
    "## **Probability Distributions**"
   ]
  },
  {
   "cell_type": "markdown",
   "id": "d7c2c01c-1cbf-403e-824e-ea9ed571f9c8",
   "metadata": {},
   "source": [
    "#### The probability distribution function informs us what the probabilities of a range of outcomes defined in a random variable will be."
   ]
  },
  {
   "cell_type": "markdown",
   "id": "d003d706-4347-4a39-9eba-68cbb2e3683e",
   "metadata": {},
   "source": [
    "#### **```Rx=[1,2,3,4]```**, is the random variable containing some outcomes\n",
    "#### **```Px=[0.95,0.02,0.01,0.02]```**, represent the probabilities of those outcomes, respectively."
   ]
  },
  {
   "cell_type": "markdown",
   "id": "c43cdfa1-272f-4e8b-bf45-f8a989282843",
   "metadata": {},
   "source": [
    "## **Types of the probability distributions**"
   ]
  },
  {
   "cell_type": "markdown",
   "id": "a66df044-373b-49cb-88d0-c9278d32d799",
   "metadata": {},
   "source": [
    "#### There are different types of probability distribution functions used to model various kinds of data. We will discuss the most commonly used probability distributions."
   ]
  },
  {
   "cell_type": "markdown",
   "id": "d65cb385-8718-434a-843e-2cac76dea35e",
   "metadata": {},
   "source": [
    "### **Uniform distribution**"
   ]
  },
  {
   "cell_type": "markdown",
   "id": "4ab10fbd-c5f4-459f-b598-b75860fa3e4d",
   "metadata": {},
   "source": [
    ">#### Events, where each and every **outcome** in a random variable has the same **probability of occurrence** will create a uniform distribution of probabilities. \n",
    "#### This means that if a random variable has n number of outcomes, each of those outcomes has a probability of occurrence equal to 1/n."
   ]
  },
  {
   "cell_type": "markdown",
   "id": "52d35154-27f3-4ac4-bb50-15f2e14944a1",
   "metadata": {},
   "source": [
    "#### **Discrete uniform distribution:** It uses discrete data and contains a finite number of outcomes that all have the same probability of occurrence. For example, a **rolling die** and a **coin toss** are excellent examples of this. The probability of all the outcomes of both of the above cases is the same, and since they contain a **finite number of outcomes**, they form a discrete uniform distribution."
   ]
  },
  {
   "cell_type": "markdown",
   "id": "b75ff2ab-d2d5-4255-af48-2066daab9308",
   "metadata": {},
   "source": [
    ">#### ***Continuous uniform distribution:*** It uses continuous data, and the outcomes are either in a range or infinite and have the same probability of occurrence. For example, a **random number generator** is an excellent example of this."
   ]
  },
  {
   "cell_type": "markdown",
   "id": "f8cc52a8-6655-4c66-a46f-a7727543459b",
   "metadata": {},
   "source": [
    "## A Case"
   ]
  },
  {
   "cell_type": "markdown",
   "id": "62babbf2-1a03-473c-a59e-422ca5a84351",
   "metadata": {},
   "source": [
    ">### Calculate the probability that Amir has to wait less than 5 minutes.\n",
    "#### Why Uniform Distribution?\n",
    "#### The uniform distribution **defines equal probability over a given range** for a continuous distribution. \n",
    "#### In this case range every 30 minutes."
   ]
  },
  {
   "cell_type": "markdown",
   "id": "43aec2dc-f146-4598-8a24-4d5a6fd86a6c",
   "metadata": {},
   "source": [
    "#### The sales software used at your company is set to automatically back itself up, but no one knows exactly what time the back-ups happen. It is known, however, that back-ups happen exactly every 30 minutes. Amir comes back from sales meetings at random times to update the data on the client he just met with. He wants to know how long he'll have to wait for his newly-entered data to get backed up."
   ]
  },
  {
   "cell_type": "code",
   "execution_count": 40,
   "id": "8735a472-0201-4e0e-852c-9298371d6bcb",
   "metadata": {},
   "outputs": [
    {
     "name": "stdout",
     "output_type": "stream",
     "text": [
      "0.16666666666666666\n",
      "0.8333333333333334\n",
      "0.3333333333333333\n"
     ]
    }
   ],
   "source": [
    "# Min and max wait times for back-up that happens every 30 min\n",
    "min_time = 0\n",
    "max_time = 30\n",
    "\n",
    "# Import uniform from scipy.stats\n",
    "from scipy.stats import uniform\n",
    "\n",
    "# Calculate probability of waiting less than 5 mins\n",
    "prob_less_than_5 = uniform.cdf(5, 0, 30)\n",
    "print(prob_less_than_5)\n",
    "\n",
    "# Calculate probability of waiting more than 5 mins\n",
    "prob_greater_than_5 = 1 - uniform.cdf(5, 0, 30)\n",
    "print(prob_greater_than_5)\n",
    "\n",
    "# Calculate probability of waiting 10-20 mins\n",
    "prob_between_10_and_20 = uniform.cdf(20, 0, 30) - uniform.cdf(10, 0, 30)\n",
    "print(prob_between_10_and_20)\n"
   ]
  },
  {
   "cell_type": "markdown",
   "id": "86b91ca7-48b8-4a81-ae1d-72175dda18a8",
   "metadata": {},
   "source": [
    "### Creating **1000** case scenario and Justifying probability."
   ]
  },
  {
   "cell_type": "markdown",
   "id": "9b7866c5-248c-4d97-b875-78c13528fcb4",
   "metadata": {},
   "source": [
    "#### **To give Amir a better idea of how long he'll have to wait**, you'll simulate Amir waiting 1000 times and create a histogram to show him what he should expect. "
   ]
  },
  {
   "cell_type": "code",
   "execution_count": 41,
   "id": "af62b45f-384a-4ac1-8841-e3f33de790a6",
   "metadata": {},
   "outputs": [
    {
     "data": {
      "image/png": "[encoded data removed]",
      "text/plain": [
       "<Figure size 432x288 with 1 Axes>"
      ]
     },
     "metadata": {
      "needs_background": "light"
     },
     "output_type": "display_data"
    }
   ],
   "source": [
    "# Set random seed to 334\n",
    "np.random.seed(334)\n",
    "\n",
    "# Import uniform\n",
    "# from scipy.stats import uniform\n",
    "\n",
    "# Generate 1000 wait times between 0 and 30 mins\n",
    "wait_times = uniform.rvs(0, 30, size=1000)\n",
    "\n",
    "# Create a histogram of simulated times and show plot\n",
    "plt.hist(wait_times)\n",
    "plt.show()"
   ]
  },
  {
   "cell_type": "markdown",
   "id": "f403f234-dcd2-4e40-92f3-a9174f76b5d8",
   "metadata": {},
   "source": [
    "### **Probability with & without Replacement**"
   ]
  },
  {
   "cell_type": "markdown",
   "id": "c0641183-87e9-45fd-937a-d67eab4418de",
   "metadata": {},
   "source": [
    "## Case Two"
   ]
  },
  {
   "cell_type": "markdown",
   "id": "9fa94f7b-dd46-4db2-96fa-010b0e808c8a",
   "metadata": {},
   "source": [
    "#### Since each deal Amir worked on (both won and lost) was different, each was worth a different amount of money. "
   ]
  },
  {
   "cell_type": "code",
   "execution_count": 68,
   "id": "ffc97526-e2b8-420d-8e7f-2356189baf0b",
   "metadata": {},
   "outputs": [
    {
     "data": {
      "text/html": [
       "<div>\n",
       "<style scoped>\n",
       "    .dataframe tbody tr th:only-of-type {\n",
       "        vertical-align: middle;\n",
       "    }\n",
       "\n",
       "    .dataframe tbody tr th {\n",
       "        vertical-align: top;\n",
       "    }\n",
       "\n",
       "    .dataframe thead th {\n",
       "        text-align: right;\n",
       "    }\n",
       "</style>\n",
       "<table border=\"1\" class=\"dataframe\">\n",
       "  <thead>\n",
       "    <tr style=\"text-align: right;\">\n",
       "      <th></th>\n",
       "      <th>Unnamed: 0</th>\n",
       "      <th>product</th>\n",
       "      <th>client</th>\n",
       "      <th>status</th>\n",
       "      <th>amount</th>\n",
       "      <th>num_users</th>\n",
       "    </tr>\n",
       "  </thead>\n",
       "  <tbody>\n",
       "    <tr>\n",
       "      <th>0</th>\n",
       "      <td>1</td>\n",
       "      <td>Product F</td>\n",
       "      <td>Current</td>\n",
       "      <td>Won</td>\n",
       "      <td>7389.52</td>\n",
       "      <td>19</td>\n",
       "    </tr>\n",
       "    <tr>\n",
       "      <th>1</th>\n",
       "      <td>2</td>\n",
       "      <td>Product C</td>\n",
       "      <td>New</td>\n",
       "      <td>Won</td>\n",
       "      <td>4493.01</td>\n",
       "      <td>43</td>\n",
       "    </tr>\n",
       "    <tr>\n",
       "      <th>2</th>\n",
       "      <td>3</td>\n",
       "      <td>Product B</td>\n",
       "      <td>New</td>\n",
       "      <td>Won</td>\n",
       "      <td>5738.09</td>\n",
       "      <td>87</td>\n",
       "    </tr>\n",
       "    <tr>\n",
       "      <th>3</th>\n",
       "      <td>4</td>\n",
       "      <td>Product I</td>\n",
       "      <td>Current</td>\n",
       "      <td>Won</td>\n",
       "      <td>2591.24</td>\n",
       "      <td>83</td>\n",
       "    </tr>\n",
       "    <tr>\n",
       "      <th>4</th>\n",
       "      <td>5</td>\n",
       "      <td>Product E</td>\n",
       "      <td>Current</td>\n",
       "      <td>Won</td>\n",
       "      <td>6622.97</td>\n",
       "      <td>17</td>\n",
       "    </tr>\n",
       "  </tbody>\n",
       "</table>\n",
       "</div>"
      ],
      "text/plain": [
       "   Unnamed: 0    product   client status   amount  num_users\n",
       "0           1  Product F  Current    Won  7389.52         19\n",
       "1           2  Product C      New    Won  4493.01         43\n",
       "2           3  Product B      New    Won  5738.09         87\n",
       "3           4  Product I  Current    Won  2591.24         83\n",
       "4           5  Product E  Current    Won  6622.97         17"
      ]
     },
     "metadata": {},
     "output_type": "display_data"
    },
    {
     "name": "stdout",
     "output_type": "stream",
     "text": [
      "Product B    62\n",
      "Product D    40\n",
      "Product A    23\n",
      "Product C    15\n",
      "Product F    11\n",
      "Product H     8\n",
      "Product I     7\n",
      "Product E     5\n",
      "Product N     3\n",
      "Product G     2\n",
      "Product J     2\n",
      "Name: product, dtype: int64\n"
     ]
    }
   ],
   "source": [
    "# Count the deals for each product\n",
    "df = pd.read_csv('data/amir_deals.csv')\n",
    "display(df.head())\n",
    "\n",
    "\n",
    "counts = df['product'].value_counts()\n",
    "print(counts)"
   ]
  },
  {
   "cell_type": "code",
   "execution_count": 85,
   "id": "b8d9a9b3-76ed-4ed3-bee7-1d5821df17bf",
   "metadata": {},
   "outputs": [
    {
     "name": "stdout",
     "output_type": "stream",
     "text": [
      "Mean 4812.000337078652\n",
      "Max 9913.27\n",
      "Variance 2058.17322535556\n"
     ]
    }
   ],
   "source": [
    "# Mean, Max, Variance amounts\n",
    "print('Mean', df.amount.mean())\n",
    "print('Max', df.amount.max())\n",
    "print('Variance', df.amount.std())"
   ]
  },
  {
   "cell_type": "code",
   "execution_count": 86,
   "id": "5e3851bc-7558-4ac7-8d0f-677097f8024e",
   "metadata": {},
   "outputs": [
    {
     "name": "stdout",
     "output_type": "stream",
     "text": [
      "Product B    0.348315\n",
      "Product D    0.224719\n",
      "Product A    0.129213\n",
      "Product C    0.084270\n",
      "Product F    0.061798\n",
      "Product H    0.044944\n",
      "Product I    0.039326\n",
      "Product E    0.028090\n",
      "Product N    0.016854\n",
      "Product G    0.011236\n",
      "Product J    0.011236\n",
      "Name: product, dtype: float64\n"
     ]
    }
   ],
   "source": [
    "# Calculate probability of picking a deal with each product\n",
    "probs = counts / df.shape[0]\n",
    "print(probs)"
   ]
  },
  {
   "cell_type": "markdown",
   "id": "fd81e1b4-f8f2-41ce-a005-77fb7acdd992",
   "metadata": {},
   "source": [
    "### **Finding out the distribution.**"
   ]
  },
  {
   "cell_type": "markdown",
   "id": "9c3788bc-f988-4532-a637-299ea6dedaf2",
   "metadata": {},
   "source": [
    "#### By calling the ```.hist()``` on the whole dataset we can quickly identify the distribution."
   ]
  },
  {
   "cell_type": "code",
   "execution_count": 87,
   "id": "87e1279b-563c-4f72-b589-8e299d39bd68",
   "metadata": {},
   "outputs": [
    {
     "data": {
      "image/png": "[encoded data removed]",
      "text/plain": [
       "<Figure size 432x288 with 4 Axes>"
      ]
     },
     "metadata": {
      "needs_background": "light"
     },
     "output_type": "display_data"
    }
   ],
   "source": [
    "from scipy.stats import binom\n",
    "from scipy.stats import norm\n",
    "df.hist(bins=10)\n",
    "plt.show()"
   ]
  },
  {
   "cell_type": "markdown",
   "id": "5e5d0740-5d26-4e90-9be0-246f579de192",
   "metadata": {},
   "source": [
    "### **What's the probability of Amir closing a deal worth less than $7500?**"
   ]
  },
  {
   "cell_type": "code",
   "execution_count": 88,
   "id": "9e57327d-a3d0-4087-8cf6-7357f566c7cf",
   "metadata": {},
   "outputs": [
    {
     "name": "stdout",
     "output_type": "stream",
     "text": [
      "0.8943502263331446\n"
     ]
    }
   ],
   "source": [
    "# Probability of deal < 7500\n",
    "prob_less_7500 = norm.cdf(7500, 5000, 2000)\n",
    "\n",
    "print(prob_less_7500)"
   ]
  },
  {
   "cell_type": "markdown",
   "id": "afaccca1-9b98-4398-b9cb-44c2bf7747ef",
   "metadata": {},
   "source": [
    "### **What amount will 25% of Amir's sales be less than?**"
   ]
  },
  {
   "cell_type": "code",
   "execution_count": 89,
   "id": "d0a98d12-b292-43e3-94b8-136a38bd384a",
   "metadata": {},
   "outputs": [
    {
     "name": "stdout",
     "output_type": "stream",
     "text": [
      "3651.0204996078364\n"
     ]
    }
   ],
   "source": [
    "# Calculate amount that 25% of deals will be less than\n",
    "pct_25 = norm.ppf(0.25, 5000, 2000)\n",
    "\n",
    "print(pct_25)"
   ]
  },
  {
   "cell_type": "markdown",
   "id": "67e6ec7a-d551-439f-8d8b-356bc008f388",
   "metadata": {},
   "source": [
    "### **Simulating sales under new market conditions.**"
   ]
  },
  {
   "cell_type": "markdown",
   "id": "e4bf8696-57f0-4244-bab1-c9a043e6a1d9",
   "metadata": {},
   "source": [
    "#### The company's financial analyst is **predicting that next quarter**, the worth of each sale will increase by 20% and the volatility, or standard deviation, of each sale's worth will increase by 30%. \n",
    "#### To see what Amir's sales might look like next quarter under these new market conditions, you'll simulate new sales amounts using the normal distribution and store these in the new_sales DataFrame, which has already been created for you."
   ]
  },
  {
   "cell_type": "code",
   "execution_count": 90,
   "id": "38bd1328-aea0-44ca-b60f-0e5417934e5a",
   "metadata": {},
   "outputs": [
    {
     "data": {
      "image/png": "[encoded data removed]",
      "text/plain": [
       "<Figure size 432x288 with 1 Axes>"
      ]
     },
     "metadata": {
      "needs_background": "light"
     },
     "output_type": "display_data"
    }
   ],
   "source": [
    "# Calculate new average amount\n",
    "new_mean = 5000*1.20\n",
    "\n",
    "# Calculate new standard deviation\n",
    "new_sd = 2000*1.30\n",
    "\n",
    "# Simulate 36 new sales\n",
    "new_sales = norm.rvs(new_mean, new_sd, size=36)\n",
    "\n",
    "# Create histogram and show\n",
    "plt.hist(new_sales)\n",
    "plt.show()"
   ]
  },
  {
   "cell_type": "code",
   "execution_count": 91,
   "id": "6a6bcb50-4dc0-4675-baa4-de10667f3d1d",
   "metadata": {},
   "outputs": [
    {
     "name": "stdout",
     "output_type": "stream",
     "text": [
      "0.027235195013738698\n"
     ]
    }
   ],
   "source": [
    "print(norm.cdf(1000, 6000, 2600))"
   ]
  },
  {
   "cell_type": "code",
   "execution_count": 92,
   "id": "2290cc43-04fa-4027-bd8a-43b2b17b2c03",
   "metadata": {},
   "outputs": [
    {
     "name": "stdout",
     "output_type": "stream",
     "text": [
      "0.022750131948179195\n"
     ]
    }
   ],
   "source": [
    "print(norm.cdf(1000, 5000, 2000))"
   ]
  },
  {
   "cell_type": "markdown",
   "id": "b6227370-ba6d-492a-8028-bf35607f694a",
   "metadata": {},
   "source": [
    ">## **CLT**(central limit theorem)"
   ]
  },
  {
   "cell_type": "markdown",
   "id": "773faba7-5f21-450d-bc3c-3ed679b22671",
   "metadata": {},
   "source": [
    "#### The mean of a random sample will closely resemble the mean of the whole population as the sample size increases, regardless of the shape of the data distribution.\n",
    ">#### The states in which a sampling distribution will **approach to a normal distribution** as the **number of trials increases**, these phenomenon is known as the **central limit theorem.**\n",
    "#### Samples are taken **Randomly and Independently.**"
   ]
  },
  {
   "cell_type": "markdown",
   "id": "2d35fe26-bb8c-4ac8-9750-ba89f366dae5",
   "metadata": {},
   "source": [
    "### **Importance**"
   ]
  },
  {
   "cell_type": "markdown",
   "id": "dd73bbc3-0463-4ac4-906a-bd85cab716da",
   "metadata": {},
   "source": [
    "#### Now imagine that we have a dataset with **ten million+** data points. Performing analysis on this **large dataset** would consume a **lot of resources**. However, using the central limit theorem, a small random sample can be selected to do the required analysis and results can then be generalized for the entire data population. This technique is very **famous in the financial sector**."
   ]
  },
  {
   "cell_type": "markdown",
   "id": "7c9db01a-5b76-4e41-905c-a6b2ee79f3b5",
   "metadata": {},
   "source": [
    "### **Example**\n",
    "#### The following steps will be performed in this example:\n",
    "\n",
    "1. An array with one-thousand random values will be created.\n",
    "\n",
    "2. Then, the **average** of this dataset is computed, which is our **original mean value**. Later it will be compared with the **inferred one**.\n",
    "\n",
    "3. Then, **thirty random samples** are gathered with each sample containing **twenty-five** data points.\n",
    "\n",
    "4. The average value of each random sample is computed and stored in a list.\n",
    "\n",
    "5. The inferred mean value is calculated by taking an average of the values in the list."
   ]
  },
  {
   "cell_type": "code",
   "execution_count": 93,
   "id": "8288ed0d-8c97-43f0-b614-31a42ff8229c",
   "metadata": {},
   "outputs": [
    {
     "name": "stdout",
     "output_type": "stream",
     "text": [
      "The original Mean value: 491.149\n",
      "The inferred Mean value: 488.00666666666655\n"
     ]
    }
   ],
   "source": [
    "import numpy as np\n",
    "\n",
    "# Generate an array with 1000 random numbers\n",
    "x = np.random.randint(0, 1000, size = (1, 1000))[0]\n",
    "\n",
    "# print the original mean of entire dataset\n",
    "print(\"The original Mean value:\", x.mean())\n",
    "\n",
    "# Choose 30 random samples with each sample containing 25 random data points\n",
    "resamples = [np.random.choice(x, size = 25, replace = True) for i in range(30)]\n",
    "\n",
    "# List for storing means of random samples\n",
    "avg_lst = []\n",
    "for i in range(0,30):\n",
    "    # compute mean of each sample and store in the list\n",
    "    avg_lst.append(resamples[i].mean())\n",
    "\n",
    "# Compute the predicted mean by taking mean of all the means of the random samples\n",
    "cumm_mean = sum(avg_lst) / len(avg_lst)\n",
    "\n",
    "print(\"The inferred Mean value:\", cumm_mean)"
   ]
  },
  {
   "cell_type": "markdown",
   "id": "81e2f28a-2b99-449f-8f99-02bde9b5c3d1",
   "metadata": {},
   "source": [
    "## **The CLT in action**"
   ]
  },
  {
   "cell_type": "markdown",
   "id": "69fae723-1cce-47cc-bb2b-f85f094ba0f8",
   "metadata": {},
   "source": [
    "#### Focusing on the sample mean and see the central limit theorem in action while examining the ```num_users``` column of ```amir_deals``` more closely, which contains the number of people who intend to use the product Amir is selling."
   ]
  },
  {
   "cell_type": "code",
   "execution_count": 96,
   "id": "37fa0036-b800-40ae-99b2-41f7e7c390c4",
   "metadata": {},
   "outputs": [
    {
     "data": {
      "image/png": "[encoded data removed]",
      "text/plain": [
       "<Figure size 432x288 with 1 Axes>"
      ]
     },
     "metadata": {
      "needs_background": "light"
     },
     "output_type": "display_data"
    }
   ],
   "source": [
    "# Set seed to 104\n",
    "np.random.seed(104)\n",
    "\n",
    "sample_means = []\n",
    "# Loop 100 times\n",
    "for i in range(100):\n",
    "  # Take sample of 20 num_users Wtih Replacement\n",
    "  samp_20 = df['num_users'].sample(20, replace=True)\n",
    "    \n",
    "  # Calculate mean of samp_20\n",
    "  samp_20_mean = np.mean(samp_20)\n",
    "    \n",
    "  # Append samp_20_mean to sample_means\n",
    "  sample_means.append(samp_20_mean)\n",
    "\n",
    "# Convert to Series and plot histogram\n",
    "sample_means_series = pd.Series(sample_means)\n",
    "sample_means_series.hist()\n",
    "# Show plot\n",
    "plt.show()"
   ]
  },
  {
   "cell_type": "markdown",
   "id": "d9530c4a-b59f-48a0-a89d-f48eff1df244",
   "metadata": {},
   "source": [
    "## **The mean of means**"
   ]
  },
  {
   "cell_type": "markdown",
   "id": "49b1273d-410c-4108-b6cf-2cc233f88cf6",
   "metadata": {},
   "source": [
    "#### You want to know what the average number of users ```(num_users)``` is per deal, \n",
    "#### but you want to know this number for the entire company\n",
    "#### so that you can see if Amir's deals have more or fewer users than the company's average deal. \n",
    ">#### The problem is that over the past year, **the company has worked on more than ten thousand deals,** so it's not realistic to compile all the data. Instead, you'll **estimate the mean by taking several random samples of deals,** \n",
    "\n",
    "#### since this is much easier than collecting data from everyone in the company.\n"
   ]
  },
  {
   "cell_type": "code",
   "execution_count": 97,
   "id": "a8ac2546-9459-428b-962e-d659e7d0291f",
   "metadata": {},
   "outputs": [
    {
     "name": "stdout",
     "output_type": "stream",
     "text": [
      "38.821666666666665\n",
      "37.651685393258425\n"
     ]
    }
   ],
   "source": [
    "# Set seed to 321\n",
    "np.random.seed(321)\n",
    "\n",
    "sample_means = []\n",
    "# Loop 30 times to take 30 means\n",
    "for i in range(30):\n",
    "  # Take sample of size 20 from num_users col of all_deals with replacement\n",
    "  cur_sample = df['num_users'].sample(20, replace=True)\n",
    "    \n",
    "  # Take mean of cur_sample\n",
    "  cur_mean = np.mean(cur_sample)\n",
    "    \n",
    "  # Append cur_mean to sample_means\n",
    "  sample_means.append(cur_mean)\n",
    "\n",
    "# Print mean of sample_means\n",
    "print(np.mean(sample_means))\n",
    "\n",
    "# Print mean of num_users in amir_deals\n",
    "print(df['num_users'].mean())"
   ]
  },
  {
   "cell_type": "markdown",
   "id": "417baa10-6beb-4790-a4f0-5e0365e2734b",
   "metadata": {},
   "source": [
    "### Tracking lead responses"
   ]
  },
  {
   "cell_type": "markdown",
   "id": "0efcc723-724d-4a99-9370-81750ccccbc7",
   "metadata": {},
   "source": [
    "#### Your company uses sales software to keep track of new sales leads.\n",
    "#### It organizes them into a queue so that anyone can follow up on one when they have a bit of free time.\n",
    "#### Since the **number of lead responses is a countable outcome over a period of time, (random)** this scenario corresponds to a Poisson distribution. On average, Amir responds to 4 leads each day. **(Time is not fixed)**\n",
    ">####  A Poisson process is a process where events appear to happen at a certain rate, but completely at random."
   ]
  },
  {
   "cell_type": "markdown",
   "id": "1a075b57-148d-4e07-9295-6e3041b45aae",
   "metadata": {},
   "source": [
    "### Probability that Amir responds to 5 leads in a day, given that he responds to an average of 4."
   ]
  },
  {
   "cell_type": "code",
   "execution_count": 115,
   "id": "51eb7667-844d-4628-b178-462e95f99c1b",
   "metadata": {},
   "outputs": [
    {
     "name": "stdout",
     "output_type": "stream",
     "text": [
      "Probability of 5 Responses 0.1562934518505317\n",
      "Probability of 2 Responses 0.14652511110987343\n",
      "Probability of over 10 Responses 0.0028397661205137315\n"
     ]
    }
   ],
   "source": [
    "# Import poisson from scipy.stats\n",
    "from scipy.stats import poisson\n",
    "\n",
    "# Probability of 5 responses\n",
    "prob_5 = poisson.pmf(5, 4)\n",
    "\n",
    "# Probability of 2 responses\n",
    "prob_2 = poisson.pmf(2, 4)\n",
    "\n",
    "# Probability of > 10 responses\n",
    "prob_over_10 =1- poisson.cdf(10, 4)\n",
    "\n",
    "print('Probability of 5 Responses',prob_5)\n",
    "print('Probability of 2 Responses', prob_2)\n",
    "print('Probability of over 10 Responses', prob_over_10)"
   ]
  },
  {
   "cell_type": "markdown",
   "id": "f0bd14c4-0f7e-4a00-83d2-fbcd7bfbbf81",
   "metadata": {},
   "source": [
    "### Modeling time between leads"
   ]
  },
  {
   "cell_type": "markdown",
   "id": "c1dd19a9-5a77-4aa3-894b-64e6bec51462",
   "metadata": {},
   "source": [
    "#### To further evaluate Amir's performance, \n",
    "#### you want to know **how much time it takes him to respond to a lead after he opens it**. On **average, it takes 2.5 hours for him to respond.**"
   ]
  },
  {
   "cell_type": "markdown",
   "id": "53270825-2039-49f0-9cd7-8c26cc0f80d8",
   "metadata": {},
   "source": [
    "### What's the probability it takes Amir less than an hour to respond to a lead?"
   ]
  },
  {
   "cell_type": "code",
   "execution_count": 118,
   "id": "12a06fae-6dbc-44c0-9de3-f20cab9cea08",
   "metadata": {},
   "outputs": [
    {
     "name": "stdout",
     "output_type": "stream",
     "text": [
      "0.3296799539643607\n",
      "0.09929769391754684\n"
     ]
    }
   ],
   "source": [
    "# Import expon from scipy.stats\n",
    "from scipy.stats import expon\n",
    "\n",
    "# Print probability response takes < 1 hour\n",
    "print(expon.cdf(1, scale=2.5))\n",
    "\n",
    "# Print probability response takes 3-4 hours\n",
    "print(expon.cdf(4, scale=2.5) - expon.cdf(3, scale=2.5))"
   ]
  },
  {
   "cell_type": "markdown",
   "id": "08064fd5-1461-4b2a-ba1d-eb1218c4a4f7",
   "metadata": {},
   "source": [
    "## **Correlation**"
   ]
  },
  {
   "cell_type": "markdown",
   "id": "c25809f2-bfb1-4d52-9486-a801ddea0ccb",
   "metadata": {},
   "source": [
    "#### If correlation is 0, there is **no relationship between the independent and dependent variables,** and having the value of one tells you nothing about the value of the other."
   ]
  },
  {
   "cell_type": "markdown",
   "id": "d0ae8a12-124d-4120-8258-4a63505202cf",
   "metadata": {},
   "source": [
    "#### The variable on the ```x-axis``` is called the **explanatory or independent variable,** and the variable on the ```y-axis``` is called the **response or dependent variable.** b"
   ]
  },
  {
   "cell_type": "code",
   "execution_count": 140,
   "id": "de9e03ad-7b6e-494f-808d-d83cd2be6b46",
   "metadata": {},
   "outputs": [
    {
     "data": {
      "image/png": "[encoded data removed]",
      "text/plain": [
       "<Figure size 648x504 with 1 Axes>"
      ]
     },
     "metadata": {},
     "output_type": "display_data"
    }
   ],
   "source": [
    "import seaborn as sns\n",
    "plt.style.use('ggplot')\n",
    "fig = plt.figure(figsize=(9, 7))\n",
    "\n",
    "# Reading Data\n",
    "world_happiness = pd.read_csv('data/world_happiness.csv')\n",
    "\n",
    "# Create a scatterplot of happiness_score vs. life_exp and show\n",
    "sns.scatterplot(x='life_exp', y='happiness_score', data=world_happiness)\n",
    "\n",
    "# Show plot\n",
    "plt.show()"
   ]
  },
  {
   "cell_type": "code",
   "execution_count": 134,
   "id": "1c817845-d517-4072-852b-26ba6eb6b9d0",
   "metadata": {},
   "outputs": [
    {
     "data": {
      "image/png": "[encoded data removed]",
      "text/plain": [
       "<Figure size 360x360 with 1 Axes>"
      ]
     },
     "metadata": {},
     "output_type": "display_data"
    }
   ],
   "source": [
    "# Create scatterplot of happiness_score vs life_exp with trendline\n",
    "sns.lmplot(x='life_exp', y='happiness_score', data=world_happiness, ci=None)\n",
    "\n",
    "# Show plot\n",
    "plt.show()"
   ]
  },
  {
   "cell_type": "code",
   "execution_count": 135,
   "id": "07ad1ac5-e0f7-4f39-a923-b6eb577c10d2",
   "metadata": {},
   "outputs": [
    {
     "name": "stdout",
     "output_type": "stream",
     "text": [
      "0.7802249053272062\n"
     ]
    }
   ],
   "source": [
    "# Correlation between life_exp and happiness_score\n",
    "cor = world_happiness['happiness_score'].corr(world_happiness['life_exp'])\n",
    "\n",
    "print(cor)"
   ]
  },
  {
   "cell_type": "markdown",
   "id": "88b93bc9-132c-429e-96be-20a47ded164e",
   "metadata": {},
   "source": [
    "### Correlation does not imply causation"
   ]
  },
  {
   "cell_type": "markdown",
   "id": "784dbbd9-7ce5-4a68-869d-044b2ba81fc5",
   "metadata": {},
   "source": [
    "#### This means that **if x and y are correlated, x doesn't necessarily cause y.**\n",
    "#### For example, here's a scatterplot of the per capita margarine consumption in the US each year and the divorce rate in the state of Maine. The correlation between these two variables is 0-point-99, which is nearly perfect. However, this doesn't mean that consuming more margarine will cause more divorces. This kind of correlation is often called a spurious correlation."
   ]
  },
  {
   "cell_type": "markdown",
   "id": "13734e00-6e5c-477e-bb61-b028943b0138",
   "metadata": {},
   "source": [
    "### What can't correlation measure?"
   ]
  },
  {
   "cell_type": "code",
   "execution_count": 137,
   "id": "b5982e36-a080-4972-bf89-0f3b06752dc7",
   "metadata": {},
   "outputs": [
    {
     "data": {
      "image/png": "[encoded data removed]",
      "text/plain": [
       "<Figure size 432x288 with 1 Axes>"
      ]
     },
     "metadata": {},
     "output_type": "display_data"
    },
    {
     "name": "stdout",
     "output_type": "stream",
     "text": [
      "0.727973301222298\n"
     ]
    }
   ],
   "source": [
    "# Scatterplot of happiness_score vs. gdp_per_cap\n",
    "sns.scatterplot(x='gdp_per_cap', y = 'happiness_score', data=world_happiness)\n",
    "plt.show()\n",
    "\n",
    "# Calculate correlation\n",
    "cor = world_happiness['gdp_per_cap'].corr(world_happiness['happiness_score'])\n",
    "print(cor)"
   ]
  },
  {
   "cell_type": "markdown",
   "id": "b8d67e74-ae7c-4cc3-a4fb-1657a38faf3e",
   "metadata": {},
   "source": [
    ">### Log transformation"
   ]
  },
  {
   "cell_type": "markdown",
   "id": "d4a4017e-f09b-401c-9d17-3e85c681951d",
   "metadata": {},
   "source": [
    "#### When data is highly skewed.\n",
    "#### Non-linear"
   ]
  },
  {
   "cell_type": "markdown",
   "id": "ef1ed2bd-e9ee-4854-b7ca-a2a3c3cb8b34",
   "metadata": {},
   "source": [
    "### Why use a transformation?"
   ]
  },
  {
   "cell_type": "markdown",
   "id": "8cbf9c77-b37e-42ca-8de6-c88d38f7e3d2",
   "metadata": {},
   "source": [
    "#### Certain statistical methods **rely on variables having a linear relationship,** like calculating a correlation coefficient. \n",
    "#### Linear regression is another statistical technique that requires variables to be related in a linear manner."
   ]
  },
  {
   "cell_type": "markdown",
   "id": "bdf24442-c5ac-4542-9a90-721ca90d825f",
   "metadata": {},
   "source": [
    "### Using ```np.log()``` to transform."
   ]
  },
  {
   "cell_type": "code",
   "execution_count": 139,
   "id": "1af2d7e9-72e3-431b-84d9-73c04b18035d",
   "metadata": {},
   "outputs": [
    {
     "data": {
      "image/png": "[encoded data removed]",
      "text/plain": [
       "<Figure size 432x288 with 1 Axes>"
      ]
     },
     "metadata": {},
     "output_type": "display_data"
    },
    {
     "name": "stdout",
     "output_type": "stream",
     "text": [
      "0.8043146004918288\n"
     ]
    }
   ],
   "source": [
    "# Create log_gdp_per_cap column\n",
    "world_happiness['log_gdp_per_cap'] = np.log(world_happiness['gdp_per_cap'])\n",
    "\n",
    "# Scatterplot of log_gdp_per_cap and happiness_score\n",
    "sns.scatterplot(x='log_gdp_per_cap', y='happiness_score', data=world_happiness)\n",
    "plt.show()\n",
    "\n",
    "# Calculate correlation\n",
    "cor = world_happiness['log_gdp_per_cap'].corr(world_happiness['happiness_score'])\n",
    "print(cor)"
   ]
  },
  {
   "cell_type": "code",
   "execution_count": null,
   "id": "8acd9e01-6063-40e0-9c79-544f32df0f85",
   "metadata": {},
   "outputs": [],
   "source": []
  },
  {
   "cell_type": "code",
   "execution_count": null,
   "id": "45697025-9176-4d8e-a679-3334830349ef",
   "metadata": {},
   "outputs": [],
   "source": []
  },
  {
   "cell_type": "code",
   "execution_count": null,
   "id": "dcb023e2-6536-4bd4-891f-0a0d2712dbad",
   "metadata": {},
   "outputs": [],
   "source": []
  },
  {
   "cell_type": "markdown",
   "id": "d4a2b1ff-6b6b-4b26-b858-5e21f3d098d8",
   "metadata": {},
   "source": [
    "1. Design of experiments\n",
    "Often, data is created as a result of a study that aims to answer a specific question. However, data needs to be analyzed and interpreted differently depending on how the data was generated and how the study was designed.\n",
    "\n",
    "2. Vocabulary\n",
    "Experiments generally aim to answer a question in the form, \"What is the effect of the treatment on the response?\" In this setting, treatment refers to the explanatory or independent variable, and response refers to the response or dependent variable. For example, what is the effect of an advertisement on the number of products purchased? In this case, the treatment is an advertisement, and the response is the number of products purchased.\n",
    "\n",
    "3. Controlled experiments\n",
    "In a controlled experiment, participants are randomly assigned to either the treatment group or the control group, where the treatment group receives the treatment and the control group does not. A great example of this is an A/B test. In our example, the treatment group will see an advertisement, and the control group will not. Other than this difference, the groups should be comparable so that we can determine if seeing an advertisement causes people to buy more. If the groups aren't comparable, this could lead to confounding, or bias. If the average age of participants in the treatment group is 25 and the average age of participants in the control group is 50, age could be a potential confounder if younger people are more likely to purchase more, and this will make the experiment biased towards the treatment.\n",
    "\n",
    "4. The gold standard of experiments will use...\n",
    "The gold standard, or ideal experiment, will eliminate as much bias as possible by using certain tools. The first tool to help eliminate bias in controlled experiments is to use a randomized controlled trial. In a randomized controlled trial, participants are randomly assigned to the treatment or control group and their assignment isn't based on anything other than chance. Random assignment like this helps ensure that the groups are comparable. The second way is to use a placebo, which is something that resembles the treatment, but has no effect. This way, participants don't know if they're in the treatment or control group. This ensures that the effect of the treatment is due to the treatment itself, not the idea of getting the treatment. This is common in clinical trials that test the effectiveness of a drug. The control group will still be given a pill, but it's a sugar pill that has minimal effects on the response.\n",
    "\n",
    "5. The gold standard of experiments will use...\n",
    "In a double-blind experiment, the person administering the treatment or running the experiment also doesn't know whether they're administering the actual treatment or the placebo. This protects against bias in the response as well as the analysis of the results. These different tools all boil down to the same principle: if there are fewer opportunities for bias to creep into your experiment, the more reliably you can conclude whether the treatment affects the response.\n",
    "\n",
    "6. Observational studies\n",
    "The other kind of study we'll discuss is the observational study. In an observational study, participants are not randomly assigned to groups. Instead, participants assign themselves, usually based on pre-existing characteristics. This is useful for answering questions that aren't conducive to a controlled experiment. If you want to study the effect of smoking on cancer, you can't force people to start smoking. Similarly, if you want to study how past purchasing behavior affects whether someone will buy a product, you can't force people to have certain past purchasing behavior. Because assignment isn't random, there's no way to guarantee that the groups will be comparable in every aspect, so observational studies can't establish causation, only association. The effects of the treatment may be confounded by factors that got certain people into the control group and certain people into the treatment group. However, there are ways to control for confounders, which can help strengthen the reliability of conclusions about association.\n",
    "\n",
    "7. Longitudinal vs. cross-sectional studies\n",
    "The final important distinction to make is between longitudinal and cross-sectional studies. In a longitudinal study, the same participants are followed over a period of time to examine the effect of treatment on the response. In a cross-sectional study, data is collected from a single snapshot in time. If you wanted to investigate the effect of age on height, a cross-sectional study would measure the heights of people of different ages and compare them. However, the results will be confounded by birth year and lifestyle since it's possible that each generation is getting taller. In a longitudinal study,the same people would have their heights recorded at different points in their lives, so the confounding is eliminated. It's important to note that longitudinal studies are more expensive, and take longer to perform, while cross-sectional studies are cheaper, faster, and more convenient.\n",
    "\n"
   ]
  },
  {
   "cell_type": "markdown",
   "id": "403d8328-5c73-49f8-9e05-e9f08b757e36",
   "metadata": {},
   "source": [
    "![A/B test](ab_test.png)"
   ]
  }
 ],
 "metadata": {
  "kernelspec": {
   "display_name": "Python 3 (ipykernel)",
   "language": "python",
   "name": "python3"
  },
  "language_info": {
   "codemirror_mode": {
    "name": "ipython",
    "version": 3
   },
   "file_extension": ".py",
   "mimetype": "text/x-python",
   "name": "python",
   "nbconvert_exporter": "python",
   "pygments_lexer": "ipython3",
   "version": "3.10.7"
  }
 },
 "nbformat": 4,
 "nbformat_minor": 5
}
