{
 "cells": [
  {
   "cell_type": "code",
   "execution_count": 1,
   "id": "5db47ec0-0075-4e00-a78c-304f1d3f5946",
   "metadata": {},
   "outputs": [],
   "source": [
    "import pandas as pd\n",
    "import numpy as np\n",
    "import matplotlib.pyplot as plt\n",
    "import seaborn as sns\n",
    "\n",
    "sns.set_style('darkgrid')\n",
    "\n"
   ]
  },
  {
   "cell_type": "markdown",
   "id": "48e933dc-1e2a-47ee-a5e0-93e16a38cd25",
   "metadata": {},
   "source": [
    "#### The case when there is one numeric explanatory variable and one categorical explanatory variable is sometimes called a \"parallel slopes\" linear regression due to the shape of the predictions"
   ]
  },
  {
   "cell_type": "code",
   "execution_count": 2,
   "id": "a080c821-4bdf-4635-85df-71661d2c0570",
   "metadata": {},
   "outputs": [
    {
     "data": {
      "text/html": [
       "<div>\n",
       "<style scoped>\n",
       "    .dataframe tbody tr th:only-of-type {\n",
       "        vertical-align: middle;\n",
       "    }\n",
       "\n",
       "    .dataframe tbody tr th {\n",
       "        vertical-align: top;\n",
       "    }\n",
       "\n",
       "    .dataframe thead th {\n",
       "        text-align: right;\n",
       "    }\n",
       "</style>\n",
       "<table border=\"1\" class=\"dataframe\">\n",
       "  <thead>\n",
       "    <tr style=\"text-align: right;\">\n",
       "      <th></th>\n",
       "      <th>dist_to_mrt_m</th>\n",
       "      <th>n_convenience</th>\n",
       "      <th>house_age_years</th>\n",
       "      <th>price_twd_msq</th>\n",
       "    </tr>\n",
       "  </thead>\n",
       "  <tbody>\n",
       "    <tr>\n",
       "      <th>0</th>\n",
       "      <td>84.87882</td>\n",
       "      <td>10</td>\n",
       "      <td>30 to 45</td>\n",
       "      <td>11.467474</td>\n",
       "    </tr>\n",
       "    <tr>\n",
       "      <th>1</th>\n",
       "      <td>306.59470</td>\n",
       "      <td>9</td>\n",
       "      <td>15 to 30</td>\n",
       "      <td>12.768533</td>\n",
       "    </tr>\n",
       "    <tr>\n",
       "      <th>2</th>\n",
       "      <td>561.98450</td>\n",
       "      <td>5</td>\n",
       "      <td>0 to 15</td>\n",
       "      <td>14.311649</td>\n",
       "    </tr>\n",
       "    <tr>\n",
       "      <th>3</th>\n",
       "      <td>561.98450</td>\n",
       "      <td>5</td>\n",
       "      <td>0 to 15</td>\n",
       "      <td>16.580938</td>\n",
       "    </tr>\n",
       "    <tr>\n",
       "      <th>4</th>\n",
       "      <td>390.56840</td>\n",
       "      <td>5</td>\n",
       "      <td>0 to 15</td>\n",
       "      <td>13.040847</td>\n",
       "    </tr>\n",
       "  </tbody>\n",
       "</table>\n",
       "</div>"
      ],
      "text/plain": [
       "   dist_to_mrt_m  n_convenience house_age_years  price_twd_msq\n",
       "0       84.87882             10        30 to 45      11.467474\n",
       "1      306.59470              9        15 to 30      12.768533\n",
       "2      561.98450              5         0 to 15      14.311649\n",
       "3      561.98450              5         0 to 15      16.580938\n",
       "4      390.56840              5         0 to 15      13.040847"
      ]
     },
     "execution_count": 2,
     "metadata": {},
     "output_type": "execute_result"
    }
   ],
   "source": [
    "df_real_state = pd.read_csv('data/taiwan_real_estate2.csv')\n",
    "df_real_state.head()"
   ]
  },
  {
   "cell_type": "markdown",
   "id": "de38ef5b-5cf8-4666-a795-d4405bbca6ac",
   "metadata": {},
   "source": [
    "### Code book"
   ]
  },
  {
   "cell_type": "markdown",
   "id": "d2f730ab-b866-4ee8-9e0f-6afa4704eb31",
   "metadata": {},
   "source": [
    "| Column Name | Meaning |\n",
    "| ---------- | ----------------------|\n",
    "| dist_to_mrt_m |  Distance to nearest MRT metro station, in meters. |\n",
    "| n_convenience | Number of of convenience stores in walking distance. | \n",
    "| price_twd_msq | House price per unit area, in New Taiwan dollars per meter squared.|"
   ]
  },
  {
   "cell_type": "markdown",
   "id": "ec364f2b-ffc0-4eea-8f57-49d286faa8f0",
   "metadata": {},
   "source": [
    "#### Finding the **intercept and slope Between price_twd_msq and n_convenience**."
   ]
  },
  {
   "cell_type": "code",
   "execution_count": 3,
   "id": "73d98d3e-6c0b-4d50-ae54-3fd48a92052c",
   "metadata": {},
   "outputs": [
    {
     "name": "stdout",
     "output_type": "stream",
     "text": [
      "Intercept        8.224237\n",
      "n_convenience    0.798080\n",
      "dtype: float64\n"
     ]
    }
   ],
   "source": [
    "# Import ols from statsmodels.formula.api\n",
    "from statsmodels.formula.api import ols\n",
    "\n",
    "# Fit a linear regression of price_twd_msq vs. n_convenience\n",
    "mdl_price_vs_conv = ols(\"price_twd_msq ~ n_convenience\", data=df_real_state ).fit()\n",
    "\n",
    "# Print the coefficients\n",
    "print(mdl_price_vs_conv.params)"
   ]
  },
  {
   "cell_type": "markdown",
   "id": "26614f6b-c31a-4a5f-a276-20d3b640699b",
   "metadata": {},
   "source": [
    "### We can see:\n",
    "#### For each additional nearby convenience store, the expected house price, in TWD per square meter, increases by 0.79.\n",
    "#### For a house aged 0 to 15 years with zero nearby convenience stores, the expected house price is 9.41 TWD per square meter."
   ]
  },
  {
   "cell_type": "code",
   "execution_count": 4,
   "id": "a80b98b1-1e6c-42fe-9384-474ca27ba518",
   "metadata": {},
   "outputs": [
    {
     "name": "stdout",
     "output_type": "stream",
     "text": [
      "house_age_years[0 to 15]     12.637471\n",
      "house_age_years[15 to 30]     9.876743\n",
      "house_age_years[30 to 45]    11.393264\n",
      "dtype: float64 \n",
      "\n"
     ]
    }
   ],
   "source": [
    "# Fit a linear regression of price_twd_msq vs. house_age_years, no intercept\n",
    "mdl_price_vs_age = ols(\"price_twd_msq ~ house_age_years + 0\", data=df_real_state).fit()\n",
    "print(mdl_price_vs_age.params, '\\n')\n"
   ]
  },
  {
   "cell_type": "markdown",
   "id": "4501858e-ef5d-42e4-9b71-a579a072ac68",
   "metadata": {},
   "source": [
    "#### When Only using ```Categorical``` Values to modeling use 0 . **Not to include ```intercept```.**"
   ]
  },
  {
   "cell_type": "code",
   "execution_count": 5,
   "id": "dd5820cc-a6c0-459f-a31e-4c0d90b9df64",
   "metadata": {},
   "outputs": [
    {
     "name": "stdout",
     "output_type": "stream",
     "text": [
      "house_age_years[0 to 15]     9.413325\n",
      "house_age_years[15 to 30]    7.085169\n",
      "house_age_years[30 to 45]    7.510958\n",
      "n_convenience                0.791457\n",
      "dtype: float64\n"
     ]
    }
   ],
   "source": [
    "# Fit a linear regression of price_twd_msq vs. n_convenience plus house_age_years, no intercept\n",
    "mdl_price_vs_both =  ols(\"price_twd_msq ~ n_convenience + house_age_years + 0\", data=df_real_state).fit()\n",
    "\n",
    "# Print the coefficients\n",
    "print(mdl_price_vs_both.params)"
   ]
  },
  {
   "cell_type": "code",
   "execution_count": 6,
   "id": "b310e160-c8fd-4c1a-a599-84e2219eec47",
   "metadata": {},
   "outputs": [
    {
     "data": {
      "image/png": "[encoded data removed]",
      "text/plain": [
       "<Figure size 864x504 with 1 Axes>"
      ]
     },
     "metadata": {},
     "output_type": "display_data"
    }
   ],
   "source": [
    "fig =plt.figure(figsize=(12, 7))\n",
    "# Create a scatter plot with linear trend line of price_twd_msq vs. n_convenience\n",
    "sns.regplot(x='n_convenience',y='price_twd_msq', data=df_real_state)\n",
    "\n",
    "# Show the plot\n",
    "plt.show()\n"
   ]
  },
  {
   "cell_type": "code",
   "execution_count": 7,
   "id": "13cc1787-f7e9-40dc-abc1-585a02c3facf",
   "metadata": {},
   "outputs": [
    {
     "data": {
      "image/png": "[encoded data removed]",
      "text/plain": [
       "<Figure size 864x504 with 1 Axes>"
      ]
     },
     "metadata": {},
     "output_type": "display_data"
    }
   ],
   "source": [
    "fig =plt.figure(figsize=(12, 7))\n",
    "# Create a boxplot of price_twd_msq vs. house_age_years\n",
    "sns.boxenplot(x='house_age_years',y='price_twd_msq', data=df_real_state)\n",
    "plt.show()\n"
   ]
  },
  {
   "cell_type": "code",
   "execution_count": 8,
   "id": "513448b7-9e67-464d-9e5c-d427c9a214f4",
   "metadata": {},
   "outputs": [
    {
     "name": "stdout",
     "output_type": "stream",
     "text": [
      "house_age_years[0 to 15]     9.413325\n",
      "house_age_years[15 to 30]    7.085169\n",
      "house_age_years[30 to 45]    7.510958\n",
      "n_convenience                0.791457\n",
      "dtype: float64\n"
     ]
    }
   ],
   "source": [
    "# Extract the model coefficients, coeffs\n",
    "coeffs = mdl_price_vs_both.params\n",
    "\n",
    "# Print coeffs\n",
    "print(coeffs)\n",
    "\n",
    "# Assign each of the coeffs\n",
    "ic_0_15, ic_15_30, ic_30_45, slope = coeffs"
   ]
  },
  {
   "cell_type": "code",
   "execution_count": 9,
   "id": "244d166a-a540-424c-b6d9-e6d9841b618d",
   "metadata": {},
   "outputs": [
    {
     "data": {
      "image/png": "[encoded data removed]",
      "text/plain": [
       "<Figure size 864x504 with 1 Axes>"
      ]
     },
     "metadata": {},
     "output_type": "display_data"
    }
   ],
   "source": [
    "fig =plt.figure(figsize=(12, 7))\n",
    "\n",
    "# Draw a scatter plot of price_twd_msq vs. n_convenience colored by house_age_years\n",
    "sns.scatterplot(x='n_convenience', y='price_twd_msq', hue='house_age_years', data=df_real_state)\n",
    "\n",
    "# Add three parallel lines for each category of house_age_years\n",
    "# Color the line for ic_0_15 blue\n",
    "plt.axline(xy1=(0, ic_0_15), slope=slope, color=\"blue\")\n",
    "# Color the line for ic_15_30 orange\n",
    "plt.axline(xy1=(0, ic_15_30), slope=slope, color=\"orange\")\n",
    "# Color the line for ic_30_45 green\n",
    "plt.axline(xy1=(0, ic_30_45), slope=slope, color=\"green\")\n",
    "\n",
    "# Show the plot\n",
    "plt.show()\n",
    "# Show the plot\n",
    "plt.show()"
   ]
  },
  {
   "cell_type": "markdown",
   "id": "236ed1fd-8127-4fe7-a90c-1936ba7efd23",
   "metadata": {},
   "source": [
    "- #### The ```plt.axline()``` function takes three arguments in this exercise: ```xy1```, ```slope```, and ```color```.\n",
    "- #### ```xy1``` is a point for the line to pass through, and takes the form of\n",
    "- #### For each line, the x-coordinate in ```xy1``` is```0```, and the y-coordinate should be the intercept(In this case ```ic_0_15``` or others) for that category."
   ]
  },
  {
   "cell_type": "code",
   "execution_count": 10,
   "id": "97f19af8-5388-464a-a578-b90648729fb2",
   "metadata": {},
   "outputs": [
    {
     "data": {
      "text/html": [
       "<div>\n",
       "<style scoped>\n",
       "    .dataframe tbody tr th:only-of-type {\n",
       "        vertical-align: middle;\n",
       "    }\n",
       "\n",
       "    .dataframe tbody tr th {\n",
       "        vertical-align: top;\n",
       "    }\n",
       "\n",
       "    .dataframe thead th {\n",
       "        text-align: right;\n",
       "    }\n",
       "</style>\n",
       "<table border=\"1\" class=\"dataframe\">\n",
       "  <thead>\n",
       "    <tr style=\"text-align: right;\">\n",
       "      <th></th>\n",
       "      <th>species</th>\n",
       "      <th>mass_g</th>\n",
       "      <th>length_cm</th>\n",
       "    </tr>\n",
       "  </thead>\n",
       "  <tbody>\n",
       "    <tr>\n",
       "      <th>0</th>\n",
       "      <td>Bream</td>\n",
       "      <td>242.0</td>\n",
       "      <td>23.2</td>\n",
       "    </tr>\n",
       "    <tr>\n",
       "      <th>1</th>\n",
       "      <td>Bream</td>\n",
       "      <td>290.0</td>\n",
       "      <td>24.0</td>\n",
       "    </tr>\n",
       "    <tr>\n",
       "      <th>2</th>\n",
       "      <td>Bream</td>\n",
       "      <td>340.0</td>\n",
       "      <td>23.9</td>\n",
       "    </tr>\n",
       "    <tr>\n",
       "      <th>3</th>\n",
       "      <td>Bream</td>\n",
       "      <td>363.0</td>\n",
       "      <td>26.3</td>\n",
       "    </tr>\n",
       "    <tr>\n",
       "      <th>4</th>\n",
       "      <td>Bream</td>\n",
       "      <td>430.0</td>\n",
       "      <td>26.5</td>\n",
       "    </tr>\n",
       "  </tbody>\n",
       "</table>\n",
       "</div>"
      ],
      "text/plain": [
       "  species  mass_g  length_cm\n",
       "0   Bream   242.0       23.2\n",
       "1   Bream   290.0       24.0\n",
       "2   Bream   340.0       23.9\n",
       "3   Bream   363.0       26.3\n",
       "4   Bream   430.0       26.5"
      ]
     },
     "execution_count": 10,
     "metadata": {},
     "output_type": "execute_result"
    }
   ],
   "source": [
    "df_fish = pd.read_csv('data/fish.csv')\n",
    "df_fish.head()"
   ]
  },
  {
   "cell_type": "markdown",
   "id": "de672266-5b8c-43e4-91bb-16f408eae82a",
   "metadata": {},
   "source": [
    "### Finding the Parameter and Assigning to Intercept and Slope"
   ]
  },
  {
   "cell_type": "code",
   "execution_count": 112,
   "id": "4c68c17a-e2b9-4438-aba6-033f7d5a4262",
   "metadata": {},
   "outputs": [
    {
     "name": "stdout",
     "output_type": "stream",
     "text": [
      "Intercept   -536.223947\n",
      "length_cm     34.899245\n",
      "dtype: float64\n"
     ]
    }
   ],
   "source": [
    "# Fit a linear regression of species and length_cm to mass_g\n",
    "length_vs_mass = ols(\"mass_g ~ length_cm\", data=df_fish ).fit()\n",
    "\n",
    "# Print the coefficients\n",
    "print(length_vs_mass.params)\n"
   ]
  },
  {
   "cell_type": "markdown",
   "id": "018f1d46-f7d2-42d4-8aec-c60631014dea",
   "metadata": {},
   "source": [
    "### Creating Dataset"
   ]
  },
  {
   "cell_type": "code",
   "execution_count": 113,
   "id": "22ff2bd4-e754-4149-8f37-b5c6d4846067",
   "metadata": {},
   "outputs": [
    {
     "data": {
      "text/plain": [
       "array([ 5, 10, 15, 20, 25, 30, 35, 40, 45, 50, 55, 60])"
      ]
     },
     "execution_count": 113,
     "metadata": {},
     "output_type": "execute_result"
    }
   ],
   "source": [
    "from itertools import product\n",
    "\n",
    "length_fish = np.arange(5, 61, 5)\n",
    "length_fish"
   ]
  },
  {
   "cell_type": "code",
   "execution_count": 114,
   "id": "5241e0b2-cdf5-41c0-8745-43ec8323bfbe",
   "metadata": {},
   "outputs": [
    {
     "data": {
      "text/plain": [
       "array(['Bream', 'Roach', 'Perch', 'Pike'], dtype=object)"
      ]
     },
     "execution_count": 114,
     "metadata": {},
     "output_type": "execute_result"
    }
   ],
   "source": [
    "species = df_fish['species'].unique()\n",
    "species"
   ]
  },
  {
   "cell_type": "code",
   "execution_count": 115,
   "id": "74fef71b-499b-4c7a-a679-ffdea3f4da53",
   "metadata": {},
   "outputs": [],
   "source": [
    "product_of_species = product(species, length_fish)\n",
    "product_of_species = [i for i in product_of_species]"
   ]
  },
  {
   "cell_type": "code",
   "execution_count": 132,
   "id": "041d41f7-9332-4d3f-92ed-f2f66baac9e7",
   "metadata": {},
   "outputs": [
    {
     "data": {
      "text/html": [
       "<div>\n",
       "<style scoped>\n",
       "    .dataframe tbody tr th:only-of-type {\n",
       "        vertical-align: middle;\n",
       "    }\n",
       "\n",
       "    .dataframe tbody tr th {\n",
       "        vertical-align: top;\n",
       "    }\n",
       "\n",
       "    .dataframe thead th {\n",
       "        text-align: right;\n",
       "    }\n",
       "</style>\n",
       "<table border=\"1\" class=\"dataframe\">\n",
       "  <thead>\n",
       "    <tr style=\"text-align: right;\">\n",
       "      <th></th>\n",
       "      <th>species</th>\n",
       "      <th>length_cm</th>\n",
       "    </tr>\n",
       "  </thead>\n",
       "  <tbody>\n",
       "    <tr>\n",
       "      <th>0</th>\n",
       "      <td>Bream</td>\n",
       "      <td>5</td>\n",
       "    </tr>\n",
       "    <tr>\n",
       "      <th>1</th>\n",
       "      <td>Bream</td>\n",
       "      <td>10</td>\n",
       "    </tr>\n",
       "    <tr>\n",
       "      <th>2</th>\n",
       "      <td>Bream</td>\n",
       "      <td>15</td>\n",
       "    </tr>\n",
       "    <tr>\n",
       "      <th>3</th>\n",
       "      <td>Bream</td>\n",
       "      <td>20</td>\n",
       "    </tr>\n",
       "    <tr>\n",
       "      <th>4</th>\n",
       "      <td>Bream</td>\n",
       "      <td>25</td>\n",
       "    </tr>\n",
       "  </tbody>\n",
       "</table>\n",
       "</div>"
      ],
      "text/plain": [
       "  species  length_cm\n",
       "0   Bream          5\n",
       "1   Bream         10\n",
       "2   Bream         15\n",
       "3   Bream         20\n",
       "4   Bream         25"
      ]
     },
     "execution_count": 132,
     "metadata": {},
     "output_type": "execute_result"
    }
   ],
   "source": [
    "extend_df_fish = pd.DataFrame(product_of_species, columns=['species','length_cm'])\n",
    "extend_df_fish.head()"
   ]
  },
  {
   "cell_type": "code",
   "execution_count": 131,
   "id": "33e867ed-ff91-4715-aad6-80947c0b20bb",
   "metadata": {
    "tags": []
   },
   "outputs": [
    {
     "data": {
      "text/plain": [
       "0      5\n",
       "1     10\n",
       "2     15\n",
       "3     20\n",
       "4     25\n",
       "5     30\n",
       "6     35\n",
       "7     40\n",
       "8     45\n",
       "9     50\n",
       "10    55\n",
       "11    60\n",
       "12     5\n",
       "13    10\n",
       "14    15\n",
       "15    20\n",
       "16    25\n",
       "17    30\n",
       "18    35\n",
       "19    40\n",
       "20    45\n",
       "21    50\n",
       "22    55\n",
       "23    60\n",
       "24     5\n",
       "25    10\n",
       "26    15\n",
       "27    20\n",
       "28    25\n",
       "29    30\n",
       "30    35\n",
       "31    40\n",
       "32    45\n",
       "33    50\n",
       "34    55\n",
       "35    60\n",
       "36     5\n",
       "37    10\n",
       "38    15\n",
       "39    20\n",
       "40    25\n",
       "41    30\n",
       "42    35\n",
       "43    40\n",
       "44    45\n",
       "45    50\n",
       "46    55\n",
       "47    60\n",
       "Name: length_cm, dtype: int64"
      ]
     },
     "execution_count": 131,
     "metadata": {},
     "output_type": "execute_result"
    }
   ],
   "source": [
    "extend_df_length = extend_df_fish['length_cm']\n",
    "extend_df_length"
   ]
  },
  {
   "cell_type": "code",
   "execution_count": 133,
   "id": "cd8f377c-96b9-4373-9f1f-a9257d75ec8b",
   "metadata": {},
   "outputs": [
    {
     "data": {
      "text/plain": [
       "species[Bream]    -672.241866\n",
       "species[Perch]    -713.292859\n",
       "species[Pike]    -1089.456053\n",
       "species[Roach]    -726.777799\n",
       "length_cm           42.568554\n",
       "dtype: float64"
      ]
     },
     "execution_count": 133,
     "metadata": {},
     "output_type": "execute_result"
    }
   ],
   "source": [
    "# Fit a linear regression of (species and length_cm) to mass_g\n",
    "both_species_and_length_vs_mass_g = ols(\"mass_g ~ length_cm + species + 0 \", data = df_fish).fit()\n",
    "both_species_and_length_vs_mass_g.params"
   ]
  },
  {
   "cell_type": "code",
   "execution_count": 135,
   "id": "c3fa0384-b3c2-4867-9ba5-0fcaf94035b6",
   "metadata": {
    "tags": []
   },
   "outputs": [
    {
     "data": {
      "text/html": [
       "<div>\n",
       "<style scoped>\n",
       "    .dataframe tbody tr th:only-of-type {\n",
       "        vertical-align: middle;\n",
       "    }\n",
       "\n",
       "    .dataframe tbody tr th {\n",
       "        vertical-align: top;\n",
       "    }\n",
       "\n",
       "    .dataframe thead th {\n",
       "        text-align: right;\n",
       "    }\n",
       "</style>\n",
       "<table border=\"1\" class=\"dataframe\">\n",
       "  <thead>\n",
       "    <tr style=\"text-align: right;\">\n",
       "      <th></th>\n",
       "      <th>species</th>\n",
       "      <th>length_cm</th>\n",
       "      <th>mass_g</th>\n",
       "    </tr>\n",
       "  </thead>\n",
       "  <tbody>\n",
       "    <tr>\n",
       "      <th>0</th>\n",
       "      <td>Bream</td>\n",
       "      <td>5</td>\n",
       "      <td>-459.399096</td>\n",
       "    </tr>\n",
       "    <tr>\n",
       "      <th>1</th>\n",
       "      <td>Bream</td>\n",
       "      <td>10</td>\n",
       "      <td>-246.556325</td>\n",
       "    </tr>\n",
       "    <tr>\n",
       "      <th>2</th>\n",
       "      <td>Bream</td>\n",
       "      <td>15</td>\n",
       "      <td>-33.713555</td>\n",
       "    </tr>\n",
       "    <tr>\n",
       "      <th>3</th>\n",
       "      <td>Bream</td>\n",
       "      <td>20</td>\n",
       "      <td>179.129216</td>\n",
       "    </tr>\n",
       "    <tr>\n",
       "      <th>4</th>\n",
       "      <td>Bream</td>\n",
       "      <td>25</td>\n",
       "      <td>391.971986</td>\n",
       "    </tr>\n",
       "    <tr>\n",
       "      <th>5</th>\n",
       "      <td>Bream</td>\n",
       "      <td>30</td>\n",
       "      <td>604.814756</td>\n",
       "    </tr>\n",
       "    <tr>\n",
       "      <th>6</th>\n",
       "      <td>Bream</td>\n",
       "      <td>35</td>\n",
       "      <td>817.657527</td>\n",
       "    </tr>\n",
       "    <tr>\n",
       "      <th>7</th>\n",
       "      <td>Bream</td>\n",
       "      <td>40</td>\n",
       "      <td>1030.500297</td>\n",
       "    </tr>\n",
       "    <tr>\n",
       "      <th>8</th>\n",
       "      <td>Bream</td>\n",
       "      <td>45</td>\n",
       "      <td>1243.343067</td>\n",
       "    </tr>\n",
       "    <tr>\n",
       "      <th>9</th>\n",
       "      <td>Bream</td>\n",
       "      <td>50</td>\n",
       "      <td>1456.185838</td>\n",
       "    </tr>\n",
       "    <tr>\n",
       "      <th>10</th>\n",
       "      <td>Bream</td>\n",
       "      <td>55</td>\n",
       "      <td>1669.028608</td>\n",
       "    </tr>\n",
       "    <tr>\n",
       "      <th>11</th>\n",
       "      <td>Bream</td>\n",
       "      <td>60</td>\n",
       "      <td>1881.871379</td>\n",
       "    </tr>\n",
       "    <tr>\n",
       "      <th>12</th>\n",
       "      <td>Roach</td>\n",
       "      <td>5</td>\n",
       "      <td>-513.935028</td>\n",
       "    </tr>\n",
       "    <tr>\n",
       "      <th>13</th>\n",
       "      <td>Roach</td>\n",
       "      <td>10</td>\n",
       "      <td>-301.092258</td>\n",
       "    </tr>\n",
       "    <tr>\n",
       "      <th>14</th>\n",
       "      <td>Roach</td>\n",
       "      <td>15</td>\n",
       "      <td>-88.249488</td>\n",
       "    </tr>\n",
       "    <tr>\n",
       "      <th>15</th>\n",
       "      <td>Roach</td>\n",
       "      <td>20</td>\n",
       "      <td>124.593283</td>\n",
       "    </tr>\n",
       "    <tr>\n",
       "      <th>16</th>\n",
       "      <td>Roach</td>\n",
       "      <td>25</td>\n",
       "      <td>337.436053</td>\n",
       "    </tr>\n",
       "    <tr>\n",
       "      <th>17</th>\n",
       "      <td>Roach</td>\n",
       "      <td>30</td>\n",
       "      <td>550.278823</td>\n",
       "    </tr>\n",
       "    <tr>\n",
       "      <th>18</th>\n",
       "      <td>Roach</td>\n",
       "      <td>35</td>\n",
       "      <td>763.121594</td>\n",
       "    </tr>\n",
       "    <tr>\n",
       "      <th>19</th>\n",
       "      <td>Roach</td>\n",
       "      <td>40</td>\n",
       "      <td>975.964364</td>\n",
       "    </tr>\n",
       "    <tr>\n",
       "      <th>20</th>\n",
       "      <td>Roach</td>\n",
       "      <td>45</td>\n",
       "      <td>1188.807134</td>\n",
       "    </tr>\n",
       "    <tr>\n",
       "      <th>21</th>\n",
       "      <td>Roach</td>\n",
       "      <td>50</td>\n",
       "      <td>1401.649905</td>\n",
       "    </tr>\n",
       "    <tr>\n",
       "      <th>22</th>\n",
       "      <td>Roach</td>\n",
       "      <td>55</td>\n",
       "      <td>1614.492675</td>\n",
       "    </tr>\n",
       "    <tr>\n",
       "      <th>23</th>\n",
       "      <td>Roach</td>\n",
       "      <td>60</td>\n",
       "      <td>1827.335446</td>\n",
       "    </tr>\n",
       "    <tr>\n",
       "      <th>24</th>\n",
       "      <td>Perch</td>\n",
       "      <td>5</td>\n",
       "      <td>-500.450089</td>\n",
       "    </tr>\n",
       "    <tr>\n",
       "      <th>25</th>\n",
       "      <td>Perch</td>\n",
       "      <td>10</td>\n",
       "      <td>-287.607319</td>\n",
       "    </tr>\n",
       "    <tr>\n",
       "      <th>26</th>\n",
       "      <td>Perch</td>\n",
       "      <td>15</td>\n",
       "      <td>-74.764548</td>\n",
       "    </tr>\n",
       "    <tr>\n",
       "      <th>27</th>\n",
       "      <td>Perch</td>\n",
       "      <td>20</td>\n",
       "      <td>138.078222</td>\n",
       "    </tr>\n",
       "    <tr>\n",
       "      <th>28</th>\n",
       "      <td>Perch</td>\n",
       "      <td>25</td>\n",
       "      <td>350.920992</td>\n",
       "    </tr>\n",
       "    <tr>\n",
       "      <th>29</th>\n",
       "      <td>Perch</td>\n",
       "      <td>30</td>\n",
       "      <td>563.763763</td>\n",
       "    </tr>\n",
       "    <tr>\n",
       "      <th>30</th>\n",
       "      <td>Perch</td>\n",
       "      <td>35</td>\n",
       "      <td>776.606533</td>\n",
       "    </tr>\n",
       "    <tr>\n",
       "      <th>31</th>\n",
       "      <td>Perch</td>\n",
       "      <td>40</td>\n",
       "      <td>989.449303</td>\n",
       "    </tr>\n",
       "    <tr>\n",
       "      <th>32</th>\n",
       "      <td>Perch</td>\n",
       "      <td>45</td>\n",
       "      <td>1202.292074</td>\n",
       "    </tr>\n",
       "    <tr>\n",
       "      <th>33</th>\n",
       "      <td>Perch</td>\n",
       "      <td>50</td>\n",
       "      <td>1415.134844</td>\n",
       "    </tr>\n",
       "    <tr>\n",
       "      <th>34</th>\n",
       "      <td>Perch</td>\n",
       "      <td>55</td>\n",
       "      <td>1627.977615</td>\n",
       "    </tr>\n",
       "    <tr>\n",
       "      <th>35</th>\n",
       "      <td>Perch</td>\n",
       "      <td>60</td>\n",
       "      <td>1840.820385</td>\n",
       "    </tr>\n",
       "    <tr>\n",
       "      <th>36</th>\n",
       "      <td>Pike</td>\n",
       "      <td>5</td>\n",
       "      <td>-876.613282</td>\n",
       "    </tr>\n",
       "    <tr>\n",
       "      <th>37</th>\n",
       "      <td>Pike</td>\n",
       "      <td>10</td>\n",
       "      <td>-663.770512</td>\n",
       "    </tr>\n",
       "    <tr>\n",
       "      <th>38</th>\n",
       "      <td>Pike</td>\n",
       "      <td>15</td>\n",
       "      <td>-450.927742</td>\n",
       "    </tr>\n",
       "    <tr>\n",
       "      <th>39</th>\n",
       "      <td>Pike</td>\n",
       "      <td>20</td>\n",
       "      <td>-238.084971</td>\n",
       "    </tr>\n",
       "    <tr>\n",
       "      <th>40</th>\n",
       "      <td>Pike</td>\n",
       "      <td>25</td>\n",
       "      <td>-25.242201</td>\n",
       "    </tr>\n",
       "    <tr>\n",
       "      <th>41</th>\n",
       "      <td>Pike</td>\n",
       "      <td>30</td>\n",
       "      <td>187.600569</td>\n",
       "    </tr>\n",
       "    <tr>\n",
       "      <th>42</th>\n",
       "      <td>Pike</td>\n",
       "      <td>35</td>\n",
       "      <td>400.443340</td>\n",
       "    </tr>\n",
       "    <tr>\n",
       "      <th>43</th>\n",
       "      <td>Pike</td>\n",
       "      <td>40</td>\n",
       "      <td>613.286110</td>\n",
       "    </tr>\n",
       "    <tr>\n",
       "      <th>44</th>\n",
       "      <td>Pike</td>\n",
       "      <td>45</td>\n",
       "      <td>826.128881</td>\n",
       "    </tr>\n",
       "    <tr>\n",
       "      <th>45</th>\n",
       "      <td>Pike</td>\n",
       "      <td>50</td>\n",
       "      <td>1038.971651</td>\n",
       "    </tr>\n",
       "    <tr>\n",
       "      <th>46</th>\n",
       "      <td>Pike</td>\n",
       "      <td>55</td>\n",
       "      <td>1251.814421</td>\n",
       "    </tr>\n",
       "    <tr>\n",
       "      <th>47</th>\n",
       "      <td>Pike</td>\n",
       "      <td>60</td>\n",
       "      <td>1464.657192</td>\n",
       "    </tr>\n",
       "  </tbody>\n",
       "</table>\n",
       "</div>"
      ],
      "text/plain": [
       "   species  length_cm       mass_g\n",
       "0    Bream          5  -459.399096\n",
       "1    Bream         10  -246.556325\n",
       "2    Bream         15   -33.713555\n",
       "3    Bream         20   179.129216\n",
       "4    Bream         25   391.971986\n",
       "5    Bream         30   604.814756\n",
       "6    Bream         35   817.657527\n",
       "7    Bream         40  1030.500297\n",
       "8    Bream         45  1243.343067\n",
       "9    Bream         50  1456.185838\n",
       "10   Bream         55  1669.028608\n",
       "11   Bream         60  1881.871379\n",
       "12   Roach          5  -513.935028\n",
       "13   Roach         10  -301.092258\n",
       "14   Roach         15   -88.249488\n",
       "15   Roach         20   124.593283\n",
       "16   Roach         25   337.436053\n",
       "17   Roach         30   550.278823\n",
       "18   Roach         35   763.121594\n",
       "19   Roach         40   975.964364\n",
       "20   Roach         45  1188.807134\n",
       "21   Roach         50  1401.649905\n",
       "22   Roach         55  1614.492675\n",
       "23   Roach         60  1827.335446\n",
       "24   Perch          5  -500.450089\n",
       "25   Perch         10  -287.607319\n",
       "26   Perch         15   -74.764548\n",
       "27   Perch         20   138.078222\n",
       "28   Perch         25   350.920992\n",
       "29   Perch         30   563.763763\n",
       "30   Perch         35   776.606533\n",
       "31   Perch         40   989.449303\n",
       "32   Perch         45  1202.292074\n",
       "33   Perch         50  1415.134844\n",
       "34   Perch         55  1627.977615\n",
       "35   Perch         60  1840.820385\n",
       "36    Pike          5  -876.613282\n",
       "37    Pike         10  -663.770512\n",
       "38    Pike         15  -450.927742\n",
       "39    Pike         20  -238.084971\n",
       "40    Pike         25   -25.242201\n",
       "41    Pike         30   187.600569\n",
       "42    Pike         35   400.443340\n",
       "43    Pike         40   613.286110\n",
       "44    Pike         45   826.128881\n",
       "45    Pike         50  1038.971651\n",
       "46    Pike         55  1251.814421\n",
       "47    Pike         60  1464.657192"
      ]
     },
     "execution_count": 135,
     "metadata": {},
     "output_type": "execute_result"
    }
   ],
   "source": [
    "predictions_of_length = extend_df_fish.assign(mass_g = both_species_and_length_vs_mass_g.predict(extend_df_fish))\n",
    "predictions_of_length"
   ]
  },
  {
   "cell_type": "markdown",
   "id": "442ff59d-fceb-41b8-a6b7-eb9ab8c506b4",
   "metadata": {},
   "source": [
    "### Calculating Intercept and Slope for both ```length_fish``` and ```species```"
   ]
  },
  {
   "cell_type": "code",
   "execution_count": 136,
   "id": "06bbc2e4-04a3-4332-97f4-fa4164a641fa",
   "metadata": {},
   "outputs": [
    {
     "name": "stdout",
     "output_type": "stream",
     "text": [
      "species[Bream]    -672.241866\n",
      "species[Perch]    -713.292859\n",
      "species[Pike]    -1089.456053\n",
      "species[Roach]    -726.777799\n",
      "length_cm           42.568554\n",
      "dtype: float64\n"
     ]
    }
   ],
   "source": [
    "# Fit a linear regression of (species and length_cm) to mass_g\n",
    "species_length_vs_mass_both = ols(\"mass_g ~ length_cm + species + 0\", data=df_fish).fit()\n",
    "\n",
    "# Print the coefficients\n",
    "print(species_length_vs_mass_both.params)\n",
    "it_br, it_pe, it_pi, it_ro, slope = species_length_vs_mass_both.params"
   ]
  },
  {
   "cell_type": "markdown",
   "id": "7ef88279-a850-4b44-bc14-27e949b81f14",
   "metadata": {},
   "source": [
    "### Visualizing the Prediction vs Actual Data"
   ]
  },
  {
   "cell_type": "code",
   "execution_count": 137,
   "id": "0aa903b9-3fd1-4a73-854e-91b1bd8f97ac",
   "metadata": {},
   "outputs": [
    {
     "data": {
      "image/png": "[encoded data removed]",
      "text/plain": [
       "<Figure size 864x504 with 1 Axes>"
      ]
     },
     "metadata": {},
     "output_type": "display_data"
    }
   ],
   "source": [
    "fig =plt.figure(figsize=(12, 7))\n",
    "\n",
    "sns.scatterplot(x='length_cm',\n",
    "                y='mass_g',\n",
    "                hue='species',\n",
    "                data=df_fish)\n",
    "sns.scatterplot(x='length_cm',\n",
    "                y='mass_g',\n",
    "                color='black',\n",
    "                data=predictions_of_length)\n",
    "\n",
    "plt.axline(xy1=(0, it_br), slope=slope, color='blue')\n",
    "plt.axline(xy1=(0, it_pe), slope=slope, color='green')\n",
    "plt.axline(xy1=(0, it_pi), slope=slope, color='yellow')\n",
    "plt.axline(xy1=(0, it_ro), slope=slope, color='red')\n",
    "plt.show()"
   ]
  },
  {
   "cell_type": "code",
   "execution_count": 138,
   "id": "f41db7b4-9f6b-444e-8470-e2c69b58d0c3",
   "metadata": {},
   "outputs": [],
   "source": [
    "conditions = [\n",
    "    predictions_of_length['species'] == 'Bream',\n",
    "    predictions_of_length['species'] == 'Perch',\n",
    "    predictions_of_length['species'] == 'Pike',\n",
    "    predictions_of_length['species'] == 'Roach'\n",
    "]\n",
    "choices = [it_br, it_pe, it_pi, it_ro]"
   ]
  },
  {
   "cell_type": "code",
   "execution_count": 139,
   "id": "1b9287fd-bdc6-4d91-85f4-605e6664f8e0",
   "metadata": {},
   "outputs": [],
   "source": [
    "intercept = np.select(conditions, choices)"
   ]
  },
  {
   "cell_type": "code",
   "execution_count": 140,
   "id": "140fc5be-25cf-4d11-b5f6-0bfd66e3c564",
   "metadata": {},
   "outputs": [
    {
     "data": {
      "text/html": [
       "<div>\n",
       "<style scoped>\n",
       "    .dataframe tbody tr th:only-of-type {\n",
       "        vertical-align: middle;\n",
       "    }\n",
       "\n",
       "    .dataframe tbody tr th {\n",
       "        vertical-align: top;\n",
       "    }\n",
       "\n",
       "    .dataframe thead th {\n",
       "        text-align: right;\n",
       "    }\n",
       "</style>\n",
       "<table border=\"1\" class=\"dataframe\">\n",
       "  <thead>\n",
       "    <tr style=\"text-align: right;\">\n",
       "      <th></th>\n",
       "      <th>species</th>\n",
       "      <th>length_cm</th>\n",
       "      <th>intercept</th>\n",
       "      <th>mass_g</th>\n",
       "    </tr>\n",
       "  </thead>\n",
       "  <tbody>\n",
       "    <tr>\n",
       "      <th>0</th>\n",
       "      <td>Bream</td>\n",
       "      <td>5</td>\n",
       "      <td>-672.241866</td>\n",
       "      <td>-459.399096</td>\n",
       "    </tr>\n",
       "    <tr>\n",
       "      <th>1</th>\n",
       "      <td>Bream</td>\n",
       "      <td>10</td>\n",
       "      <td>-672.241866</td>\n",
       "      <td>-246.556325</td>\n",
       "    </tr>\n",
       "    <tr>\n",
       "      <th>2</th>\n",
       "      <td>Bream</td>\n",
       "      <td>15</td>\n",
       "      <td>-672.241866</td>\n",
       "      <td>-33.713555</td>\n",
       "    </tr>\n",
       "    <tr>\n",
       "      <th>3</th>\n",
       "      <td>Bream</td>\n",
       "      <td>20</td>\n",
       "      <td>-672.241866</td>\n",
       "      <td>179.129216</td>\n",
       "    </tr>\n",
       "    <tr>\n",
       "      <th>4</th>\n",
       "      <td>Bream</td>\n",
       "      <td>25</td>\n",
       "      <td>-672.241866</td>\n",
       "      <td>391.971986</td>\n",
       "    </tr>\n",
       "  </tbody>\n",
       "</table>\n",
       "</div>"
      ],
      "text/plain": [
       "  species  length_cm   intercept      mass_g\n",
       "0   Bream          5 -672.241866 -459.399096\n",
       "1   Bream         10 -672.241866 -246.556325\n",
       "2   Bream         15 -672.241866  -33.713555\n",
       "3   Bream         20 -672.241866  179.129216\n",
       "4   Bream         25 -672.241866  391.971986"
      ]
     },
     "execution_count": 140,
     "metadata": {},
     "output_type": "execute_result"
    }
   ],
   "source": [
    "predictions_of_length_scores = extend_df_fish.assign(\n",
    "    intercept = np.select(conditions, choices),\n",
    "    mass_g = intercept + slope * extend_df_fish['length_cm']\n",
    ")\n",
    "predictions_of_length_scores.head()"
   ]
  },
  {
   "cell_type": "markdown",
   "id": "9e4cea7d-b6d3-4bde-8422-e8a6f342f72e",
   "metadata": {},
   "source": [
    "### Verification the Score"
   ]
  },
  {
   "cell_type": "code",
   "execution_count": 164,
   "id": "90b1d218-dc77-4408-9f0d-6cea50f75b82",
   "metadata": {},
   "outputs": [
    {
     "data": {
      "text/html": [
       "<div>\n",
       "<style scoped>\n",
       "    .dataframe tbody tr th:only-of-type {\n",
       "        vertical-align: middle;\n",
       "    }\n",
       "\n",
       "    .dataframe tbody tr th {\n",
       "        vertical-align: top;\n",
       "    }\n",
       "\n",
       "    .dataframe thead th {\n",
       "        text-align: right;\n",
       "    }\n",
       "</style>\n",
       "<table border=\"1\" class=\"dataframe\">\n",
       "  <thead>\n",
       "    <tr style=\"text-align: right;\">\n",
       "      <th></th>\n",
       "      <th>species</th>\n",
       "      <th>length_cm</th>\n",
       "      <th>mass_g</th>\n",
       "    </tr>\n",
       "  </thead>\n",
       "  <tbody>\n",
       "    <tr>\n",
       "      <th>0</th>\n",
       "      <td>Bream</td>\n",
       "      <td>5</td>\n",
       "      <td>-459.399096</td>\n",
       "    </tr>\n",
       "    <tr>\n",
       "      <th>1</th>\n",
       "      <td>Bream</td>\n",
       "      <td>10</td>\n",
       "      <td>-246.556325</td>\n",
       "    </tr>\n",
       "    <tr>\n",
       "      <th>2</th>\n",
       "      <td>Bream</td>\n",
       "      <td>15</td>\n",
       "      <td>-33.713555</td>\n",
       "    </tr>\n",
       "    <tr>\n",
       "      <th>3</th>\n",
       "      <td>Bream</td>\n",
       "      <td>20</td>\n",
       "      <td>179.129216</td>\n",
       "    </tr>\n",
       "    <tr>\n",
       "      <th>4</th>\n",
       "      <td>Bream</td>\n",
       "      <td>25</td>\n",
       "      <td>391.971986</td>\n",
       "    </tr>\n",
       "  </tbody>\n",
       "</table>\n",
       "</div>"
      ],
      "text/plain": [
       "  species  length_cm      mass_g\n",
       "0   Bream          5 -459.399096\n",
       "1   Bream         10 -246.556325\n",
       "2   Bream         15  -33.713555\n",
       "3   Bream         20  179.129216\n",
       "4   Bream         25  391.971986"
      ]
     },
     "execution_count": 164,
     "metadata": {},
     "output_type": "execute_result"
    }
   ],
   "source": [
    "predictions_of_length.head()"
   ]
  },
  {
   "cell_type": "markdown",
   "id": "d291c70a-bd6b-436e-bf23-49171adc1d2f",
   "metadata": {},
   "source": [
    "#### The coefficient of determination, sometimes known as the ```R-squared value```, measures how good the regression's prediction line fits the observed values, and **a larger number is better**```(between 0-1)```. \n",
    "#### The residual standard error, sometimes abbreviated as ```RSE```, is - loosely speaking - the typical size of the residuals. **The smaller the better.** "
   ]
  },
  {
   "cell_type": "markdown",
   "id": "bb1e7f76-1e37-4d35-945d-84556ba7f82b",
   "metadata": {},
   "source": [
    "#### A variant metric called adjusted coefficient of determination includes a small penalty term for each additional explanatory variable to compensate for this effect. **Its a better metric than the plain coefficient of determination.** The ```penalty is big enough to worry about if the plain coefficient of determination is small```, or if the number of explanatory variables is a sizable fraction of the number of observations. To"
   ]
  },
  {
   "cell_type": "markdown",
   "id": "12680119-9061-4877-ba25-06a7f3a2d607",
   "metadata": {},
   "source": [
    "#### a lower RSE was achieved, indicating a smaller difference between the predicted responses and the actual responses."
   ]
  },
  {
   "cell_type": "code",
   "execution_count": null,
   "id": "36756ccb-9fd1-4e9b-891b-b4beca007fdd",
   "metadata": {},
   "outputs": [],
   "source": []
  },
  {
   "cell_type": "code",
   "execution_count": null,
   "id": "35f04e9a-246e-4e80-8fad-f162ef694b23",
   "metadata": {},
   "outputs": [],
   "source": []
  },
  {
   "cell_type": "code",
   "execution_count": null,
   "id": "b5fe2275-0ab7-40a2-9253-8b05903c548a",
   "metadata": {},
   "outputs": [],
   "source": []
  },
  {
   "cell_type": "code",
   "execution_count": null,
   "id": "0a0dd4b0-6a8a-4c14-b6cc-f9affcaebf13",
   "metadata": {},
   "outputs": [],
   "source": []
  },
  {
   "cell_type": "code",
   "execution_count": null,
   "id": "5c9aec2e-2fc7-4f9b-8d7c-5a3f74eb3296",
   "metadata": {},
   "outputs": [],
   "source": []
  },
  {
   "cell_type": "code",
   "execution_count": null,
   "id": "9dcd465c-63fc-47ab-a788-1d60a0a07aed",
   "metadata": {},
   "outputs": [],
   "source": []
  },
  {
   "cell_type": "code",
   "execution_count": null,
   "id": "79f58672-544c-4fc7-9c22-65bdcbc83fd5",
   "metadata": {},
   "outputs": [],
   "source": []
  },
  {
   "cell_type": "code",
   "execution_count": null,
   "id": "8dbbd864-8eb2-4f3c-8109-f80fd64bd6bf",
   "metadata": {},
   "outputs": [],
   "source": []
  },
  {
   "cell_type": "code",
   "execution_count": null,
   "id": "465f9f29-5c23-4de5-85a3-fdb562cc4f13",
   "metadata": {},
   "outputs": [],
   "source": []
  },
  {
   "cell_type": "code",
   "execution_count": null,
   "id": "75f2d856-50a8-4a9a-a18a-1e28b67f1c0c",
   "metadata": {},
   "outputs": [],
   "source": []
  },
  {
   "cell_type": "code",
   "execution_count": null,
   "id": "925b79d6-c2aa-4817-b5e3-5b21d562ead8",
   "metadata": {},
   "outputs": [],
   "source": []
  },
  {
   "cell_type": "code",
   "execution_count": null,
   "id": "f10d94e7-a428-41b1-a9a1-46e26dc53305",
   "metadata": {},
   "outputs": [],
   "source": []
  },
  {
   "cell_type": "code",
   "execution_count": null,
   "id": "5b5b15c9-64c3-4f7b-8626-5a3019b3eca7",
   "metadata": {},
   "outputs": [],
   "source": []
  },
  {
   "cell_type": "code",
   "execution_count": null,
   "id": "beea8eb0-97e3-4bf4-84a6-6d4e68caf72f",
   "metadata": {},
   "outputs": [],
   "source": []
  },
  {
   "cell_type": "code",
   "execution_count": null,
   "id": "9d75efa4-71c5-4efc-8a9f-8ce68f7f0019",
   "metadata": {},
   "outputs": [],
   "source": []
  },
  {
   "cell_type": "code",
   "execution_count": null,
   "id": "3c57aa1b-09ac-448c-bf61-dd8ec333ed54",
   "metadata": {},
   "outputs": [],
   "source": []
  },
  {
   "cell_type": "code",
   "execution_count": null,
   "id": "89672026-0fa3-44e0-9501-9c908c2e3603",
   "metadata": {},
   "outputs": [],
   "source": []
  }
 ],
 "metadata": {
  "kernelspec": {
   "display_name": "Python 3 (ipykernel)",
   "language": "python",
   "name": "python3"
  },
  "language_info": {
   "codemirror_mode": {
    "name": "ipython",
    "version": 3
   },
   "file_extension": ".py",
   "mimetype": "text/x-python",
   "name": "python",
   "nbconvert_exporter": "python",
   "pygments_lexer": "ipython3",
   "version": "3.10.7"
  }
 },
 "nbformat": 4,
 "nbformat_minor": 5
}
