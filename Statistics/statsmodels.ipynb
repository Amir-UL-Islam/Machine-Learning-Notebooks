{
 "cells": [
  {
   "cell_type": "code",
   "execution_count": 1,
   "id": "5db47ec0-0075-4e00-a78c-304f1d3f5946",
   "metadata": {},
   "outputs": [],
   "source": [
    "import statsmodels as smodels"
   ]
  },
  {
   "cell_type": "code",
   "execution_count": null,
   "id": "ab24e6b0-8e23-42dd-a6dc-4deac95a857d",
   "metadata": {},
   "outputs": [],
   "source": [
    " "
   ]
  },
  {
   "cell_type": "code",
   "execution_count": null,
   "id": "a080c821-4bdf-4635-85df-71661d2c0570",
   "metadata": {},
   "outputs": [],
   "source": []
  },
  {
   "cell_type": "code",
   "execution_count": null,
   "id": "24e3b079-80e4-4ef7-bd43-a8be5f531535",
   "metadata": {},
   "outputs": [],
   "source": []
  },
  {
   "cell_type": "code",
   "execution_count": null,
   "id": "73d98d3e-6c0b-4d50-ae54-3fd48a92052c",
   "metadata": {},
   "outputs": [],
   "source": []
  },
  {
   "cell_type": "code",
   "execution_count": null,
   "id": "a80b98b1-1e6c-42fe-9384-474ca27ba518",
   "metadata": {},
   "outputs": [],
   "source": []
  },
  {
   "cell_type": "code",
   "execution_count": null,
   "id": "5d6bd123-bd94-49b5-84af-d1d2ad8f481e",
   "metadata": {},
   "outputs": [],
   "source": []
  }
 ],
 "metadata": {
  "kernelspec": {
   "display_name": "Python 3 (ipykernel)",
   "language": "python",
   "name": "python3"
  },
  "language_info": {
   "codemirror_mode": {
    "name": "ipython",
    "version": 3
   },
   "file_extension": ".py",
   "mimetype": "text/x-python",
   "name": "python",
   "nbconvert_exporter": "python",
   "pygments_lexer": "ipython3",
   "version": "3.10.7"
  }
 },
 "nbformat": 4,
 "nbformat_minor": 5
}
