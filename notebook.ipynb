{
 "cells": [
  {
   "cell_type": "markdown",
   "id": "c94e9995-f3b2-4000-a8c5-ab4c2cddb173",
   "metadata": {},
   "source": [
    "# Data Processing"
   ]
  },
  {
   "cell_type": "markdown",
   "id": "797d9ab7-9e6f-477b-95a8-b6ef17a9add6",
   "metadata": {},
   "source": [
    "#### Data is the most important element of Machine Learning Industry. Given a large and diverse set of training data, a good deep learning model will significantly outperform non-deep learning algorithms.\n"
   ]
  },
  {
   "cell_type": "markdown",
   "id": "4dda66f7-c138-40ea-863f-e387b16a905b",
   "metadata": {},
   "source": [
    "# Getting Started with NumPy"
   ]
  },
  {
   "cell_type": "markdown",
   "id": "c7139c11-00a9-453a-995a-a630d8a019ba",
   "metadata": {},
   "source": [
    "#### The majority of neural networks use input data that is either numeric or has been converted to a numeric form. When we deal with numeric data, the best Python library to use is NumPy. The NumPy library allows us to perform many operations on numeric data, and convert the data to more usable forms.\n",
    "#### And NumPy aims to provide an array object that is up to **50x faster** than traditional Python lists.\n",
    "### Its a commone practice to import NumPy **alias** with **np** Like\n",
    "> import **numpy** as **np**"
   ]
  },
  {
   "cell_type": "markdown",
   "id": "9ac06c35-1005-4a9f-a3c8-f0fc83025fc3",
   "metadata": {},
   "source": [
    "# NumPy Arrays"
   ]
  },
  {
   "cell_type": "markdown",
   "id": "4c5deb54-afa8-4eb3-8c5a-056acf523f28",
   "metadata": {},
   "source": [
    "#### NumPy arrays are basically just Python lists with added features. In fact, you can easily convert a Python list to a Numpy array using the np.array function, which takes in a Python list as its required argument.\n",
    "#### The function also has quite a few keyword arguments, but the main one to know is **dtype**.\n",
    "#### The dtype keyword argument takes in a NumPy type and manually casts the array to the specified type."
   ]
  },
  {
   "cell_type": "code",
   "execution_count": 2,
   "id": "9acbcdab-195b-4e61-98dc-d40a4f9305f4",
   "metadata": {},
   "outputs": [
    {
     "name": "stdout",
     "output_type": "stream",
     "text": [
      "array([[0., 1., 2.],\n",
      "       [3., 4., 5.]], dtype=float32)\n"
     ]
    }
   ],
   "source": [
    "import numpy as np\n",
    "\n",
    "arr = np.array([[0, 1, 2], [3, 4, 5]],\n",
    "               dtype=np.float32)\n",
    "print(repr(arr))"
   ]
  },
  {
   "cell_type": "markdown",
   "id": "149dc887-d1c3-46cc-9f40-8c19cfcc7b3a",
   "metadata": {},
   "source": [
    "## Copying"
   ]
  },
  {
   "cell_type": "code",
   "execution_count": 6,
   "id": "2bc0b4bc-b25a-4623-9bb2-62de1035ae65",
   "metadata": {},
   "outputs": [
    {
     "name": "stdout",
     "output_type": "stream",
     "text": [
      "Array a: array([0, 1])\n",
      "Array a: array([5, 1])\n",
      "Array b: array([9, 8])\n"
     ]
    }
   ],
   "source": [
    "a = np.array([0, 1])\n",
    "b = np.array([9, 8])\n",
    "c = a\n",
    "print('Array a: {}'.format(repr(a)))\n",
    "c[0] = 5\n",
    "print('Array a: {}'.format(repr(a)))\n",
    "\n",
    "d = b.copy()\n",
    "d[0] = 6\n",
    "print('Array b: {}'.format(repr(b)))"
   ]
  },
  {
   "cell_type": "markdown",
   "id": "76ee5890-963e-42a4-a79a-199756fe9207",
   "metadata": {},
   "source": [
    "## Casting"
   ]
  },
  {
   "cell_type": "code",
   "execution_count": 8,
   "id": "2e8e2b30-0dd6-4098-8115-57cbe8719945",
   "metadata": {},
   "outputs": [
    {
     "name": "stdout",
     "output_type": "stream",
     "text": [
      "int64\n",
      "float32\n"
     ]
    }
   ],
   "source": [
    "arr = np.array([0, 1, 2])\n",
    "print(arr.dtype)\n",
    "arr = arr.astype(np.float32)\n",
    "print(arr.dtype)"
   ]
  },
  {
   "cell_type": "markdown",
   "id": "b9177b46-fe34-47f6-9399-b1202097e5d6",
   "metadata": {},
   "source": [
    "## NaN & Infinity"
   ]
  },
  {
   "cell_type": "markdown",
   "id": "0ef584ee-f48b-4da9-9922-bdc996895a31",
   "metadata": {},
   "source": [
    "* Note that np.nan cannot take on an integer type.\n",
    "* Note that np.inf cannot take on an integer type.\n",
    "### Try it by uncommenting and commenting the code chunks"
   ]
  },
  {
   "cell_type": "code",
   "execution_count": 18,
   "id": "7633451c-4391-4f2a-b3ad-12488b0e23b6",
   "metadata": {},
   "outputs": [
    {
     "name": "stdout",
     "output_type": "stream",
     "text": [
      "True\n",
      "array([inf,  5.])\n",
      "array([-inf,   1.])\n"
     ]
    },
    {
     "ename": "OverflowError",
     "evalue": "cannot convert float infinity to integer",
     "output_type": "error",
     "traceback": [
      "\u001b[0;31m---------------------------------------------------------------------------\u001b[0m",
      "\u001b[0;31mOverflowError\u001b[0m                             Traceback (most recent call last)",
      "\u001b[0;32m/tmp/ipykernel_3651/254605026.py\u001b[0m in \u001b[0;36m<module>\u001b[0;34m\u001b[0m\n\u001b[1;32m     19\u001b[0m \u001b[0;34m\u001b[0m\u001b[0m\n\u001b[1;32m     20\u001b[0m \u001b[0;31m# Will result in an OverflowError\u001b[0m\u001b[0;34m\u001b[0m\u001b[0;34m\u001b[0m\u001b[0m\n\u001b[0;32m---> 21\u001b[0;31m \u001b[0mnp\u001b[0m\u001b[0;34m.\u001b[0m\u001b[0marray\u001b[0m\u001b[0;34m(\u001b[0m\u001b[0;34m[\u001b[0m\u001b[0mnp\u001b[0m\u001b[0;34m.\u001b[0m\u001b[0minf\u001b[0m\u001b[0;34m,\u001b[0m \u001b[0;36m3\u001b[0m\u001b[0;34m]\u001b[0m\u001b[0;34m,\u001b[0m \u001b[0mdtype\u001b[0m\u001b[0;34m=\u001b[0m\u001b[0mnp\u001b[0m\u001b[0;34m.\u001b[0m\u001b[0mint32\u001b[0m\u001b[0;34m)\u001b[0m\u001b[0;34m\u001b[0m\u001b[0;34m\u001b[0m\u001b[0m\n\u001b[0m",
      "\u001b[0;31mOverflowError\u001b[0m: cannot convert float infinity to integer"
     ]
    }
   ],
   "source": [
    "# # NaN\n",
    "# arr = np.array([np.nan, 1, 2])\n",
    "# print(repr(arr))\n",
    "\n",
    "# arr = np.array([np.nan, 'abc'])\n",
    "# print(repr(arr))\n",
    "\n",
    "# # Will result in a ValueError\n",
    "# np.array([np.nan, 1, 2], dtype=np.int32)\n",
    "\n",
    "# # # Infinity\n",
    "print(np.inf > 1000000)\n",
    "\n",
    "arr = np.array([np.inf, 5])\n",
    "print(repr(arr))\n",
    "\n",
    "arr = np.array([-np.inf, 1])\n",
    "print(repr(arr))\n",
    "\n",
    "# Will result in an OverflowError\n",
    "np.array([np.inf, 3], dtype=np.int32)"
   ]
  },
  {
   "cell_type": "markdown",
   "id": "619f927a-887e-4c3b-a2c3-29712a101199",
   "metadata": {},
   "source": [
    "# Dimensions in Arrays"
   ]
  },
  {
   "cell_type": "markdown",
   "id": "e738f5f1-2340-4d91-9e06-bdbe8daac114",
   "metadata": {},
   "source": [
    "#### A dimension in arrays is one level of array depth (nested arrays).\n",
    "### 0-D Arrays\n",
    "#### 0-D arrays, or Scalars, are the elements in an array. Each value in an array is a 0-D array.\n",
    "### 1-D Arrays\n",
    "#### An array that has 0-D arrays as its elements is called uni-dimensional or 1-D array.\n",
    "**These are the most common and basic arrays.**\n",
    "### 2-D Arrays\n",
    "#### An array that has 1-D arrays as its elements is called a 2-D array.\n",
    "**These are often used to represent matrix or 2nd order tensors.**\n",
    ">NumPy has a whole sub module dedicated towards matrix operations called numpy.mat\n",
    "### 3-D arrays\n",
    "#### An array that has 2-D arrays (matrices) as its elements is called 3-D array.\n",
    "**These are often used to represent a 3rd order tensor.** \n",
    "### Check Number of Dimensions?\n",
    "#### NumPy Arrays provides the **ndim** attribute that returns an integer that tells us how many dimensions the array have."
   ]
  },
  {
   "cell_type": "code",
   "execution_count": 45,
   "id": "d68fd8bf-6382-4c26-a5d5-6fd4cb652b90",
   "metadata": {},
   "outputs": [
    {
     "name": "stdout",
     "output_type": "stream",
     "text": [
      "0-D numpy array 42\n",
      "\n",
      "1-D numpy array [1 2 3]\n",
      "\n",
      "2-D numpy array [[1 2 4]\n",
      " [3 4 5]]\n",
      "\n",
      "3-D numpy array [[[ 1  2  3]\n",
      "  [ 3  4  5]]\n",
      "\n",
      " [[ 6  7  8]\n",
      "  [ 9 10 11]]]\n",
      "\n",
      "The dimensions of DDD is 3\n",
      "\n"
     ]
    }
   ],
   "source": [
    "# importing numpy and alias as np\n",
    "import numpy as np\n",
    "\n",
    "# 0-D \n",
    "d= np.array(42)\n",
    "print(\"0-D numpy array {}\\n\".format(d))\n",
    "\n",
    "# 1-D\n",
    "D = np.array([1, 2, 3])\n",
    "print(\"1-D numpy array {}\\n\".format(D))\n",
    "\n",
    "# 2-D\n",
    "DD = np.array([[1, 2, 4], [3, 4, 5]])\n",
    "print(\"2-D numpy array {}\\n\".format(DD))\n",
    "\n",
    "# 3-D\n",
    "DDD = np.array([[[1, 2, 3], [3, 4, 5]], [[6, 7, 8], [9, 10, 11]]])\n",
    "print(\"3-D numpy array {}\\n\".format(DDD))\n",
    "\n",
    "# Check Number of Dimensions?\n",
    "print(\"The dimensions of DDD is {}\\n\".format(DDD.ndim))"
   ]
  },
  {
   "cell_type": "markdown",
   "id": "a88797fd-e732-4dcf-b837-f78b0e77b3bf",
   "metadata": {},
   "source": [
    "# Numpy Ranged data"
   ]
  },
  {
   "cell_type": "code",
   "execution_count": null,
   "id": "c84c58e6-f53c-4755-9964-9657840f0dac",
   "metadata": {},
   "outputs": [],
   "source": []
  }
 ],
 "metadata": {
  "kernelspec": {
   "display_name": "Python 3 (ipykernel)",
   "language": "python",
   "name": "python3"
  },
  "language_info": {
   "codemirror_mode": {
    "name": "ipython",
    "version": 3
   },
   "file_extension": ".py",
   "mimetype": "text/x-python",
   "name": "python",
   "nbconvert_exporter": "python",
   "pygments_lexer": "ipython3",
   "version": "3.9.7"
  }
 },
 "nbformat": 4,
 "nbformat_minor": 5
}
