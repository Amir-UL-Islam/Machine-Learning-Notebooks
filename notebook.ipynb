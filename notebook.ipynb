{
 "cells": [
  {
   "cell_type": "markdown",
   "metadata": {},
   "source": [
    "## Built-in Data Structures, Functions, and Files"
   ]
  },
  {
   "cell_type": "markdown",
   "metadata": {},
   "source": [
    "#### Python’s data structures are simple but powerful."
   ]
  },
  {
   "cell_type": "markdown",
   "metadata": {},
   "source": [
    "## **Tuple**"
   ]
  },
  {
   "cell_type": "markdown",
   "metadata": {},
   "source": [
    "#### A tuple is a fixed-length, immutable sequence of Python objects.(Python is an object oriented programming language. Almost everything in Python is an object, with its properties and methods."
   ]
  },
  {
   "cell_type": "code",
   "execution_count": 3,
   "metadata": {},
   "outputs": [
    {
     "data": {
      "text/plain": [
       "(3, 4, 6)"
      ]
     },
     "execution_count": 3,
     "metadata": {},
     "output_type": "execute_result"
    }
   ],
   "source": [
    "tup = 3, 4, 6\n",
    "tup"
   ]
  },
  {
   "cell_type": "markdown",
   "metadata": {},
   "source": [
    "#### When you’re defining tuples in more complicated expressions, it’s often necessary toenclose the values in parentheses.You can concatenate and multiply tuples using the + operator to produce longer tuples.You can convert any sequence or iterator to a tuple by invoking tuple. Elements can be accessed with square brackets [] as with most other sequence types."
   ]
  },
  {
   "cell_type": "code",
   "execution_count": 4,
   "metadata": {},
   "outputs": [
    {
     "name": "stdout",
     "output_type": "stream",
     "text": [
      "((3, 4, 8), (3, 8))\n",
      "(4, None, 'foo', 6, 0, 'bar')\n",
      "(2, 3, 'lala')\n"
     ]
    },
    {
     "data": {
      "text/plain": [
       "'lala'"
      ]
     },
     "execution_count": 4,
     "metadata": {},
     "output_type": "execute_result"
    }
   ],
   "source": [
    "tup_compli = (3, 4, 8), (3, 8)\n",
    "print(tup_compli)\n",
    "\n",
    "# Concatenate and multiply tuples\n",
    "concat_tup = (4, None, 'foo') + (6, 0) + ('bar',)\n",
    "print(concat_tup)\n",
    "\n",
    "# Converting a sequence or iterator to a tuple\n",
    "lis_t = [2, 3, 'lala']\n",
    "new_tup = tuple(lis_t)\n",
    "print(new_tup)\n",
    "\n",
    "# Accessing with brackets[]\n",
    "new_tup[2]"
   ]
  },
  {
   "cell_type": "markdown",
   "metadata": {},
   "source": [
    "### **Immutable Tuple's mutalbe objects**"
   ]
  },
  {
   "cell_type": "markdown",
   "metadata": {},
   "source": [
    "#### While the objects stored in a tuple may be mutable themselves, once the tuple is cre‐ated it’s not possible to modify which object is stored in each slot. **But, If an object inside a tuple is mutable, such as a list, you can modify it in-place.**"
   ]
  },
  {
   "cell_type": "code",
   "execution_count": 7,
   "metadata": {},
   "outputs": [
    {
     "data": {
      "text/plain": [
       "('foo', [1, 2, 3], True)"
      ]
     },
     "execution_count": 7,
     "metadata": {},
     "output_type": "execute_result"
    }
   ],
   "source": [
    "# Immutable Tuple\n",
    "tup = tuple(['foo', [1, 2], True])\n",
    "# tup[2] = False(First Uncomment This pice of code)\n",
    "\n",
    "# Mutable objects of Tuple\n",
    "tup[1].append(3)\n",
    "tup"
   ]
  },
  {
   "cell_type": "markdown",
   "metadata": {},
   "source": [
    "### **Unpacking tuples**"
   ]
  },
  {
   "cell_type": "markdown",
   "metadata": {},
   "source": [
    "#### If you try to assign to a tuple-like expression of variables, Python will attempt to unpack the value on the righthand side of the equals sign. Another common use is returning multiple values from a function."
   ]
  },
  {
   "cell_type": "code",
   "execution_count": 10,
   "metadata": {},
   "outputs": [
    {
     "name": "stdout",
     "output_type": "stream",
     "text": [
      "4\n"
     ]
    },
    {
     "data": {
      "text/plain": [
       "(6, 7)"
      ]
     },
     "execution_count": 10,
     "metadata": {},
     "output_type": "execute_result"
    }
   ],
   "source": [
    "tup = (4, 5, 6)\n",
    "a, b, c = tup\n",
    "print(a)\n",
    "\n",
    "# Nasted tuple\n",
    "tup = 4, 5, (6, 7)\n",
    "a, b, (c, d) = tup\n",
    "(c, d)\n",
    "\n"
   ]
  },
  {
   "cell_type": "markdown",
   "metadata": {},
   "source": [
    "#### This uses the special syntax ***rest**, which is also used in function signatures to capture an arbitrarily long list of positional argument. Python programmers will use the underscore (_) for unwanted variables"
   ]
  },
  {
   "cell_type": "code",
   "execution_count": 65,
   "metadata": {},
   "outputs": [
    {
     "name": "stdout",
     "output_type": "stream",
     "text": [
      "[7, 3, 2]\n",
      "[3, 4, 5]\n"
     ]
    }
   ],
   "source": [
    "values = 1, 2, 3, 4, 5\n",
    "another_value = 3, 5, 7, 3, 2\n",
    "a, b, *rest = values\n",
    "a, b, *_ = another_value\n",
    "\n",
    "\n",
    "print(_)\n",
    "print(rest)"
   ]
  },
  {
   "cell_type": "markdown",
   "metadata": {},
   "source": [
    "#### A common use of variable unpacking is iterating over sequences of tuples or lists"
   ]
  },
  {
   "cell_type": "code",
   "execution_count": 11,
   "metadata": {},
   "outputs": [
    {
     "name": "stdout",
     "output_type": "stream",
     "text": [
      "a = 1, b = 2, c = 3\n",
      "a = 4, b = 5, c = 6\n",
      "a = 7, b = 8, c = 9\n"
     ]
    }
   ],
   "source": [
    "seq = [(1, 2, 3), (4, 5, 6), (7, 8, 9)]\n",
    "seq\n",
    "for a, b, c in seq:\n",
    "    print('a = {0}, b = {1}, c = {2}'.format(a, b, c))\n",
    "   "
   ]
  },
  {
   "cell_type": "markdown",
   "metadata": {},
   "source": [
    "## **List**"
   ]
  },
  {
   "cell_type": "markdown",
   "metadata": {},
   "source": [
    "#### Lists are variable-length and their contents can be modified in-place. You can define them using square brackets [] or using the list type function.Lists and tuples are semantically similar (though tuples cannot be modified). "
   ]
  },
  {
   "cell_type": "code",
   "execution_count": 12,
   "metadata": {},
   "outputs": [
    {
     "name": "stdout",
     "output_type": "stream",
     "text": [
      "7\n"
     ]
    }
   ],
   "source": [
    "a_list = [2, 3, 7, None]\n",
    "a_list\n",
    "print(a_list[2])\n"
   ]
  },
  {
   "cell_type": "markdown",
   "metadata": {},
   "source": [
    "### **Adding, removing, concatenating and combining lists**"
   ]
  },
  {
   "cell_type": "markdown",
   "metadata": {},
   "source": [
    "#### Elements can be appended to the end of the list with the **append** and **insert** method. Where **Insert** method can insert an elemnt at a specific location in the list. **pop** is inverse of **insert** and **remove** is inverse of **append**."
   ]
  },
  {
   "cell_type": "code",
   "execution_count": 14,
   "metadata": {},
   "outputs": [
    {
     "name": "stdout",
     "output_type": "stream",
     "text": [
      "['a', 'b', 'c', 'd', 'e', 'f']\n",
      "['a', 'b', 'g', 'c', 'd', 'e', 'f']\n",
      "['a', 'b', 'g', 'd', 'e', 'f']\n",
      "['b', 'g', 'd', 'e', 'f']\n"
     ]
    }
   ],
   "source": [
    "a_list = ['a', 'b', 'c', 'd', 'e']\n",
    "a_list.append('f')\n",
    "print(a_list)\n",
    "a_list.insert(2, 'g')\n",
    "print(a_list)\n",
    "a_list.pop(3)\n",
    "print(a_list)\n",
    "a_list.remove('a')\n",
    "print(a_list)"
   ]
  },
  {
   "cell_type": "markdown",
   "metadata": {},
   "source": [
    "#### You can also check weather a element of list is present or not by using **in** and ** not in**"
   ]
  },
  {
   "cell_type": "code",
   "execution_count": 15,
   "metadata": {},
   "outputs": [
    {
     "name": "stdout",
     "output_type": "stream",
     "text": [
      "False\n",
      "True\n"
     ]
    }
   ],
   "source": [
    "print('a' in a_list)\n",
    "\n",
    "print('a' not in a_list)"
   ]
  },
  {
   "cell_type": "markdown",
   "metadata": {},
   "source": [
    "#### Similar to tuples, adding two lists together with + concatenates them. Using **extend** method you can append multiple element to a existing list."
   ]
  },
  {
   "cell_type": "code",
   "execution_count": 19,
   "metadata": {},
   "outputs": [
    {
     "name": "stdout",
     "output_type": "stream",
     "text": [
      "[4, None, 'foo', 7, 8, (2, 3)]\n",
      "[4, None, 'foo', 7, 8, (2, 3), [88, 45, 90, 234]]\n"
     ]
    }
   ],
   "source": [
    "foo_list = [4, None, 'foo'] + [7, 8, (2, 3)]\n",
    "print(foo_list)\n",
    "\n",
    "# The Extend method\n",
    "x = [4, None, 'foo']\n",
    "x.extend([7, 8, (2, 3), [88, 45, 90, 234]])\n",
    "print(x)\n",
    "\n",
    "# More faster way for large file \n",
    "everything = [4, None, 'foo']\n",
    "list_of = [[7, 8, (2, 3)], ['a', 'b', 'c', 'd', 'e']]\n",
    "for chunk in list_of:\n",
    "    everything.extend(chunk)"
   ]
  },
  {
   "cell_type": "markdown",
   "metadata": {},
   "source": [
    "### **Sorting**"
   ]
  },
  {
   "cell_type": "markdown",
   "metadata": {},
   "source": [
    "#### You can **sort** a list using sort function (without creating a new object). There are optional keys too. Those keys comes handy some time."
   ]
  },
  {
   "cell_type": "code",
   "execution_count": 2,
   "metadata": {},
   "outputs": [
    {
     "name": "stdout",
     "output_type": "stream",
     "text": [
      "['He', 'foxes', 'saw', 'six', 'small']\n",
      "['He', 'saw', 'six', 'foxes', 'small']\n"
     ]
    }
   ],
   "source": [
    "b = ['saw', 'small', 'He', 'foxes', 'six']\n",
    "b.sort()\n",
    "print(b)\n",
    "b.sort(key=len)\n",
    "print(b)"
   ]
  },
  {
   "cell_type": "markdown",
   "metadata": {},
   "source": [
    "#### There are ..."
   ]
  },
  {
   "cell_type": "markdown",
   "metadata": {},
   "source": [
    "### **Slicing**"
   ]
  },
  {
   "cell_type": "markdown",
   "metadata": {},
   "source": [
    "#### Slicing is one of the most powerfull tools in python. With the help of slicing, you can select sections of most sequence types. By sequence type I mean List, Dictonary, e.t.c.\n",
    "#### While the element at the start index is included, the stop index is not included, so that the number of elements in the result is stop - start. If the start or stop is not present than the default to the start of the sequence and the end of the sequence, respectively:"
   ]
  },
  {
   "cell_type": "markdown",
   "metadata": {},
   "source": [
    "#### Basic Method is "
   ]
  },
  {
   "cell_type": "markdown",
   "metadata": {},
   "source": [
    "# [Start : Stop] "
   ]
  },
  {
   "cell_type": "code",
   "execution_count": 7,
   "metadata": {},
   "outputs": [
    {
     "name": "stdout",
     "output_type": "stream",
     "text": [
      "[4, 6, 9]\n",
      "[7, 2, 4, 6, 9]\n",
      "[4, 6, 9, 11, 5, 8]\n"
     ]
    }
   ],
   "source": [
    "any_seq = [7, 2, 4, 6, 9, 11, 5, 8]\n",
    "print(any_seq[2:5])\n",
    "\n",
    "#In case of Start or Stop is not present\n",
    "print(any_seq[:5])\n",
    "\n",
    "print(any_seq[2:])"
   ]
  },
  {
   "cell_type": "markdown",
   "metadata": {},
   "source": [
    "#### Negative indices slice the sequence relative to the end"
   ]
  },
  {
   "cell_type": "code",
   "execution_count": 17,
   "metadata": {},
   "outputs": [
    {
     "name": "stdout",
     "output_type": "stream",
     "text": [
      "[8]\n",
      "[4, 6, 9, 11]\n"
     ]
    }
   ],
   "source": [
    "print(any_seq[-1:])\n",
    "print(any_seq[-6: -2])"
   ]
  },
  {
   "cell_type": "markdown",
   "metadata": {},
   "source": [
    "## **Dictonary**"
   ]
  },
  {
   "cell_type": "markdown",
   "metadata": {},
   "source": [
    "#### A dictonary is a collection of ***key*** and ***values***. One approach for creating one is to use curly braces {} and colons to separate keys and values.\n",
    "#### You can access, insert,check or set elements using the same syntax as for accessing elements of a list or tuple. You can delete values either using the del keyword or the pop method (which simul‐taneously returns the value and deletes the key)"
   ]
  },
  {
   "cell_type": "code",
   "execution_count": 20,
   "metadata": {},
   "outputs": [
    {
     "name": "stdout",
     "output_type": "stream",
     "text": [
      "any\n",
      "{'key1': 'Value 1', 'a': 'can be anything', '7': ['apple', 'mango', 'oil'], 'dummy': 'value'}\n",
      "{'key1': 'Value 1', 'a': 'can be anything', '7': ['apple', 'mango', 'oil'], 'dummy': 'value', 'b': 'not yet'}\n",
      "{'a': 'can be anything', '7': ['apple', 'mango', 'oil'], 'dummy': 'value', 'b': 'not yet'}\n",
      "['apple', 'mango', 'oil']\n",
      "{'a': 'can be anything', 'dummy': 'value', 'b': 'not yet'}\n"
     ]
    }
   ],
   "source": [
    "empty_dicto = {}\n",
    "\n",
    "# Define a Dict\n",
    "dict = {'key1':'Value 1',\n",
    "        'a':'any',\n",
    "        '7':['apple', 'mango', 'oil'],\n",
    "        'dummy':'value'}\n",
    "\n",
    "# Access and inseting a new key, value\n",
    "print(dict['a'])\n",
    "\n",
    "# Inserting\n",
    "dict['a'] = 'can be anything'\n",
    "print(dict)\n",
    "\n",
    "# New key and Value\n",
    "dict['b'] = 'not yet'\n",
    "print(dict)\n",
    "\n",
    "# Checking the values with same syntax as list or tuple\n",
    "'b' in dict\n",
    "\n",
    "# Deleting the Key and Values using del and pop \n",
    "del dict['key1']\n",
    "print(dict)\n",
    "\n",
    "rest = dict.pop('7')\n",
    "print(rest)\n",
    "print(dict)\n"
   ]
  },
  {
   "cell_type": "markdown",
   "metadata": {},
   "source": [
    "#### You can also find out the key and values in an organized way by using key() and value() function."
   ]
  },
  {
   "cell_type": "code",
   "execution_count": 45,
   "metadata": {},
   "outputs": [
    {
     "name": "stdout",
     "output_type": "stream",
     "text": [
      "dict_keys(['a', 'dummy', 'b'])\n",
      "dict_values(['can be anything', 'value', 'not yet'])\n"
     ]
    }
   ],
   "source": [
    "print(dict.keys())\n",
    "print(dict.values())"
   ]
  },
  {
   "cell_type": "markdown",
   "metadata": {},
   "source": [
    "#### You can merge one dict into another using the update method. The update method changes dicts in-place, so any existing keys in the data passed to update will have their old values discarded"
   ]
  },
  {
   "cell_type": "code",
   "execution_count": 51,
   "metadata": {},
   "outputs": [
    {
     "name": "stdout",
     "output_type": "stream",
     "text": [
      "{'a': 'can be anything', 'dummy': 'value', 'b': 'not yet', 'ola': ['me', '7'], 'dash': 'foo'}\n"
     ]
    }
   ],
   "source": [
    "print(dict)\n",
    "\n",
    "# Define an other dict\n",
    "another_dict = {'ola':['me', '7'],\n",
    "                'dash':'foo'}\n",
    "# merging to dict\n",
    "dict.update(another_dict)"
   ]
  },
  {
   "cell_type": "markdown",
   "metadata": {},
   "source": [
    "### **Creating dicts from sequences, Default values, Valid dict key types** "
   ]
  },
  {
   "cell_type": "markdown",
   "metadata": {},
   "source": [
    "### A simple prototype for creating dicts for sequence."
   ]
  },
  {
   "cell_type": "raw",
   "metadata": {},
   "source": [
    "mapping = {}\n",
    "for key, value in zip(key_list, value_list):\n",
    "    mapping[key] = value"
   ]
  },
  {
   "cell_type": "code",
   "execution_count": 1,
   "metadata": {},
   "outputs": [
    {
     "name": "stdout",
     "output_type": "stream",
     "text": [
      "{'one': 'non', 'two': 'nothing', 'three': 'never'}\n"
     ]
    }
   ],
   "source": [
    "# Creating dicts from sequence\n",
    "seq1 = ['one', 'two', 'three']\n",
    "seq2 = ['non', 'nothing', 'never']\n",
    "mapping = {}\n",
    "for key, value in zip(seq1, seq2):\n",
    "    mapping[key] = value\n",
    "print(mapping)"
   ]
  },
  {
   "cell_type": "markdown",
   "metadata": {},
   "source": [
    "##### **zip()** function returns a zip object, which is an iterator of tuples where the first item in each passed iterator is paired together.\n",
    "\n",
    "##### **ITERABLE** is:\n",
    "- anything that can be looped over.\n",
    "- anything that can appear on the right-side of a for-loop: for x in iterable:\n",
    "- anything you can call with iter() that will return an ITERATOR: iter(obj)\n",
    "- an object that defines __iter__ that returns a fresh ITERATOR, or it may have a __getitem__ method suitable for indexed lookup.\n",
    "\n",
    "\n",
    "##### **ITERATOR** is:\n",
    "\n",
    "- with state that remembers where it is during iteration,\n",
    "- with a __next__ method that:\n",
    "- returns the next value in the iteration\n",
    "- updates the state to point at the next value\n",
    "- signals when it is done by raising StopIteration\n",
    "- and that is self-iterable (meaning that it has an __iter__ method that returns self).\n",
    "**Notes:**\n",
    "##### The __next__ method in Python 3 is spelt next in Python 2, and The builtin function next() calls that method on the object passed to it.\n"
   ]
  },
  {
   "cell_type": "markdown",
   "metadata": {},
   "source": [
    "### **Valid dict key types**"
   ]
  },
  {
   "cell_type": "markdown",
   "metadata": {},
   "source": [
    "#### The keys of **dict** generally have to be immutable objects like scalar types (int, float, string) or tuples. we can check whether an object can be used as key in a dict or not by using **hash** function. If the **hash** function gives a hash output then the object can be use as a key."
   ]
  },
  {
   "cell_type": "code",
   "execution_count": 3,
   "metadata": {},
   "outputs": [
    {
     "name": "stdout",
     "output_type": "stream",
     "text": [
      "-2354975221549285820\n",
      "-9209053662355515447\n"
     ]
    }
   ],
   "source": [
    "# Using string type as keys\n",
    "print(hash('string'))\n",
    "\n",
    "# Usint tuple type as keys\n",
    "print(hash((1, 2, (2, 3))))\n"
   ]
  },
  {
   "cell_type": "markdown",
   "metadata": {},
   "source": [
    "#### As list is a mutable object and scalar type. Thus it can not be used as key of any dict."
   ]
  },
  {
   "cell_type": "code",
   "execution_count": 2,
   "metadata": {},
   "outputs": [],
   "source": [
    "# Try uncomment under this line of code\n",
    "# hash((1, 2, [2, 3])) "
   ]
  },
  {
   "cell_type": "markdown",
   "metadata": {},
   "source": [
    "## **Set**"
   ]
  },
  {
   "cell_type": "markdown",
   "metadata": {},
   "source": [
    "#### A set is the mathematical model for a collection of different things.A Python set is a collection which is unordered, **unchangeable**, and unindexed. **Note** Set items are unchangeable, but you can remove items and add new items.\n",
    "#### You can think of them like dicts, but keys only, no values.\n",
    "#### set can be created by **set()** function.\n"
   ]
  },
  {
   "cell_type": "code",
   "execution_count": 5,
   "metadata": {},
   "outputs": [
    {
     "name": "stdout",
     "output_type": "stream",
     "text": [
      "{1, 2, 3, 4}\n"
     ]
    }
   ],
   "source": [
    "seta = set([2, 2, 4, 1, 3, 3])\n",
    "print(seta)"
   ]
  },
  {
   "cell_type": "markdown",
   "metadata": {},
   "source": [
    "#### Sets support mathematical set operations like union, intersection, difference, and symmetric difference."
   ]
  },
  {
   "cell_type": "code",
   "execution_count": 2,
   "metadata": {},
   "outputs": [
    {
     "name": "stdout",
     "output_type": "stream",
     "text": [
      "{2, 3, 4, 5, 6, 7}\n",
      "{2}\n"
     ]
    }
   ],
   "source": [
    "# Union operation\n",
    "a = {2, 3, 4}\n",
    "b = {5, 6, 7, 2}\n",
    "c = a.union(b)\n",
    "print(c)\n",
    "\n",
    "# Intersection operation\n",
    "d = a.intersection(b)\n",
    "print(d)"
   ]
  },
  {
   "cell_type": "markdown",
   "metadata": {},
   "source": [
    "| Function | Alternative Syntax |                   Description                      |\n",
    "|----------|--------------------|----------------------------------------------------|\n",
    "|a.add(x)|N/A| add elements of x to set a|\n",
    "|a.clear()|N/A| reset the set to an empty state, discarding all it's elements|\n",
    "|a.remove(x)| N/A| remove all the elements of x from a|\n",
    "|a.pop()| N/A| Remove an arbitrary(based on random choice) element from the set a, raising **KeyError** if the set is empty|\n",
    "|a.union(b)| **a = b** | union opperation of set a and b|\n",
    "|a.intersection(b)| **a & b**| intersection opperation of set a and b|\n",
    "|a.update(b)| **a \\|= b** | replace the contents of set **a** to the union of sets a and b|\n",
    "|a.intersection_update| **a \\&= b** | replace the contents of set **a** to the intersection of set a and b|\n",
    "\n",
    "\n",
    "\n",
    "\n",
    "\n"
   ]
  },
  {
   "cell_type": "code",
   "execution_count": null,
   "metadata": {},
   "outputs": [],
   "source": []
  },
  {
   "cell_type": "code",
   "execution_count": null,
   "metadata": {},
   "outputs": [],
   "source": []
  },
  {
   "cell_type": "code",
   "execution_count": null,
   "metadata": {},
   "outputs": [],
   "source": []
  }
 ],
 "metadata": {
  "kernelspec": {
   "display_name": "Python 3 (ipykernel)",
   "language": "python",
   "name": "python3"
  },
  "language_info": {
   "codemirror_mode": {
    "name": "ipython",
    "version": 3
   },
   "file_extension": ".py",
   "mimetype": "text/x-python",
   "name": "python",
   "nbconvert_exporter": "python",
   "pygments_lexer": "ipython3",
   "version": "3.10.4"
  }
 },
 "nbformat": 4,
 "nbformat_minor": 4
}
