{
 "cells": [
  {
   "cell_type": "markdown",
   "metadata": {},
   "source": [
    "## Built-in Data Structures, Functions, and Files"
   ]
  },
  {
   "cell_type": "markdown",
   "metadata": {},
   "source": [
    "#### Python’s data structures are simple but powerful."
   ]
  },
  {
   "cell_type": "markdown",
   "metadata": {},
   "source": [
    "## **Tuple**"
   ]
  },
  {
   "cell_type": "markdown",
   "metadata": {},
   "source": [
    "#### A tuple is a fixed-length, immutable sequence of Python objects.(Python is an object oriented programming language. Almost everything in Python is an object, with its properties and methods."
   ]
  },
  {
   "cell_type": "code",
   "execution_count": 3,
   "metadata": {},
   "outputs": [
    {
     "data": {
      "text/plain": [
       "(3, 4, 6)"
      ]
     },
     "execution_count": 3,
     "metadata": {},
     "output_type": "execute_result"
    }
   ],
   "source": [
    "tup = 3, 4, 6\n",
    "tup"
   ]
  },
  {
   "cell_type": "markdown",
   "metadata": {},
   "source": [
    "#### When you’re defining tuples in more complicated expressions, it’s often necessary toenclose the values in parentheses.You can concatenate and multiply tuples using the + operator to produce longer tuples.You can convert any sequence or iterator to a tuple by invoking tuple. Elements can be accessed with square brackets [] as with most other sequence types."
   ]
  },
  {
   "cell_type": "code",
   "execution_count": 23,
   "metadata": {},
   "outputs": [
    {
     "name": "stdout",
     "output_type": "stream",
     "text": [
      "(4, None, 'foo', 6, 0, 'bar')\n"
     ]
    },
    {
     "data": {
      "text/plain": [
       "'lala'"
      ]
     },
     "execution_count": 23,
     "metadata": {},
     "output_type": "execute_result"
    }
   ],
   "source": [
    "tup_compli = (3, 4, 8), (3, 8)\n",
    "tup_compli\n",
    "\n",
    "# Concatenate and multiply tuples\n",
    "concat_tup = (4, None, 'foo') + (6, 0) + ('bar',)\n",
    "print(concat_tup)\n",
    "\n",
    "# Converting a sequence or iterator to a tuple\n",
    "lis_t = [2, 3, 'lala']\n",
    "new_tup = tuple(lis_t)\n",
    "new_tup\n",
    "\n",
    "# Accessing with brackets[]\n",
    "new_tup[2]"
   ]
  },
  {
   "cell_type": "markdown",
   "metadata": {},
   "source": [
    "### **Immutable Tuple's mutalbe objects**"
   ]
  },
  {
   "cell_type": "markdown",
   "metadata": {},
   "source": [
    "#### While the objects stored in a tuple may be mutable themselves, once the tuple is cre‐ated it’s not possible to modify which object is stored in each slot. **But, If an object inside a tuple is mutable, such as a list, you can modify it in-place.**"
   ]
  },
  {
   "cell_type": "code",
   "execution_count": 21,
   "metadata": {},
   "outputs": [
    {
     "data": {
      "text/plain": [
       "('foo', [1, 2, 3], True)"
      ]
     },
     "execution_count": 21,
     "metadata": {},
     "output_type": "execute_result"
    }
   ],
   "source": [
    "# Immutable Tuple\n",
    "tup = tuple(['foo', [1, 2], True])\n",
    "# tup[2] = False(First Uncomment This pice of code)\n",
    "\n",
    "# Mutable objects of Tuple\n",
    "tup[1].append(3)\n",
    "tup"
   ]
  },
  {
   "cell_type": "markdown",
   "metadata": {},
   "source": [
    "### **Unpacking tuples**"
   ]
  },
  {
   "cell_type": "markdown",
   "metadata": {},
   "source": [
    "#### If you try to assign to a tuple-like expression of variables, Python will attempt to unpack the value on the righthand side of the equals sign. Another common use is returning multiple values from a function."
   ]
  },
  {
   "cell_type": "code",
   "execution_count": 28,
   "metadata": {},
   "outputs": [
    {
     "data": {
      "text/plain": [
       "(6, 7)"
      ]
     },
     "execution_count": 28,
     "metadata": {},
     "output_type": "execute_result"
    }
   ],
   "source": [
    "tup = (4, 5, 6)\n",
    "a, b, c = tup\n",
    "a\n",
    "\n",
    "# Nasted tuple\n",
    "tup = 4, 5, (6, 7)\n",
    "a, b, (c, d) = tup\n",
    "(c, d)\n",
    "\n"
   ]
  },
  {
   "cell_type": "markdown",
   "metadata": {},
   "source": [
    "#### This uses the special syntax ***rest**, which is also used in function signatures to capture an arbitrarily long list of positional argument. Python programmers will use the underscore (_) for unwanted variables"
   ]
  },
  {
   "cell_type": "code",
   "execution_count": 65,
   "metadata": {},
   "outputs": [
    {
     "name": "stdout",
     "output_type": "stream",
     "text": [
      "[7, 3, 2]\n",
      "[3, 4, 5]\n"
     ]
    }
   ],
   "source": [
    "values = 1, 2, 3, 4, 5\n",
    "another_value = 3, 5, 7, 3, 2\n",
    "a, b, *rest = values\n",
    "a, b, *_ = another_value\n",
    "\n",
    "print(_)\n",
    "print(rest)"
   ]
  },
  {
   "cell_type": "markdown",
   "metadata": {},
   "source": [
    "#### A common use of variable unpacking is iterating over sequences of tuples or lists"
   ]
  },
  {
   "cell_type": "code",
   "execution_count": 63,
   "metadata": {},
   "outputs": [
    {
     "name": "stdout",
     "output_type": "stream",
     "text": [
      "a = 1, b = 2, c = 3\n",
      "a = 4, b = 5, c = 6\n",
      "a = 7, b = 8, c = 9\n"
     ]
    }
   ],
   "source": [
    "seq = [(1, 2, 3), (4, 5, 6), (7, 8, 9)]\n",
    "seq\n",
    "for a, b, c in seq:\n",
    "    print('a = {0}, b = {1}, c = {2}'.format(a, b, c))\n",
    "   "
   ]
  },
  {
   "cell_type": "markdown",
   "metadata": {},
   "source": [
    "## **List**"
   ]
  },
  {
   "cell_type": "markdown",
   "metadata": {},
   "source": [
    "#### Lists are variable-length and their contents can be modified in-place. You can define them using square brackets [] or using the list type function.Lists and tuples are semantically similar (though tuples cannot be modified). "
   ]
  },
  {
   "cell_type": "code",
   "execution_count": 69,
   "metadata": {},
   "outputs": [
    {
     "name": "stdout",
     "output_type": "stream",
     "text": [
      "7\n"
     ]
    }
   ],
   "source": [
    "a_list = [2, 3, 7, None]\n",
    "a_list\n",
    "print(a_list[2])\n"
   ]
  },
  {
   "cell_type": "markdown",
   "metadata": {},
   "source": [
    "### **Adding, removing, concatenating and combining lists**"
   ]
  },
  {
   "cell_type": "markdown",
   "metadata": {},
   "source": [
    "#### Elements can be appended to the end of the list with the **append** and **insert** method. Where **Insert** method can insert an elemnt at a specific location in the list. **pop** is inverse of **insert** and **remove** is inverse of **append**."
   ]
  },
  {
   "cell_type": "code",
   "execution_count": 79,
   "metadata": {},
   "outputs": [
    {
     "name": "stdout",
     "output_type": "stream",
     "text": [
      "['a', 'b', 'g', 'c', 'd', 'e', 'f']\n",
      "['a', 'b', 'g', 'd', 'e', 'f']\n",
      "['b', 'g', 'd', 'e', 'f']\n"
     ]
    }
   ],
   "source": [
    "a_list = ['a', 'b', 'c', 'd', 'e']\n",
    "a_list.append('f')\n",
    "a_list\n",
    "a_list.insert(2, 'g')\n",
    "print(a_list)\n",
    "a_list.pop(3)\n",
    "print(a_list)\n",
    "a_list.remove('a')\n",
    "print(a_list)"
   ]
  },
  {
   "cell_type": "markdown",
   "metadata": {},
   "source": [
    "#### You can also check weather a element of list is present or not by using **in** and ** not in**"
   ]
  },
  {
   "cell_type": "code",
   "execution_count": 87,
   "metadata": {},
   "outputs": [
    {
     "name": "stdout",
     "output_type": "stream",
     "text": [
      "False\n",
      "True\n"
     ]
    }
   ],
   "source": [
    "print('a' in a_list)\n",
    "\n",
    "print('a' not in a_list)"
   ]
  },
  {
   "cell_type": "markdown",
   "metadata": {},
   "source": [
    "#### Similar to tuples, adding two lists together with + concatenates them. Using **extend** method you can append multiple element to a existing list."
   ]
  },
  {
   "cell_type": "code",
   "execution_count": 99,
   "metadata": {},
   "outputs": [
    {
     "name": "stdout",
     "output_type": "stream",
     "text": [
      "[4, None, 'foo', 7, 8, (2, 3)]\n"
     ]
    }
   ],
   "source": [
    "foo_list = [4, None, 'foo'] + [7, 8, (2, 3)]\n",
    "foo_list\n",
    "\n",
    "# The Extend method\n",
    "x = [4, None, 'foo']\n",
    "x.extend([7, 8, (2, 3)])\n",
    "print(x)\n",
    "\n",
    "# More faster way for large file \n",
    "everything = [4, None, 'foo']\n",
    "list_of = [[7, 8, (2, 3)], ['a', 'b', 'c', 'd', 'e']]\n",
    "for chunk in list_of:\n",
    "    everything.extend(chunk)"
   ]
  },
  {
   "cell_type": "markdown",
   "metadata": {},
   "source": [
    "### **Sorting**"
   ]
  },
  {
   "cell_type": "markdown",
   "metadata": {},
   "source": [
    "#### You can **sort** a list using sort function (without creating a new object). There are optional keys too. Those keys comes handy some time."
   ]
  },
  {
   "cell_type": "code",
   "execution_count": 107,
   "metadata": {},
   "outputs": [
    {
     "name": "stdout",
     "output_type": "stream",
     "text": [
      "['He', 'foxes', 'saw', 'six', 'small']\n",
      "['He', 'saw', 'six', 'foxes', 'small']\n"
     ]
    }
   ],
   "source": [
    "b = ['saw', 'small', 'He', 'foxes', 'six']\n",
    "b.sort()\n",
    "print(b)\n",
    "b.sort(key=len)\n",
    "print(b)"
   ]
  },
  {
   "cell_type": "markdown",
   "metadata": {},
   "source": [
    "### **Slicing**"
   ]
  },
  {
   "cell_type": "code",
   "execution_count": null,
   "metadata": {},
   "outputs": [],
   "source": []
  }
 ],
 "metadata": {
  "kernelspec": {
   "display_name": "Python 3 (ipykernel)",
   "language": "python",
   "name": "python3"
  },
  "language_info": {
   "codemirror_mode": {
    "name": "ipython",
    "version": 3
   },
   "file_extension": ".py",
   "mimetype": "text/x-python",
   "name": "python",
   "nbconvert_exporter": "python",
   "pygments_lexer": "ipython3",
   "version": "3.10.2"
  }
 },
 "nbformat": 4,
 "nbformat_minor": 4
}
