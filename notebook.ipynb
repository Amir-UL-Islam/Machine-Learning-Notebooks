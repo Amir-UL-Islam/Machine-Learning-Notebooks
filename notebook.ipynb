{
 "cells": [
  {
   "cell_type": "markdown",
   "id": "c94e9995-f3b2-4000-a8c5-ab4c2cddb173",
   "metadata": {},
   "source": [
    "# Data Processing"
   ]
  },
  {
   "cell_type": "markdown",
   "id": "797d9ab7-9e6f-477b-95a8-b6ef17a9add6",
   "metadata": {},
   "source": [
    "#### Data is the most important element of Machine Learning Industry. Given a large and diverse set of training data, a good deep learning model will significantly outperform non-deep learning algorithms.\n"
   ]
  },
  {
   "cell_type": "markdown",
   "id": "4dda66f7-c138-40ea-863f-e387b16a905b",
   "metadata": {},
   "source": [
    "# Getting Started with NumPy"
   ]
  },
  {
   "cell_type": "markdown",
   "id": "c7139c11-00a9-453a-995a-a630d8a019ba",
   "metadata": {},
   "source": [
    "#### The majority of neural networks use input data that is either numeric or has been converted to a numeric form. When we deal with numeric data, the best Python library to use is NumPy. The NumPy library allows us to perform many operations on numeric data, and convert the data to more usable forms.\n",
    "#### And NumPy aims to provide an array object that is up to **50x faster** than traditional Python lists.\n",
    "### Its a commone practice to import NumPy **alias** with **np** Like\n",
    "> import **numpy** as **np**"
   ]
  },
  {
   "cell_type": "markdown",
   "id": "9ac06c35-1005-4a9f-a3c8-f0fc83025fc3",
   "metadata": {},
   "source": [
    "# NumPy Arrays"
   ]
  },
  {
   "cell_type": "markdown",
   "id": "4c5deb54-afa8-4eb3-8c5a-056acf523f28",
   "metadata": {},
   "source": [
    "#### NumPy arrays are basically just Python lists with added features. In fact, you can easily convert a Python list to a Numpy array using the np.array function, which takes in a Python list as its required argument.\n",
    "#### The function also has quite a few keyword arguments, but the main one to know is **dtype**.\n",
    "#### The function **np.array** perfoms **upcasting**. **If the array contains elements of different data types, all the elements are cast into the largest type (a process known as upcasting)**\n",
    "#### The dtype keyword argument takes in a NumPy type and manually casts the array to the specified type."
   ]
  },
  {
   "cell_type": "code",
   "execution_count": 1,
   "id": "9acbcdab-195b-4e61-98dc-d40a4f9305f4",
   "metadata": {},
   "outputs": [
    {
     "name": "stdout",
     "output_type": "stream",
     "text": [
      "array([[0., 1., 2.],\n",
      "       [3., 4., 5.]], dtype=float32)\n"
     ]
    }
   ],
   "source": [
    "import numpy as np\n",
    "\n",
    "arr = np.array([[0, 1, 2], [3, 4, 5]],\n",
    "               dtype=np.float32)\n",
    "print(repr(arr))"
   ]
  },
  {
   "cell_type": "markdown",
   "id": "149dc887-d1c3-46cc-9f40-8c19cfcc7b3a",
   "metadata": {},
   "source": [
    "## Copying"
   ]
  },
  {
   "cell_type": "code",
   "execution_count": 2,
   "id": "2bc0b4bc-b25a-4623-9bb2-62de1035ae65",
   "metadata": {},
   "outputs": [
    {
     "name": "stdout",
     "output_type": "stream",
     "text": [
      "Array a: array([0, 1])\n",
      "Array a: array([5, 1])\n",
      "Array b: array([9, 8])\n"
     ]
    }
   ],
   "source": [
    "a = np.array([0, 1])\n",
    "b = np.array([9, 8])\n",
    "c = a\n",
    "print('Array a: {}'.format(repr(a)))\n",
    "c[0] = 5\n",
    "print('Array a: {}'.format(repr(a)))\n",
    "\n",
    "d = b.copy()\n",
    "d[0] = 6\n",
    "print('Array b: {}'.format(repr(b)))"
   ]
  },
  {
   "cell_type": "markdown",
   "id": "76ee5890-963e-42a4-a79a-199756fe9207",
   "metadata": {},
   "source": [
    "## Casting"
   ]
  },
  {
   "cell_type": "code",
   "execution_count": 3,
   "id": "2e8e2b30-0dd6-4098-8115-57cbe8719945",
   "metadata": {},
   "outputs": [
    {
     "name": "stdout",
     "output_type": "stream",
     "text": [
      "int64\n",
      "float32\n"
     ]
    }
   ],
   "source": [
    "arr = np.array([0, 1, 2])\n",
    "print(arr.dtype)\n",
    "arr = arr.astype(np.float32)\n",
    "print(arr.dtype)"
   ]
  },
  {
   "cell_type": "markdown",
   "id": "b9177b46-fe34-47f6-9399-b1202097e5d6",
   "metadata": {},
   "source": [
    "## NaN & Infinity"
   ]
  },
  {
   "cell_type": "markdown",
   "id": "0ef584ee-f48b-4da9-9922-bdc996895a31",
   "metadata": {},
   "source": [
    "* Note that np.nan cannot take on an integer type.\n",
    "* Note that np.inf cannot take on an integer type.\n",
    "### Try it by uncommenting and commenting the code chunks"
   ]
  },
  {
   "cell_type": "code",
   "execution_count": 4,
   "id": "7633451c-4391-4f2a-b3ad-12488b0e23b6",
   "metadata": {},
   "outputs": [],
   "source": [
    "# NaN\n",
    "# arr = np.array([np.nan, 1, 2])\n",
    "# print(repr(arr))\n",
    "\n",
    "# arr = np.array([np.nan, 'abc'])\n",
    "# print(repr(arr))\n",
    "\n",
    "# Will result in a ValueError\n",
    "# np.array([np.nan, 1, 2], dtype=np.int32)\n",
    "\n",
    "\n",
    "# # # # Infinity\n",
    "# print(np.inf > 1000000)\n",
    "\n",
    "# arr = np.array([np.inf, 5])\n",
    "# print(repr(arr))\n",
    "\n",
    "# arr = np.array([-np.inf, 1])\n",
    "# print(repr(arr))\n",
    "\n",
    "# # Will result in an OverflowError\n",
    "# np.array([np.inf, 3], dtype=np.int32)"
   ]
  },
  {
   "cell_type": "markdown",
   "id": "619f927a-887e-4c3b-a2c3-29712a101199",
   "metadata": {},
   "source": [
    "# Dimensions in Arrays"
   ]
  },
  {
   "cell_type": "markdown",
   "id": "e738f5f1-2340-4d91-9e06-bdbe8daac114",
   "metadata": {},
   "source": [
    "#### A dimension in arrays is one level of array depth (nested arrays).\n",
    "### 0-D Arrays\n",
    "#### 0-D arrays, or Scalars, are the elements in an array. Each value in an array is a 0-D array.\n",
    "### 1-D Arrays\n",
    "#### An array that has 0-D arrays as its elements is called uni-dimensional or 1-D array.\n",
    "**These are the most common and basic arrays.**\n",
    "### 2-D Arrays\n",
    "#### An array that has 1-D arrays as its elements is called a 2-D array.\n",
    "**These are often used to represent matrix or 2nd order tensors.**\n",
    ">NumPy has a whole sub module dedicated towards matrix operations called numpy.mat\n",
    "### 3-D arrays\n",
    "#### An array that has 2-D arrays (matrices) as its elements is called 3-D array.\n",
    "**These are often used to represent a 3rd order tensor.** \n",
    "### Check Number of Dimensions?\n",
    "#### NumPy Arrays provides the **ndim** attribute that returns an integer that tells us how many dimensions the array have."
   ]
  },
  {
   "cell_type": "code",
   "execution_count": 5,
   "id": "d68fd8bf-6382-4c26-a5d5-6fd4cb652b90",
   "metadata": {},
   "outputs": [
    {
     "name": "stdout",
     "output_type": "stream",
     "text": [
      "0-D numpy array 42\n",
      "\n",
      "1-D numpy array [1 2 3]\n",
      "\n",
      "2-D numpy array [[1 2 4]\n",
      " [3 4 5]]\n",
      "\n",
      "3-D numpy array [[[ 1  2  3]\n",
      "  [ 3  4  5]]\n",
      "\n",
      " [[ 6  7  8]\n",
      "  [ 9 10 11]]]\n",
      "\n",
      "The dimensions of DDD is 3\n",
      "\n"
     ]
    }
   ],
   "source": [
    "# importing numpy and alias as np\n",
    "import numpy as np\n",
    "\n",
    "# 0-D \n",
    "d= np.array(42)\n",
    "print(\"0-D numpy array {}\\n\".format(d))\n",
    "\n",
    "# 1-D\n",
    "D = np.array([1, 2, 3])\n",
    "print(\"1-D numpy array {}\\n\".format(D))\n",
    "\n",
    "# 2-D\n",
    "DD = np.array([[1, 2, 4], [3, 4, 5]])\n",
    "print(\"2-D numpy array {}\\n\".format(DD))\n",
    "\n",
    "# 3-D\n",
    "DDD = np.array([[[1, 2, 3], [3, 4, 5]], [[6, 7, 8], [9, 10, 11]]])\n",
    "print(\"3-D numpy array {}\\n\".format(DDD))\n",
    "\n",
    "# Check Number of Dimensions?\n",
    "print(\"The dimensions of DDD is {}\\n\".format(DDD.ndim))"
   ]
  },
  {
   "cell_type": "markdown",
   "id": "a88797fd-e732-4dcf-b837-f78b0e77b3bf",
   "metadata": {},
   "source": [
    "# Numpy Ranged data"
   ]
  },
  {
   "cell_type": "markdown",
   "id": "2d6577fc-4fd5-430d-86d6-be1e44d12eb5",
   "metadata": {},
   "source": [
    "#### To specify the number of elements in the returned array, rather than the step size, we can use the **np.linspace** function.\n",
    "#### In other words **np.linspace** gives an array between something to something. The difference is set according to the total numbers of array we want. Such as, We want 100 numbers between 1000 to 2500. The difference will be autometicly set.\n",
    "#### The argument **endpoint=False** makes the stop value **exclusive**.  "
   ]
  },
  {
   "cell_type": "code",
   "execution_count": 6,
   "id": "d646603a-d109-45d2-8e2d-c603f45f203a",
   "metadata": {},
   "outputs": [
    {
     "name": "stdout",
     "output_type": "stream",
     "text": [
      "array([ 5.,  7.,  9., 11.])\n",
      "array([5. , 6.5, 8. , 9.5])\n",
      "array([ 5,  7,  9, 11], dtype=int32)\n"
     ]
    }
   ],
   "source": [
    "arr = np.linspace(5, 11, num=4)\n",
    "print(repr(arr))\n",
    "\n",
    "arr = np.linspace(5, 11, num=4, endpoint=False)\n",
    "print(repr(arr))\n",
    "\n",
    "arr = np.linspace(5, 11, num=4, dtype=np.int32)\n",
    "print(repr(arr))"
   ]
  },
  {
   "cell_type": "markdown",
   "id": "605dcd6b-28b9-4e88-b4d1-d13bedd91ce6",
   "metadata": {},
   "source": [
    "#### **np.arange** worked the same as **range()** function in python except it returns **evenly spaced** values within a given interval. The function acts very similar to the range function in Python. \n",
    "#### Like np.array, np.arange performs upcasting. It also has the dtype keyword argument to manually cast the array."
   ]
  },
  {
   "cell_type": "markdown",
   "id": "2783a589-e75f-4b01-846d-893bb1ad08fd",
   "metadata": {},
   "source": [
    "# Reshaping data"
   ]
  },
  {
   "cell_type": "markdown",
   "id": "ad816c0f-ba7a-458b-a300-60390116500e",
   "metadata": {},
   "source": [
    "#### You probably worked with **shape** attribute. The shape of an array is the number of elements in each dimension.\n",
    "#### **np.reshape** gives you the power to reshape the array as you like. (2, 4) or others. \n",
    "#### The product of the reshape format should have equal to the number of elements exits in the array itself.\n",
    "#### Here reshape format (2, 4) or (2, 2, 2). Indivisually their product must be equal to **arr.shape** which is 8.\n",
    "#### 2x4=8 and 2x2x2=8 are valid **But** 2x2x2x2=16 is not valid"
   ]
  },
  {
   "cell_type": "code",
   "execution_count": 7,
   "id": "fff1c810-8b84-4ace-9277-37866cc3b8ba",
   "metadata": {},
   "outputs": [
    {
     "name": "stdout",
     "output_type": "stream",
     "text": [
      "(8,)\n",
      "array([[[0, 1],\n",
      "        [2, 3]],\n",
      "\n",
      "       [[4, 5],\n",
      "        [6, 7]]])\n",
      "array([[0, 1, 2, 3],\n",
      "       [4, 5, 6, 7]])\n",
      "New shape: (2, 4)\n",
      "array([[[0, 1],\n",
      "        [2, 3]],\n",
      "\n",
      "       [[4, 5],\n",
      "        [6, 7]]])\n",
      "New shape: (2, 2, 2)\n"
     ]
    }
   ],
   "source": [
    "arr = np.arange(8)\n",
    "print(arr.shape)\n",
    "\n",
    "reshaped_arr = np.reshape(arr, (2, 4))\n",
    "reshaped_arr_one = np.reshape(arr, (2, 2, 2))\n",
    "# reshaped_arr_one = np.reshape(arr, (2, 2, 2, 2))\n",
    "\n",
    "print(repr(reshaped_arr_one))\n",
    "print(repr(reshaped_arr))\n",
    "print('New shape: {}'.format(reshaped_arr.shape))\n",
    "\n",
    "reshaped_arr = np.reshape(arr, (-1, 2, 2))\n",
    "print(repr(reshaped_arr))\n",
    "print('New shape: {}'.format(reshaped_arr.shape))"
   ]
  },
  {
   "cell_type": "markdown",
   "id": "e9353823-ddee-4817-b1ec-fa82c816cd6d",
   "metadata": {},
   "source": [
    "#### Since we need to flatten data quite often, it is a useful function. NumPy provides an inherent function for flattening an array. Flattening an array reshapes it into a 1D array.\n",
    "#### In other words **np.flatten()** reshaped your array at the **begining point**. Like when you created it or imported it."
   ]
  },
  {
   "cell_type": "code",
   "execution_count": 8,
   "id": "39aa4f61-8e3b-4492-a910-b9eef8187077",
   "metadata": {},
   "outputs": [
    {
     "name": "stdout",
     "output_type": "stream",
     "text": [
      "array([[0, 1, 2, 3],\n",
      "       [4, 5, 6, 7]])\n",
      "arr shape: (2, 4)\n",
      "array([0, 1, 2, 3, 4, 5, 6, 7])\n",
      "flattened shape: (8,)\n"
     ]
    }
   ],
   "source": [
    "arr = np.arange(8)\n",
    "arr = np.reshape(arr, (2, 4))\n",
    "flattened = arr.flatten()\n",
    "print(repr(arr))\n",
    "print('arr shape: {}'.format(arr.shape))\n",
    "print(repr(flattened))\n",
    "print('flattened shape: {}'.format(flattened.shape))"
   ]
  },
  {
   "cell_type": "markdown",
   "id": "495ddf77-9e7c-45b3-acdc-057d8914a138",
   "metadata": {},
   "source": [
    "# Transposing"
   ]
  },
  {
   "cell_type": "markdown",
   "id": "f5fd9a3b-6843-4aae-bddb-38b0d84c6953",
   "metadata": {},
   "source": [
    "#### Similar to how it is common to reshape data, it is also common to **transpose** data. Perhaps we have data that's supposed to be in a particular format, but some new data we get is rearranged. We can just transpose the data, using the **np.transpose** function, to convert it to the proper format.\n",
    "#### **np.transpose** takes an argument called **axes**. Like np.reshape(**the array** , axes(1, 0, 2))\n",
    "#### **NOTE:** If the shape of a 3D array is (2, 3, 2) than the transpose argument axes(1, 0, 2) represents, 1 equal to 2 arrays, 0 equal to 3 rows, 1 equal to 2 coloumns.\n",
    "#### In other words axes argument represents the position of the last shape.\n"
   ]
  },
  {
   "cell_type": "code",
   "execution_count": 9,
   "id": "e09e208a-8eb8-4987-aa9e-d462085f04c6",
   "metadata": {},
   "outputs": [
    {
     "name": "stdout",
     "output_type": "stream",
     "text": [
      "array([0, 1, 2, 3, 4, 5, 6, 7])\n",
      "array([[0, 1],\n",
      "       [2, 3],\n",
      "       [4, 5],\n",
      "       [6, 7]])\n",
      "arr shape: (4, 2)\n",
      "array([[0, 2, 4, 6],\n",
      "       [1, 3, 5, 7]])\n",
      "transposed shape: (2, 4)\n"
     ]
    }
   ],
   "source": [
    "arr = np.arange(8)\n",
    "print(repr(arr))\n",
    "arr = np.reshape(arr, (4, 2))\n",
    "transposed = np.transpose(arr)\n",
    "print(repr(arr))\n",
    "print('arr shape: {}'.format(arr.shape))\n",
    "print(repr(transposed))\n",
    "print('transposed shape: {}'.format(transposed.shape))"
   ]
  },
  {
   "cell_type": "markdown",
   "id": "f0cbb8e7-f010-40a6-ad54-2e55f4c840e9",
   "metadata": {},
   "source": [
    "# Math"
   ]
  },
  {
   "cell_type": "markdown",
   "id": "9ee63413-0614-43e4-b717-2b1f3dd47afd",
   "metadata": {},
   "source": [
    "## Arithmetic"
   ]
  },
  {
   "cell_type": "markdown",
   "id": "b0202f67-116c-4707-a15c-913586b5813d",
   "metadata": {},
   "source": [
    "#### Using NumPy arithmetic, we can easily modify large amounts of numeric data with only a few operations. For example, we could convert a dataset of Fahrenheit temperatures to their equivalent Celsius form."
   ]
  },
  {
   "cell_type": "code",
   "execution_count": 10,
   "id": "937e5d2e-4d66-4673-a637-4ed91111e59b",
   "metadata": {},
   "outputs": [
    {
     "name": "stdout",
     "output_type": "stream",
     "text": [
      "Celsius: array([  0., -20., -10., -40.])\n"
     ]
    }
   ],
   "source": [
    "def f2c(temps):\n",
    "  return (5/9)*(temps-32)\n",
    "\n",
    "fahrenheits = np.array([32, -4, 14, -40])\n",
    "celsius = f2c(fahrenheits)\n",
    "print('Celsius: {}'.format(repr(celsius)))"
   ]
  },
  {
   "cell_type": "markdown",
   "id": "ad8c086b-978e-4974-b599-bb8895f3696d",
   "metadata": {
    "tags": []
   },
   "source": [
    "#### It is important to note that performing arithmetic on NumPy arrays does not change the original array, and instead produces a new array that is the result of the arithmetic operation."
   ]
  },
  {
   "cell_type": "markdown",
   "id": "684af3b2-8eca-4d5e-878f-5fb33d3d1945",
   "metadata": {
    "tags": []
   },
   "source": [
    "## Non-linear functions"
   ]
  },
  {
   "cell_type": "markdown",
   "id": "fa35d615-fed9-40a1-9359-3adb4d6b6c52",
   "metadata": {},
   "source": [
    "> In order to be a Linier function the changes of x and y, has to be constant.In other words the graph gives a stright line\n",
    "> On the other hand the Non-Linear function gives a carved line instead of a stright line in graph. In Non-Linear function the change of x and y is not constant."
   ]
  },
  {
   "cell_type": "markdown",
   "id": "54d89deb-c125-4e9b-bb66-20ee69842ed2",
   "metadata": {},
   "source": [
    "> Difference among **log**, **ln**(natural log), **lb**\n",
    "\n",
    "| Kinds | Base |\n",
    "|----------|----------|\n",
    "|log|10|\n",
    "|ln|e|\n",
    "|lb|2|"
   ]
  },
  {
   "cell_type": "markdown",
   "id": "d5787a0c-757b-4c93-8cc4-7ad51240524b",
   "metadata": {},
   "source": [
    "#### The function **np.exp** performs a base **e** exponential on an array, while the function **np.exp2** performs a base 2 exponential. Likewise, **np.log**, **np.log2**, and **np.log10** all perform logarithms on an input array, using base **e**, base **2**, and base **10**, respectively."
   ]
  },
  {
   "cell_type": "code",
   "execution_count": 17,
   "id": "8479ff2e-e07d-4b7c-bc46-1fb1fbad42b9",
   "metadata": {},
   "outputs": [
    {
     "name": "stdout",
     "output_type": "stream",
     "text": [
      "array([[ 2.71828183,  7.3890561 ],\n",
      "       [20.08553692, 54.59815003]])\n",
      "array([[ 2.,  4.],\n",
      "       [ 8., 16.]])\n",
      "array([[0.        , 2.30258509],\n",
      "       [1.        , 1.14472989]])\n",
      "array([[0.        , 1.        ],\n",
      "       [0.43429448, 0.49714987]])\n"
     ]
    }
   ],
   "source": [
    "arr = np.array([[1, 2], [3, 4]])\n",
    "# Raised to power of e\n",
    "print(repr(np.exp(arr)))\n",
    "# Raised to power of 2\n",
    "print(repr(np.exp2(arr)))\n",
    "\n",
    "arr2 = np.array([[1, 10], [np.e, np.pi]])\n",
    "# Natural logarithm\n",
    "print(repr(np.log(arr2)))\n",
    "# Base 10 logarithm\n",
    "print(repr(np.log10(arr2)))"
   ]
  },
  {
   "cell_type": "markdown",
   "id": "70f792cf-28e6-4974-a8f3-ec9b65fe63a5",
   "metadata": {},
   "source": [
    "#### NumPy has various other mathematical functions, which are listed [here](https://numpy.org/doc/stable/reference/routines.math.html)"
   ]
  },
  {
   "cell_type": "markdown",
   "id": "6b24a002-9117-4f0e-ab07-75e50b28a155",
   "metadata": {},
   "source": [
    "## Matrix multiplication"
   ]
  },
  {
   "cell_type": "markdown",
   "id": "ad1f4458-164a-4d46-af06-baca7fbcb6c4",
   "metadata": {},
   "source": [
    "####  NumPy arrays are basically vectors and matrices. The main function to use is np.matmul, which takes two vector/matrix arrays as input and produces a dot product or matrix multiplication.\n",
    "#### The code below shows various examples of matrix multiplication. When both inputs are 1-D, the output is the dot product.\n",
    "#### The basic Matrix multiplication rules are also applied here too.So, the second dimension of the first matrix must equal the first dimension of the second matrix, otherwise np.matmul will result in a **ValueError**.\n",
    "#### **As reminder if two matrix are A=[2row, 3columns], B=[2row, 3columns]. These matrixs(A, B) can not be multiplied. These have to be A=[2x3], B=[3x2].So, the first matrix columns number and second matrix row number has to be equal."
   ]
  },
  {
   "cell_type": "code",
   "execution_count": 16,
   "id": "e3b2ac45-36b5-4ab6-8edd-7096ed9c0a17",
   "metadata": {},
   "outputs": [
    {
     "name": "stdout",
     "output_type": "stream",
     "text": [
      "27\n",
      "array([[  5,   4,  -7],\n",
      "       [  9,   8, -13],\n",
      "       [ 13,  12, -19]])\n",
      "array([[  4,   4],\n",
      "       [-11, -10]])\n"
     ]
    }
   ],
   "source": [
    "arr1 = np.array([1, 2, 3])\n",
    "arr2 = np.array([-3, 0, 10])\n",
    "print(np.matmul(arr1, arr2))\n",
    "\n",
    "arr3 = np.array([[1, 2], [3, 4], [5, 6]])\n",
    "arr4 = np.array([[-1, 0, 1], [3, 2, -4]])\n",
    "print(repr(np.matmul(arr3, arr4)))\n",
    "print(repr(np.matmul(arr4, arr3)))\n",
    "# This will result in a ValueError: If we uncomment line 10 and run again.\n",
    "#print(repr(np.matmul(arr3, arr3)))"
   ]
  },
  {
   "cell_type": "code",
   "execution_count": null,
   "id": "40cdfc63-e373-402f-9dd8-62fc121a0c60",
   "metadata": {},
   "outputs": [],
   "source": []
  },
  {
   "cell_type": "code",
   "execution_count": null,
   "id": "5b0d5239-72e7-475a-b67f-2a891b496143",
   "metadata": {},
   "outputs": [],
   "source": []
  }
 ],
 "metadata": {
  "kernelspec": {
   "display_name": "Python 3 (ipykernel)",
   "language": "python",
   "name": "python3"
  },
  "language_info": {
   "codemirror_mode": {
    "name": "ipython",
    "version": 3
   },
   "file_extension": ".py",
   "mimetype": "text/x-python",
   "name": "python",
   "nbconvert_exporter": "python",
   "pygments_lexer": "ipython3",
   "version": "3.10.0"
  }
 },
 "nbformat": 4,
 "nbformat_minor": 5
}
