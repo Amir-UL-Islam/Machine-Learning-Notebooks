{
 "cells": [
  {
   "cell_type": "markdown",
   "id": "c94e9995-f3b2-4000-a8c5-ab4c2cddb173",
   "metadata": {},
   "source": [
    "# Data Processing"
   ]
  },
  {
   "cell_type": "markdown",
   "id": "797d9ab7-9e6f-477b-95a8-b6ef17a9add6",
   "metadata": {},
   "source": [
    "#### Data is the most important element of Machine Learning Industry. Given a large and diverse set of training data, a good deep learning model will significantly outperform non-deep learning algorithms.\n"
   ]
  },
  {
   "cell_type": "markdown",
   "id": "4dda66f7-c138-40ea-863f-e387b16a905b",
   "metadata": {},
   "source": [
    "# Getting Started with NumPy"
   ]
  },
  {
   "cell_type": "markdown",
   "id": "c7139c11-00a9-453a-995a-a630d8a019ba",
   "metadata": {},
   "source": [
    "#### The majority of neural networks use input data that is either numeric or has been converted to a numeric form. When we deal with numeric data, the best Python library to use is NumPy. The NumPy library allows us to perform many operations on numeric data, and convert the data to more usable forms.\n",
    "#### And NumPy aims to provide an array object that is up to **50x faster** than traditional Python lists.\n",
    "### Its a commone practice to import NumPy **alias** with **np** Like\n",
    "> import **numpy** as **np**"
   ]
  },
  {
   "cell_type": "markdown",
   "id": "9ac06c35-1005-4a9f-a3c8-f0fc83025fc3",
   "metadata": {},
   "source": [
    "# NumPy Arrays"
   ]
  },
  {
   "cell_type": "markdown",
   "id": "4c5deb54-afa8-4eb3-8c5a-056acf523f28",
   "metadata": {},
   "source": [
    "#### NumPy arrays are basically just Python lists with added features. In fact, you can easily convert a Python list to a Numpy array using the np.array function, which takes in a Python list as its required argument.\n",
    "#### The function also has quite a few keyword arguments, but the main one to know is **dtype**.\n",
    "#### The function **np.array** perfoms **upcasting**. **If the array contains elements of different data types, all the elements are cast into the largest type (a process known as upcasting)**\n",
    "#### The dtype keyword argument takes in a NumPy type and manually casts the array to the specified type."
   ]
  },
  {
   "cell_type": "code",
   "execution_count": 1,
   "id": "9acbcdab-195b-4e61-98dc-d40a4f9305f4",
   "metadata": {},
   "outputs": [
    {
     "name": "stdout",
     "output_type": "stream",
     "text": [
      "array([[0., 1., 2.],\n",
      "       [3., 4., 5.]], dtype=float32)\n"
     ]
    }
   ],
   "source": [
    "import numpy as np\n",
    "\n",
    "arr = np.array([[0, 1, 2], [3, 4, 5]],\n",
    "               dtype=np.float32)\n",
    "print(repr(arr))"
   ]
  },
  {
   "cell_type": "markdown",
   "id": "149dc887-d1c3-46cc-9f40-8c19cfcc7b3a",
   "metadata": {},
   "source": [
    "## Copying"
   ]
  },
  {
   "cell_type": "code",
   "execution_count": 2,
   "id": "2bc0b4bc-b25a-4623-9bb2-62de1035ae65",
   "metadata": {},
   "outputs": [
    {
     "name": "stdout",
     "output_type": "stream",
     "text": [
      "Array a: array([0, 1])\n",
      "Array a: array([5, 1])\n",
      "Array b: array([9, 8])\n"
     ]
    }
   ],
   "source": [
    "a = np.array([0, 1])\n",
    "b = np.array([9, 8])\n",
    "c = a\n",
    "print('Array a: {}'.format(repr(a)))\n",
    "c[0] = 5\n",
    "print('Array a: {}'.format(repr(a)))\n",
    "\n",
    "d = b.copy()\n",
    "d[0] = 6\n",
    "print('Array b: {}'.format(repr(b)))"
   ]
  },
  {
   "cell_type": "markdown",
   "id": "76ee5890-963e-42a4-a79a-199756fe9207",
   "metadata": {},
   "source": [
    "## Casting"
   ]
  },
  {
   "cell_type": "code",
   "execution_count": 3,
   "id": "2e8e2b30-0dd6-4098-8115-57cbe8719945",
   "metadata": {},
   "outputs": [
    {
     "name": "stdout",
     "output_type": "stream",
     "text": [
      "int64\n",
      "float32\n"
     ]
    }
   ],
   "source": [
    "arr = np.array([0, 1, 2])\n",
    "print(arr.dtype)\n",
    "arr = arr.astype(np.float32)\n",
    "print(arr.dtype)"
   ]
  },
  {
   "cell_type": "markdown",
   "id": "b9177b46-fe34-47f6-9399-b1202097e5d6",
   "metadata": {},
   "source": [
    "## NaN & Infinity"
   ]
  },
  {
   "cell_type": "markdown",
   "id": "0ef584ee-f48b-4da9-9922-bdc996895a31",
   "metadata": {},
   "source": [
    "* Note that np.nan cannot take on an integer type.\n",
    "* Note that np.inf cannot take on an integer type.\n",
    "### Try it by uncommenting and commenting the code chunks"
   ]
  },
  {
   "cell_type": "code",
   "execution_count": 4,
   "id": "7633451c-4391-4f2a-b3ad-12488b0e23b6",
   "metadata": {},
   "outputs": [
    {
     "name": "stdout",
     "output_type": "stream",
     "text": [
      "True\n",
      "array([inf,  5.])\n",
      "array([-inf,   1.])\n"
     ]
    },
    {
     "ename": "OverflowError",
     "evalue": "cannot convert float infinity to integer",
     "output_type": "error",
     "traceback": [
      "\u001b[0;31m---------------------------------------------------------------------------\u001b[0m",
      "\u001b[0;31mOverflowError\u001b[0m                             Traceback (most recent call last)",
      "\u001b[0;32m/tmp/ipykernel_12569/254605026.py\u001b[0m in \u001b[0;36m<module>\u001b[0;34m\u001b[0m\n\u001b[1;32m     19\u001b[0m \u001b[0;34m\u001b[0m\u001b[0m\n\u001b[1;32m     20\u001b[0m \u001b[0;31m# Will result in an OverflowError\u001b[0m\u001b[0;34m\u001b[0m\u001b[0;34m\u001b[0m\u001b[0m\n\u001b[0;32m---> 21\u001b[0;31m \u001b[0mnp\u001b[0m\u001b[0;34m.\u001b[0m\u001b[0marray\u001b[0m\u001b[0;34m(\u001b[0m\u001b[0;34m[\u001b[0m\u001b[0mnp\u001b[0m\u001b[0;34m.\u001b[0m\u001b[0minf\u001b[0m\u001b[0;34m,\u001b[0m \u001b[0;36m3\u001b[0m\u001b[0;34m]\u001b[0m\u001b[0;34m,\u001b[0m \u001b[0mdtype\u001b[0m\u001b[0;34m=\u001b[0m\u001b[0mnp\u001b[0m\u001b[0;34m.\u001b[0m\u001b[0mint32\u001b[0m\u001b[0;34m)\u001b[0m\u001b[0;34m\u001b[0m\u001b[0;34m\u001b[0m\u001b[0m\n\u001b[0m",
      "\u001b[0;31mOverflowError\u001b[0m: cannot convert float infinity to integer"
     ]
    }
   ],
   "source": [
    "# # NaN\n",
    "# arr = np.array([np.nan, 1, 2])\n",
    "# print(repr(arr))\n",
    "\n",
    "# arr = np.array([np.nan, 'abc'])\n",
    "# print(repr(arr))\n",
    "\n",
    "# # Will result in a ValueError\n",
    "# np.array([np.nan, 1, 2], dtype=np.int32)\n",
    "\n",
    "# # # Infinity\n",
    "print(np.inf > 1000000)\n",
    "\n",
    "arr = np.array([np.inf, 5])\n",
    "print(repr(arr))\n",
    "\n",
    "arr = np.array([-np.inf, 1])\n",
    "print(repr(arr))\n",
    "\n",
    "# Will result in an OverflowError\n",
    "np.array([np.inf, 3], dtype=np.int32)"
   ]
  },
  {
   "cell_type": "markdown",
   "id": "619f927a-887e-4c3b-a2c3-29712a101199",
   "metadata": {},
   "source": [
    "# Dimensions in Arrays"
   ]
  },
  {
   "cell_type": "markdown",
   "id": "e738f5f1-2340-4d91-9e06-bdbe8daac114",
   "metadata": {},
   "source": [
    "#### A dimension in arrays is one level of array depth (nested arrays).\n",
    "### 0-D Arrays\n",
    "#### 0-D arrays, or Scalars, are the elements in an array. Each value in an array is a 0-D array.\n",
    "### 1-D Arrays\n",
    "#### An array that has 0-D arrays as its elements is called uni-dimensional or 1-D array.\n",
    "**These are the most common and basic arrays.**\n",
    "### 2-D Arrays\n",
    "#### An array that has 1-D arrays as its elements is called a 2-D array.\n",
    "**These are often used to represent matrix or 2nd order tensors.**\n",
    ">NumPy has a whole sub module dedicated towards matrix operations called numpy.mat\n",
    "### 3-D arrays\n",
    "#### An array that has 2-D arrays (matrices) as its elements is called 3-D array.\n",
    "**These are often used to represent a 3rd order tensor.** \n",
    "### Check Number of Dimensions?\n",
    "#### NumPy Arrays provides the **ndim** attribute that returns an integer that tells us how many dimensions the array have."
   ]
  },
  {
   "cell_type": "code",
   "execution_count": null,
   "id": "d68fd8bf-6382-4c26-a5d5-6fd4cb652b90",
   "metadata": {},
   "outputs": [],
   "source": [
    "# importing numpy and alias as np\n",
    "import numpy as np\n",
    "\n",
    "# 0-D \n",
    "d= np.array(42)\n",
    "print(\"0-D numpy array {}\\n\".format(d))\n",
    "\n",
    "# 1-D\n",
    "D = np.array([1, 2, 3])\n",
    "print(\"1-D numpy array {}\\n\".format(D))\n",
    "\n",
    "# 2-D\n",
    "DD = np.array([[1, 2, 4], [3, 4, 5]])\n",
    "print(\"2-D numpy array {}\\n\".format(DD))\n",
    "\n",
    "# 3-D\n",
    "DDD = np.array([[[1, 2, 3], [3, 4, 5]], [[6, 7, 8], [9, 10, 11]]])\n",
    "print(\"3-D numpy array {}\\n\".format(DDD))\n",
    "\n",
    "# Check Number of Dimensions?\n",
    "print(\"The dimensions of DDD is {}\\n\".format(DDD.ndim))"
   ]
  },
  {
   "cell_type": "markdown",
   "id": "a88797fd-e732-4dcf-b837-f78b0e77b3bf",
   "metadata": {},
   "source": [
    "# Numpy Ranged data"
   ]
  },
  {
   "cell_type": "markdown",
   "id": "2d6577fc-4fd5-430d-86d6-be1e44d12eb5",
   "metadata": {},
   "source": [
    "#### To specify the number of elements in the returned array, rather than the step size, we can use the **np.linspace** function.\n",
    "#### In other words **np.linspace** gives an array between something to something. The difference is set according to the total numbers of array we want. Such as, We want 100 numbers between 1000 to 2500. The difference will be autometicly set.\n",
    "#### The argument **endpoint=False** makes the stop value **exclusive**.  "
   ]
  },
  {
   "cell_type": "code",
   "execution_count": null,
   "id": "d646603a-d109-45d2-8e2d-c603f45f203a",
   "metadata": {},
   "outputs": [],
   "source": [
    "arr = np.linspace(5, 11, num=4)\n",
    "print(repr(arr))\n",
    "\n",
    "arr = np.linspace(5, 11, num=4, endpoint=False)\n",
    "print(repr(arr))\n",
    "\n",
    "arr = np.linspace(5, 11, num=4, dtype=np.int32)\n",
    "print(repr(arr))"
   ]
  },
  {
   "cell_type": "markdown",
   "id": "605dcd6b-28b9-4e88-b4d1-d13bedd91ce6",
   "metadata": {},
   "source": [
    "#### **np.arange** worked the same as **range()** function in python except it returns **evenly spaced** values within a given interval. The function acts very similar to the range function in Python. \n",
    "#### Like np.array, np.arange performs upcasting. It also has the dtype keyword argument to manually cast the array."
   ]
  },
  {
   "cell_type": "markdown",
   "id": "2783a589-e75f-4b01-846d-893bb1ad08fd",
   "metadata": {},
   "source": [
    "# Reshaping data"
   ]
  },
  {
   "cell_type": "markdown",
   "id": "ad816c0f-ba7a-458b-a300-60390116500e",
   "metadata": {},
   "source": [
    "#### You probably worked with **shape** attribute. The shape of an array is the number of elements in each dimension.\n",
    "#### **np.reshape** gives you the power to reshape the array as you like. (2, 4) or others. \n",
    "#### The product of the reshape format should have equal to the number of elements exits in the array itself.\n",
    "#### Here reshape format (2, 4) or (2, 2, 2). Indivisually their product must be equal to **arr.shape** which is 8.\n",
    "#### 2x4=8 and 2x2x2=8 are valid **But** 2x2x2x2=16 is not valid"
   ]
  },
  {
   "cell_type": "code",
   "execution_count": null,
   "id": "fff1c810-8b84-4ace-9277-37866cc3b8ba",
   "metadata": {},
   "outputs": [],
   "source": [
    "arr = np.arange(8)\n",
    "print(arr.shape)\n",
    "\n",
    "reshaped_arr = np.reshape(arr, (2, 4))\n",
    "reshaped_arr_one = np.reshape(arr, (2, 2, 2))\n",
    "# reshaped_arr_one = np.reshape(arr, (2, 2, 2, 2))\n",
    "\n",
    "print(repr(reshaped_arr_one))\n",
    "print(repr(reshaped_arr))\n",
    "print('New shape: {}'.format(reshaped_arr.shape))\n",
    "\n",
    "reshaped_arr = np.reshape(arr, (-1, 2, 2))\n",
    "print(repr(reshaped_arr))\n",
    "print('New shape: {}'.format(reshaped_arr.shape))"
   ]
  },
  {
   "cell_type": "markdown",
   "id": "e9353823-ddee-4817-b1ec-fa82c816cd6d",
   "metadata": {},
   "source": [
    "#### Since we need to flatten data quite often, it is a useful function. NumPy provides an inherent function for flattening an array. Flattening an array reshapes it into a 1D array.\n",
    "#### In other words **np.flatten()** reshaped your array at the **begining point**. Like when you created it or imported it."
   ]
  },
  {
   "cell_type": "code",
   "execution_count": null,
   "id": "39aa4f61-8e3b-4492-a910-b9eef8187077",
   "metadata": {},
   "outputs": [],
   "source": [
    "arr = np.arange(8)\n",
    "arr = np.reshape(arr, (2, 4))\n",
    "flattened = arr.flatten()\n",
    "print(repr(arr))\n",
    "print('arr shape: {}'.format(arr.shape))\n",
    "print(repr(flattened))\n",
    "print('flattened shape: {}'.format(flattened.shape))"
   ]
  },
  {
   "cell_type": "markdown",
   "id": "495ddf77-9e7c-45b3-acdc-057d8914a138",
   "metadata": {},
   "source": [
    "# Transposing"
   ]
  },
  {
   "cell_type": "markdown",
   "id": "f5fd9a3b-6843-4aae-bddb-38b0d84c6953",
   "metadata": {},
   "source": [
    "#### Similar to how it is common to reshape data, it is also common to **transpose** data. Perhaps we have data that's supposed to be in a particular format, but some new data we get is rearranged. We can just transpose the data, using the **np.transpose** function, to convert it to the proper format.\n",
    "#### **np.transpose** takes an argument called **axes**. Like np.reshape(**the array** , axes(1, 0, 2))\n",
    "#### **NOTE:** If the shape of a 3D array is (2, 3, 2) than the transpose argument axes(1, 0, 2) represents, 1 equal to 2 arrays, 0 equal to 3 rows, 1 equal to 2 coloumns.\n",
    "#### In other words axes argument represents the position of the last shape.\n"
   ]
  },
  {
   "cell_type": "code",
   "execution_count": 6,
   "id": "e09e208a-8eb8-4987-aa9e-d462085f04c6",
   "metadata": {},
   "outputs": [
    {
     "name": "stdout",
     "output_type": "stream",
     "text": [
      "array([0, 1, 2, 3, 4, 5, 6, 7])\n",
      "array([[0, 1],\n",
      "       [2, 3],\n",
      "       [4, 5],\n",
      "       [6, 7]])\n",
      "arr shape: (4, 2)\n",
      "array([[0, 2, 4, 6],\n",
      "       [1, 3, 5, 7]])\n",
      "transposed shape: (2, 4)\n"
     ]
    }
   ],
   "source": [
    "arr = np.arange(8)\n",
    "print(repr(arr))\n",
    "arr = np.reshape(arr, (4, 2))\n",
    "transposed = np.transpose(arr)\n",
    "print(repr(arr))\n",
    "print('arr shape: {}'.format(arr.shape))\n",
    "print(repr(transposed))\n",
    "print('transposed shape: {}'.format(transposed.shape))"
   ]
  },
  {
   "cell_type": "code",
   "execution_count": null,
   "id": "e9edfad6-d9eb-4aca-a205-ba33ebd8be3f",
   "metadata": {},
   "outputs": [],
   "source": []
  },
  {
   "cell_type": "code",
   "execution_count": null,
   "id": "7012b2d8-c81b-4575-8178-8a0e4a89b10f",
   "metadata": {},
   "outputs": [],
   "source": []
  },
  {
   "cell_type": "code",
   "execution_count": null,
   "id": "15382796-b79b-4bc1-b263-9842f001107d",
   "metadata": {},
   "outputs": [],
   "source": []
  },
  {
   "cell_type": "code",
   "execution_count": null,
   "id": "937e5d2e-4d66-4673-a637-4ed91111e59b",
   "metadata": {},
   "outputs": [],
   "source": []
  },
  {
   "cell_type": "code",
   "execution_count": null,
   "id": "86b0ba32-8869-4400-b573-1bc676d42a8e",
   "metadata": {},
   "outputs": [],
   "source": []
  },
  {
   "cell_type": "code",
   "execution_count": null,
   "id": "077ac123-91d1-48f9-9853-07ac64bc1ae2",
   "metadata": {},
   "outputs": [],
   "source": []
  },
  {
   "cell_type": "code",
   "execution_count": null,
   "id": "68a6201e-fe00-44bb-ad24-bcd64a0ac24b",
   "metadata": {},
   "outputs": [],
   "source": []
  },
  {
   "cell_type": "code",
   "execution_count": null,
   "id": "6168c53f-0945-4065-8b0b-f47339424d33",
   "metadata": {},
   "outputs": [],
   "source": []
  },
  {
   "cell_type": "code",
   "execution_count": null,
   "id": "211ac262-5024-4f43-916e-f9b6f5dadd50",
   "metadata": {},
   "outputs": [],
   "source": []
  },
  {
   "cell_type": "code",
   "execution_count": null,
   "id": "6c14b551-b5b0-4c8f-a95b-22cbc8e2df12",
   "metadata": {},
   "outputs": [],
   "source": []
  },
  {
   "cell_type": "code",
   "execution_count": null,
   "id": "9ea6cc8c-9d85-48ba-a10f-d3cbd897bb2a",
   "metadata": {},
   "outputs": [],
   "source": []
  }
 ],
 "metadata": {
  "kernelspec": {
   "display_name": "Python 3 (ipykernel)",
   "language": "python",
   "name": "python3"
  },
  "language_info": {
   "codemirror_mode": {
    "name": "ipython",
    "version": 3
   },
   "file_extension": ".py",
   "mimetype": "text/x-python",
   "name": "python",
   "nbconvert_exporter": "python",
   "pygments_lexer": "ipython3",
   "version": "3.10.0"
  }
 },
 "nbformat": 4,
 "nbformat_minor": 5
}
