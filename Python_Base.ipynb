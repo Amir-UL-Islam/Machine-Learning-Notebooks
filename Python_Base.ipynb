{
 "cells": [
  {
   "cell_type": "markdown",
   "metadata": {},
   "source": [
    "## Built-in Data Structures, Functions, and Files"
   ]
  },
  {
   "cell_type": "markdown",
   "metadata": {},
   "source": [
    "#### Python’s data structures are simple but powerful."
   ]
  },
  {
   "cell_type": "markdown",
   "metadata": {},
   "source": [
    "## **Tuple**"
   ]
  },
  {
   "cell_type": "markdown",
   "metadata": {},
   "source": [
    "#### A tuple is a fixed-length, immutable sequence of Python objects.(Python is an object oriented programming language. Almost everything in Python is an object, with its properties and methods."
   ]
  },
  {
   "cell_type": "code",
   "execution_count": 1,
   "metadata": {},
   "outputs": [
    {
     "data": {
      "text/plain": [
       "(3, 4, 6)"
      ]
     },
     "execution_count": 1,
     "metadata": {},
     "output_type": "execute_result"
    }
   ],
   "source": [
    "tup = 3, 4, 6\n",
    "tup"
   ]
  },
  {
   "cell_type": "markdown",
   "metadata": {},
   "source": [
    "#### When you’re defining tuples in more complicated expressions, it’s often necessary toenclose the values in parentheses.You can concatenate and multiply tuples using the + operator to produce longer tuples.You can convert any sequence or iterator to a tuple by invoking tuple. Elements can be accessed with square brackets [] as with most other sequence types."
   ]
  },
  {
   "cell_type": "code",
   "execution_count": 2,
   "metadata": {},
   "outputs": [
    {
     "name": "stdout",
     "output_type": "stream",
     "text": [
      "((3, 4, 8), (3, 8))\n",
      "(4, None, 'foo', 6, 0, 'bar')\n",
      "(2, 3, 'lala')\n"
     ]
    },
    {
     "data": {
      "text/plain": [
       "'lala'"
      ]
     },
     "execution_count": 2,
     "metadata": {},
     "output_type": "execute_result"
    }
   ],
   "source": [
    "tup_compli = (3, 4, 8), (3, 8)\n",
    "print(tup_compli)\n",
    "\n",
    "# Concatenate and multiply tuples\n",
    "concat_tup = (4, None, 'foo') + (6, 0) + ('bar',)\n",
    "print(concat_tup)\n",
    "\n",
    "# Converting a sequence or iterator to a tuple\n",
    "lis_t = [2, 3, 'lala']\n",
    "new_tup = tuple(lis_t)\n",
    "print(new_tup)\n",
    "\n",
    "# Accessing with brackets[]\n",
    "new_tup[2]"
   ]
  },
  {
   "cell_type": "markdown",
   "metadata": {},
   "source": [
    "### **Immutable Tuple's mutalbe objects**"
   ]
  },
  {
   "cell_type": "markdown",
   "metadata": {},
   "source": [
    "#### While the objects stored in a tuple may be mutable themselves, once the tuple is cre‐ated it’s not possible to modify which object is stored in each slot. **But, If an object inside a tuple is mutable, such as a list, you can modify it in-place.**"
   ]
  },
  {
   "cell_type": "code",
   "execution_count": 3,
   "metadata": {},
   "outputs": [
    {
     "data": {
      "text/plain": [
       "('foo', [1, 2, 3], True)"
      ]
     },
     "execution_count": 3,
     "metadata": {},
     "output_type": "execute_result"
    }
   ],
   "source": [
    "# Immutable Tuple\n",
    "tup = tuple(['foo', [1, 2], True])\n",
    "# tup[2] = False(First Uncomment This pice of code)\n",
    "\n",
    "# Mutable objects of Tuple\n",
    "tup[1].append(3)\n",
    "tup"
   ]
  },
  {
   "cell_type": "markdown",
   "metadata": {},
   "source": [
    "### **Unpacking tuples**"
   ]
  },
  {
   "cell_type": "markdown",
   "metadata": {},
   "source": [
    ">#### Unpacking means Assigning the variable of the tuple."
   ]
  },
  {
   "cell_type": "markdown",
   "metadata": {},
   "source": [
    "#### If you try to assign to a tuple-like expression of variables, Python will attempt to unpack the value on the righthand side of the equals sign. Another common use is returning multiple values from a function."
   ]
  },
  {
   "cell_type": "code",
   "execution_count": 4,
   "metadata": {},
   "outputs": [
    {
     "name": "stdout",
     "output_type": "stream",
     "text": [
      "4\n"
     ]
    },
    {
     "data": {
      "text/plain": [
       "(6, 7)"
      ]
     },
     "execution_count": 4,
     "metadata": {},
     "output_type": "execute_result"
    }
   ],
   "source": [
    "tup = (4, 5, 6)\n",
    "a, b, c = tup # assigning a = 4, b = 5, c = 6\n",
    "print(a)\n",
    "\n",
    "# Nasted tuple\n",
    "tup = 4, 5, (6, 7)\n",
    "a, b, (c, d) = tup\n",
    "(c, d)\n",
    "\n"
   ]
  },
  {
   "cell_type": "markdown",
   "metadata": {},
   "source": [
    "#### This uses the special syntax ***rest**, which is also used in function signatures to capture an arbitrarily long list of positional argument. Python programmers will use the underscore (_) for unwanted variables"
   ]
  },
  {
   "cell_type": "code",
   "execution_count": 65,
   "metadata": {},
   "outputs": [
    {
     "name": "stdout",
     "output_type": "stream",
     "text": [
      "[7, 3, 2]\n",
      "[3, 4, 5]\n"
     ]
    }
   ],
   "source": [
    "values = 1, 2, 3, 4, 5\n",
    "another_value = 3, 5, 7, 3, 2\n",
    "a, b, *rest = values\n",
    "a, b, *_ = another_value\n",
    "\n",
    "\n",
    "print(_)\n",
    "print(rest)"
   ]
  },
  {
   "cell_type": "markdown",
   "metadata": {},
   "source": [
    "#### A common use of variable unpacking is iterating over sequences of tuples or lists"
   ]
  },
  {
   "cell_type": "code",
   "execution_count": 5,
   "metadata": {},
   "outputs": [
    {
     "name": "stdout",
     "output_type": "stream",
     "text": [
      "a = 1, b = 2, c = 3\n",
      "a = 4, b = 5, c = 6\n",
      "a = 7, b = 8, c = 9\n"
     ]
    }
   ],
   "source": [
    "seq = [(1, 2, 3), (4, 5, 6), (7, 8, 9)]\n",
    "seq\n",
    "for a, b, c in seq:\n",
    "    print('a = {0}, b = {1}, c = {2}'.format(a, b, c))\n",
    "   "
   ]
  },
  {
   "cell_type": "markdown",
   "metadata": {},
   "source": [
    "## **List**"
   ]
  },
  {
   "cell_type": "markdown",
   "metadata": {},
   "source": [
    "#### Lists are variable-length and their contents can be modified in-place. You can define them using square brackets [] or using the list type function.Lists and tuples are semantically similar (though tuples cannot be modified). "
   ]
  },
  {
   "cell_type": "code",
   "execution_count": 6,
   "metadata": {},
   "outputs": [
    {
     "name": "stdout",
     "output_type": "stream",
     "text": [
      "7\n"
     ]
    }
   ],
   "source": [
    "a_list = [2, 3, 7, None]\n",
    "a_list\n",
    "print(a_list[2])\n"
   ]
  },
  {
   "cell_type": "markdown",
   "metadata": {},
   "source": [
    "### **Adding, removing, concatenating and combining lists**"
   ]
  },
  {
   "cell_type": "markdown",
   "metadata": {},
   "source": [
    "#### Elements can be appended to the end of the list with the **append** and **insert** method. Where **Insert** method can insert an elemnt at a specific location in the list. **pop** is inverse of **insert** and **remove** is inverse of **append**."
   ]
  },
  {
   "cell_type": "code",
   "execution_count": 14,
   "metadata": {},
   "outputs": [
    {
     "name": "stdout",
     "output_type": "stream",
     "text": [
      "['a', 'b', 'c', 'd', 'e', 'f']\n",
      "['a', 'b', 'g', 'c', 'd', 'e', 'f']\n",
      "['a', 'b', 'g', 'c', 'd', 'e']\n",
      "['b', 'g', 'c', 'd', 'e']\n"
     ]
    }
   ],
   "source": [
    "a_list = ['a', 'b', 'c', 'd', 'e']\n",
    "a_list.append('f')\n",
    "print(a_list)\n",
    "a_list.insert(2, 'g')\n",
    "print(a_list)\n",
    "a_list.pop()\n",
    "print(a_list)\n",
    "a_list.remove('a')\n",
    "print(a_list)"
   ]
  },
  {
   "cell_type": "markdown",
   "metadata": {},
   "source": [
    "#### You can also check weather a element of list is present or not by using **in** and ** not in**"
   ]
  },
  {
   "cell_type": "code",
   "execution_count": 15,
   "metadata": {},
   "outputs": [
    {
     "name": "stdout",
     "output_type": "stream",
     "text": [
      "False\n",
      "True\n"
     ]
    }
   ],
   "source": [
    "print('a' in a_list)\n",
    "\n",
    "print('a' not in a_list)"
   ]
  },
  {
   "cell_type": "markdown",
   "metadata": {},
   "source": [
    "#### Similar to tuples, adding two lists together with + concatenates them. Using **extend** method you can append multiple element to a existing list."
   ]
  },
  {
   "cell_type": "code",
   "execution_count": 16,
   "metadata": {},
   "outputs": [
    {
     "name": "stdout",
     "output_type": "stream",
     "text": [
      "[4, None, 'foo', 7, 8, (2, 3)]\n",
      "[4, None, 'foo', 7, 8, (2, 3), [88, 45, 90, 234]]\n"
     ]
    }
   ],
   "source": [
    "foo_list = [4, None, 'foo'] + [7, 8, (2, 3)]\n",
    "print(foo_list)\n",
    "\n",
    "# The Extend method\n",
    "x = [4, None, 'foo']\n",
    "x.extend([7, 8, (2, 3), [88, 45, 90, 234]])\n",
    "print(x)\n",
    "\n",
    "# More faster way for large file \n",
    "everything = [4, None, 'foo']\n",
    "list_of = [[7, 8, (2, 3)], ['a', 'b', 'c', 'd', 'e']]\n",
    "for chunk in list_of:\n",
    "    everything.extend(chunk)"
   ]
  },
  {
   "cell_type": "markdown",
   "metadata": {},
   "source": [
    "### **Sorting**"
   ]
  },
  {
   "cell_type": "markdown",
   "metadata": {},
   "source": [
    "#### You can **sort** a list using sort function (without creating a new object). There are optional keys too. Those keys comes handy some time."
   ]
  },
  {
   "cell_type": "code",
   "execution_count": 17,
   "metadata": {},
   "outputs": [
    {
     "name": "stdout",
     "output_type": "stream",
     "text": [
      "['He', 'foxes', 'saw', 'six', 'small']\n",
      "['He', 'saw', 'six', 'foxes', 'small']\n"
     ]
    }
   ],
   "source": [
    "b = ['saw', 'small', 'He', 'foxes', 'six']\n",
    "b.sort()\n",
    "print(b)\n",
    "b.sort(key=len)\n",
    "print(b)"
   ]
  },
  {
   "cell_type": "markdown",
   "metadata": {},
   "source": [
    "#### There are ..."
   ]
  },
  {
   "cell_type": "markdown",
   "metadata": {},
   "source": [
    "### **Slicing**"
   ]
  },
  {
   "cell_type": "markdown",
   "metadata": {},
   "source": [
    "#### Slicing is one of the most powerfull tools in python. With the help of slicing, you can select sections of most sequence types. By sequence type I mean List, Dictonary, e.t.c.\n",
    "#### While the element at the start index is included, the stop index is not included, so that the number of elements in the result is stop - start. If the start or stop is not present than the default to the start of the sequence and the end of the sequence, respectively:"
   ]
  },
  {
   "cell_type": "markdown",
   "metadata": {},
   "source": [
    "#### Basic Method is "
   ]
  },
  {
   "cell_type": "markdown",
   "metadata": {},
   "source": [
    "# [Start : Stop] "
   ]
  },
  {
   "cell_type": "code",
   "execution_count": 18,
   "metadata": {},
   "outputs": [
    {
     "name": "stdout",
     "output_type": "stream",
     "text": [
      "[4, 6, 9]\n",
      "[7, 2, 4, 6, 9]\n",
      "[4, 6, 9, 11, 5, 8]\n"
     ]
    }
   ],
   "source": [
    "any_seq = [7, 2, 4, 6, 9, 11, 5, 8]\n",
    "print(any_seq[2:5])\n",
    "\n",
    "#In case of Start or Stop is not present\n",
    "print(any_seq[:5])\n",
    "\n",
    "print(any_seq[2:])"
   ]
  },
  {
   "cell_type": "markdown",
   "metadata": {},
   "source": [
    "#### Negative indices slice the sequence relative to the end"
   ]
  },
  {
   "cell_type": "code",
   "execution_count": 19,
   "metadata": {},
   "outputs": [
    {
     "name": "stdout",
     "output_type": "stream",
     "text": [
      "[8]\n",
      "[4, 6, 9, 11]\n"
     ]
    }
   ],
   "source": [
    "print(any_seq[-1:])\n",
    "print(any_seq[-6: -2])"
   ]
  },
  {
   "cell_type": "markdown",
   "metadata": {},
   "source": [
    "## **Dictonary**"
   ]
  },
  {
   "cell_type": "markdown",
   "metadata": {},
   "source": [
    "#### A dictonary is a collection of ***key*** and ***values***. One approach for creating one is to use curly braces {} and colons to separate keys and values.\n",
    "#### You can access, insert,check or set elements using the same syntax as for accessing elements of a list or tuple. You can delete values either using the del keyword or the pop method (which simul‐taneously returns the value and deletes the key)"
   ]
  },
  {
   "cell_type": "code",
   "execution_count": 20,
   "metadata": {},
   "outputs": [
    {
     "name": "stdout",
     "output_type": "stream",
     "text": [
      "any\n",
      "{'key1': 'Value 1', 'a': 'can be anything', '7': ['apple', 'mango', 'oil'], 'dummy': 'value'}\n",
      "{'key1': 'Value 1', 'a': 'can be anything', '7': ['apple', 'mango', 'oil'], 'dummy': 'value', 'b': 'not yet'}\n",
      "{'a': 'can be anything', '7': ['apple', 'mango', 'oil'], 'dummy': 'value', 'b': 'not yet'}\n",
      "['apple', 'mango', 'oil']\n",
      "{'a': 'can be anything', 'dummy': 'value', 'b': 'not yet'}\n"
     ]
    }
   ],
   "source": [
    "empty_dicto = {}\n",
    "\n",
    "# Define a Dict\n",
    "dict = {'key1':'Value 1',\n",
    "        'a':'any',\n",
    "        '7':['apple', 'mango', 'oil'],\n",
    "        'dummy':'value'}\n",
    "\n",
    "# Access and inseting a new key, value\n",
    "print(dict['a'])\n",
    "\n",
    "# Inserting\n",
    "dict['a'] = 'can be anything'\n",
    "print(dict)\n",
    "\n",
    "# New key and Value\n",
    "dict['b'] = 'not yet'\n",
    "print(dict)\n",
    "\n",
    "# Checking the values with same syntax as list or tuple\n",
    "'b' in dict\n",
    "\n",
    "# Deleting the Key and Values using del and pop \n",
    "del dict['key1']\n",
    "print(dict)\n",
    "\n",
    "rest = dict.pop('7')\n",
    "print(rest)\n",
    "print(dict)\n"
   ]
  },
  {
   "cell_type": "markdown",
   "metadata": {},
   "source": [
    "#### You can also find out the key and values in an organized way by using key() and value() function."
   ]
  },
  {
   "cell_type": "code",
   "execution_count": 21,
   "metadata": {},
   "outputs": [
    {
     "name": "stdout",
     "output_type": "stream",
     "text": [
      "dict_keys(['a', 'dummy', 'b'])\n",
      "dict_values(['can be anything', 'value', 'not yet'])\n"
     ]
    }
   ],
   "source": [
    "print(dict.keys())\n",
    "print(dict.values())"
   ]
  },
  {
   "cell_type": "markdown",
   "metadata": {},
   "source": [
    "#### You can merge one dict into another using the update method. The ```update``` method changes dicts in-place, so any existing keys in the data passed to update will have their old values discarded"
   ]
  },
  {
   "cell_type": "code",
   "execution_count": 23,
   "metadata": {},
   "outputs": [
    {
     "name": "stdout",
     "output_type": "stream",
     "text": [
      "{'a': 'can be anything', 'dummy': 'value', 'b': 'not yet', 'ola': ['me', '7'], 'dash': 'foo'}\n"
     ]
    }
   ],
   "source": [
    "print(dict)\n",
    "\n",
    "# Define an other dict\n",
    "another_dict = {'ola':['me', '7'],\n",
    "                'dash':'foo'}\n",
    "# merging to dict\n",
    "dict.update(another_dict)"
   ]
  },
  {
   "cell_type": "markdown",
   "metadata": {},
   "source": [
    "### **Creating dicts from sequences, Default values, Valid dict key types** "
   ]
  },
  {
   "cell_type": "markdown",
   "metadata": {},
   "source": [
    "### A simple prototype for creating dicts for sequence."
   ]
  },
  {
   "cell_type": "raw",
   "metadata": {},
   "source": [
    "mapping = {}\n",
    "for key, value in zip(key_list, value_list):\n",
    "    mapping[key] = value"
   ]
  },
  {
   "cell_type": "code",
   "execution_count": 24,
   "metadata": {},
   "outputs": [
    {
     "name": "stdout",
     "output_type": "stream",
     "text": [
      "{'one': 'non', 'two': 'nothing', 'three': 'never'}\n"
     ]
    }
   ],
   "source": [
    "# Creating dicts from sequence\n",
    "seq1 = ['one', 'two', 'three']\n",
    "seq2 = ['non', 'nothing', 'never']\n",
    "mapping = {}\n",
    "for key, value in zip(seq1, seq2):\n",
    "    mapping[key] = value\n",
    "print(mapping)"
   ]
  },
  {
   "cell_type": "markdown",
   "metadata": {},
   "source": [
    "##### **zip()** function returns a zip object, which is an iterator of tuples where the first item in each passed iterator is paired together.\n",
    "\n",
    "##### **ITERABLE** is:\n",
    "- anything that can be looped over.\n",
    "- anything that can appear on the right-side of a for-loop: for x in iterable:\n",
    "- anything you can call with iter() that will return an ITERATOR: iter(obj)\n",
    "- an object that defines __iter__ that returns a fresh ITERATOR, or it may have a __getitem__ method suitable for indexed lookup.\n",
    "\n",
    "\n",
    "##### **ITERATOR** is:\n",
    "\n",
    "- with state that remembers where it is during iteration,\n",
    "- with a __next__ method that:\n",
    "- returns the next value in the iteration\n",
    "- updates the state to point at the next value\n",
    "- signals when it is done by raising StopIteration\n",
    "- and that is self-iterable (meaning that it has an __iter__ method that returns self).\n",
    "**Notes:**\n",
    "##### The __next__ method in Python 3 is spelt next in Python 2, and The builtin function next() calls that method on the object passed to it.\n"
   ]
  },
  {
   "cell_type": "markdown",
   "metadata": {},
   "source": [
    "### **Valid dict key types**"
   ]
  },
  {
   "cell_type": "markdown",
   "metadata": {},
   "source": [
    "#### The keys of **dict** generally have to be immutable objects like scalar types (int, float, string) or tuples. we can check whether an object can be used as key in a dict or not by using **hash** function. If the **hash** function gives a hash output then the object can be use as a key."
   ]
  },
  {
   "cell_type": "code",
   "execution_count": 25,
   "metadata": {},
   "outputs": [
    {
     "name": "stdout",
     "output_type": "stream",
     "text": [
      "3723839294140168445\n",
      "-9209053662355515447\n"
     ]
    }
   ],
   "source": [
    "# Using string type as keys\n",
    "print(hash('string'))\n",
    "\n",
    "# Usint tuple type as keys\n",
    "print(hash((1, 2, (2, 3))))\n"
   ]
  },
  {
   "cell_type": "markdown",
   "metadata": {},
   "source": [
    "#### As list is a mutable object and scalar type. Thus it can not be used as key of any dict."
   ]
  },
  {
   "cell_type": "code",
   "execution_count": 2,
   "metadata": {},
   "outputs": [],
   "source": [
    "# Try uncomment under this line of code\n",
    "# hash((1, 2, [2, 3])) "
   ]
  },
  {
   "cell_type": "markdown",
   "metadata": {},
   "source": [
    "## **Set**"
   ]
  },
  {
   "cell_type": "markdown",
   "metadata": {},
   "source": [
    "#### A set is the mathematical model for a collection of different things.A Python set is a collection which is unordered, **unchangeable**, and unindexed. **Note** Set items are unchangeable, but you can remove items and add new items.\n",
    "#### You can think of them like dicts, but keys only, no values.\n",
    "#### set can be created by **set()** function.\n",
    "#### Set does not allow any **duplicate value**\n"
   ]
  },
  {
   "cell_type": "code",
   "execution_count": 26,
   "metadata": {},
   "outputs": [
    {
     "name": "stdout",
     "output_type": "stream",
     "text": [
      "{1, 2, 3, 4}\n"
     ]
    }
   ],
   "source": [
    "seta = set([2, 2, 4, 1, 3, 3])\n",
    "print(seta)"
   ]
  },
  {
   "cell_type": "markdown",
   "metadata": {},
   "source": [
    "#### Sets support mathematical set operations like union, intersection, difference, and symmetric difference."
   ]
  },
  {
   "cell_type": "code",
   "execution_count": 27,
   "metadata": {},
   "outputs": [
    {
     "name": "stdout",
     "output_type": "stream",
     "text": [
      "{2, 3, 4, 5, 6, 7}\n",
      "{2}\n"
     ]
    }
   ],
   "source": [
    "# Union operation\n",
    "a = {2, 3, 4}\n",
    "b = {5, 6, 7, 2}\n",
    "c = a.union(b)\n",
    "print(c)\n",
    "\n",
    "# Intersection operation\n",
    "d = a.intersection(b)\n",
    "print(d)"
   ]
  },
  {
   "cell_type": "markdown",
   "metadata": {},
   "source": [
    "| Function | Alternative Syntax |                   Description                      |\n",
    "|----------|--------------------|----------------------------------------------------|\n",
    "|a.add(x)|N/A| add elements of x to set a|\n",
    "|a.clear()|N/A| reset the set to an empty state, discarding all it's elements|\n",
    "|a.remove(x)| N/A| remove all the elements of x from a|\n",
    "|a.pop()| N/A| Remove an arbitrary(based on random choice) element from the set a, raising **KeyError** if the set is empty|\n",
    "|a.union(b)| **a = b** | union opperation of set a and b|\n",
    "|a.intersection(b)| **a & b**| intersection opperation of set a and b|\n",
    "|a.update(b)| **a \\|= b** | replace the contents of set **a** to the union of sets a and b|\n",
    "|a.intersection_update| **a \\&= b** | replace the contents of set **a** to the intersection of set a and b|\n",
    "\n",
    "\n",
    "\n",
    "\n",
    "\n"
   ]
  },
  {
   "cell_type": "markdown",
   "metadata": {},
   "source": [
    "## **List, Set, and Dict Comprehensions**"
   ]
  },
  {
   "cell_type": "markdown",
   "metadata": {},
   "source": [
    "#### It allow's to concisely(in short task) form a new list by filtering the elements of a collection, transforming the elements passing the filter in one concise(short) expression."
   ]
  },
  {
   "cell_type": "markdown",
   "metadata": {},
   "source": [
    "##### **The basic form:**"
   ]
  },
  {
   "cell_type": "markdown",
   "metadata": {},
   "source": [
    "`result = [expr for val in collection if condition]`"
   ]
  },
  {
   "cell_type": "markdown",
   "metadata": {},
   "source": [
    "##### **This is equivalent to**"
   ]
  },
  {
   "cell_type": "raw",
   "metadata": {},
   "source": [
    "result = []\n",
    "for value in collection:\n",
    "    if condition:\n",
    "        result.append(expression)"
   ]
  },
  {
   "cell_type": "markdown",
   "metadata": {},
   "source": [
    "##### The filter condition can be omitted, leaving only the expression."
   ]
  },
  {
   "cell_type": "code",
   "execution_count": 28,
   "metadata": {},
   "outputs": [
    {
     "name": "stdout",
     "output_type": "stream",
     "text": [
      "['A', 'FOR', 'APPLE', 'B', 'FOOR', 'BAT']\n"
     ]
    }
   ],
   "source": [
    "# Defining a string\n",
    "string = ['a', 'for', 'apple', 'b', 'foor', 'bat']\n",
    "\n",
    "# Defining the comprehension\n",
    "result = [x.upper() for x in string]\n",
    "print(result)\n"
   ]
  },
  {
   "cell_type": "markdown",
   "metadata": {},
   "source": [
    "##### With **if condition**"
   ]
  },
  {
   "cell_type": "code",
   "execution_count": 29,
   "metadata": {},
   "outputs": [
    {
     "name": "stdout",
     "output_type": "stream",
     "text": [
      "['APPLE', 'FOOR']\n"
     ]
    }
   ],
   "source": [
    "# Defining a string\n",
    "string = ['a', 'for', 'apple', 'b', 'foor', 'bat']\n",
    "\n",
    "# Defining the comprehension\n",
    "result = [x.upper() for x in string if len(x) > 3]\n",
    "print(result)"
   ]
  },
  {
   "cell_type": "markdown",
   "metadata": {},
   "source": [
    "### **Nested list comprehensions**"
   ]
  },
  {
   "cell_type": "markdown",
   "metadata": {},
   "source": [
    "#### Think of you want a create a new list from a nested list. You can use regular for loop. But here is a thing list comprehension, which allows you do that loop thing more easy and time saving way."
   ]
  },
  {
   "cell_type": "code",
   "execution_count": 30,
   "metadata": {},
   "outputs": [
    {
     "name": "stdout",
     "output_type": "stream",
     "text": [
      "['a', 'b', 'c', 'd', 'e', 'f', 'g', 'h']\n",
      "[33, 34, 33, 33]\n"
     ]
    }
   ],
   "source": [
    "# Creating a nseted list\n",
    "data = [['a', 2.35], ['b', -3.4], ['c', .35], ['d', 33], ['e', 34], ['f', -3.4], ['g', 33], ['h', 33]]\n",
    "after_opperation = []\n",
    "\n",
    "# creatig a list with every first elements\n",
    "every_first_elements = [a for a, b in data]\n",
    "print(every_first_elements)\n",
    "\n",
    "# creating a list with every second elements\n",
    "every_second_elements = [b for a, b in data if b>22]\n",
    "print(every_second_elements)"
   ]
  },
  {
   "cell_type": "markdown",
   "metadata": {},
   "source": [
    ">## ***Functions***"
   ]
  },
  {
   "cell_type": "markdown",
   "metadata": {},
   "source": [
    "### **Arguments Vs Perameters**"
   ]
  },
  {
   "cell_type": "markdown",
   "metadata": {},
   "source": [
    "#### Perameters are variables those are used inside the first bracket or parenthesis. \n",
    "#### And Arguments are the values passed for those perameters while calling a function."
   ]
  },
  {
   "cell_type": "code",
   "execution_count": 16,
   "metadata": {},
   "outputs": [
    {
     "name": "stdout",
     "output_type": "stream",
     "text": [
      "arguments\n"
     ]
    }
   ],
   "source": [
    "# Creating a function\n",
    "def function_name(perameter):\n",
    "    print(perameter)\n",
    "\n",
    "# Passing the arguments while calling a the function\n",
    "function_name('arguments')\n"
   ]
  },
  {
   "cell_type": "markdown",
   "metadata": {},
   "source": [
    "#### **Positional, Keyward arguments & Default Arguments**"
   ]
  },
  {
   "cell_type": "code",
   "execution_count": 32,
   "metadata": {},
   "outputs": [
    {
     "name": "stdout",
     "output_type": "stream",
     "text": [
      "1 4 6\n",
      "3 2 4\n",
      "1 2 default\n"
     ]
    }
   ],
   "source": [
    "# Creating a function with positional Arguments\n",
    "def function_name(a, b, c):\n",
    "    print(a, b, c)\n",
    "\n",
    "# Calling the function\n",
    "function_name(1, 4, 6)\n",
    "\n",
    "# Using keyward Arguments\n",
    "def function_name(a, b, c):\n",
    "    print(a, b, c)\n",
    "    \n",
    "# caling the function Wiht key wards\n",
    "function_name(b=2, a=3, c=4) # order dosen't matter\n",
    "\n",
    "# For default values\n",
    "def function_name(a, b, c='default'):\n",
    "    print(a, b, c)\n",
    "\n",
    "function_name(1, 2)# passing only Two values"
   ]
  },
  {
   "cell_type": "markdown",
   "metadata": {},
   "source": [
    "#### In case of mixing positional and keyward argument. These patters will raise errors."
   ]
  },
  {
   "cell_type": "code",
   "execution_count": 33,
   "metadata": {},
   "outputs": [
    {
     "ename": "SyntaxError",
     "evalue": "positional argument follows keyword argument (1431571152.py, line 5)",
     "output_type": "error",
     "traceback": [
      "\u001b[0;36m  File \u001b[0;32m\"/tmp/ipykernel_14886/1431571152.py\"\u001b[0;36m, line \u001b[0;32m5\u001b[0m\n\u001b[0;31m    function_e(1, b=3, 2)\u001b[0m\n\u001b[0m                        ^\u001b[0m\n\u001b[0;31mSyntaxError\u001b[0m\u001b[0;31m:\u001b[0m positional argument follows keyword argument\n"
     ]
    }
   ],
   "source": [
    "# Errors\n",
    "def function_e(a, b, c):\n",
    "    print(a, b, c)\n",
    "\n",
    "function_e(1, b=3, 2)\n"
   ]
  },
  {
   "cell_type": "code",
   "execution_count": 34,
   "metadata": {},
   "outputs": [
    {
     "ename": "TypeError",
     "evalue": "function_er() got multiple values for argument 'a'",
     "output_type": "error",
     "traceback": [
      "\u001b[0;31m---------------------------------------------------------------------------\u001b[0m",
      "\u001b[0;31mTypeError\u001b[0m                                 Traceback (most recent call last)",
      "\u001b[0;32m/tmp/ipykernel_14886/658205594.py\u001b[0m in \u001b[0;36m<cell line: 5>\u001b[0;34m()\u001b[0m\n\u001b[1;32m      3\u001b[0m     \u001b[0mprint\u001b[0m\u001b[0;34m(\u001b[0m\u001b[0ma\u001b[0m\u001b[0;34m,\u001b[0m \u001b[0mb\u001b[0m\u001b[0;34m,\u001b[0m \u001b[0mc\u001b[0m\u001b[0;34m)\u001b[0m\u001b[0;34m\u001b[0m\u001b[0;34m\u001b[0m\u001b[0m\n\u001b[1;32m      4\u001b[0m \u001b[0;34m\u001b[0m\u001b[0m\n\u001b[0;32m----> 5\u001b[0;31m \u001b[0mfunction_er\u001b[0m\u001b[0;34m(\u001b[0m\u001b[0;36m1\u001b[0m\u001b[0;34m,\u001b[0m \u001b[0mb\u001b[0m\u001b[0;34m=\u001b[0m\u001b[0;36m3\u001b[0m\u001b[0;34m,\u001b[0m \u001b[0ma\u001b[0m\u001b[0;34m=\u001b[0m\u001b[0;36m4\u001b[0m\u001b[0;34m)\u001b[0m\u001b[0;34m\u001b[0m\u001b[0;34m\u001b[0m\u001b[0m\n\u001b[0m",
      "\u001b[0;31mTypeError\u001b[0m: function_er() got multiple values for argument 'a'"
     ]
    }
   ],
   "source": [
    "# Errors\n",
    "def function_er(a, b, c):\n",
    "    print(a, b, c)\n",
    "    \n",
    "function_er(1, b=3, a=4)\n"
   ]
  },
  {
   "cell_type": "markdown",
   "metadata": {},
   "source": [
    "### **The \\*args and \\*\\*kwargs**"
   ]
  },
  {
   "cell_type": "markdown",
   "metadata": {},
   "source": [
    "#### If there is **one Asterisk(\\*)** LIKE **\\*args**(the word args can be replaced by anything ward BUT the thing matter is the number of **Asterisk(\\*)** then you can pass any number of possitional arguments you want.(if one)\n",
    "#### If there is **two Asterisk (\\**)** LIKE **\\*\\*kwargs** then you pass any number of keyward arguments you want."
   ]
  },
  {
   "cell_type": "markdown",
   "metadata": {},
   "source": [
    "#### **Built-in Sequence Functions**"
   ]
  },
  {
   "cell_type": "markdown",
   "metadata": {},
   "source": [
    "#### **enumerate**"
   ]
  },
  {
   "cell_type": "markdown",
   "metadata": {},
   "source": [
    "#### It’s common when iterating over a sequence to want to keep track of the index of the current item."
   ]
  },
  {
   "cell_type": "markdown",
   "metadata": {},
   "source": [
    "### ***Different Use Case of Asterisk (\\*) Operator***"
   ]
  },
  {
   "cell_type": "markdown",
   "metadata": {},
   "source": [
    "#### It can be used in different cases. Like Multiplication, Power operation, Creation of List or Tuples(with repeated elements). For **args** and **kwargs** and keyward only perameters for unpacking lists, tuples and dictonaries into function arguments, for unpacking containers, and for merging container into a list or merging two dictonaries. \n",
    "#### We already know the use cases of Asterisk (\\*) in Arithmetic Multiplication and Power Operation.In case you forget One Asterisk for Multiplication and Two Asterisk for Power Operation."
   ]
  },
  {
   "cell_type": "markdown",
   "metadata": {},
   "source": [
    "#### **Creating Repeated Elememts**"
   ]
  },
  {
   "cell_type": "code",
   "execution_count": 36,
   "metadata": {},
   "outputs": [
    {
     "name": "stdout",
     "output_type": "stream",
     "text": [
      "[0]\n",
      "[1, 1, 1, 1, 1, 1, 1, 1, 1, 1]\n",
      "(0, 1, 0, 1, 0, 1, 0, 1, 0, 1, 0, 1, 0, 1, 0, 1, 0, 1, 0, 1)\n",
      "what \n",
      "what \n",
      "\n"
     ]
    }
   ],
   "source": [
    "# Creating a list\n",
    "list_t = [0]\n",
    "print(list_t)\n",
    "\n",
    "# With Repeated Elements\n",
    "list_at = [1]*10\n",
    "print(list_at)\n",
    "\n",
    "# It also work with strings and tuple\n",
    "tupl = (0, 1)*10\n",
    "print(tupl)\n",
    "\n",
    "# With strings\n",
    "st = 'what \\n'*2 # \\n for new line.\n",
    "print(st)"
   ]
  },
  {
   "cell_type": "markdown",
   "metadata": {},
   "source": [
    "## **Try, Except Statement**"
   ]
  },
  {
   "cell_type": "markdown",
   "metadata": {},
   "source": [
    ">### **try, except, assert**"
   ]
  },
  {
   "cell_type": "markdown",
   "metadata": {},
   "source": [
    "#### The **try and except blocks are used to handle exceptions**. **The assert is used to ensure the conditions are compatible with the requirements of a function.**\n",
    "\n",
    "#### **If the assert is false, the function does not continue.** Thus, the **assert can be an example of defensive programming.** The programmer is making sure that everything is as expected."
   ]
  },
  {
   "cell_type": "code",
   "execution_count": 41,
   "metadata": {},
   "outputs": [
    {
     "name": "stdin",
     "output_type": "stream",
     "text": [
      " i\n"
     ]
    },
    {
     "ename": "ValueError",
     "evalue": "invalid literal for int() with base 10: 'i'",
     "output_type": "error",
     "traceback": [
      "\u001b[0;31m---------------------------------------------------------------------------\u001b[0m",
      "\u001b[0;31mValueError\u001b[0m                                Traceback (most recent call last)",
      "\u001b[0;32m/tmp/ipykernel_14886/571229335.py\u001b[0m in \u001b[0;36m<cell line: 3>\u001b[0;34m()\u001b[0m\n\u001b[1;32m      1\u001b[0m \u001b[0;32mimport\u001b[0m \u001b[0mre\u001b[0m\u001b[0;34m\u001b[0m\u001b[0;34m\u001b[0m\u001b[0m\n\u001b[1;32m      2\u001b[0m \u001b[0;34m\u001b[0m\u001b[0m\n\u001b[0;32m----> 3\u001b[0;31m \u001b[0;32mfor\u001b[0m \u001b[0m_\u001b[0m \u001b[0;32min\u001b[0m \u001b[0mrange\u001b[0m\u001b[0;34m(\u001b[0m\u001b[0mint\u001b[0m\u001b[0;34m(\u001b[0m\u001b[0minput\u001b[0m\u001b[0;34m(\u001b[0m\u001b[0;34m)\u001b[0m\u001b[0;34m)\u001b[0m\u001b[0;34m)\u001b[0m\u001b[0;34m:\u001b[0m\u001b[0;34m\u001b[0m\u001b[0;34m\u001b[0m\u001b[0m\n\u001b[0m\u001b[1;32m      4\u001b[0m     \u001b[0mu\u001b[0m \u001b[0;34m=\u001b[0m \u001b[0;34m''\u001b[0m\u001b[0;34m.\u001b[0m\u001b[0mjoin\u001b[0m\u001b[0;34m(\u001b[0m\u001b[0msorted\u001b[0m\u001b[0;34m(\u001b[0m\u001b[0minput\u001b[0m\u001b[0;34m(\u001b[0m\u001b[0;34m)\u001b[0m\u001b[0;34m)\u001b[0m\u001b[0;34m)\u001b[0m\u001b[0;34m\u001b[0m\u001b[0;34m\u001b[0m\u001b[0m\n\u001b[1;32m      5\u001b[0m     \u001b[0;32mtry\u001b[0m\u001b[0;34m:\u001b[0m\u001b[0;34m\u001b[0m\u001b[0;34m\u001b[0m\u001b[0m\n",
      "\u001b[0;31mValueError\u001b[0m: invalid literal for int() with base 10: 'i'"
     ]
    }
   ],
   "source": [
    "import re\n",
    "\n",
    "for _ in range(int(input())):\n",
    "    u = ''.join(sorted(input()))\n",
    "    try:\n",
    "        assert re.search(r'[A-Z]{2}', u)\n",
    "        assert re.search(r'\\d\\d\\d', u)\n",
    "        assert not re.search(r'[^a-zA-Z0-9]', u)\n",
    "        assert not re.search(r'(.)\\1', u)\n",
    "        assert len(u) == 10\n",
    "    except:\n",
    "        print('Invalid')\n",
    "    else:\n",
    "        print('Valid')"
   ]
  },
  {
   "cell_type": "markdown",
   "metadata": {},
   "source": [
    "## **Compound Statements** & **Context Manager**"
   ]
  },
  {
   "cell_type": "code",
   "execution_count": 43,
   "metadata": {},
   "outputs": [
    {
     "name": "stdout",
     "output_type": "stream",
     "text": [
      "Lewis Carroll uses the word \"cat\" 0 times\n"
     ]
    }
   ],
   "source": [
    "# Open \"alice.txt\" and assign the file to \"file\"\n",
    "with open('datasets/alice.txt') as file:\n",
    "    text = file.read()\n",
    "\n",
    "n = 0\n",
    "for word in text.split():\n",
    "    if word.lower() in ['cat', 'cats']:\n",
    "        n += 1\n",
    "\n",
    "print('Lewis Carroll uses the word \"cat\" {} times'.format(n))"
   ]
  },
  {
   "cell_type": "markdown",
   "metadata": {},
   "source": [
    "### **Creating Own Context Manager**"
   ]
  },
  {
   "cell_type": "markdown",
   "metadata": {},
   "source": [
    "### There are **five steps to Create a context manager.**\n",
    "#### 1. Define a Function\n",
    "#### 2. Add any setup code\n",
    "#### 3. Use the  ```yield``` keyword\n",
    "#### 4. Add any tear down code if you need to **(Can be use to close a connection with DB or any file)**\n",
    "#### 5. Add ```@contextlib.contextmanager``` decorator"
   ]
  },
  {
   "cell_type": "code",
   "execution_count": 49,
   "metadata": {},
   "outputs": [],
   "source": [
    "import contextlib\n",
    "@contextlib.contextmanager\n",
    "def me():\n",
    "    print('Say, Hi!')\n",
    "    yield 42\n",
    "    print('No You Suck')"
   ]
  },
  {
   "cell_type": "markdown",
   "metadata": {},
   "source": [
    "#### We can assign the ```yield``` value to a variable with ```with``` statement."
   ]
  },
  {
   "cell_type": "code",
   "execution_count": 50,
   "metadata": {},
   "outputs": [
    {
     "name": "stdout",
     "output_type": "stream",
     "text": [
      "Say, Hi!\n",
      "I hate to say 42\n",
      "No You Suck\n"
     ]
    }
   ],
   "source": [
    "with me() as me:\n",
    "    print('I hate to say {}'.format(me))"
   ]
  },
  {
   "cell_type": "markdown",
   "metadata": {},
   "source": [
    "#### The context manager is technically a generator. You might notice it uses ```yield``` keyword."
   ]
  },
  {
   "cell_type": "code",
   "execution_count": 53,
   "metadata": {},
   "outputs": [
    {
     "name": "stdout",
     "output_type": "stream",
     "text": [
      "I hate cat.\n"
     ]
    }
   ],
   "source": [
    "@contextlib.contextmanager\n",
    "def open_read_only(filename):\n",
    "    \"\"\"Open a file in read-only mode.\n",
    "\n",
    "  Args:\n",
    "    filename (str): The location of the file to read\n",
    "\n",
    "  Yields:\n",
    "    file object\n",
    "  \"\"\"\n",
    "    read_only_file = open(filename, mode='r')\n",
    "    \n",
    "  # Yield read_only_file so it can be assigned to my_file\n",
    "    yield read_only_file\n",
    "    \n",
    "  # Close read_only_file\n",
    "    read_only_file.close()\n",
    "\n",
    "with open_read_only('datasets/alice.txt') as my_file:\n",
    "    print(my_file.read())"
   ]
  },
  {
   "cell_type": "markdown",
   "metadata": {},
   "source": [
    "#### Suppose You want to **Read data from a text file *A*** and **Write the contents of *A* to another file *B***\n",
    "#### So, can context manager help you? Answer is yes. **You can open a context manager(the one you want to read from) and then one another context manager(the one you want to write on) under the first context manager and use a for to write.**"
   ]
  },
  {
   "cell_type": "code",
   "execution_count": 34,
   "metadata": {},
   "outputs": [
    {
     "ename": "NameError",
     "evalue": "name 'stock' is not defined",
     "output_type": "error",
     "traceback": [
      "\u001b[0;31m---------------------------------------------------------------------------\u001b[0m",
      "\u001b[0;31mNameError\u001b[0m                                 Traceback (most recent call last)",
      "Input \u001b[0;32mIn [34]\u001b[0m, in \u001b[0;36m<cell line: 3>\u001b[0;34m()\u001b[0m\n\u001b[1;32m      1\u001b[0m \u001b[38;5;66;03m# Use the \"stock('NVDA')\" context manager gives 10 stock price by calling .price() method\u001b[39;00m\n\u001b[1;32m      2\u001b[0m \u001b[38;5;66;03m# and assign the result to the variable \"nvda\"\u001b[39;00m\n\u001b[0;32m----> 3\u001b[0m \u001b[38;5;28;01mwith\u001b[39;00m \u001b[43mstock\u001b[49m(\u001b[38;5;124m'\u001b[39m\u001b[38;5;124mNVDA\u001b[39m\u001b[38;5;124m'\u001b[39m) \u001b[38;5;28;01mas\u001b[39;00m nvda:\n\u001b[1;32m      4\u001b[0m     \n\u001b[1;32m      5\u001b[0m   \u001b[38;5;66;03m# Open \"NVDA.txt\" for writing as f_out\u001b[39;00m\n\u001b[1;32m      6\u001b[0m     \u001b[38;5;28;01mwith\u001b[39;00m \u001b[38;5;28mopen\u001b[39m(\u001b[38;5;124m'\u001b[39m\u001b[38;5;124mNVDA.text\u001b[39m\u001b[38;5;124m'\u001b[39m, \u001b[38;5;124m'\u001b[39m\u001b[38;5;124mw\u001b[39m\u001b[38;5;124m'\u001b[39m) \u001b[38;5;28;01mas\u001b[39;00m f_out:\n\u001b[1;32m      7\u001b[0m         \u001b[38;5;28;01mfor\u001b[39;00m _ \u001b[38;5;129;01min\u001b[39;00m \u001b[38;5;28mrange\u001b[39m(\u001b[38;5;241m10\u001b[39m):\n",
      "\u001b[0;31mNameError\u001b[0m: name 'stock' is not defined"
     ]
    }
   ],
   "source": [
    "# Use the \"stock('NVDA')\" context manager gives 10 stock price by calling .price() method\n",
    "# and assign the result to the variable \"nvda\"\n",
    "with stock('NVDA') as nvda:\n",
    "    \n",
    "  # Open \"NVDA.txt\" for writing as f_out\n",
    "    with open('NVDA.text', 'w') as f_out:\n",
    "        for _ in range(10):\n",
    "            value = nvda.price()\n",
    "            print('Logging ${:.2f} for NVDA'.format(value))\n",
    "            f_out.write('{:.2f}\\n'.format(value))"
   ]
  },
  {
   "cell_type": "markdown",
   "metadata": {},
   "source": [
    ">#### Work need to be done.\n",
    ">>1. create a context manager with name of stock\n",
    ">>2. the stock context manager should have method named price()\n",
    ">>3. if the price() method is called it will return 10 price of stock in real time."
   ]
  },
  {
   "cell_type": "markdown",
   "metadata": {},
   "source": [
    "### **Suppose, you don't want to have to launch the script from the directory where the models will be saved.**\n",
    "#### You decide that one way to fix this is to write a context manager that changes the current working directory.\n",
    "#### lets you build your models, and then resets the working directory to its original location. You'll want to be sure that any errors that occur during model training don't prevent you from resetting the working directory to its original location."
   ]
  },
  {
   "cell_type": "code",
   "execution_count": 54,
   "metadata": {},
   "outputs": [],
   "source": [
    "def in_dir(directory):\n",
    "    \"\"\"Change current working directory to `directory`,\n",
    "    allow the user to run some code, and change back.\n",
    "\n",
    "    Args:\n",
    "    directory (str): The path to a directory to work in.\n",
    "    \"\"\"\n",
    "    current_dir = os.getcwd()\n",
    "    os.chdir(directory)\n",
    "\n",
    "  # Add code that lets you handle errors\n",
    "    try:\n",
    "        yield\n",
    "  # Ensure the directory is reset,\n",
    "  # whether there was an error or not\n",
    "    finally:\n",
    "        os.chdir(current_dir)"
   ]
  },
  {
   "cell_type": "markdown",
   "metadata": {},
   "source": [
    "### **Decorator more specifically for Functions**"
   ]
  },
  {
   "cell_type": "markdown",
   "metadata": {},
   "source": [
    "#### Remember one Thing **Functions are nothing but an Object like other and every other thing in python.** So, you can do **Thing you do with others Like: Treat function like a variable , or Place them in *list*, *dict* or maybe *tuples***\n",
    "#### But The point to be noted is that **When you calling a function, You Use The parenthesis() Like: function_name() .**\n",
    "#### On the other hand, at the time of **referencing them in *list*, *dict* or any other place, You just use the name of the function(DO NOT USE THE parenthesis())  Like: list = ['me', 'and', function_name].**\n",
    ">#### You can also pass function as a parameter into another function."
   ]
  },
  {
   "cell_type": "code",
   "execution_count": null,
   "metadata": {},
   "outputs": [],
   "source": [
    "# Adding function references to the function map\n",
    "import numpy as np\n",
    "import pandas as pd\n",
    "import random\n",
    "\n",
    "function_map = {\n",
    "  'mean': np.mean,\n",
    "  'std': np.std,\n",
    "  'minimum': np.min,\n",
    "  'maximum': np.max,\n",
    "    'foo': 'not me'\n",
    "}\n",
    "\n",
    "def load_data():\n",
    "    columns = ['height', 'weight']\n",
    "    data = [[72.1 ,  198 ], [69.8, 204], [69.8 , 164]]\n",
    "    return pd.DataFrame(data, columns=columns)\n",
    "    \n",
    "\n",
    "# data = load_data()\n",
    "print(data)\n",
    "\n",
    "\n",
    "# def get_user_input():\n",
    "#     x = input()\n",
    "#     return x\n",
    "\n",
    "# func_name = get_user_input()\n",
    "\n",
    "\n",
    "# # # Call the chosen function and pass \"data\" as an argument\n",
    "# function_map[func_name](data)"
   ]
  },
  {
   "cell_type": "markdown",
   "metadata": {},
   "source": [
    "### **Closure**"
   ]
  },
  {
   "cell_type": "markdown",
   "metadata": {},
   "source": [
    ">#### A closure in Python is a tuple of variables that are no longer in scope, but that a function needs in order to run. "
   ]
  },
  {
   "cell_type": "markdown",
   "metadata": {},
   "source": [
    "#### a closure is Python's way of attaching nonlocal variables to a returned function so that the function can operate even when it is called outside of its parent's scope."
   ]
  },
  {
   "cell_type": "code",
   "execution_count": 95,
   "metadata": {},
   "outputs": [
    {
     "name": "stdout",
     "output_type": "stream",
     "text": [
      "5\n"
     ]
    }
   ],
   "source": [
    "a = 5\n",
    "\n",
    "def foo(value):\n",
    "    def bar():\n",
    "        print(value) # will print non-local variable a.\n",
    "    return bar\n",
    "\n",
    "function = foo(a)\n",
    "\n",
    "function()"
   ]
  },
  {
   "cell_type": "code",
   "execution_count": 96,
   "metadata": {},
   "outputs": [
    {
     "data": {
      "text/plain": [
       "tuple"
      ]
     },
     "execution_count": 96,
     "metadata": {},
     "output_type": "execute_result"
    }
   ],
   "source": [
    "type(function.__closure__)"
   ]
  },
  {
   "cell_type": "markdown",
   "metadata": {},
   "source": [
    "#### Finding out total number of variables stored in closure"
   ]
  },
  {
   "cell_type": "code",
   "execution_count": 97,
   "metadata": {},
   "outputs": [
    {
     "data": {
      "text/plain": [
       "1"
      ]
     },
     "execution_count": 97,
     "metadata": {},
     "output_type": "execute_result"
    }
   ],
   "source": [
    "len(function.__closure__)"
   ]
  },
  {
   "cell_type": "markdown",
   "metadata": {},
   "source": [
    "#### Looking at what value stored in cluster."
   ]
  },
  {
   "cell_type": "code",
   "execution_count": 98,
   "metadata": {},
   "outputs": [
    {
     "data": {
      "text/plain": [
       "5"
      ]
     },
     "execution_count": 98,
     "metadata": {},
     "output_type": "execute_result"
    }
   ],
   "source": [
    "function.__closure__[0].cell_contents"
   ]
  },
  {
   "cell_type": "markdown",
   "metadata": {},
   "source": [
    "### The magic\n",
    "#### When we **delete the non-local variable or change that**. The closure **still holds that non-local value**."
   ]
  },
  {
   "cell_type": "code",
   "execution_count": 99,
   "metadata": {},
   "outputs": [],
   "source": [
    "del(a)"
   ]
  },
  {
   "cell_type": "code",
   "execution_count": 100,
   "metadata": {},
   "outputs": [
    {
     "name": "stdout",
     "output_type": "stream",
     "text": [
      "5\n"
     ]
    }
   ],
   "source": [
    "function()"
   ]
  },
  {
   "cell_type": "code",
   "execution_count": 101,
   "metadata": {},
   "outputs": [
    {
     "data": {
      "text/plain": [
       "1"
      ]
     },
     "execution_count": 101,
     "metadata": {},
     "output_type": "execute_result"
    }
   ],
   "source": [
    "len(function.__closure__)"
   ]
  },
  {
   "cell_type": "code",
   "execution_count": 102,
   "metadata": {},
   "outputs": [
    {
     "data": {
      "text/plain": [
       "5"
      ]
     },
     "execution_count": 102,
     "metadata": {},
     "output_type": "execute_result"
    }
   ],
   "source": [
    "function.__closure__[0].cell_contents"
   ]
  },
  {
   "cell_type": "markdown",
   "metadata": {},
   "source": [
    "## **Decorators**"
   ]
  },
  {
   "cell_type": "code",
   "execution_count": 6,
   "metadata": {},
   "outputs": [
    {
     "data": {
      "text/plain": [
       "20"
      ]
     },
     "execution_count": 6,
     "metadata": {},
     "output_type": "execute_result"
    }
   ],
   "source": [
    "def double_args(func):\n",
    "    def wrapper(a, b):\n",
    "        return func(a*2, b*2)\n",
    "    return wrapper\n",
    "\n",
    "def multiply(a, b):\n",
    "    return a * b\n",
    "\n",
    "multiply = double_args(multiply)\n",
    "multiply(1, 5)"
   ]
  },
  {
   "cell_type": "markdown",
   "metadata": {},
   "source": [
    "### Same as Above"
   ]
  },
  {
   "cell_type": "code",
   "execution_count": 8,
   "metadata": {},
   "outputs": [
    {
     "data": {
      "text/plain": [
       "20"
      ]
     },
     "execution_count": 8,
     "metadata": {},
     "output_type": "execute_result"
    }
   ],
   "source": [
    "def double_args(func):\n",
    "    def wrapper(a, b):\n",
    "        return func(a*2, b*2)\n",
    "    return wrapper\n",
    "\n",
    "@double_args\n",
    "def multiply(a, b):\n",
    "    return a * b\n",
    "\n",
    "multiply(1, 5)"
   ]
  },
  {
   "cell_type": "markdown",
   "metadata": {},
   "source": [
    "### Implementation"
   ]
  },
  {
   "cell_type": "code",
   "execution_count": 20,
   "metadata": {},
   "outputs": [],
   "source": [
    "import time\n",
    "\n",
    "def timer(func):\n",
    "    \"\"\"A decorator to print how much time a function take to run.\n",
    "\n",
    "    Args:\n",
    "    func(callable)\n",
    "\n",
    "    Returns:\n",
    "    callable\n",
    "    \"\"\"\n",
    "    def wrapper(*args, **kargs):\n",
    "        s_time = time.time()\n",
    "        \n",
    "        result = func(*args, **kargs)\n",
    "        \n",
    "        total_time = time.time() - s_time\n",
    "        print('The Function {} took {} to run.'.format(func.__name__, total_time))\n",
    "    return wrapper"
   ]
  },
  {
   "cell_type": "code",
   "execution_count": 21,
   "metadata": {},
   "outputs": [
    {
     "name": "stdout",
     "output_type": "stream",
     "text": [
      "The Function sleep_n_seconds took 2.0020387172698975 to run.\n"
     ]
    }
   ],
   "source": [
    "@timer\n",
    "def sleep_n_seconds(n):\n",
    "    time.sleep(n)\n",
    "sleep_n_seconds(2)"
   ]
  },
  {
   "cell_type": "code",
   "execution_count": 3,
   "metadata": {},
   "outputs": [],
   "source": [
    "def memorize(func):\n",
    "    catch = {}\n",
    "    def wrapper(*args, **kwargs):\n",
    "        if (args, kwargs) not in catch:\n",
    "            catch[(args, kwargs)] = func(*args, **kwargs)\n",
    "        return catch[(args, kwargs)]\n",
    "    return wrapper\n"
   ]
  },
  {
   "cell_type": "code",
   "execution_count": 4,
   "metadata": {},
   "outputs": [
    {
     "ename": "TypeError",
     "evalue": "unhashable type: 'dict'",
     "output_type": "error",
     "traceback": [
      "\u001b[0;31m---------------------------------------------------------------------------\u001b[0m",
      "\u001b[0;31mTypeError\u001b[0m                                 Traceback (most recent call last)",
      "\u001b[0;32m/tmp/ipykernel_15493/513583935.py\u001b[0m in \u001b[0;36m<cell line: 7>\u001b[0;34m()\u001b[0m\n\u001b[1;32m      5\u001b[0m     \u001b[0;32mreturn\u001b[0m \u001b[0ma\u001b[0m \u001b[0;34m+\u001b[0m \u001b[0mb\u001b[0m\u001b[0;34m\u001b[0m\u001b[0;34m\u001b[0m\u001b[0m\n\u001b[1;32m      6\u001b[0m \u001b[0;34m\u001b[0m\u001b[0m\n\u001b[0;32m----> 7\u001b[0;31m \u001b[0mshow_function\u001b[0m\u001b[0;34m(\u001b[0m\u001b[0;36m3\u001b[0m\u001b[0;34m,\u001b[0m \u001b[0;36m2\u001b[0m\u001b[0;34m)\u001b[0m\u001b[0;34m\u001b[0m\u001b[0;34m\u001b[0m\u001b[0m\n\u001b[0m",
      "\u001b[0;32m/tmp/ipykernel_15493/3856018318.py\u001b[0m in \u001b[0;36mwrapper\u001b[0;34m(*args, **kwargs)\u001b[0m\n\u001b[1;32m      2\u001b[0m     \u001b[0mcatch\u001b[0m \u001b[0;34m=\u001b[0m \u001b[0;34m{\u001b[0m\u001b[0;34m}\u001b[0m\u001b[0;34m\u001b[0m\u001b[0;34m\u001b[0m\u001b[0m\n\u001b[1;32m      3\u001b[0m     \u001b[0;32mdef\u001b[0m \u001b[0mwrapper\u001b[0m\u001b[0;34m(\u001b[0m\u001b[0;34m*\u001b[0m\u001b[0margs\u001b[0m\u001b[0;34m,\u001b[0m \u001b[0;34m**\u001b[0m\u001b[0mkwargs\u001b[0m\u001b[0;34m)\u001b[0m\u001b[0;34m:\u001b[0m\u001b[0;34m\u001b[0m\u001b[0;34m\u001b[0m\u001b[0m\n\u001b[0;32m----> 4\u001b[0;31m         \u001b[0;32mif\u001b[0m \u001b[0;34m(\u001b[0m\u001b[0margs\u001b[0m\u001b[0;34m,\u001b[0m \u001b[0mkwargs\u001b[0m\u001b[0;34m)\u001b[0m \u001b[0;32mnot\u001b[0m \u001b[0;32min\u001b[0m \u001b[0mcatch\u001b[0m\u001b[0;34m:\u001b[0m\u001b[0;34m\u001b[0m\u001b[0;34m\u001b[0m\u001b[0m\n\u001b[0m\u001b[1;32m      5\u001b[0m             \u001b[0mcatch\u001b[0m\u001b[0;34m[\u001b[0m\u001b[0;34m(\u001b[0m\u001b[0margs\u001b[0m\u001b[0;34m,\u001b[0m \u001b[0mkwargs\u001b[0m\u001b[0;34m)\u001b[0m\u001b[0;34m]\u001b[0m \u001b[0;34m=\u001b[0m \u001b[0mfunc\u001b[0m\u001b[0;34m(\u001b[0m\u001b[0;34m*\u001b[0m\u001b[0margs\u001b[0m\u001b[0;34m,\u001b[0m \u001b[0;34m**\u001b[0m\u001b[0mkwargs\u001b[0m\u001b[0;34m)\u001b[0m\u001b[0;34m\u001b[0m\u001b[0;34m\u001b[0m\u001b[0m\n\u001b[1;32m      6\u001b[0m         \u001b[0;32mreturn\u001b[0m \u001b[0mcatch\u001b[0m\u001b[0;34m[\u001b[0m\u001b[0;34m(\u001b[0m\u001b[0margs\u001b[0m\u001b[0;34m,\u001b[0m \u001b[0mkwargs\u001b[0m\u001b[0;34m)\u001b[0m\u001b[0;34m]\u001b[0m\u001b[0;34m\u001b[0m\u001b[0;34m\u001b[0m\u001b[0m\n",
      "\u001b[0;31mTypeError\u001b[0m: unhashable type: 'dict'"
     ]
    }
   ],
   "source": [
    "@memorize\n",
    "def show_function(a, b):\n",
    "    print('sleeping.....')\n",
    "    time.sleep(3)\n",
    "    return a + b\n",
    "\n",
    "show_function(3, 2)"
   ]
  },
  {
   "cell_type": "code",
   "execution_count": 1,
   "metadata": {},
   "outputs": [
    {
     "name": "stdout",
     "output_type": "stream",
     "text": [
      "foo() returned type <class 'int'>\n",
      "42\n",
      "foo() returned type <class 'list'>\n",
      "[1, 2, 3]\n",
      "foo() returned type <class 'dict'>\n",
      "{'a': 42}\n"
     ]
    }
   ],
   "source": [
    "def print_return_type(func):\n",
    "    # Define wrapper(), the decorated function\n",
    "    def wrapper(*args, **kwargs):\n",
    "        # Call the function being decorated\n",
    "        result = func(*args, **kwargs)\n",
    "        print('{}() returned type {}'.format(func.__name__, type(result)))\n",
    "        \n",
    "        return result\n",
    "    # Return the decorated function\n",
    "    return wrapper\n",
    "  \n",
    "@print_return_type\n",
    "def foo(value):\n",
    "    return value\n",
    "  \n",
    "print(foo(42))\n",
    "print(foo([1, 2, 3]))\n",
    "print(foo({'a': 42}))"
   ]
  },
  {
   "cell_type": "markdown",
   "metadata": {},
   "source": [
    "### Curious about how many times each of the functions in it gets called."
   ]
  },
  {
   "cell_type": "code",
   "execution_count": 5,
   "metadata": {},
   "outputs": [
    {
     "name": "stdout",
     "output_type": "stream",
     "text": [
      "foo() was called 3 times.\n"
     ]
    }
   ],
   "source": [
    "def counter(func):\n",
    "    def wrapper(*args, **kwargs):\n",
    "        wrapper.count += 1\n",
    "        \n",
    "        # Call the function being decorated and return the result\n",
    "        return func\n",
    "    wrapper.count = 0\n",
    "    # Return the new decorated function\n",
    "    return wrapper\n",
    "\n",
    "# Decorate foo() with the counter() decorator\n",
    "@counter\n",
    "def foo():\n",
    "    print('calling foo()')\n",
    "  \n",
    "foo()\n",
    "foo()\n",
    "foo()\n",
    "\n",
    "print('foo() was called {} times.'.format(foo.count))"
   ]
  },
  {
   "cell_type": "markdown",
   "metadata": {},
   "source": [
    "### Getting Actual Function docstring"
   ]
  },
  {
   "cell_type": "code",
   "execution_count": 7,
   "metadata": {},
   "outputs": [
    {
     "name": "stdout",
     "output_type": "stream",
     "text": [
      "Print 'hello' and then call the decorated function.\n",
      "Hello\n",
      "30\n",
      "None\n"
     ]
    }
   ],
   "source": [
    "def add_hello(func):\n",
    "    # Add a docstring to wrapper\n",
    "    def wrapper(*args, **kwargs):\n",
    "        print(\"\"\"Print 'hello' and then call the decorated function.\"\"\")\n",
    "        print('Hello')\n",
    "        return func(*args, **kwargs)\n",
    "    return wrapper\n",
    "\n",
    "@add_hello\n",
    "def print_sum(a, b):\n",
    "    \"\"\"Adds two numbers and prints the sum\"\"\"\n",
    "    print(a + b)\n",
    "\n",
    "\n",
    "print_sum(10, 20)\n",
    "print_sum_docstring = print_sum.__doc__\n",
    "print(print_sum_docstring)"
   ]
  },
  {
   "cell_type": "code",
   "execution_count": null,
   "metadata": {},
   "outputs": [],
   "source": []
  },
  {
   "cell_type": "code",
   "execution_count": null,
   "metadata": {},
   "outputs": [],
   "source": []
  },
  {
   "cell_type": "code",
   "execution_count": null,
   "metadata": {},
   "outputs": [],
   "source": []
  },
  {
   "cell_type": "code",
   "execution_count": null,
   "metadata": {},
   "outputs": [],
   "source": []
  }
 ],
 "metadata": {
  "kernelspec": {
   "display_name": "Python 3 (ipykernel)",
   "language": "python",
   "name": "python3"
  },
  "language_info": {
   "codemirror_mode": {
    "name": "ipython",
    "version": 3
   },
   "file_extension": ".py",
   "mimetype": "text/x-python",
   "name": "python",
   "nbconvert_exporter": "python",
   "pygments_lexer": "ipython3",
   "version": "3.10.7"
  }
 },
 "nbformat": 4,
 "nbformat_minor": 4
}
