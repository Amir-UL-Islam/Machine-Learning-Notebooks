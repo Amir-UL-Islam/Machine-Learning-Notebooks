{
 "cells": [
  {
   "cell_type": "markdown",
   "id": "9cd69a5f-0d5b-4e43-8495-9054496b21d9",
   "metadata": {},
   "source": [
    "### What is convolution?"
   ]
  },
  {
   "cell_type": "markdown",
   "id": "f3b2528c-cd04-41f9-8746-a5a7314fc698",
   "metadata": {},
   "source": [
    "#### Fucked"
   ]
  },
  {
   "cell_type": "code",
   "execution_count": 9,
   "id": "34beb6b5-b950-4111-9da4-1f58fb8de37d",
   "metadata": {},
   "outputs": [],
   "source": [
    "import numpy as np\n",
    "import pandas as pd\n",
    "import tensorflow as tf"
   ]
  },
  {
   "cell_type": "code",
   "execution_count": 8,
   "id": "b4a1cd55-13d6-4b92-85a3-c18d106d054a",
   "metadata": {},
   "outputs": [
    {
     "name": "stdout",
     "output_type": "stream",
     "text": [
      "[0 0 0 0 1 0 0 0 0]\n"
     ]
    }
   ],
   "source": [
    "array = np.array([0, 0, 0, 0, 0, 1, 1, 1, 1, 1])\n",
    "kernel = np.array([-1, 1]) # Changes\n",
    "\n",
    "conv = np.array([0, 0, 0, 0, 0, 0 ,0, 0, 0])\n",
    "\n",
    "for i in range(len(conv)):\n",
    "    conv[i] = (kernel*array[i: i+2]).sum()\n",
    "print(conv)"
   ]
  },
  {
   "cell_type": "markdown",
   "id": "dbf93a71-6b0c-4875-9e59-639e67e868ca",
   "metadata": {},
   "source": [
    "### 2d convolution"
   ]
  },
  {
   "cell_type": "code",
   "execution_count": 13,
   "id": "f9c777f9-f3db-4c62-bd4a-637ca02ba845",
   "metadata": {},
   "outputs": [],
   "source": [
    "kernel = np.array([[-1, 1],[-1, 1]])\n",
    "\n",
    "conv2 = np.zeros((27, 27))"
   ]
  },
  {
   "cell_type": "code",
   "execution_count": null,
   "id": "aa96e2ea-0c20-4b3e-95c8-bf8ec2a83f65",
   "metadata": {},
   "outputs": [],
   "source": []
  }
 ],
 "metadata": {
  "kernelspec": {
   "display_name": "Python 3 (ipykernel)",
   "language": "python",
   "name": "python3"
  },
  "language_info": {
   "codemirror_mode": {
    "name": "ipython",
    "version": 3
   },
   "file_extension": ".py",
   "mimetype": "text/x-python",
   "name": "python",
   "nbconvert_exporter": "python",
   "pygments_lexer": "ipython3",
   "version": "3.10.7"
  }
 },
 "nbformat": 4,
 "nbformat_minor": 5
}
