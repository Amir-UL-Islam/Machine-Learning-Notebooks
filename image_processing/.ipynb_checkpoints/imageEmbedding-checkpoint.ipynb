{
 "cells": [
  {
   "cell_type": "markdown",
   "id": "011d193f-b091-405b-ae9f-f5e84dcb68f8",
   "metadata": {},
   "source": [
    "### What is Image Embeddeding?"
   ]
  },
  {
   "cell_type": "markdown",
   "id": "0ce79e27-e8af-4a46-b57b-440d8981e7cc",
   "metadata": {},
   "source": [
    "#### Most machine learning algorithms for classification, regression or clustering cannot work on images directly. To perform the analysis, we need to transform them into a more suitable representation.\n",
    ">#### **Image embedding** is a **vector representation** of an image in which images with **similar motives have similar vector profiles.**"
   ]
  },
  {
   "cell_type": "code",
   "execution_count": null,
   "id": "21d8120c-8537-4507-a11e-ba87ec0f2dd1",
   "metadata": {},
   "outputs": [],
   "source": []
  },
  {
   "cell_type": "code",
   "execution_count": null,
   "id": "4d05ab91-ce3d-44a8-a439-aa9920cd4d37",
   "metadata": {},
   "outputs": [],
   "source": []
  }
 ],
 "metadata": {
  "kernelspec": {
   "display_name": "Python 3 (ipykernel)",
   "language": "python",
   "name": "python3"
  },
  "language_info": {
   "codemirror_mode": {
    "name": "ipython",
    "version": 3
   },
   "file_extension": ".py",
   "mimetype": "text/x-python",
   "name": "python",
   "nbconvert_exporter": "python",
   "pygments_lexer": "ipython3",
   "version": "3.10.7"
  }
 },
 "nbformat": 4,
 "nbformat_minor": 5
}
