{
 "cells": [
  {
   "cell_type": "markdown",
   "id": "011d193f-b091-405b-ae9f-f5e84dcb68f8",
   "metadata": {},
   "source": [
    "### What is Image Embeddeding?"
   ]
  },
  {
   "cell_type": "markdown",
   "id": "0ce79e27-e8af-4a46-b57b-440d8981e7cc",
   "metadata": {},
   "source": [
    "#### Most machine learning algorithms for classification, regression or clustering cannot work on images directly. To perform the analysis, we need to transform them into a more suitable representation.\n",
    ">#### **Image embedding** is a **vector representation** of an image in which images with **similar motives have similar vector profiles.**"
   ]
  },
  {
   "cell_type": "markdown",
   "id": "032880d1-80bd-48b8-8d59-92b20aac3f9b",
   "metadata": {},
   "source": [
    "#### CNN, Neural networks expect the labels of classes in a dataset to be organized in a one-hot encoded manner: each row in the array contains zeros in all columns, except the column corresponding to a unique label, which is set to 1."
   ]
  },
  {
   "cell_type": "code",
   "execution_count": 4,
   "id": "f18edbb4-b20a-4de6-afaa-f4ca0626af62",
   "metadata": {},
   "outputs": [],
   "source": [
    "import pandas as pd\n",
    "import numpy as np"
   ]
  },
  {
   "cell_type": "code",
   "execution_count": 9,
   "id": "47d82025-9a7d-4a8c-951d-728e01262511",
   "metadata": {},
   "outputs": [
    {
     "name": "stdout",
     "output_type": "stream",
     "text": [
      "[[0. 0. 0.]\n",
      " [0. 0. 0.]\n",
      " [0. 0. 0.]\n",
      " [0. 0. 0.]\n",
      " [0. 0. 0.]\n",
      " [0. 0. 0.]\n",
      " [0. 0. 0.]]\n",
      "(array([0, 1, 2]),)\n",
      "(array([0, 1, 2]),)\n",
      "(array([0, 1, 2]),)\n",
      "(array([0, 1, 2]),)\n",
      "(array([0, 1, 2]),)\n",
      "(array([0, 1, 2]),)\n",
      "(array([0, 1, 2]),)\n"
     ]
    }
   ],
   "source": [
    "labels = ['shoe', 'shirt', 'shoe', 'shirt', 'dress', 'dress', 'dress']\n",
    "\n",
    "# The number of image categories\n",
    "n_categories = 3\n",
    "\n",
    "# The unique values of categories in the data\n",
    "categories = np.array([\"shirt\", \"dress\", \"shoe\"])\n",
    "\n",
    "# Initialize ohe_labels as all zeros\n",
    "ohe_labels = np.zeros((len(labels), n_categories))\n",
    "\n",
    "print(ohe_labels)\n",
    "# Loop over the labels\n",
    "for i in range(len(labels)):\n",
    "    # Find the location of this label in the categories variable\n",
    "    j = np.where(categories)\n",
    "    \n",
    "#     # Set the corresponding zero to one\n",
    "#     ohe_labels[j] = 1"
   ]
  },
  {
   "cell_type": "code",
   "execution_count": null,
   "id": "23f3f7e8-cfb6-4b08-87b1-3a472c104296",
   "metadata": {},
   "outputs": [],
   "source": []
  },
  {
   "cell_type": "code",
   "execution_count": null,
   "id": "6abdf722-7779-4047-ade4-875d4e3431ac",
   "metadata": {},
   "outputs": [],
   "source": []
  },
  {
   "cell_type": "code",
   "execution_count": null,
   "id": "21d8120c-8537-4507-a11e-ba87ec0f2dd1",
   "metadata": {},
   "outputs": [],
   "source": []
  }
 ],
 "metadata": {
  "kernelspec": {
   "display_name": "Python 3 (ipykernel)",
   "language": "python",
   "name": "python3"
  },
  "language_info": {
   "codemirror_mode": {
    "name": "ipython",
    "version": 3
   },
   "file_extension": ".py",
   "mimetype": "text/x-python",
   "name": "python",
   "nbconvert_exporter": "python",
   "pygments_lexer": "ipython3",
   "version": "3.11.1"
  }
 },
 "nbformat": 4,
 "nbformat_minor": 5
}
