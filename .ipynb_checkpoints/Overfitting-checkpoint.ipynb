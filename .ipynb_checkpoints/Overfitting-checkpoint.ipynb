{
 "cells": [
  {
   "cell_type": "markdown",
   "id": "1359fd90-ff1f-44a5-87e1-d5a194353509",
   "metadata": {},
   "source": [
    "## What is overfitting?"
   ]
  },
  {
   "cell_type": "markdown",
   "id": "5c92c538-c33d-4a1a-a349-0e10779b1014",
   "metadata": {},
   "source": [
    "#### In terms of Linear Regression Overfitting mean the value of **```m```**(```y = mx + b```) is larger.\n",
    "#### the Opposite goes for under fitting"
   ]
  },
  {
   "cell_type": "code",
   "execution_count": null,
   "id": "470d7bb5-9b81-4ffc-9db4-b1204862a5f3",
   "metadata": {},
   "outputs": [],
   "source": []
  }
 ],
 "metadata": {
  "kernelspec": {
   "display_name": "Python 3 (ipykernel)",
   "language": "python",
   "name": "python3"
  },
  "language_info": {
   "codemirror_mode": {
    "name": "ipython",
    "version": 3
   },
   "file_extension": ".py",
   "mimetype": "text/x-python",
   "name": "python",
   "nbconvert_exporter": "python",
   "pygments_lexer": "ipython3",
   "version": "3.10.7"
  }
 },
 "nbformat": 4,
 "nbformat_minor": 5
}
