{
 "cells": [
  {
   "cell_type": "markdown",
   "id": "5d785b17-1299-4b5f-81e5-926865ceafab",
   "metadata": {},
   "source": [
    "## **Classification of Supervised Learning.**"
   ]
  },
  {
   "cell_type": "markdown",
   "id": "2c7b7b36-e140-44db-a67e-2e77351ec4b3",
   "metadata": {},
   "source": [
    "#### Supervised learning problems are categorized into **\"regression\"** and **\"classification\"** problems. In a regression problem, we are trying to **predict results within a continuous output**, meaning that we are trying to map input variables to some continuous function. In a classification problem, we are instead trying to **predict results in a discrete output**. In other words, we are trying to map input variables into discrete categories. "
   ]
  },
  {
   "cell_type": "markdown",
   "id": "a0be4d11-d56a-4687-920d-b1688c5264ba",
   "metadata": {},
   "source": [
    "### **Linear Regression**"
   ]
  },
  {
   "cell_type": "markdown",
   "id": "0c071578-7fd8-4d9b-b8d8-9a1d7dbc29dc",
   "metadata": {},
   "source": [
    "#### **linear regression** attempts to represent the **relationship between one or more independent variables** (points on X axis) and a **numeric outcome or dependent variable** (value on Y axis) by fitting the equation of a line to the data"
   ]
  },
  {
   "cell_type": "markdown",
   "id": "8bc86253-60cd-457a-b643-d71a6296943c",
   "metadata": {},
   "source": [
    "## ```Y = a * X + B```"
   ]
  },
  {
   "cell_type": "code",
   "execution_count": 13,
   "id": "8239ff0c-0648-4244-8836-d5382db4723e",
   "metadata": {},
   "outputs": [
    {
     "data": {
      "image/png": "[encoded data removed]",
      "text/plain": [
       "<Figure size 432x288 with 1 Axes>"
      ]
     },
     "metadata": {},
     "output_type": "display_data"
    }
   ],
   "source": [
    "import pandas as pd\n",
    "import numpy as np\n",
    "import matplotlib.pyplot as plt\n",
    "import seaborn as sns\n",
    "\n",
    "# This makes plots appear in the notebook\n",
    "%matplotlib inline\n",
    "sns.set_theme(style=\"darkgrid\")\n",
    "\n",
    "# getting the data\n",
    "data = pd.read_csv('datasets/SOCR-HeightWeight.csv', nrows=50)\n",
    "\n",
    "# Creating figure\n",
    "fig = plt.figure()\n",
    "ax = fig.add_subplot(1, 1, 1)\n",
    "\n",
    "sns.regplot(x='Height(Inches)', y='Weight(Pounds)', data=data)\n",
    "ax.set_xlabel('Linear Regression')\n",
    "\n",
    "plt.show()"
   ]
  },
  {
   "cell_type": "markdown",
   "id": "a88c1d25-a6fd-454d-a53e-91c54f592fe9",
   "metadata": {},
   "source": [
    "#### This algorithm assumes a strong linear relationship between input and output variables as we would assume that if height increases then weight also increases proportionally in a linear way."
   ]
  },
  {
   "cell_type": "markdown",
   "id": "d85b2379-d56a-474e-a8ee-032682895e8f",
   "metadata": {},
   "source": [
    "![e](imageNotes/e.png)  ![g](imageNotes/g.png)"
   ]
  },
  {
   "cell_type": "markdown",
   "id": "f4d4aca5-137a-4df5-838a-2fb556758e81",
   "metadata": {},
   "source": [
    "#### When we are dealing with only one independent variable, like in the example above, we call it **Simple Linear Regression**. When there are more than one independent variables, (e.g., we want to predict weight using more variables than just the person’s height) then this type of regression is termed as **Multiple Linear Regression**. As shown in the figure below, while finding the line of best fit, we can use a polynomial, or a curved line instead of a straight line; this is called **Polynomial Regression.**"
   ]
  },
  {
   "cell_type": "markdown",
   "id": "4e58ebd8-8472-4c13-a021-e339b34eecff",
   "metadata": {},
   "source": [
    "![f](imageNotes/f.png)"
   ]
  },
  {
   "cell_type": "markdown",
   "id": "c4a63864-fd50-436a-bf17-797551f321d2",
   "metadata": {},
   "source": [
    "#### In linear regression, the observations (red) are assumed to be the result of random deviations (green) from an underlying relationship (blue) between a dependent variable (y) and an independent variable (x). While finding the line of best fit, the goal is to minimize the the distance shown in green -- red points as close as possible to the blue line."
   ]
  },
  {
   "cell_type": "code",
   "execution_count": 14,
   "id": "b2f70128-f784-4dfe-9a17-b031af84cd8b",
   "metadata": {},
   "outputs": [
    {
     "data": {
      "text/html": [
       "<div>\n",
       "<style scoped>\n",
       "    .dataframe tbody tr th:only-of-type {\n",
       "        vertical-align: middle;\n",
       "    }\n",
       "\n",
       "    .dataframe tbody tr th {\n",
       "        vertical-align: top;\n",
       "    }\n",
       "\n",
       "    .dataframe thead th {\n",
       "        text-align: right;\n",
       "    }\n",
       "</style>\n",
       "<table border=\"1\" class=\"dataframe\">\n",
       "  <thead>\n",
       "    <tr style=\"text-align: right;\">\n",
       "      <th></th>\n",
       "      <th>tv</th>\n",
       "      <th>radio</th>\n",
       "      <th>social_media</th>\n",
       "      <th>influencer</th>\n",
       "      <th>sales</th>\n",
       "    </tr>\n",
       "  </thead>\n",
       "  <tbody>\n",
       "    <tr>\n",
       "      <th>0</th>\n",
       "      <td>16000.0</td>\n",
       "      <td>6566.23</td>\n",
       "      <td>2907.98</td>\n",
       "      <td>Mega</td>\n",
       "      <td>54732.76</td>\n",
       "    </tr>\n",
       "    <tr>\n",
       "      <th>1</th>\n",
       "      <td>13000.0</td>\n",
       "      <td>9237.76</td>\n",
       "      <td>2409.57</td>\n",
       "      <td>Mega</td>\n",
       "      <td>46677.90</td>\n",
       "    </tr>\n",
       "    <tr>\n",
       "      <th>2</th>\n",
       "      <td>41000.0</td>\n",
       "      <td>15886.45</td>\n",
       "      <td>2913.41</td>\n",
       "      <td>Mega</td>\n",
       "      <td>150177.83</td>\n",
       "    </tr>\n",
       "    <tr>\n",
       "      <th>3</th>\n",
       "      <td>83000.0</td>\n",
       "      <td>30020.03</td>\n",
       "      <td>6922.30</td>\n",
       "      <td>Mega</td>\n",
       "      <td>298246.34</td>\n",
       "    </tr>\n",
       "    <tr>\n",
       "      <th>4</th>\n",
       "      <td>15000.0</td>\n",
       "      <td>8437.41</td>\n",
       "      <td>1406.00</td>\n",
       "      <td>Micro</td>\n",
       "      <td>56594.18</td>\n",
       "    </tr>\n",
       "  </tbody>\n",
       "</table>\n",
       "</div>"
      ],
      "text/plain": [
       "        tv     radio  social_media influencer      sales\n",
       "0  16000.0   6566.23       2907.98       Mega   54732.76\n",
       "1  13000.0   9237.76       2409.57       Mega   46677.90\n",
       "2  41000.0  15886.45       2913.41       Mega  150177.83\n",
       "3  83000.0  30020.03       6922.30       Mega  298246.34\n",
       "4  15000.0   8437.41       1406.00      Micro   56594.18"
      ]
     },
     "execution_count": 14,
     "metadata": {},
     "output_type": "execute_result"
    }
   ],
   "source": [
    "# Reading the Data\n",
    "sales_df = pd.read_csv('datasets/advertising_and_sales_clean.csv')\n",
    "sales_df.head()"
   ]
  },
  {
   "cell_type": "code",
   "execution_count": 15,
   "id": "4aae529c-be6c-4828-874e-0cb71d51ff2c",
   "metadata": {},
   "outputs": [
    {
     "name": "stdout",
     "output_type": "stream",
     "text": [
      "<class 'pandas.core.frame.DataFrame'>\n",
      "RangeIndex: 4546 entries, 0 to 4545\n",
      "Data columns (total 5 columns):\n",
      " #   Column        Non-Null Count  Dtype  \n",
      "---  ------        --------------  -----  \n",
      " 0   tv            4546 non-null   float64\n",
      " 1   radio         4546 non-null   float64\n",
      " 2   social_media  4546 non-null   float64\n",
      " 3   influencer    4546 non-null   object \n",
      " 4   sales         4546 non-null   float64\n",
      "dtypes: float64(4), object(1)\n",
      "memory usage: 177.7+ KB\n"
     ]
    }
   ],
   "source": [
    "sales_df.info()"
   ]
  },
  {
   "cell_type": "code",
   "execution_count": 16,
   "id": "1ac441bd-3707-4094-8d85-adf865244911",
   "metadata": {},
   "outputs": [
    {
     "data": {
      "text/html": [
       "<div>\n",
       "<style scoped>\n",
       "    .dataframe tbody tr th:only-of-type {\n",
       "        vertical-align: middle;\n",
       "    }\n",
       "\n",
       "    .dataframe tbody tr th {\n",
       "        vertical-align: top;\n",
       "    }\n",
       "\n",
       "    .dataframe thead th {\n",
       "        text-align: right;\n",
       "    }\n",
       "</style>\n",
       "<table border=\"1\" class=\"dataframe\">\n",
       "  <thead>\n",
       "    <tr style=\"text-align: right;\">\n",
       "      <th></th>\n",
       "      <th>tv</th>\n",
       "      <th>radio</th>\n",
       "      <th>social_media</th>\n",
       "      <th>sales</th>\n",
       "    </tr>\n",
       "  </thead>\n",
       "  <tbody>\n",
       "    <tr>\n",
       "      <th>count</th>\n",
       "      <td>4546.000000</td>\n",
       "      <td>4546.000000</td>\n",
       "      <td>4546.000000</td>\n",
       "      <td>4546.000000</td>\n",
       "    </tr>\n",
       "    <tr>\n",
       "      <th>mean</th>\n",
       "      <td>54062.912451</td>\n",
       "      <td>18157.533110</td>\n",
       "      <td>3323.472829</td>\n",
       "      <td>192413.332112</td>\n",
       "    </tr>\n",
       "    <tr>\n",
       "      <th>std</th>\n",
       "      <td>26104.941838</td>\n",
       "      <td>9663.259642</td>\n",
       "      <td>2211.253915</td>\n",
       "      <td>93019.873216</td>\n",
       "    </tr>\n",
       "    <tr>\n",
       "      <th>min</th>\n",
       "      <td>10000.000000</td>\n",
       "      <td>0.680000</td>\n",
       "      <td>0.030000</td>\n",
       "      <td>31199.410000</td>\n",
       "    </tr>\n",
       "    <tr>\n",
       "      <th>25%</th>\n",
       "      <td>32000.000000</td>\n",
       "      <td>10555.355000</td>\n",
       "      <td>1530.822500</td>\n",
       "      <td>112434.610000</td>\n",
       "    </tr>\n",
       "    <tr>\n",
       "      <th>50%</th>\n",
       "      <td>53000.000000</td>\n",
       "      <td>17859.515000</td>\n",
       "      <td>3055.565000</td>\n",
       "      <td>188963.680000</td>\n",
       "    </tr>\n",
       "    <tr>\n",
       "      <th>75%</th>\n",
       "      <td>77000.000000</td>\n",
       "      <td>25640.605000</td>\n",
       "      <td>4804.922500</td>\n",
       "      <td>272324.240000</td>\n",
       "    </tr>\n",
       "    <tr>\n",
       "      <th>max</th>\n",
       "      <td>100000.000000</td>\n",
       "      <td>48871.160000</td>\n",
       "      <td>13981.660000</td>\n",
       "      <td>364079.750000</td>\n",
       "    </tr>\n",
       "  </tbody>\n",
       "</table>\n",
       "</div>"
      ],
      "text/plain": [
       "                  tv         radio  social_media          sales\n",
       "count    4546.000000   4546.000000   4546.000000    4546.000000\n",
       "mean    54062.912451  18157.533110   3323.472829  192413.332112\n",
       "std     26104.941838   9663.259642   2211.253915   93019.873216\n",
       "min     10000.000000      0.680000      0.030000   31199.410000\n",
       "25%     32000.000000  10555.355000   1530.822500  112434.610000\n",
       "50%     53000.000000  17859.515000   3055.565000  188963.680000\n",
       "75%     77000.000000  25640.605000   4804.922500  272324.240000\n",
       "max    100000.000000  48871.160000  13981.660000  364079.750000"
      ]
     },
     "execution_count": 16,
     "metadata": {},
     "output_type": "execute_result"
    }
   ],
   "source": [
    "sales_df.describe()"
   ]
  },
  {
   "cell_type": "code",
   "execution_count": 17,
   "id": "4c70f652-bd9e-4f1c-9b93-c7967b37daae",
   "metadata": {},
   "outputs": [
    {
     "data": {
      "text/plain": [
       "Mega     1152\n",
       "Micro    1148\n",
       "Nano     1134\n",
       "Macro    1112\n",
       "Name: influencer, dtype: int64"
      ]
     },
     "execution_count": 17,
     "metadata": {},
     "output_type": "execute_result"
    }
   ],
   "source": [
    "sales_df['influencer'].value_counts()"
   ]
  },
  {
   "cell_type": "code",
   "execution_count": 18,
   "id": "dedefc11-eec4-4744-997b-c1568b792b10",
   "metadata": {},
   "outputs": [
    {
     "name": "stdout",
     "output_type": "stream",
     "text": [
      "(4546, 1) (4546,)\n"
     ]
    }
   ],
   "source": [
    "import numpy as np\n",
    "from sklearn.model_selection import train_test_split\n",
    "\n",
    "# Create X from the radio column's values\n",
    "X = np.array(sales_df['radio'])\n",
    "# print(X.shape)\n",
    "\n",
    "# Create y from the sales column's values\n",
    "y = np.array(sales_df['sales'])\n",
    "\n",
    "# Reshape X\n",
    "X = X.reshape(-1, 1)\n",
    "# print(X.shape)\n",
    "\n",
    "# # Check the shape of the features and targets\n",
    "print(X.shape, y.shape)\n",
    "\n",
    "# Splitting the data\n",
    "X_train, X_test, y_train, y_test = train_test_split(X, y, test_size=0.3, random_state=42)\n",
    "\n"
   ]
  },
  {
   "cell_type": "code",
   "execution_count": 19,
   "id": "2170af98-760b-4e90-a049-9192d3c3787b",
   "metadata": {},
   "outputs": [
    {
     "name": "stdout",
     "output_type": "stream",
     "text": [
      "[ 69614.40196636 104976.82354797 210026.94431821 208020.56460541\n",
      " 304332.7140194 ]\n"
     ]
    }
   ],
   "source": [
    "# Import LinearRegression\n",
    "from sklearn.linear_model import LinearRegression\n",
    "\n",
    "# Create the model\n",
    "reg = LinearRegression()\n",
    "\n",
    "# Fit the model to the data\n",
    "reg.fit(X_train, y_train)\n",
    "\n",
    "\n",
    "# Make predictions\n",
    "y_predictions = reg.predict(X_test)\n",
    "\n",
    "print(y_predictions[:5])"
   ]
  },
  {
   "cell_type": "markdown",
   "id": "ff266bab-ae37-41a9-a94d-9c67c5882b5b",
   "metadata": {},
   "source": [
    "## Simple Validation"
   ]
  },
  {
   "cell_type": "code",
   "execution_count": 20,
   "id": "6ead4b31-2ed1-4cd9-9961-e7a49b9c6a85",
   "metadata": {},
   "outputs": [
    {
     "name": "stdout",
     "output_type": "stream",
     "text": [
      "R^2: 0.7609020445216754\n",
      "RMSE: 45879.42086239429\n"
     ]
    }
   ],
   "source": [
    "# Import mean_squared_error\n",
    "from sklearn.metrics import mean_squared_error\n",
    "\n",
    "# Compute R-squared\n",
    "r_squared = reg.score(X_test, y_test)\n",
    "\n",
    "# Compute RMSE\n",
    "rmse = mean_squared_error(y_test, y_predictions, squared=False)\n",
    "\n",
    "# Print the metrics\n",
    "print(\"R^2: {}\".format(r_squared))\n",
    "print(\"RMSE: {}\".format(rmse))"
   ]
  },
  {
   "cell_type": "markdown",
   "id": "ab656ef9-893d-4276-82f5-8235f6543cf6",
   "metadata": {},
   "source": [
    "## Cross Validation"
   ]
  },
  {
   "cell_type": "code",
   "execution_count": 21,
   "id": "a1137537-33fc-4b28-aefd-7b239cdcab53",
   "metadata": {},
   "outputs": [
    {
     "name": "stdout",
     "output_type": "stream",
     "text": [
      "[0.74470218 0.7724344  0.76841901 0.74186012 0.75174985 0.7444348 ]\n",
      "0.7539333927705617\n",
      "0.012097455447896869\n",
      "[0.74218195 0.77193247]\n"
     ]
    }
   ],
   "source": [
    "from sklearn.model_selection import cross_val_score, KFold\n",
    "\n",
    "# Create a KFold object\n",
    "kf = KFold(n_splits=6, shuffle=True, random_state=5)\n",
    "\n",
    "reg = LinearRegression()\n",
    "\n",
    "# Compute 6-fold cross-validation scores\n",
    "cv_scores = cross_val_score(reg, X, y, cv=kf)\n",
    "cv_results = cv_scores \n",
    "\n",
    "# Print scores\n",
    "print(cv_scores)\n",
    "\n",
    "# Print the mean\n",
    "print(np.mean(cv_results))\n",
    "\n",
    "# Print the standard deviation\n",
    "print(np.std(cv_results))\n",
    "\n",
    "# Print the 95% confidence interval\n",
    "print(np.quantile(cv_results, [0.025, 0.975]))"
   ]
  },
  {
   "cell_type": "markdown",
   "id": "31a16af3-ac9c-4ed7-b481-8d7ff1b08c6e",
   "metadata": {},
   "source": [
    "## Regularized regression: Ridge"
   ]
  },
  {
   "cell_type": "code",
   "execution_count": 22,
   "id": "019ed56d-8632-416a-807e-94b182af185b",
   "metadata": {},
   "outputs": [
    {
     "name": "stdout",
     "output_type": "stream",
     "text": [
      "[0.7609020445216718, 0.7609020445216387, 0.7609020445213077, 0.7609020445179987, 0.7609020444849083, 0.7609020441540031]\n"
     ]
    }
   ],
   "source": [
    "# Import Ridge\n",
    "from sklearn.linear_model import Ridge\n",
    "alphas = [0.1, 1.0, 10.0, 100.0, 1000.0, 10000.0]\n",
    "ridge_scores = []\n",
    "for alpha in alphas:\n",
    "  \n",
    "  # Create a Ridge regression model\n",
    "  ridge = Ridge(alpha=alpha)\n",
    "  \n",
    "  # Fit the data\n",
    "  ridge.fit(X_train, y_train)\n",
    "  \n",
    "  # Obtain R-squared\n",
    "  score = ridge.score(X_test, y_test)\n",
    "  ridge_scores.append(score)\n",
    "print(ridge_scores)"
   ]
  },
  {
   "cell_type": "markdown",
   "id": "51abf7bd-b323-48bb-b2bb-021d6c5fc6e0",
   "metadata": {},
   "source": [
    ">### Lasso regression for feature importance"
   ]
  },
  {
   "cell_type": "markdown",
   "id": "19fc02a8-f3e9-498c-9110-48d5b3e80ce6",
   "metadata": {},
   "source": [
    "#### Lasso regression can be used to identify important features in a dataset."
   ]
  },
  {
   "cell_type": "code",
   "execution_count": 23,
   "id": "923ca741-651c-486f-8fbd-5f0cc62284ff",
   "metadata": {},
   "outputs": [
    {
     "name": "stdout",
     "output_type": "stream",
     "text": [
      "[8.34253519]\n"
     ]
    },
    {
     "data": {
      "image/png": "[encoded data removed]",
      "text/plain": [
       "<Figure size 432x288 with 1 Axes>"
      ]
     },
     "metadata": {},
     "output_type": "display_data"
    }
   ],
   "source": [
    "# Import Lasso\n",
    "from sklearn.linear_model import Lasso\n",
    "\n",
    "# Instantiate a lasso regression model\n",
    "lasso = Lasso(alpha=0.3)\n",
    "\n",
    "# Fit the model to the data\n",
    "lasso.fit(X_train, y_train)\n",
    "\n",
    "sales_columns = ['tv', 'radio', 'social_media']\n",
    "\n",
    "# Compute and print the coefficients\n",
    "lasso_coef = lasso.fit(X_train, y_train).coef_\n",
    "print(lasso_coef)\n",
    "plt.bar(sales_columns, lasso_coef)\n",
    "plt.xticks(rotation=45)\n",
    "plt.show()"
   ]
  },
  {
   "cell_type": "markdown",
   "id": "afebe370-f983-4bfb-b00a-ab290b6769b7",
   "metadata": {},
   "source": [
    "## Fine-Tuning"
   ]
  },
  {
   "cell_type": "code",
   "execution_count": null,
   "id": "44088321-b54c-4940-ab34-07b32e1fae51",
   "metadata": {},
   "outputs": [],
   "source": []
  },
  {
   "cell_type": "code",
   "execution_count": null,
   "id": "65e80863-7ba7-49c1-8bd6-910fd192d41a",
   "metadata": {},
   "outputs": [],
   "source": []
  },
  {
   "cell_type": "code",
   "execution_count": null,
   "id": "e5821784-bb1e-46f9-aebf-9afc9d4f84e9",
   "metadata": {},
   "outputs": [],
   "source": []
  },
  {
   "cell_type": "code",
   "execution_count": null,
   "id": "0c8c2076-aef0-4b1f-9516-bb593d71c5cd",
   "metadata": {},
   "outputs": [],
   "source": []
  },
  {
   "cell_type": "code",
   "execution_count": null,
   "id": "b3615a93-6080-4045-9d33-bfb0af726a7d",
   "metadata": {},
   "outputs": [],
   "source": []
  },
  {
   "cell_type": "code",
   "execution_count": null,
   "id": "e0dc6f3a-cde4-4a91-b65d-0a86fc54866f",
   "metadata": {},
   "outputs": [],
   "source": []
  },
  {
   "cell_type": "code",
   "execution_count": null,
   "id": "9f65f794-e3aa-4b58-a861-75e1bb3ee351",
   "metadata": {},
   "outputs": [],
   "source": []
  },
  {
   "cell_type": "code",
   "execution_count": null,
   "id": "f3036e3f-7296-47bd-8a7d-a8b831319b7c",
   "metadata": {},
   "outputs": [],
   "source": []
  },
  {
   "cell_type": "code",
   "execution_count": null,
   "id": "e0e40d6f-e303-45cf-90e3-ffb3c567fc3e",
   "metadata": {},
   "outputs": [],
   "source": []
  },
  {
   "cell_type": "code",
   "execution_count": 50,
   "id": "98768c68-6337-442e-99bd-000423d5dafe",
   "metadata": {},
   "outputs": [
    {
     "data": {
      "image/png": "[encoded data removed]",
      "text/plain": [
       "<Figure size 432x288 with 1 Axes>"
      ]
     },
     "metadata": {},
     "output_type": "display_data"
    }
   ],
   "source": [
    "# Import matplotlib.pyplot\n",
    "import matplotlib.pyplot as plt\n",
    "\n",
    "# Create scatter plot\n",
    "plt.scatter(X_train, y_train, color=\"blue\")\n",
    "\n",
    "# Create line plot\n",
    "plt.plot(X_test, y_predictions, color=\"red\")\n",
    "plt.xlabel(\"Radio Expenditure ($)\")\n",
    "plt.ylabel(\"Sales ($)\")\n",
    "\n",
    "# Display the plot\n",
    "plt.show()"
   ]
  },
  {
   "cell_type": "markdown",
   "id": "a18239c6-67c3-48fb-8445-b98ff92b1593",
   "metadata": {},
   "source": [
    "## Hyperparameter Tuning"
   ]
  },
  {
   "cell_type": "markdown",
   "id": "a6780422-ea1f-4b4b-a376-9b327d61dded",
   "metadata": {},
   "source": [
    "#### The process of **choosing optimal parameter is called Hyperparameter Tuning**."
   ]
  },
  {
   "cell_type": "code",
   "execution_count": 52,
   "id": "da8e2709-918b-4015-8620-1a3050e2d494",
   "metadata": {},
   "outputs": [
    {
     "name": "stdout",
     "output_type": "stream",
     "text": [
      "(4546, 7)\n"
     ]
    }
   ],
   "source": [
    "# import library\n",
    "from sklearn.model_selection import train_test_split\n",
    "from sklearn.preprocessing import OneHotEncoder\n",
    "from sklearn.preprocessing import StandardScaler\n",
    "\n",
    "# Spliting data\n",
    "# X_train, X_test, y_train, y_test = \n",
    "\n",
    "# Encodering \n",
    "ohe = OneHotEncoder(sparse=False) # If we don't set (sparse=False). Then It will through an erron\n",
    "                                  # ValueError: all the input arrays must have same number of dimensions,\n",
    "                                  # but the array at index 0 has 2 dimension(s) \n",
    "                                  # and the array at index 3 has 0 dimension(s)\n",
    "            \n",
    "            \n",
    "                                  # Because by Default OneHotEncoder returns a sparse Matrix\n",
    "influencer = np.array(sales_df['influencer'].values)\n",
    "influencer = influencer.reshape(-1, 1)\n",
    "influencer= ohe.fit_transform(influencer)\n",
    "# print(influencer.shape)\n",
    "\n",
    "\n",
    "\n",
    "tv = np.array(sales_df['tv'].values)\n",
    "tv = tv.reshape(-1, 1)\n",
    "# print(tv.shape)\n",
    "\n",
    "radio = np.array(sales_df['radio'].values)\n",
    "radio = radio.reshape(-1, 1)\n",
    "# print(radio.shape)\n",
    "\n",
    "social_media = np.array(sales_df['social_media'].values)\n",
    "social_media = social_media.reshape(-1, 1)\n",
    "# print(social_media.shape)\n",
    "\n",
    "# Scaleing\n",
    "scaler = StandardScaler()\n",
    "\n",
    "scaled_tv = scaler.fit_transform(tv)\n",
    "\n",
    "scaled_radio = scaler.fit_transform(radio)\n",
    "\n",
    "scaled_social = scaler.fit_transform(social_media)\n",
    "\n",
    "\n",
    "\n",
    "# concatenate\n",
    "sales = np.concatenate((scaled_tv, scaled_radio, scaled_social, influencer),axis=1)\n",
    "print(sales.shape)\n",
    "\n",
    "\n",
    "\n",
    "# Pipeline\n",
    "\n",
    "\n",
    "\n",
    "\n",
    "# # Create X and y arrays\n",
    "# X = sales.drop(\"sales\", axis=1).values\n",
    "# y = sales[\"sales\"].values\n",
    "\n",
    "\n",
    "# X_train, X_test, y_train, y_test = train_test_split(X, y, test_size=0.3, random_state=42)\n",
    "\n",
    "# # Instantiate the model\n",
    "# reg = LinearRegression()\n",
    "\n",
    "# # Fit the model to the data\n",
    "# reg.fit(X_train, y_train)\n",
    "\n",
    "# # Make predictions\n",
    "# y_pred = reg.predict(X_test)\n",
    "# print(\"Predictions: {}, Actual Values: {}\".format(y_pred[:2], y_test[:2]))"
   ]
  },
  {
   "cell_type": "markdown",
   "id": "0db24038-7f08-4a87-9e74-36f4086298df",
   "metadata": {},
   "source": [
    "### **Logistic Regression**"
   ]
  },
  {
   "cell_type": "markdown",
   "id": "f03a8b49-3582-44ac-997c-0b57abd41e7e",
   "metadata": {},
   "source": [
    "#### Logistic regression has the same main idea as linear regression. The difference is that this technique is used when the **output or dependent variable is binary** meaning the **outcome can have only two possible values.** For example, let’s say that we want to **predict if age influences the probability of having a heart attack**. In this case, our prediction is only a **“yes” or “no”,** only two possible values."
   ]
  },
  {
   "cell_type": "code",
   "execution_count": null,
   "id": "3a60a084-3302-4861-ad03-2a8a3903dd98",
   "metadata": {},
   "outputs": [],
   "source": [
    "# Getting the data\n",
    "data = pd.read_csv('datasets/heart.csv')\n",
    "\n",
    "# Setting figure\n",
    "fig = plt.figure()\n",
    "ax = fig.add_subplot(1, 1, 1)\n",
    "\n",
    "# Ploting the data\n",
    "plt.plot(sorted(data['Age']))\n",
    "plt.show()"
   ]
  },
  {
   "cell_type": "markdown",
   "id": "3cb8bd95-52d1-4f98-abe1-1cf5db9e841b",
   "metadata": {},
   "source": [
    "#### In logistic regression, the line of best fit is not a straight line anymore. The prediction for the final output is transformed using a **non-linear S-shaped function called the logistic function, g().**"
   ]
  },
  {
   "cell_type": "markdown",
   "id": "995c04fe-5c71-4cbc-94b1-440af12d5578",
   "metadata": {},
   "source": [
    "### **Decision Trees**"
   ]
  },
  {
   "cell_type": "markdown",
   "id": "8b7fbf24-b69b-4f56-b62c-cc1f1b992198",
   "metadata": {},
   "source": [
    "#### Decision Trees also belong to the category of **supervised learning algorithms**, but they can be used for solving both **regression and classification** tasks."
   ]
  },
  {
   "cell_type": "markdown",
   "id": "d0b98bd0-ada7-49f3-9f43-6cf31958abc3",
   "metadata": {},
   "source": [
    "#### In this algorithm, the training model learns to predict values of the target variable by learning decision rules with a tree representation. "
   ]
  },
  {
   "cell_type": "markdown",
   "id": "4c7dcea6-de98-4cac-8dc6-870f45f2fdb9",
   "metadata": {},
   "source": [
    "#### A tree is made up of **nodes corresponding to a feature or attribute**. At each node we ask a question about the data based on the available features, e.g., **Is it raining or not raining?**. **The left and right branches represent the possible answers. The final nodes, leaf nodes, correspond to a class label/predicted value**. The importance for each feature is determined in a top-down approach — the higher the node, the more important its attribute/feature. \n",
    "\n",
    "#### Say we want to predict whether or not we should wait for a table at a restaurant. "
   ]
  },
  {
   "cell_type": "markdown",
   "id": "6a02b279-7878-4195-8c7b-ff1cf6e2dcb5",
   "metadata": {},
   "source": [
    "![h](imageNotes/h.png)"
   ]
  },
  {
   "cell_type": "markdown",
   "id": "761862a2-03a7-4053-b63a-2416ec5d358c",
   "metadata": {},
   "source": [
    "### In this example, our attributes are:\n",
    "\n",
    "1. **Alternate:** alternative restaurant nearby\n",
    "2. **Bar:** bar area to wait\n",
    "3. **Fri/Sat:** true on Fridays and Saturdays\n",
    "4. **Hungry:** whether we are hungry\n",
    "5. **Patrons:** how many people in restaurant (none, some, or full)\n",
    "6. **Raining:** raining outside\n",
    "7. **Wait-Estimate:** estimated waiting time (<10,10-30,30-60,>60)"
   ]
  },
  {
   "cell_type": "markdown",
   "id": "6ebf0196-2725-4a81-be73-04b8caa51043",
   "metadata": {},
   "source": [
    "#### Our data instances are then classified into **“wait” or “leave”** based on the attributes listed above. From the visual representation of the decision tree, we can see that **“wait-estimate”** is **more important** than **“raining”** because it is present at a relatively higher node in the tree."
   ]
  },
  {
   "cell_type": "markdown",
   "id": "675a45ef-df0e-42c5-9685-ff4ed8258334",
   "metadata": {},
   "source": [
    "### **Naive Bayes**"
   ]
  },
  {
   "cell_type": "markdown",
   "id": "ce7aec25-252e-4a31-93ef-61f52b4de122",
   "metadata": {},
   "source": [
    "#### Naive Bayes classifiers are actually a popular statistical technique of **spam e-mail filtering.** \n",
    "#### It works by correlating the use of tokens typically words, with spam and non-spam e-mails and then using Bayes’ theorem to calculate a probability that an email is spam or not."
   ]
  },
  {
   "cell_type": "markdown",
   "id": "dcc04f89-ca11-4730-9e55-455b837564d9",
   "metadata": {},
   "source": [
    "#### **Conditional Probability**"
   ]
  },
  {
   "cell_type": "markdown",
   "id": "da5aa863-6d5e-4e5f-88e1-90c5d1984915",
   "metadata": {},
   "source": [
    "#### **P(A|B)** Event **A** will occur if given that event **B** has already occurred.\n",
    "#### **In other word How much A in B divided by B**\n",
    "#### Say we have a training data set with weather **conditions ,x** , and the corresponding target variable **“Played”, c**. We can use this to obtain the probability of **“Players will play if it is rainy”, P(c|x)**. "
   ]
  },
  {
   "cell_type": "markdown",
   "id": "b5d17925-ad6a-48b3-a1e7-d829071bc317",
   "metadata": {},
   "source": [
    "#### **Bayes' Theorem**"
   ]
  },
  {
   "cell_type": "markdown",
   "id": "da750377-d60c-4898-9ae7-732b3170f83d",
   "metadata": {},
   "source": [
    "![n](imageNotes/n.png)"
   ]
  },
  {
   "cell_type": "markdown",
   "id": "acba4dc3-e2c6-4f9e-8dcc-63d4f18ea7b2",
   "metadata": {},
   "source": [
    "#### It is called naive because the **classifier assumes that the input variables are independent of each other**, quite a strong and unrealistic assumption for real data!"
   ]
  },
  {
   "cell_type": "markdown",
   "id": "e6f6a10f-6e14-49e2-896b-1677863bcb77",
   "metadata": {},
   "source": [
    "#### To put it simply, the model is composed of two types of probabilities:\n",
    "1. The probability of each class;\n",
    "2. The conditional probability for each class given each value of x\n"
   ]
  },
  {
   "cell_type": "markdown",
   "id": "e499d983-3b8f-4905-9b2b-3cbb264e7679",
   "metadata": {},
   "source": [
    "#### Say we have a training data set with weather **conditions ,x** , and the corresponding target variable **“Played”, c**. We can use this to obtain the probability of **“Players will play if it is rainy”, P(c|x)**. \n",
    "#### Note that even if the answer is a numerical value ranging from 0 to 1, this is an example of a classification problem — we can use the probabilities to reach a “yes/no” outcome."
   ]
  },
  {
   "cell_type": "markdown",
   "id": "c14b978d-77dd-4d87-a499-0864b18c6607",
   "metadata": {},
   "source": [
    "## **Support Vector Machine (SVM)**"
   ]
  },
  {
   "cell_type": "markdown",
   "id": "af98bebb-01ce-4cbe-82f2-2b26d501289f",
   "metadata": {},
   "source": [
    "#### Support Vector Machines is a supervised algorithm used mainly for classification problems.\n",
    "#### In this algorithm, we plot each data item as a point in n-dimensional space, where n is the number of input features. **For example, with two input variables, we would have a two-dimensional space. Based on these transformations, SVM finds an optimal boundary, called a hyperplane, that best separates the possible outputs by their class label**. In a two-dimensional space, **this hyperplane can be visualized as a line although not necessarily a straight line.** The task of the SVM algorithm is to find the coefficients that provide the best separation of classes by this hyperplane.\n",
    "\n",
    "![j](imageNotes/j.png)\n"
   ]
  },
  {
   "cell_type": "markdown",
   "id": "1b9f9451-717b-4bfb-86f7-9c2ea5168c41",
   "metadata": {},
   "source": [
    "#### The **distance between the hyperplane and the closest class point is called the margin.** The **optimal hyperplane is one that has the largest margin** that classifies points in such a way that the **distance between the closest data point from both classes is maximum.**"
   ]
  },
  {
   "cell_type": "markdown",
   "id": "b0f9f911-fa26-44f2-9d06-c16da5587066",
   "metadata": {},
   "source": [
    "## **K-Nearest Neighbors (KNN)**"
   ]
  },
  {
   "cell_type": "markdown",
   "id": "dcd00bb0-9334-47f9-b981-aef64fa27837",
   "metadata": {},
   "source": [
    "#### It is based on the following idea from real life: **You are the average of the five people you most associate with!**"
   ]
  },
  {
   "cell_type": "markdown",
   "id": "6aa08592-2d0b-496e-a760-c703178fa740",
   "metadata": {},
   "source": [
    "#### **KNN** **classifies an object by searching through the entire training set for the k most similar instances, the k neighbors, and assigning a common output variable to all those k instances.**"
   ]
  },
  {
   "cell_type": "markdown",
   "id": "dc1d9e58-88f7-478c-865d-b982a51b82d4",
   "metadata": {},
   "source": [
    "![k](imageNotes/k.png)"
   ]
  },
  {
   "cell_type": "markdown",
   "id": "ff39d8e2-809b-4857-9c60-30d5fe3ca0a9",
   "metadata": {},
   "source": [
    "#### The figure represents a classification example. The test sample (**green dot**) should be classified either to **blue squares** or to red triangles. If k = 3 (solid line circle) it is assigned to the **red triangles** because there are 2 triangles and only 1 square inside the inner circle. If k = 5 (dashed line circle) it is assigned to the blue squares (3 squares vs. 2 triangles inside the outer circle):"
   ]
  },
  {
   "cell_type": "code",
   "execution_count": null,
   "id": "7240bdf5-581e-4daf-95f9-1311270983a7",
   "metadata": {},
   "outputs": [],
   "source": [
    "# Reading the data\n",
    "chunk_df = pd.read_csv('datasets/telecom_churn_clean.csv')\n",
    "chunk_df.info()"
   ]
  },
  {
   "cell_type": "code",
   "execution_count": null,
   "id": "838b1d6f-f265-4958-9bfa-824c9a0b9022",
   "metadata": {},
   "outputs": [],
   "source": [
    "chunk_df.describe()"
   ]
  },
  {
   "cell_type": "code",
   "execution_count": null,
   "id": "698c5696-e8dc-43d2-baef-629d3f35b268",
   "metadata": {},
   "outputs": [],
   "source": [
    "# Import KNeighborsClassifier\n",
    "from sklearn.neighbors import KNeighborsClassifier\n",
    "from sklearn.model_selection import train_test_split\n",
    "\n",
    "X = chunk_df.drop(\"churn\", axis=1).values\n",
    "y = chunk_df[\"churn\"].values\n",
    "\n",
    "# Split into training and test sets\n",
    "X_train, X_test, y_train, y_test = train_test_split(X, y, test_size=0.2, random_state=42, stratify=y)\n",
    "knn = KNeighborsClassifier(n_neighbors=5)\n",
    "\n",
    "# Fit the classifier to the training data\n",
    "knn.fit(X_train, y_train)\n",
    "\n",
    "# Print the accuracy\n",
    "print(knn.score(X_test, y_test))"
   ]
  },
  {
   "cell_type": "code",
   "execution_count": null,
   "id": "c6026d30-1d5a-4bee-bc3a-7e9ded1001ef",
   "metadata": {},
   "outputs": [],
   "source": [
    "# Create neighbors\n",
    "neighbors = np.arange(1, 13)\n",
    "train_accuracies = {}\n",
    "test_accuracies = {}\n",
    "\n",
    "for neighbor in neighbors:\n",
    "  \n",
    "    # Set up a KNN Classifier\n",
    "    knn = KNeighborsClassifier(n_neighbors=neighbor)\n",
    "  \n",
    "    # Fit the model\n",
    "    knn.fit(X_train, y_train)\n",
    "  \n",
    "    # Compute accuracy\n",
    "    train_accuracies[neighbor] = knn.score(X_train, y_train)\n",
    "    test_accuracies[neighbor] = knn.score(X_test, y_test)\n",
    "    \n",
    "print('n_neighbors: ', neighbors, '\\n')\n",
    "print('train_accuracies: ', train_accuracies, '\\n')\n",
    "print('test_accuracies: ', test_accuracies)"
   ]
  },
  {
   "cell_type": "code",
   "execution_count": null,
   "id": "2450b79f-202c-46be-ac40-e61187b311ac",
   "metadata": {},
   "outputs": [],
   "source": [
    "# Add a title\n",
    "plt.title(\"KNN: Varying Number of Neighbors\")\n",
    "\n",
    "# Plot training accuracies\n",
    "plt.plot(neighbors, train_accuracies.values(), label=\"Training Accuracy\")\n",
    "\n",
    "# Plot test accuracies\n",
    "plt.plot(neighbors, test_accuracies.values(), label=\"Testing Accuracy\")\n",
    "\n",
    "plt.legend()\n",
    "plt.xlabel(\"Number of Neighbors\")\n",
    "plt.ylabel(\"Accuracy\")\n",
    "\n",
    "# Display the plot\n",
    "plt.show()"
   ]
  },
  {
   "cell_type": "code",
   "execution_count": null,
   "id": "bc8aa6d5-15eb-46f9-88b8-ffb131f7146a",
   "metadata": {},
   "outputs": [],
   "source": []
  },
  {
   "cell_type": "code",
   "execution_count": null,
   "id": "acd5c061-8cd9-4db7-a42c-042eb0f25251",
   "metadata": {},
   "outputs": [],
   "source": []
  },
  {
   "cell_type": "markdown",
   "id": "400b10c1-696c-4ce7-99b9-58ecfd627f42",
   "metadata": {},
   "source": [
    "## **K-Means**"
   ]
  },
  {
   "cell_type": "markdown",
   "id": "67cfe01c-b663-4c5b-83d3-d978b289dc24",
   "metadata": {},
   "source": [
    "#### **K-means** is a type of unsupervised algorithm for data clustering. It follows a simple procedure to classify a given data set.\n",
    "#### It tries to **find K number of clusters or groups** in the dataset. Since we are dealing with **unsupervised learning**, all we have is our training data X and the number of clusters, K, that we want to identify, but no labelled training instances. "
   ]
  },
  {
   "cell_type": "markdown",
   "id": "b3a41700-4da4-4de4-b017-2c37284e3ce4",
   "metadata": {},
   "source": [
    "#### For example, K-Means could be used to segment users into K groups based on their ***purchase history.***"
   ]
  },
  {
   "cell_type": "markdown",
   "id": "de950a19-5a78-4fac-96ae-0e5cb916ad59",
   "metadata": {},
   "source": [
    "![z](imageNotes/z.png)"
   ]
  },
  {
   "cell_type": "markdown",
   "id": "f40d6645-3ad1-4278-95bc-406f79999589",
   "metadata": {},
   "source": [
    "#### The algorithm **interactively assigns each data point to one of the K groups based on their features.**\n",
    "#### Initially, **it picks k points for each of the K-clusters, known as the centroid.**\n",
    "### **Centroid** can be calculated by find the  **Mean of the closest individuals group**\n",
    "#### A new data point is **put into the cluster having the closest centroid** based on feature similarity. As new elements are added to the cluster, the **cluster centroid is re-computed** and **keeps changing**. The new centroid becomes the average location of all the data points currently in the cluster. This process is continued iteratively until the centroids stop changing. At the end, each centroid is a collection of feature values that define the resulting group.\n",
    "\n"
   ]
  },
  {
   "cell_type": "markdown",
   "id": "863f5618-1744-44c1-ba75-71f01bcabab8",
   "metadata": {},
   "source": [
    "#### Continuing with the purchase history example, the **red cluster** might represent users that like to buy **tech gadgets** and the **blue** one might be users interested in buying **sports equipment**.\n",
    "#### Now the algorithm will keep moving the centroid for each user-segment until it is able to create K groups. And it will do so by trying to maximize the separation between groups and users outside of the group."
   ]
  },
  {
   "cell_type": "markdown",
   "id": "272d7d03-cda9-4c20-9308-37a8ab685757",
   "metadata": {},
   "source": [
    "## **Random Forest**"
   ]
  },
  {
   "cell_type": "markdown",
   "id": "c506ce58-7584-46ee-a9a5-eb5f4532773a",
   "metadata": {},
   "source": [
    "#### Random Forest is one of the most popular and powerful machine learning algorithms.\n",
    ">### **Ensemble Algorithm**\n",
    "#### The underline of **Ensemble Technique combining multiple models.**"
   ]
  },
  {
   "cell_type": "markdown",
   "id": "4ef1fd45-674d-4c37-881d-727742ad325f",
   "metadata": {},
   "source": [
    "#### The underlying idea for **ensemble learning** the is **wisdom of crowds**, the idea that the **collective opinion of many is more likely to be accurate than that of one.**\n",
    "#### In Ensemble Technique There are **Two** Technique:\n",
    "#### **i. Bagging**\n",
    "#### **ii. Boosting**"
   ]
  },
  {
   "cell_type": "markdown",
   "id": "2f34ba83-d584-4993-a89b-6f756d26dfaf",
   "metadata": {},
   "source": [
    ">### **Bagging**(Bootstrap Aggregation)\n",
    "#### **Random Forest** is one of the Technique of **Bagging**."
   ]
  },
  {
   "cell_type": "markdown",
   "id": "047d114f-4b8d-454a-9e52-cb797f8db8fa",
   "metadata": {},
   "source": [
    "#### In **Random Forest**, we have an ensemble of **Decision trees.** \n",
    "#### The outcome of each of the models is combined and a prediction is made."
   ]
  },
  {
   "cell_type": "markdown",
   "id": "70dea5f5-8dc7-4a86-8d48-5b240b844aad",
   "metadata": {},
   "source": [
    "#### When we want to classify a new object, **we take the vote of each decision tree and combine the outcome to make a final decision; majority vote wins.**"
   ]
  },
  {
   "cell_type": "markdown",
   "id": "7020ffc1-6cec-49ad-80f3-cbc1ca1374d9",
   "metadata": {},
   "source": [
    "![x](imageNotes/x.png)"
   ]
  },
  {
   "cell_type": "markdown",
   "id": "c5e5322d-5db6-453e-b348-ff58dcefee13",
   "metadata": {},
   "source": [
    ">### **Bootstrap Sampling**\n",
    "#### **Bootstrap sampling is a random sampling technique with replacement steps.**\n",
    "#### **1. Randomly select an observation from the original Dataset.**\n",
    "#### **2. Write it down**\n",
    "#### **3. And put it *back***\n",
    "#### **Now repeat Steps 1, 2, 3 for N number of time(Here N is the number of observation in the original sample)**"
   ]
  },
  {
   "cell_type": "markdown",
   "id": "68b5c5f3-be5c-47ec-9f6e-df82f2350877",
   "metadata": {},
   "source": [
    ">### **Bootstrapping**\n",
    "#### **Bootstrapping** consists of **4 Steps**.\n",
    "#### **1. Make Bootstrap Sampling Dataset.**\n",
    "#### **2. Calculate Something( It may be Mean or Median or Mode)**\n",
    "#### **Keep track of the calculation(End up Making a histogram or some like frequency Table or Like that)**\n",
    "#### **Repeat Steps 1, 2 and 3 a bunch of time**"
   ]
  },
  {
   "cell_type": "markdown",
   "id": "4c6ea93d-d272-41a2-9e1f-96e40db11f19",
   "metadata": {},
   "source": [
    "## **Dimensionality Reduction**"
   ]
  },
  {
   "cell_type": "markdown",
   "id": "44031b27-5c46-4cc5-9129-097f46a875d8",
   "metadata": {},
   "source": [
    "#### In the last years, there has been an exponential increase in the amount of data captured. This means that many machine learning problems involve thousands or even millions of features for each training instance! **This not only makes training extremely slow but makes finding a good solution much harder.** This problem is often referred to as the curse of **dimensionality.** "
   ]
  },
  {
   "cell_type": "markdown",
   "id": "54a61566-af83-49e7-91ae-ae75eec74a02",
   "metadata": {},
   "source": [
    "#### **Dimensionality Reduction** is about assembling specific features into more high-level ones without losing the most important information."
   ]
  },
  {
   "cell_type": "markdown",
   "id": "503e374f-376e-4b67-85d9-3729e18449a5",
   "metadata": {},
   "source": [
    ">#### **Principal Component Analysis (PCA)** is the most popular dimensionality reduction technique. Geometrically speaking, PCA reduces the dimension of a dataset by **squashing it onto a lower-dimensional line, or more generally a hyperplane/subspace,** which retains as much of the original data’s salient characteristics as possible."
   ]
  },
  {
   "cell_type": "markdown",
   "id": "bd63b048-83d1-43c4-a438-6a714055a219",
   "metadata": {},
   "source": [
    "># **Artificial Neural Networks**"
   ]
  },
  {
   "cell_type": "markdown",
   "id": "1e70447a-59e5-4467-91ca-2760955e1a1d",
   "metadata": {},
   "source": [
    "#### As a neural network is a essentially **a set of interconnected layers with weighted edges and nodes called neurons.** Between the input and output layers we can **insert multiple hidden layers.** "
   ]
  },
  {
   "cell_type": "markdown",
   "id": "2583a3a3-de2c-427c-b00f-d8a7a3dbf24a",
   "metadata": {},
   "source": [
    "![neurons](imageNotes/nurons.png)"
   ]
  },
  {
   "cell_type": "markdown",
   "id": "d22a195c-a539-4f5a-8eb6-4ed6ccdafa8f",
   "metadata": {},
   "source": [
    "#### **A set of neurons are mapped out and assigned a random weight which determines how the neurons process new data, images, text, sounds,** etc. The correct relationship between inputs and outputs is learned from training the neural network on input data. Since during the training phase the system gets to see the correct answers, if the network doesn’t accurately identify the input – doesn’t see a face in an image, for example — then the system adjusts the weights. Eventually, after sufficient training, the neural network will consistently recognize the correct patterns in speech, text or images."
   ]
  },
  {
   "cell_type": "markdown",
   "id": "b82faa78-fbc4-437b-8e3e-ebe1bda89631",
   "metadata": {},
   "source": [
    "| Human Neuron | Artificial Neuron |\n",
    "| -------------------------- | ------------------------- |\n",
    "| ![l](imageNotes/l.png) | ![m](imageNotes/m.png) |"
   ]
  },
  {
   "cell_type": "markdown",
   "id": "b7d44c14-9c68-4af2-a6e9-05af09a827df",
   "metadata": {},
   "source": [
    "## **Latent Dirichlet Allocation(LDA)**"
   ]
  },
  {
   "cell_type": "markdown",
   "id": "cf5b3f2e-124a-40cf-a683-0773b84a4ed6",
   "metadata": {},
   "source": [
    "#### Latent Dirichlet Allocation or LDA is an algorithm that is used in **topic modelling.** \n",
    ">### Topic Modelling \n",
    ">#### Topic modeling is an unsupervised machine learning approach that can scan a series of documents, find word and phrase patterns within them, and automatically cluster word groupings and related expressions that best represent the set. "
   ]
  },
  {
   "cell_type": "code",
   "execution_count": null,
   "id": "e7ae19ae-7bc0-4733-a682-9a9b93ec3735",
   "metadata": {},
   "outputs": [],
   "source": []
  }
 ],
 "metadata": {
  "kernelspec": {
   "display_name": "Python 3 (ipykernel)",
   "language": "python",
   "name": "python3"
  },
  "language_info": {
   "codemirror_mode": {
    "name": "ipython",
    "version": 3
   },
   "file_extension": ".py",
   "mimetype": "text/x-python",
   "name": "python",
   "nbconvert_exporter": "python",
   "pygments_lexer": "ipython3",
   "version": "3.10.7"
  }
 },
 "nbformat": 4,
 "nbformat_minor": 5
}
