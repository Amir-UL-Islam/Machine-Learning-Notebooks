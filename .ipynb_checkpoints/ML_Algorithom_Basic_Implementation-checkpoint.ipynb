{
 "cells": [
  {
   "cell_type": "markdown",
   "id": "5d785b17-1299-4b5f-81e5-926865ceafab",
   "metadata": {},
   "source": [
    "## **Classification of Supervised Learning.**"
   ]
  },
  {
   "cell_type": "markdown",
   "id": "2c7b7b36-e140-44db-a67e-2e77351ec4b3",
   "metadata": {},
   "source": [
    "#### Supervised learning problems are categorized into **\"regression\"** and **\"classification\"** problems. In a regression problem, we are trying to **predict results within a continuous output**, meaning that we are trying to map input variables to some continuous function. In a classification problem, we are instead trying to **predict results in a discrete output**. In other words, we are trying to map input variables into discrete categories. "
   ]
  },
  {
   "cell_type": "markdown",
   "id": "a0be4d11-d56a-4687-920d-b1688c5264ba",
   "metadata": {},
   "source": [
    "### **Linear Regression**"
   ]
  },
  {
   "cell_type": "markdown",
   "id": "0c071578-7fd8-4d9b-b8d8-9a1d7dbc29dc",
   "metadata": {},
   "source": [
    "#### **linear regression** attempts to represent the **relationship between one or more independent variables** (points on X axis) and a **numeric outcome or dependent variable** (value on Y axis) by fitting the equation of a line to the data"
   ]
  },
  {
   "cell_type": "markdown",
   "id": "8bc86253-60cd-457a-b643-d71a6296943c",
   "metadata": {},
   "source": [
    "## ```Y = a * X + B```"
   ]
  },
  {
   "cell_type": "code",
   "execution_count": 3,
   "id": "8239ff0c-0648-4244-8836-d5382db4723e",
   "metadata": {},
   "outputs": [
    {
     "data": {
      "image/png": "[encoded data removed]",
      "text/plain": [
       "<Figure size 432x288 with 1 Axes>"
      ]
     },
     "metadata": {},
     "output_type": "display_data"
    }
   ],
   "source": [
    "import pandas as pd\n",
    "import numpy as np\n",
    "import matplotlib.pyplot as plt\n",
    "import seaborn as sns\n",
    "\n",
    "# This makes plots appear in the notebook\n",
    "%matplotlib inline\n",
    "sns.set_theme(style=\"darkgrid\")\n",
    "\n",
    "# getting the data\n",
    "data = pd.read_csv('datasets/SOCR-HeightWeight.csv', nrows=50)\n",
    "\n",
    "# Creating figure\n",
    "fig = plt.figure()\n",
    "ax = fig.add_subplot(1, 1, 1)\n",
    "\n",
    "sns.regplot(x='Height(Inches)', y='Weight(Pounds)', data=data)\n",
    "ax.set_xlabel('Linear Regression')\n",
    "\n",
    "plt.show()"
   ]
  },
  {
   "cell_type": "markdown",
   "id": "a88c1d25-a6fd-454d-a53e-91c54f592fe9",
   "metadata": {},
   "source": [
    "#### This algorithm assumes a strong linear relationship between input and output variables as we would assume that if height increases then weight also increases proportionally in a linear way."
   ]
  },
  {
   "cell_type": "markdown",
   "id": "d85b2379-d56a-474e-a8ee-032682895e8f",
   "metadata": {},
   "source": [
    "![e](imageNotes/e.png)  ![g](imageNotes/g.png)"
   ]
  },
  {
   "cell_type": "markdown",
   "id": "f4d4aca5-137a-4df5-838a-2fb556758e81",
   "metadata": {},
   "source": [
    "#### When we are dealing with only one independent variable, like in the example above, we call it **Simple Linear Regression**. When there are more than one independent variables, (e.g., we want to predict weight using more variables than just the person’s height) then this type of regression is termed as **Multiple Linear Regression**. As shown in the figure below, while finding the line of best fit, we can use a polynomial, or a curved line instead of a straight line; this is called **Polynomial Regression.**"
   ]
  },
  {
   "cell_type": "markdown",
   "id": "4e58ebd8-8472-4c13-a021-e339b34eecff",
   "metadata": {},
   "source": [
    "![f](imageNotes/f.png)"
   ]
  },
  {
   "cell_type": "markdown",
   "id": "c4a63864-fd50-436a-bf17-797551f321d2",
   "metadata": {},
   "source": [
    "#### In linear regression, the observations (red) are assumed to be the result of random deviations (green) from an underlying relationship (blue) between a dependent variable (y) and an independent variable (x). While finding the line of best fit, the goal is to minimize the the distance shown in green -- red points as close as possible to the blue line."
   ]
  },
  {
   "cell_type": "code",
   "execution_count": 4,
   "id": "b2f70128-f784-4dfe-9a17-b031af84cd8b",
   "metadata": {},
   "outputs": [
    {
     "data": {
      "text/html": [
       "<div>\n",
       "<style scoped>\n",
       "    .dataframe tbody tr th:only-of-type {\n",
       "        vertical-align: middle;\n",
       "    }\n",
       "\n",
       "    .dataframe tbody tr th {\n",
       "        vertical-align: top;\n",
       "    }\n",
       "\n",
       "    .dataframe thead th {\n",
       "        text-align: right;\n",
       "    }\n",
       "</style>\n",
       "<table border=\"1\" class=\"dataframe\">\n",
       "  <thead>\n",
       "    <tr style=\"text-align: right;\">\n",
       "      <th></th>\n",
       "      <th>tv</th>\n",
       "      <th>radio</th>\n",
       "      <th>social_media</th>\n",
       "      <th>influencer</th>\n",
       "      <th>sales</th>\n",
       "    </tr>\n",
       "  </thead>\n",
       "  <tbody>\n",
       "    <tr>\n",
       "      <th>0</th>\n",
       "      <td>16000.0</td>\n",
       "      <td>6566.23</td>\n",
       "      <td>2907.98</td>\n",
       "      <td>Mega</td>\n",
       "      <td>54732.76</td>\n",
       "    </tr>\n",
       "    <tr>\n",
       "      <th>1</th>\n",
       "      <td>13000.0</td>\n",
       "      <td>9237.76</td>\n",
       "      <td>2409.57</td>\n",
       "      <td>Mega</td>\n",
       "      <td>46677.90</td>\n",
       "    </tr>\n",
       "    <tr>\n",
       "      <th>2</th>\n",
       "      <td>41000.0</td>\n",
       "      <td>15886.45</td>\n",
       "      <td>2913.41</td>\n",
       "      <td>Mega</td>\n",
       "      <td>150177.83</td>\n",
       "    </tr>\n",
       "    <tr>\n",
       "      <th>3</th>\n",
       "      <td>83000.0</td>\n",
       "      <td>30020.03</td>\n",
       "      <td>6922.30</td>\n",
       "      <td>Mega</td>\n",
       "      <td>298246.34</td>\n",
       "    </tr>\n",
       "    <tr>\n",
       "      <th>4</th>\n",
       "      <td>15000.0</td>\n",
       "      <td>8437.41</td>\n",
       "      <td>1406.00</td>\n",
       "      <td>Micro</td>\n",
       "      <td>56594.18</td>\n",
       "    </tr>\n",
       "  </tbody>\n",
       "</table>\n",
       "</div>"
      ],
      "text/plain": [
       "        tv     radio  social_media influencer      sales\n",
       "0  16000.0   6566.23       2907.98       Mega   54732.76\n",
       "1  13000.0   9237.76       2409.57       Mega   46677.90\n",
       "2  41000.0  15886.45       2913.41       Mega  150177.83\n",
       "3  83000.0  30020.03       6922.30       Mega  298246.34\n",
       "4  15000.0   8437.41       1406.00      Micro   56594.18"
      ]
     },
     "execution_count": 4,
     "metadata": {},
     "output_type": "execute_result"
    }
   ],
   "source": [
    "# Reading the Data\n",
    "sales = pd.read_csv('datasets/advertising_and_sales_clean.csv')\n",
    "sales.head()"
   ]
  },
  {
   "cell_type": "code",
   "execution_count": 5,
   "id": "4aae529c-be6c-4828-874e-0cb71d51ff2c",
   "metadata": {},
   "outputs": [
    {
     "name": "stdout",
     "output_type": "stream",
     "text": [
      "<class 'pandas.core.frame.DataFrame'>\n",
      "RangeIndex: 4546 entries, 0 to 4545\n",
      "Data columns (total 5 columns):\n",
      " #   Column        Non-Null Count  Dtype  \n",
      "---  ------        --------------  -----  \n",
      " 0   tv            4546 non-null   float64\n",
      " 1   radio         4546 non-null   float64\n",
      " 2   social_media  4546 non-null   float64\n",
      " 3   influencer    4546 non-null   object \n",
      " 4   sales         4546 non-null   float64\n",
      "dtypes: float64(4), object(1)\n",
      "memory usage: 177.7+ KB\n"
     ]
    }
   ],
   "source": [
    "sales.info()"
   ]
  },
  {
   "cell_type": "code",
   "execution_count": 6,
   "id": "1ac441bd-3707-4094-8d85-adf865244911",
   "metadata": {},
   "outputs": [
    {
     "data": {
      "text/html": [
       "<div>\n",
       "<style scoped>\n",
       "    .dataframe tbody tr th:only-of-type {\n",
       "        vertical-align: middle;\n",
       "    }\n",
       "\n",
       "    .dataframe tbody tr th {\n",
       "        vertical-align: top;\n",
       "    }\n",
       "\n",
       "    .dataframe thead th {\n",
       "        text-align: right;\n",
       "    }\n",
       "</style>\n",
       "<table border=\"1\" class=\"dataframe\">\n",
       "  <thead>\n",
       "    <tr style=\"text-align: right;\">\n",
       "      <th></th>\n",
       "      <th>tv</th>\n",
       "      <th>radio</th>\n",
       "      <th>social_media</th>\n",
       "      <th>sales</th>\n",
       "    </tr>\n",
       "  </thead>\n",
       "  <tbody>\n",
       "    <tr>\n",
       "      <th>count</th>\n",
       "      <td>4546.000000</td>\n",
       "      <td>4546.000000</td>\n",
       "      <td>4546.000000</td>\n",
       "      <td>4546.000000</td>\n",
       "    </tr>\n",
       "    <tr>\n",
       "      <th>mean</th>\n",
       "      <td>54062.912451</td>\n",
       "      <td>18157.533110</td>\n",
       "      <td>3323.472829</td>\n",
       "      <td>192413.332112</td>\n",
       "    </tr>\n",
       "    <tr>\n",
       "      <th>std</th>\n",
       "      <td>26104.941838</td>\n",
       "      <td>9663.259642</td>\n",
       "      <td>2211.253915</td>\n",
       "      <td>93019.873216</td>\n",
       "    </tr>\n",
       "    <tr>\n",
       "      <th>min</th>\n",
       "      <td>10000.000000</td>\n",
       "      <td>0.680000</td>\n",
       "      <td>0.030000</td>\n",
       "      <td>31199.410000</td>\n",
       "    </tr>\n",
       "    <tr>\n",
       "      <th>25%</th>\n",
       "      <td>32000.000000</td>\n",
       "      <td>10555.355000</td>\n",
       "      <td>1530.822500</td>\n",
       "      <td>112434.610000</td>\n",
       "    </tr>\n",
       "    <tr>\n",
       "      <th>50%</th>\n",
       "      <td>53000.000000</td>\n",
       "      <td>17859.515000</td>\n",
       "      <td>3055.565000</td>\n",
       "      <td>188963.680000</td>\n",
       "    </tr>\n",
       "    <tr>\n",
       "      <th>75%</th>\n",
       "      <td>77000.000000</td>\n",
       "      <td>25640.605000</td>\n",
       "      <td>4804.922500</td>\n",
       "      <td>272324.240000</td>\n",
       "    </tr>\n",
       "    <tr>\n",
       "      <th>max</th>\n",
       "      <td>100000.000000</td>\n",
       "      <td>48871.160000</td>\n",
       "      <td>13981.660000</td>\n",
       "      <td>364079.750000</td>\n",
       "    </tr>\n",
       "  </tbody>\n",
       "</table>\n",
       "</div>"
      ],
      "text/plain": [
       "                  tv         radio  social_media          sales\n",
       "count    4546.000000   4546.000000   4546.000000    4546.000000\n",
       "mean    54062.912451  18157.533110   3323.472829  192413.332112\n",
       "std     26104.941838   9663.259642   2211.253915   93019.873216\n",
       "min     10000.000000      0.680000      0.030000   31199.410000\n",
       "25%     32000.000000  10555.355000   1530.822500  112434.610000\n",
       "50%     53000.000000  17859.515000   3055.565000  188963.680000\n",
       "75%     77000.000000  25640.605000   4804.922500  272324.240000\n",
       "max    100000.000000  48871.160000  13981.660000  364079.750000"
      ]
     },
     "execution_count": 6,
     "metadata": {},
     "output_type": "execute_result"
    }
   ],
   "source": [
    "sales.describe()"
   ]
  },
  {
   "cell_type": "code",
   "execution_count": 7,
   "id": "dedefc11-eec4-4744-997b-c1568b792b10",
   "metadata": {},
   "outputs": [
    {
     "name": "stdout",
     "output_type": "stream",
     "text": [
      "(4546, 1) (4546,)\n"
     ]
    }
   ],
   "source": [
    "import numpy as np\n",
    "\n",
    "# Create X from the radio column's values\n",
    "X = np.array(sales['radio'])\n",
    "# print(X.shape)\n",
    "\n",
    "# Create y from the sales column's values\n",
    "y = np.array(sales['sales'])\n",
    "\n",
    "# Reshape X\n",
    "X = X.reshape(-1, 1)\n",
    "# print(X.shape)\n",
    "\n",
    "# # Check the shape of the features and targets\n",
    "print(X.shape, y.shape)"
   ]
  },
  {
   "cell_type": "code",
   "execution_count": 8,
   "id": "2170af98-760b-4e90-a049-9192d3c3787b",
   "metadata": {},
   "outputs": [
    {
     "name": "stdout",
     "output_type": "stream",
     "text": [
      "[ 95491.17119147 117829.51038393 173423.38071499 291603.11444202\n",
      " 111137.28167129]\n"
     ]
    }
   ],
   "source": [
    "# Import LinearRegression\n",
    "from sklearn.linear_model import LinearRegression\n",
    "\n",
    "# Create the model\n",
    "reg = LinearRegression()\n",
    "\n",
    "# Fit the model to the data\n",
    "reg.fit(X, y)\n",
    "\n",
    "# Make predictions\n",
    "predictions = reg.predict(X)\n",
    "\n",
    "print(predictions[:5])"
   ]
  },
  {
   "cell_type": "code",
   "execution_count": 9,
   "id": "98768c68-6337-442e-99bd-000423d5dafe",
   "metadata": {},
   "outputs": [
    {
     "data": {
      "image/png": "[encoded data removed]",
      "text/plain": [
       "<Figure size 432x288 with 1 Axes>"
      ]
     },
     "metadata": {},
     "output_type": "display_data"
    }
   ],
   "source": [
    "# Import matplotlib.pyplot\n",
    "import matplotlib.pyplot as plt\n",
    "\n",
    "# Create scatter plot\n",
    "plt.scatter(X, y, color=\"blue\")\n",
    "\n",
    "# Create line plot\n",
    "plt.plot(X, predictions, color=\"red\")\n",
    "plt.xlabel(\"Radio Expenditure ($)\")\n",
    "plt.ylabel(\"Sales ($)\")\n",
    "\n",
    "# Display the plot\n",
    "plt.show()"
   ]
  },
  {
   "cell_type": "code",
   "execution_count": 17,
   "id": "da8e2709-918b-4015-8620-1a3050e2d494",
   "metadata": {},
   "outputs": [
    {
     "ename": "ValueError",
     "evalue": "could not convert string to float: 'Macro'",
     "output_type": "error",
     "traceback": [
      "\u001b[0;31m---------------------------------------------------------------------------\u001b[0m",
      "\u001b[0;31mValueError\u001b[0m                                Traceback (most recent call last)",
      "\u001b[0;32m/tmp/ipykernel_4143/4001096179.py\u001b[0m in \u001b[0;36m<cell line: 15>\u001b[0;34m()\u001b[0m\n\u001b[1;32m     13\u001b[0m \u001b[0;34m\u001b[0m\u001b[0m\n\u001b[1;32m     14\u001b[0m \u001b[0;31m# Fit the model to the data\u001b[0m\u001b[0;34m\u001b[0m\u001b[0;34m\u001b[0m\u001b[0m\n\u001b[0;32m---> 15\u001b[0;31m \u001b[0mreg\u001b[0m\u001b[0;34m.\u001b[0m\u001b[0mfit\u001b[0m\u001b[0;34m(\u001b[0m\u001b[0mX_train\u001b[0m\u001b[0;34m,\u001b[0m \u001b[0my_train\u001b[0m\u001b[0;34m)\u001b[0m\u001b[0;34m\u001b[0m\u001b[0;34m\u001b[0m\u001b[0m\n\u001b[0m\u001b[1;32m     16\u001b[0m \u001b[0;34m\u001b[0m\u001b[0m\n\u001b[1;32m     17\u001b[0m \u001b[0;31m# Make predictions\u001b[0m\u001b[0;34m\u001b[0m\u001b[0;34m\u001b[0m\u001b[0m\n",
      "\u001b[0;32m~/.local/lib/python3.10/site-packages/sklearn/linear_model/_base.py\u001b[0m in \u001b[0;36mfit\u001b[0;34m(self, X, y, sample_weight)\u001b[0m\n\u001b[1;32m    660\u001b[0m         \u001b[0maccept_sparse\u001b[0m \u001b[0;34m=\u001b[0m \u001b[0;32mFalse\u001b[0m \u001b[0;32mif\u001b[0m \u001b[0mself\u001b[0m\u001b[0;34m.\u001b[0m\u001b[0mpositive\u001b[0m \u001b[0;32melse\u001b[0m \u001b[0;34m[\u001b[0m\u001b[0;34m\"csr\"\u001b[0m\u001b[0;34m,\u001b[0m \u001b[0;34m\"csc\"\u001b[0m\u001b[0;34m,\u001b[0m \u001b[0;34m\"coo\"\u001b[0m\u001b[0;34m]\u001b[0m\u001b[0;34m\u001b[0m\u001b[0;34m\u001b[0m\u001b[0m\n\u001b[1;32m    661\u001b[0m \u001b[0;34m\u001b[0m\u001b[0m\n\u001b[0;32m--> 662\u001b[0;31m         X, y = self._validate_data(\n\u001b[0m\u001b[1;32m    663\u001b[0m             \u001b[0mX\u001b[0m\u001b[0;34m,\u001b[0m \u001b[0my\u001b[0m\u001b[0;34m,\u001b[0m \u001b[0maccept_sparse\u001b[0m\u001b[0;34m=\u001b[0m\u001b[0maccept_sparse\u001b[0m\u001b[0;34m,\u001b[0m \u001b[0my_numeric\u001b[0m\u001b[0;34m=\u001b[0m\u001b[0;32mTrue\u001b[0m\u001b[0;34m,\u001b[0m \u001b[0mmulti_output\u001b[0m\u001b[0;34m=\u001b[0m\u001b[0;32mTrue\u001b[0m\u001b[0;34m\u001b[0m\u001b[0;34m\u001b[0m\u001b[0m\n\u001b[1;32m    664\u001b[0m         )\n",
      "\u001b[0;32m~/.local/lib/python3.10/site-packages/sklearn/base.py\u001b[0m in \u001b[0;36m_validate_data\u001b[0;34m(self, X, y, reset, validate_separately, **check_params)\u001b[0m\n\u001b[1;32m    579\u001b[0m                 \u001b[0my\u001b[0m \u001b[0;34m=\u001b[0m \u001b[0mcheck_array\u001b[0m\u001b[0;34m(\u001b[0m\u001b[0my\u001b[0m\u001b[0;34m,\u001b[0m \u001b[0;34m**\u001b[0m\u001b[0mcheck_y_params\u001b[0m\u001b[0;34m)\u001b[0m\u001b[0;34m\u001b[0m\u001b[0;34m\u001b[0m\u001b[0m\n\u001b[1;32m    580\u001b[0m             \u001b[0;32melse\u001b[0m\u001b[0;34m:\u001b[0m\u001b[0;34m\u001b[0m\u001b[0;34m\u001b[0m\u001b[0m\n\u001b[0;32m--> 581\u001b[0;31m                 \u001b[0mX\u001b[0m\u001b[0;34m,\u001b[0m \u001b[0my\u001b[0m \u001b[0;34m=\u001b[0m \u001b[0mcheck_X_y\u001b[0m\u001b[0;34m(\u001b[0m\u001b[0mX\u001b[0m\u001b[0;34m,\u001b[0m \u001b[0my\u001b[0m\u001b[0;34m,\u001b[0m \u001b[0;34m**\u001b[0m\u001b[0mcheck_params\u001b[0m\u001b[0;34m)\u001b[0m\u001b[0;34m\u001b[0m\u001b[0;34m\u001b[0m\u001b[0m\n\u001b[0m\u001b[1;32m    582\u001b[0m             \u001b[0mout\u001b[0m \u001b[0;34m=\u001b[0m \u001b[0mX\u001b[0m\u001b[0;34m,\u001b[0m \u001b[0my\u001b[0m\u001b[0;34m\u001b[0m\u001b[0;34m\u001b[0m\u001b[0m\n\u001b[1;32m    583\u001b[0m \u001b[0;34m\u001b[0m\u001b[0m\n",
      "\u001b[0;32m~/.local/lib/python3.10/site-packages/sklearn/utils/validation.py\u001b[0m in \u001b[0;36mcheck_X_y\u001b[0;34m(X, y, accept_sparse, accept_large_sparse, dtype, order, copy, force_all_finite, ensure_2d, allow_nd, multi_output, ensure_min_samples, ensure_min_features, y_numeric, estimator)\u001b[0m\n\u001b[1;32m    962\u001b[0m         \u001b[0;32mraise\u001b[0m \u001b[0mValueError\u001b[0m\u001b[0;34m(\u001b[0m\u001b[0;34m\"y cannot be None\"\u001b[0m\u001b[0;34m)\u001b[0m\u001b[0;34m\u001b[0m\u001b[0;34m\u001b[0m\u001b[0m\n\u001b[1;32m    963\u001b[0m \u001b[0;34m\u001b[0m\u001b[0m\n\u001b[0;32m--> 964\u001b[0;31m     X = check_array(\n\u001b[0m\u001b[1;32m    965\u001b[0m         \u001b[0mX\u001b[0m\u001b[0;34m,\u001b[0m\u001b[0;34m\u001b[0m\u001b[0;34m\u001b[0m\u001b[0m\n\u001b[1;32m    966\u001b[0m         \u001b[0maccept_sparse\u001b[0m\u001b[0;34m=\u001b[0m\u001b[0maccept_sparse\u001b[0m\u001b[0;34m,\u001b[0m\u001b[0;34m\u001b[0m\u001b[0;34m\u001b[0m\u001b[0m\n",
      "\u001b[0;32m~/.local/lib/python3.10/site-packages/sklearn/utils/validation.py\u001b[0m in \u001b[0;36mcheck_array\u001b[0;34m(array, accept_sparse, accept_large_sparse, dtype, order, copy, force_all_finite, ensure_2d, allow_nd, ensure_min_samples, ensure_min_features, estimator)\u001b[0m\n\u001b[1;32m    744\u001b[0m                     \u001b[0marray\u001b[0m \u001b[0;34m=\u001b[0m \u001b[0marray\u001b[0m\u001b[0;34m.\u001b[0m\u001b[0mastype\u001b[0m\u001b[0;34m(\u001b[0m\u001b[0mdtype\u001b[0m\u001b[0;34m,\u001b[0m \u001b[0mcasting\u001b[0m\u001b[0;34m=\u001b[0m\u001b[0;34m\"unsafe\"\u001b[0m\u001b[0;34m,\u001b[0m \u001b[0mcopy\u001b[0m\u001b[0;34m=\u001b[0m\u001b[0;32mFalse\u001b[0m\u001b[0;34m)\u001b[0m\u001b[0;34m\u001b[0m\u001b[0;34m\u001b[0m\u001b[0m\n\u001b[1;32m    745\u001b[0m                 \u001b[0;32melse\u001b[0m\u001b[0;34m:\u001b[0m\u001b[0;34m\u001b[0m\u001b[0;34m\u001b[0m\u001b[0m\n\u001b[0;32m--> 746\u001b[0;31m                     \u001b[0marray\u001b[0m \u001b[0;34m=\u001b[0m \u001b[0mnp\u001b[0m\u001b[0;34m.\u001b[0m\u001b[0masarray\u001b[0m\u001b[0;34m(\u001b[0m\u001b[0marray\u001b[0m\u001b[0;34m,\u001b[0m \u001b[0morder\u001b[0m\u001b[0;34m=\u001b[0m\u001b[0morder\u001b[0m\u001b[0;34m,\u001b[0m \u001b[0mdtype\u001b[0m\u001b[0;34m=\u001b[0m\u001b[0mdtype\u001b[0m\u001b[0;34m)\u001b[0m\u001b[0;34m\u001b[0m\u001b[0;34m\u001b[0m\u001b[0m\n\u001b[0m\u001b[1;32m    747\u001b[0m             \u001b[0;32mexcept\u001b[0m \u001b[0mComplexWarning\u001b[0m \u001b[0;32mas\u001b[0m \u001b[0mcomplex_warning\u001b[0m\u001b[0;34m:\u001b[0m\u001b[0;34m\u001b[0m\u001b[0;34m\u001b[0m\u001b[0m\n\u001b[1;32m    748\u001b[0m                 raise ValueError(\n",
      "\u001b[0;31mValueError\u001b[0m: could not convert string to float: 'Macro'"
     ]
    }
   ],
   "source": [
    "# import library\n",
    "from sklearn.model_selection import train_test_split\n",
    "\n",
    "# Create X and y arrays\n",
    "X = sales.drop(\"sales\", axis=1).values\n",
    "y = sales[\"sales\"].values\n",
    "\n",
    "\n",
    "X_train, X_test, y_train, y_test = train_test_split(X, y, test_size=0.3, random_state=42)\n",
    "\n",
    "# Instantiate the model\n",
    "reg = LinearRegression()\n",
    "\n",
    "# Fit the model to the data\n",
    "reg.fit(X_train, y_train)\n",
    "\n",
    "# Make predictions\n",
    "y_pred = reg.predict(X_test)\n",
    "print(\"Predictions: {}, Actual Values: {}\".format(y_pred[:2], y_test[:2]))"
   ]
  },
  {
   "cell_type": "markdown",
   "id": "0db24038-7f08-4a87-9e74-36f4086298df",
   "metadata": {},
   "source": [
    "### **Logistic Regression**"
   ]
  },
  {
   "cell_type": "markdown",
   "id": "f03a8b49-3582-44ac-997c-0b57abd41e7e",
   "metadata": {},
   "source": [
    "#### Logistic regression has the same main idea as linear regression. The difference is that this technique is used when the **output or dependent variable is binary** meaning the **outcome can have only two possible values.** For example, let’s say that we want to **predict if age influences the probability of having a heart attack**. In this case, our prediction is only a **“yes” or “no”,** only two possible values."
   ]
  },
  {
   "cell_type": "code",
   "execution_count": 2,
   "id": "3a60a084-3302-4861-ad03-2a8a3903dd98",
   "metadata": {},
   "outputs": [
    {
     "data": {
      "image/png": "[encoded data removed]",
      "text/plain": [
       "<Figure size 432x288 with 1 Axes>"
      ]
     },
     "metadata": {},
     "output_type": "display_data"
    }
   ],
   "source": [
    "# Getting the data\n",
    "data = pd.read_csv('datasets/heart.csv')\n",
    "\n",
    "# Setting figure\n",
    "fig = plt.figure()\n",
    "ax = fig.add_subplot(1, 1, 1)\n",
    "\n",
    "# Ploting the data\n",
    "plt.plot(sorted(data['Age']))\n",
    "plt.show()"
   ]
  },
  {
   "cell_type": "markdown",
   "id": "3cb8bd95-52d1-4f98-abe1-1cf5db9e841b",
   "metadata": {},
   "source": [
    "#### In logistic regression, the line of best fit is not a straight line anymore. The prediction for the final output is transformed using a **non-linear S-shaped function called the logistic function, g().**"
   ]
  },
  {
   "cell_type": "markdown",
   "id": "995c04fe-5c71-4cbc-94b1-440af12d5578",
   "metadata": {},
   "source": [
    "### **Decision Trees**"
   ]
  },
  {
   "cell_type": "markdown",
   "id": "8b7fbf24-b69b-4f56-b62c-cc1f1b992198",
   "metadata": {},
   "source": [
    "#### Decision Trees also belong to the category of **supervised learning algorithms**, but they can be used for solving both **regression and classification** tasks."
   ]
  },
  {
   "cell_type": "markdown",
   "id": "d0b98bd0-ada7-49f3-9f43-6cf31958abc3",
   "metadata": {},
   "source": [
    "#### In this algorithm, the training model learns to predict values of the target variable by learning decision rules with a tree representation. "
   ]
  },
  {
   "cell_type": "markdown",
   "id": "4c7dcea6-de98-4cac-8dc6-870f45f2fdb9",
   "metadata": {},
   "source": [
    "#### A tree is made up of **nodes corresponding to a feature or attribute**. At each node we ask a question about the data based on the available features, e.g., **Is it raining or not raining?**. **The left and right branches represent the possible answers. The final nodes, leaf nodes, correspond to a class label/predicted value**. The importance for each feature is determined in a top-down approach — the higher the node, the more important its attribute/feature. \n",
    "\n",
    "#### Say we want to predict whether or not we should wait for a table at a restaurant. "
   ]
  },
  {
   "cell_type": "markdown",
   "id": "6a02b279-7878-4195-8c7b-ff1cf6e2dcb5",
   "metadata": {},
   "source": [
    "![h](imageNotes/h.png)"
   ]
  },
  {
   "cell_type": "markdown",
   "id": "761862a2-03a7-4053-b63a-2416ec5d358c",
   "metadata": {},
   "source": [
    "### In this example, our attributes are:\n",
    "\n",
    "1. **Alternate:** alternative restaurant nearby\n",
    "2. **Bar:** bar area to wait\n",
    "3. **Fri/Sat:** true on Fridays and Saturdays\n",
    "4. **Hungry:** whether we are hungry\n",
    "5. **Patrons:** how many people in restaurant (none, some, or full)\n",
    "6. **Raining:** raining outside\n",
    "7. **Wait-Estimate:** estimated waiting time (<10,10-30,30-60,>60)"
   ]
  },
  {
   "cell_type": "markdown",
   "id": "6ebf0196-2725-4a81-be73-04b8caa51043",
   "metadata": {},
   "source": [
    "#### Our data instances are then classified into **“wait” or “leave”** based on the attributes listed above. From the visual representation of the decision tree, we can see that **“wait-estimate”** is **more important** than **“raining”** because it is present at a relatively higher node in the tree."
   ]
  },
  {
   "cell_type": "markdown",
   "id": "675a45ef-df0e-42c5-9685-ff4ed8258334",
   "metadata": {},
   "source": [
    "### **Naive Bayes**"
   ]
  },
  {
   "cell_type": "markdown",
   "id": "ce7aec25-252e-4a31-93ef-61f52b4de122",
   "metadata": {},
   "source": [
    "#### Naive Bayes classifiers are actually a popular statistical technique of **spam e-mail filtering.** \n",
    "#### It works by correlating the use of tokens typically words, with spam and non-spam e-mails and then using Bayes’ theorem to calculate a probability that an email is spam or not."
   ]
  },
  {
   "cell_type": "markdown",
   "id": "dcc04f89-ca11-4730-9e55-455b837564d9",
   "metadata": {},
   "source": [
    "#### **Conditional Probability**"
   ]
  },
  {
   "cell_type": "markdown",
   "id": "da5aa863-6d5e-4e5f-88e1-90c5d1984915",
   "metadata": {},
   "source": [
    "#### **P(A|B)** Event **A** will occur if given that event **B** has already occurred.\n",
    "#### **In other word How much A in B divided by B**\n",
    "#### Say we have a training data set with weather **conditions ,x** , and the corresponding target variable **“Played”, c**. We can use this to obtain the probability of **“Players will play if it is rainy”, P(c|x)**. "
   ]
  },
  {
   "cell_type": "markdown",
   "id": "b5d17925-ad6a-48b3-a1e7-d829071bc317",
   "metadata": {},
   "source": [
    "#### **Bayes' Theorem**"
   ]
  },
  {
   "cell_type": "markdown",
   "id": "da750377-d60c-4898-9ae7-732b3170f83d",
   "metadata": {},
   "source": [
    "![n](imageNotes/n.png)"
   ]
  },
  {
   "cell_type": "markdown",
   "id": "acba4dc3-e2c6-4f9e-8dcc-63d4f18ea7b2",
   "metadata": {},
   "source": [
    "#### It is called naive because the **classifier assumes that the input variables are independent of each other**, quite a strong and unrealistic assumption for real data!"
   ]
  },
  {
   "cell_type": "markdown",
   "id": "e6f6a10f-6e14-49e2-896b-1677863bcb77",
   "metadata": {},
   "source": [
    "#### To put it simply, the model is composed of two types of probabilities:\n",
    "1. The probability of each class;\n",
    "2. The conditional probability for each class given each value of x\n"
   ]
  },
  {
   "cell_type": "markdown",
   "id": "e499d983-3b8f-4905-9b2b-3cbb264e7679",
   "metadata": {},
   "source": [
    "#### Say we have a training data set with weather **conditions ,x** , and the corresponding target variable **“Played”, c**. We can use this to obtain the probability of **“Players will play if it is rainy”, P(c|x)**. \n",
    "#### Note that even if the answer is a numerical value ranging from 0 to 1, this is an example of a classification problem — we can use the probabilities to reach a “yes/no” outcome."
   ]
  },
  {
   "cell_type": "markdown",
   "id": "c14b978d-77dd-4d87-a499-0864b18c6607",
   "metadata": {},
   "source": [
    "## **Support Vector Machine (SVM)**"
   ]
  },
  {
   "cell_type": "markdown",
   "id": "af98bebb-01ce-4cbe-82f2-2b26d501289f",
   "metadata": {},
   "source": [
    "#### Support Vector Machines is a supervised algorithm used mainly for classification problems.\n",
    "#### In this algorithm, we plot each data item as a point in n-dimensional space, where n is the number of input features. **For example, with two input variables, we would have a two-dimensional space. Based on these transformations, SVM finds an optimal boundary, called a hyperplane, that best separates the possible outputs by their class label**. In a two-dimensional space, **this hyperplane can be visualized as a line although not necessarily a straight line.** The task of the SVM algorithm is to find the coefficients that provide the best separation of classes by this hyperplane.\n",
    "\n",
    "![j](imageNotes/j.png)\n"
   ]
  },
  {
   "cell_type": "markdown",
   "id": "1b9f9451-717b-4bfb-86f7-9c2ea5168c41",
   "metadata": {},
   "source": [
    "#### The **distance between the hyperplane and the closest class point is called the margin.** The **optimal hyperplane is one that has the largest margin** that classifies points in such a way that the **distance between the closest data point from both classes is maximum.**"
   ]
  },
  {
   "cell_type": "markdown",
   "id": "b0f9f911-fa26-44f2-9d06-c16da5587066",
   "metadata": {},
   "source": [
    "## **K-Nearest Neighbors (KNN)**"
   ]
  },
  {
   "cell_type": "markdown",
   "id": "dcd00bb0-9334-47f9-b981-aef64fa27837",
   "metadata": {},
   "source": [
    "#### It is based on the following idea from real life: **You are the average of the five people you most associate with!**"
   ]
  },
  {
   "cell_type": "markdown",
   "id": "6aa08592-2d0b-496e-a760-c703178fa740",
   "metadata": {},
   "source": [
    "#### **KNN** **classifies an object by searching through the entire training set for the k most similar instances, the k neighbors, and assigning a common output variable to all those k instances.**"
   ]
  },
  {
   "cell_type": "markdown",
   "id": "dc1d9e58-88f7-478c-865d-b982a51b82d4",
   "metadata": {},
   "source": [
    "![k](imageNotes/k.png)"
   ]
  },
  {
   "cell_type": "markdown",
   "id": "ff39d8e2-809b-4857-9c60-30d5fe3ca0a9",
   "metadata": {},
   "source": [
    "#### The figure represents a classification example. The test sample (**green dot**) should be classified either to **blue squares** or to red triangles. If k = 3 (solid line circle) it is assigned to the **red triangles** because there are 2 triangles and only 1 square inside the inner circle. If k = 5 (dashed line circle) it is assigned to the blue squares (3 squares vs. 2 triangles inside the outer circle):"
   ]
  },
  {
   "cell_type": "code",
   "execution_count": 3,
   "id": "7240bdf5-581e-4daf-95f9-1311270983a7",
   "metadata": {},
   "outputs": [
    {
     "name": "stdout",
     "output_type": "stream",
     "text": [
      "<class 'pandas.core.frame.DataFrame'>\n",
      "RangeIndex: 3333 entries, 0 to 3332\n",
      "Data columns (total 20 columns):\n",
      " #   Column                  Non-Null Count  Dtype  \n",
      "---  ------                  --------------  -----  \n",
      " 0   Unnamed: 0              3333 non-null   int64  \n",
      " 1   account_length          3333 non-null   int64  \n",
      " 2   area_code               3333 non-null   int64  \n",
      " 3   international_plan      3333 non-null   int64  \n",
      " 4   voice_mail_plan         3333 non-null   int64  \n",
      " 5   number_vmail_messages   3333 non-null   int64  \n",
      " 6   total_day_minutes       3333 non-null   float64\n",
      " 7   total_day_calls         3333 non-null   int64  \n",
      " 8   total_day_charge        3333 non-null   float64\n",
      " 9   total_eve_minutes       3333 non-null   float64\n",
      " 10  total_eve_calls         3333 non-null   int64  \n",
      " 11  total_eve_charge        3333 non-null   float64\n",
      " 12  total_night_minutes     3333 non-null   float64\n",
      " 13  total_night_calls       3333 non-null   int64  \n",
      " 14  total_night_charge      3333 non-null   float64\n",
      " 15  total_intl_minutes      3333 non-null   float64\n",
      " 16  total_intl_calls        3333 non-null   int64  \n",
      " 17  total_intl_charge       3333 non-null   float64\n",
      " 18  customer_service_calls  3333 non-null   int64  \n",
      " 19  churn                   3333 non-null   int64  \n",
      "dtypes: float64(8), int64(12)\n",
      "memory usage: 520.9 KB\n"
     ]
    }
   ],
   "source": [
    "# Reading the data\n",
    "chunk_df = pd.read_csv('datasets/telecom_churn_clean.csv')\n",
    "chunk_df.info()"
   ]
  },
  {
   "cell_type": "code",
   "execution_count": 4,
   "id": "838b1d6f-f265-4958-9bfa-824c9a0b9022",
   "metadata": {},
   "outputs": [
    {
     "data": {
      "text/html": [
       "<div>\n",
       "<style scoped>\n",
       "    .dataframe tbody tr th:only-of-type {\n",
       "        vertical-align: middle;\n",
       "    }\n",
       "\n",
       "    .dataframe tbody tr th {\n",
       "        vertical-align: top;\n",
       "    }\n",
       "\n",
       "    .dataframe thead th {\n",
       "        text-align: right;\n",
       "    }\n",
       "</style>\n",
       "<table border=\"1\" class=\"dataframe\">\n",
       "  <thead>\n",
       "    <tr style=\"text-align: right;\">\n",
       "      <th></th>\n",
       "      <th>Unnamed: 0</th>\n",
       "      <th>account_length</th>\n",
       "      <th>area_code</th>\n",
       "      <th>international_plan</th>\n",
       "      <th>voice_mail_plan</th>\n",
       "      <th>number_vmail_messages</th>\n",
       "      <th>total_day_minutes</th>\n",
       "      <th>total_day_calls</th>\n",
       "      <th>total_day_charge</th>\n",
       "      <th>total_eve_minutes</th>\n",
       "      <th>total_eve_calls</th>\n",
       "      <th>total_eve_charge</th>\n",
       "      <th>total_night_minutes</th>\n",
       "      <th>total_night_calls</th>\n",
       "      <th>total_night_charge</th>\n",
       "      <th>total_intl_minutes</th>\n",
       "      <th>total_intl_calls</th>\n",
       "      <th>total_intl_charge</th>\n",
       "      <th>customer_service_calls</th>\n",
       "      <th>churn</th>\n",
       "    </tr>\n",
       "  </thead>\n",
       "  <tbody>\n",
       "    <tr>\n",
       "      <th>count</th>\n",
       "      <td>3333.00000</td>\n",
       "      <td>3333.000000</td>\n",
       "      <td>3333.000000</td>\n",
       "      <td>3333.000000</td>\n",
       "      <td>3333.000000</td>\n",
       "      <td>3333.000000</td>\n",
       "      <td>3333.000000</td>\n",
       "      <td>3333.000000</td>\n",
       "      <td>3333.000000</td>\n",
       "      <td>3333.000000</td>\n",
       "      <td>3333.000000</td>\n",
       "      <td>3333.000000</td>\n",
       "      <td>3333.000000</td>\n",
       "      <td>3333.000000</td>\n",
       "      <td>3333.000000</td>\n",
       "      <td>3333.000000</td>\n",
       "      <td>3333.000000</td>\n",
       "      <td>3333.000000</td>\n",
       "      <td>3333.000000</td>\n",
       "      <td>3333.000000</td>\n",
       "    </tr>\n",
       "    <tr>\n",
       "      <th>mean</th>\n",
       "      <td>1666.00000</td>\n",
       "      <td>101.064806</td>\n",
       "      <td>437.182418</td>\n",
       "      <td>0.096910</td>\n",
       "      <td>0.276628</td>\n",
       "      <td>8.099010</td>\n",
       "      <td>179.775098</td>\n",
       "      <td>100.435644</td>\n",
       "      <td>30.562307</td>\n",
       "      <td>200.980348</td>\n",
       "      <td>100.114311</td>\n",
       "      <td>17.083540</td>\n",
       "      <td>200.872037</td>\n",
       "      <td>100.107711</td>\n",
       "      <td>9.039325</td>\n",
       "      <td>10.237294</td>\n",
       "      <td>4.479448</td>\n",
       "      <td>2.764581</td>\n",
       "      <td>1.562856</td>\n",
       "      <td>0.144914</td>\n",
       "    </tr>\n",
       "    <tr>\n",
       "      <th>std</th>\n",
       "      <td>962.29855</td>\n",
       "      <td>39.822106</td>\n",
       "      <td>42.371290</td>\n",
       "      <td>0.295879</td>\n",
       "      <td>0.447398</td>\n",
       "      <td>13.688365</td>\n",
       "      <td>54.467389</td>\n",
       "      <td>20.069084</td>\n",
       "      <td>9.259435</td>\n",
       "      <td>50.713844</td>\n",
       "      <td>19.922625</td>\n",
       "      <td>4.310668</td>\n",
       "      <td>50.573847</td>\n",
       "      <td>19.568609</td>\n",
       "      <td>2.275873</td>\n",
       "      <td>2.791840</td>\n",
       "      <td>2.461214</td>\n",
       "      <td>0.753773</td>\n",
       "      <td>1.315491</td>\n",
       "      <td>0.352067</td>\n",
       "    </tr>\n",
       "    <tr>\n",
       "      <th>min</th>\n",
       "      <td>0.00000</td>\n",
       "      <td>1.000000</td>\n",
       "      <td>408.000000</td>\n",
       "      <td>0.000000</td>\n",
       "      <td>0.000000</td>\n",
       "      <td>0.000000</td>\n",
       "      <td>0.000000</td>\n",
       "      <td>0.000000</td>\n",
       "      <td>0.000000</td>\n",
       "      <td>0.000000</td>\n",
       "      <td>0.000000</td>\n",
       "      <td>0.000000</td>\n",
       "      <td>23.200000</td>\n",
       "      <td>33.000000</td>\n",
       "      <td>1.040000</td>\n",
       "      <td>0.000000</td>\n",
       "      <td>0.000000</td>\n",
       "      <td>0.000000</td>\n",
       "      <td>0.000000</td>\n",
       "      <td>0.000000</td>\n",
       "    </tr>\n",
       "    <tr>\n",
       "      <th>25%</th>\n",
       "      <td>833.00000</td>\n",
       "      <td>74.000000</td>\n",
       "      <td>408.000000</td>\n",
       "      <td>0.000000</td>\n",
       "      <td>0.000000</td>\n",
       "      <td>0.000000</td>\n",
       "      <td>143.700000</td>\n",
       "      <td>87.000000</td>\n",
       "      <td>24.430000</td>\n",
       "      <td>166.600000</td>\n",
       "      <td>87.000000</td>\n",
       "      <td>14.160000</td>\n",
       "      <td>167.000000</td>\n",
       "      <td>87.000000</td>\n",
       "      <td>7.520000</td>\n",
       "      <td>8.500000</td>\n",
       "      <td>3.000000</td>\n",
       "      <td>2.300000</td>\n",
       "      <td>1.000000</td>\n",
       "      <td>0.000000</td>\n",
       "    </tr>\n",
       "    <tr>\n",
       "      <th>50%</th>\n",
       "      <td>1666.00000</td>\n",
       "      <td>101.000000</td>\n",
       "      <td>415.000000</td>\n",
       "      <td>0.000000</td>\n",
       "      <td>0.000000</td>\n",
       "      <td>0.000000</td>\n",
       "      <td>179.400000</td>\n",
       "      <td>101.000000</td>\n",
       "      <td>30.500000</td>\n",
       "      <td>201.400000</td>\n",
       "      <td>100.000000</td>\n",
       "      <td>17.120000</td>\n",
       "      <td>201.200000</td>\n",
       "      <td>100.000000</td>\n",
       "      <td>9.050000</td>\n",
       "      <td>10.300000</td>\n",
       "      <td>4.000000</td>\n",
       "      <td>2.780000</td>\n",
       "      <td>1.000000</td>\n",
       "      <td>0.000000</td>\n",
       "    </tr>\n",
       "    <tr>\n",
       "      <th>75%</th>\n",
       "      <td>2499.00000</td>\n",
       "      <td>127.000000</td>\n",
       "      <td>510.000000</td>\n",
       "      <td>0.000000</td>\n",
       "      <td>1.000000</td>\n",
       "      <td>20.000000</td>\n",
       "      <td>216.400000</td>\n",
       "      <td>114.000000</td>\n",
       "      <td>36.790000</td>\n",
       "      <td>235.300000</td>\n",
       "      <td>114.000000</td>\n",
       "      <td>20.000000</td>\n",
       "      <td>235.300000</td>\n",
       "      <td>113.000000</td>\n",
       "      <td>10.590000</td>\n",
       "      <td>12.100000</td>\n",
       "      <td>6.000000</td>\n",
       "      <td>3.270000</td>\n",
       "      <td>2.000000</td>\n",
       "      <td>0.000000</td>\n",
       "    </tr>\n",
       "    <tr>\n",
       "      <th>max</th>\n",
       "      <td>3332.00000</td>\n",
       "      <td>243.000000</td>\n",
       "      <td>510.000000</td>\n",
       "      <td>1.000000</td>\n",
       "      <td>1.000000</td>\n",
       "      <td>51.000000</td>\n",
       "      <td>350.800000</td>\n",
       "      <td>165.000000</td>\n",
       "      <td>59.640000</td>\n",
       "      <td>363.700000</td>\n",
       "      <td>170.000000</td>\n",
       "      <td>30.910000</td>\n",
       "      <td>395.000000</td>\n",
       "      <td>175.000000</td>\n",
       "      <td>17.770000</td>\n",
       "      <td>20.000000</td>\n",
       "      <td>20.000000</td>\n",
       "      <td>5.400000</td>\n",
       "      <td>9.000000</td>\n",
       "      <td>1.000000</td>\n",
       "    </tr>\n",
       "  </tbody>\n",
       "</table>\n",
       "</div>"
      ],
      "text/plain": [
       "       Unnamed: 0  account_length    area_code  international_plan  \\\n",
       "count  3333.00000     3333.000000  3333.000000         3333.000000   \n",
       "mean   1666.00000      101.064806   437.182418            0.096910   \n",
       "std     962.29855       39.822106    42.371290            0.295879   \n",
       "min       0.00000        1.000000   408.000000            0.000000   \n",
       "25%     833.00000       74.000000   408.000000            0.000000   \n",
       "50%    1666.00000      101.000000   415.000000            0.000000   \n",
       "75%    2499.00000      127.000000   510.000000            0.000000   \n",
       "max    3332.00000      243.000000   510.000000            1.000000   \n",
       "\n",
       "       voice_mail_plan  number_vmail_messages  total_day_minutes  \\\n",
       "count      3333.000000            3333.000000        3333.000000   \n",
       "mean          0.276628               8.099010         179.775098   \n",
       "std           0.447398              13.688365          54.467389   \n",
       "min           0.000000               0.000000           0.000000   \n",
       "25%           0.000000               0.000000         143.700000   \n",
       "50%           0.000000               0.000000         179.400000   \n",
       "75%           1.000000              20.000000         216.400000   \n",
       "max           1.000000              51.000000         350.800000   \n",
       "\n",
       "       total_day_calls  total_day_charge  total_eve_minutes  total_eve_calls  \\\n",
       "count      3333.000000       3333.000000        3333.000000      3333.000000   \n",
       "mean        100.435644         30.562307         200.980348       100.114311   \n",
       "std          20.069084          9.259435          50.713844        19.922625   \n",
       "min           0.000000          0.000000           0.000000         0.000000   \n",
       "25%          87.000000         24.430000         166.600000        87.000000   \n",
       "50%         101.000000         30.500000         201.400000       100.000000   \n",
       "75%         114.000000         36.790000         235.300000       114.000000   \n",
       "max         165.000000         59.640000         363.700000       170.000000   \n",
       "\n",
       "       total_eve_charge  total_night_minutes  total_night_calls  \\\n",
       "count       3333.000000          3333.000000        3333.000000   \n",
       "mean          17.083540           200.872037         100.107711   \n",
       "std            4.310668            50.573847          19.568609   \n",
       "min            0.000000            23.200000          33.000000   \n",
       "25%           14.160000           167.000000          87.000000   \n",
       "50%           17.120000           201.200000         100.000000   \n",
       "75%           20.000000           235.300000         113.000000   \n",
       "max           30.910000           395.000000         175.000000   \n",
       "\n",
       "       total_night_charge  total_intl_minutes  total_intl_calls  \\\n",
       "count         3333.000000         3333.000000       3333.000000   \n",
       "mean             9.039325           10.237294          4.479448   \n",
       "std              2.275873            2.791840          2.461214   \n",
       "min              1.040000            0.000000          0.000000   \n",
       "25%              7.520000            8.500000          3.000000   \n",
       "50%              9.050000           10.300000          4.000000   \n",
       "75%             10.590000           12.100000          6.000000   \n",
       "max             17.770000           20.000000         20.000000   \n",
       "\n",
       "       total_intl_charge  customer_service_calls        churn  \n",
       "count        3333.000000             3333.000000  3333.000000  \n",
       "mean            2.764581                1.562856     0.144914  \n",
       "std             0.753773                1.315491     0.352067  \n",
       "min             0.000000                0.000000     0.000000  \n",
       "25%             2.300000                1.000000     0.000000  \n",
       "50%             2.780000                1.000000     0.000000  \n",
       "75%             3.270000                2.000000     0.000000  \n",
       "max             5.400000                9.000000     1.000000  "
      ]
     },
     "execution_count": 4,
     "metadata": {},
     "output_type": "execute_result"
    }
   ],
   "source": [
    "chunk_df.describe()"
   ]
  },
  {
   "cell_type": "code",
   "execution_count": 5,
   "id": "698c5696-e8dc-43d2-baef-629d3f35b268",
   "metadata": {},
   "outputs": [
    {
     "name": "stdout",
     "output_type": "stream",
     "text": [
      "0.8545727136431784\n"
     ]
    }
   ],
   "source": [
    "# Import KNeighborsClassifier\n",
    "from sklearn.neighbors import KNeighborsClassifier\n",
    "from sklearn.model_selection import train_test_split\n",
    "\n",
    "X = chunk_df.drop(\"churn\", axis=1).values\n",
    "y = chunk_df[\"churn\"].values\n",
    "\n",
    "# Split into training and test sets\n",
    "X_train, X_test, y_train, y_test = train_test_split(X, y, test_size=0.2, random_state=42, stratify=y)\n",
    "knn = KNeighborsClassifier(n_neighbors=5)\n",
    "\n",
    "# Fit the classifier to the training data\n",
    "knn.fit(X_train, y_train)\n",
    "\n",
    "# Print the accuracy\n",
    "print(knn.score(X_test, y_test))"
   ]
  },
  {
   "cell_type": "code",
   "execution_count": 13,
   "id": "c6026d30-1d5a-4bee-bc3a-7e9ded1001ef",
   "metadata": {},
   "outputs": [
    {
     "name": "stdout",
     "output_type": "stream",
     "text": [
      "n_neighbors:  [ 1  2  3  4  5  6  7  8  9 10 11 12] \n",
      "\n",
      "train_accuracies:  {1: 1.0, 2: 0.8885971492873218, 3: 0.8994748687171793, 4: 0.8750937734433608, 5: 0.878469617404351, 6: 0.8660915228807202, 7: 0.8705926481620405, 8: 0.8615903975993998, 9: 0.86384096024006, 10: 0.858589647411853, 11: 0.8604651162790697, 12: 0.8574643660915229} \n",
      "\n",
      "test_accuracies:  {1: 0.7856071964017991, 2: 0.8470764617691154, 3: 0.8320839580209896, 4: 0.856071964017991, 5: 0.8545727136431784, 6: 0.8590704647676162, 7: 0.8605697151424287, 8: 0.8620689655172413, 9: 0.863568215892054, 10: 0.8605697151424287, 11: 0.8605697151424287, 12: 0.8605697151424287}\n"
     ]
    }
   ],
   "source": [
    "# Create neighbors\n",
    "neighbors = np.arange(1, 13)\n",
    "train_accuracies = {}\n",
    "test_accuracies = {}\n",
    "\n",
    "for neighbor in neighbors:\n",
    "  \n",
    "    # Set up a KNN Classifier\n",
    "    knn = KNeighborsClassifier(n_neighbors=neighbor)\n",
    "  \n",
    "    # Fit the model\n",
    "    knn.fit(X_train, y_train)\n",
    "  \n",
    "    # Compute accuracy\n",
    "    train_accuracies[neighbor] = knn.score(X_train, y_train)\n",
    "    test_accuracies[neighbor] = knn.score(X_test, y_test)\n",
    "    \n",
    "print('n_neighbors: ', neighbors, '\\n')\n",
    "print('train_accuracies: ', train_accuracies, '\\n')\n",
    "print('test_accuracies: ', test_accuracies)"
   ]
  },
  {
   "cell_type": "code",
   "execution_count": 14,
   "id": "2450b79f-202c-46be-ac40-e61187b311ac",
   "metadata": {},
   "outputs": [
    {
     "data": {
      "image/png": "[encoded data removed]",
      "text/plain": [
       "<Figure size 432x288 with 1 Axes>"
      ]
     },
     "metadata": {},
     "output_type": "display_data"
    }
   ],
   "source": [
    "# Add a title\n",
    "plt.title(\"KNN: Varying Number of Neighbors\")\n",
    "\n",
    "# Plot training accuracies\n",
    "plt.plot(neighbors, train_accuracies.values(), label=\"Training Accuracy\")\n",
    "\n",
    "# Plot test accuracies\n",
    "plt.plot(neighbors, test_accuracies.values(), label=\"Testing Accuracy\")\n",
    "\n",
    "plt.legend()\n",
    "plt.xlabel(\"Number of Neighbors\")\n",
    "plt.ylabel(\"Accuracy\")\n",
    "\n",
    "# Display the plot\n",
    "plt.show()"
   ]
  },
  {
   "cell_type": "code",
   "execution_count": null,
   "id": "bc8aa6d5-15eb-46f9-88b8-ffb131f7146a",
   "metadata": {},
   "outputs": [],
   "source": []
  },
  {
   "cell_type": "code",
   "execution_count": null,
   "id": "acd5c061-8cd9-4db7-a42c-042eb0f25251",
   "metadata": {},
   "outputs": [],
   "source": []
  },
  {
   "cell_type": "markdown",
   "id": "400b10c1-696c-4ce7-99b9-58ecfd627f42",
   "metadata": {},
   "source": [
    "## **K-Means**"
   ]
  },
  {
   "cell_type": "markdown",
   "id": "67cfe01c-b663-4c5b-83d3-d978b289dc24",
   "metadata": {},
   "source": [
    "#### **K-means** is a type of unsupervised algorithm for data clustering. It follows a simple procedure to classify a given data set.\n",
    "#### It tries to **find K number of clusters or groups** in the dataset. Since we are dealing with **unsupervised learning**, all we have is our training data X and the number of clusters, K, that we want to identify, but no labelled training instances. "
   ]
  },
  {
   "cell_type": "markdown",
   "id": "b3a41700-4da4-4de4-b017-2c37284e3ce4",
   "metadata": {},
   "source": [
    "#### For example, K-Means could be used to segment users into K groups based on their ***purchase history.***"
   ]
  },
  {
   "cell_type": "markdown",
   "id": "de950a19-5a78-4fac-96ae-0e5cb916ad59",
   "metadata": {},
   "source": [
    "![z](imageNotes/z.png)"
   ]
  },
  {
   "cell_type": "markdown",
   "id": "f40d6645-3ad1-4278-95bc-406f79999589",
   "metadata": {},
   "source": [
    "#### The algorithm **interactively assigns each data point to one of the K groups based on their features.**\n",
    "#### Initially, **it picks k points for each of the K-clusters, known as the centroid.**\n",
    "### **Centroid** can be calculated by find the  **Mean of the closest individuals group**\n",
    "#### A new data point is **put into the cluster having the closest centroid** based on feature similarity. As new elements are added to the cluster, the **cluster centroid is re-computed** and **keeps changing**. The new centroid becomes the average location of all the data points currently in the cluster. This process is continued iteratively until the centroids stop changing. At the end, each centroid is a collection of feature values that define the resulting group.\n",
    "\n"
   ]
  },
  {
   "cell_type": "markdown",
   "id": "863f5618-1744-44c1-ba75-71f01bcabab8",
   "metadata": {},
   "source": [
    "#### Continuing with the purchase history example, the **red cluster** might represent users that like to buy **tech gadgets** and the **blue** one might be users interested in buying **sports equipment**.\n",
    "#### Now the algorithm will keep moving the centroid for each user-segment until it is able to create K groups. And it will do so by trying to maximize the separation between groups and users outside of the group."
   ]
  },
  {
   "cell_type": "markdown",
   "id": "272d7d03-cda9-4c20-9308-37a8ab685757",
   "metadata": {},
   "source": [
    "## **Random Forest**"
   ]
  },
  {
   "cell_type": "markdown",
   "id": "c506ce58-7584-46ee-a9a5-eb5f4532773a",
   "metadata": {},
   "source": [
    "#### Random Forest is one of the most popular and powerful machine learning algorithms.\n",
    ">### **Ensemble Algorithm**\n",
    "#### The underline of **Ensemble Technique combining multiple models.**"
   ]
  },
  {
   "cell_type": "markdown",
   "id": "4ef1fd45-674d-4c37-881d-727742ad325f",
   "metadata": {},
   "source": [
    "#### The underlying idea for **ensemble learning** the is **wisdom of crowds**, the idea that the **collective opinion of many is more likely to be accurate than that of one.**\n",
    "#### In Ensemble Technique There are **Two** Technique:\n",
    "#### **i. Bagging**\n",
    "#### **ii. Boosting**"
   ]
  },
  {
   "cell_type": "markdown",
   "id": "2f34ba83-d584-4993-a89b-6f756d26dfaf",
   "metadata": {},
   "source": [
    ">### **Bagging**(Bootstrap Aggregation)\n",
    "#### **Random Forest** is one of the Technique of **Bagging**."
   ]
  },
  {
   "cell_type": "markdown",
   "id": "047d114f-4b8d-454a-9e52-cb797f8db8fa",
   "metadata": {},
   "source": [
    "#### In **Random Forest**, we have an ensemble of **Decision trees.** \n",
    "#### The outcome of each of the models is combined and a prediction is made."
   ]
  },
  {
   "cell_type": "markdown",
   "id": "70dea5f5-8dc7-4a86-8d48-5b240b844aad",
   "metadata": {},
   "source": [
    "#### When we want to classify a new object, **we take the vote of each decision tree and combine the outcome to make a final decision; majority vote wins.**"
   ]
  },
  {
   "cell_type": "markdown",
   "id": "7020ffc1-6cec-49ad-80f3-cbc1ca1374d9",
   "metadata": {},
   "source": [
    "![x](imageNotes/x.png)"
   ]
  },
  {
   "cell_type": "markdown",
   "id": "c5e5322d-5db6-453e-b348-ff58dcefee13",
   "metadata": {},
   "source": [
    ">### **Bootstrap Sampling**\n",
    "#### **Bootstrap sampling is a random sampling technique with replacement steps.**\n",
    "#### **1. Randomly select an observation from the original Dataset.**\n",
    "#### **2. Write it down**\n",
    "#### **3. And put it *back***\n",
    "#### **Now repeat Steps 1, 2, 3 for N number of time(Here N is the number of observation in the original sample)**"
   ]
  },
  {
   "cell_type": "markdown",
   "id": "68b5c5f3-be5c-47ec-9f6e-df82f2350877",
   "metadata": {},
   "source": [
    ">### **Bootstrapping**\n",
    "#### **Bootstrapping** consists of **4 Steps**.\n",
    "#### **1. Make Bootstrap Sampling Dataset.**\n",
    "#### **2. Calculate Something( It may be Mean or Median or Mode)**\n",
    "#### **Keep track of the calculation(End up Making a histogram or some like frequency Table or Like that)**\n",
    "#### **Repeat Steps 1, 2 and 3 a bunch of time**"
   ]
  },
  {
   "cell_type": "markdown",
   "id": "4c6ea93d-d272-41a2-9e1f-96e40db11f19",
   "metadata": {},
   "source": [
    "## **Dimensionality Reduction**"
   ]
  },
  {
   "cell_type": "markdown",
   "id": "44031b27-5c46-4cc5-9129-097f46a875d8",
   "metadata": {},
   "source": [
    "#### In the last years, there has been an exponential increase in the amount of data captured. This means that many machine learning problems involve thousands or even millions of features for each training instance! **This not only makes training extremely slow but makes finding a good solution much harder.** This problem is often referred to as the curse of **dimensionality.** "
   ]
  },
  {
   "cell_type": "markdown",
   "id": "54a61566-af83-49e7-91ae-ae75eec74a02",
   "metadata": {},
   "source": [
    "#### **Dimensionality Reduction** is about assembling specific features into more high-level ones without losing the most important information."
   ]
  },
  {
   "cell_type": "markdown",
   "id": "503e374f-376e-4b67-85d9-3729e18449a5",
   "metadata": {},
   "source": [
    ">#### **Principal Component Analysis (PCA)** is the most popular dimensionality reduction technique. Geometrically speaking, PCA reduces the dimension of a dataset by **squashing it onto a lower-dimensional line, or more generally a hyperplane/subspace,** which retains as much of the original data’s salient characteristics as possible."
   ]
  },
  {
   "cell_type": "markdown",
   "id": "bd63b048-83d1-43c4-a438-6a714055a219",
   "metadata": {},
   "source": [
    "># **Artificial Neural Networks**"
   ]
  },
  {
   "cell_type": "markdown",
   "id": "1e70447a-59e5-4467-91ca-2760955e1a1d",
   "metadata": {},
   "source": [
    "#### As a neural network is a essentially **a set of interconnected layers with weighted edges and nodes called neurons.** Between the input and output layers we can **insert multiple hidden layers.** "
   ]
  },
  {
   "cell_type": "markdown",
   "id": "2583a3a3-de2c-427c-b00f-d8a7a3dbf24a",
   "metadata": {},
   "source": [
    "![neurons](imageNotes/nurons.png)"
   ]
  },
  {
   "cell_type": "markdown",
   "id": "d22a195c-a539-4f5a-8eb6-4ed6ccdafa8f",
   "metadata": {},
   "source": [
    "#### **A set of neurons are mapped out and assigned a random weight which determines how the neurons process new data, images, text, sounds,** etc. The correct relationship between inputs and outputs is learned from training the neural network on input data. Since during the training phase the system gets to see the correct answers, if the network doesn’t accurately identify the input – doesn’t see a face in an image, for example — then the system adjusts the weights. Eventually, after sufficient training, the neural network will consistently recognize the correct patterns in speech, text or images."
   ]
  },
  {
   "cell_type": "markdown",
   "id": "b82faa78-fbc4-437b-8e3e-ebe1bda89631",
   "metadata": {},
   "source": [
    "| Human Neuron | Artificial Neuron |\n",
    "| -------------------------- | ------------------------- |\n",
    "| ![l](imageNotes/l.png) | ![m](imageNotes/m.png) |"
   ]
  },
  {
   "cell_type": "markdown",
   "id": "b7d44c14-9c68-4af2-a6e9-05af09a827df",
   "metadata": {},
   "source": [
    "## **Latent Dirichlet Allocation(LDA)**"
   ]
  },
  {
   "cell_type": "markdown",
   "id": "cf5b3f2e-124a-40cf-a683-0773b84a4ed6",
   "metadata": {},
   "source": [
    "#### Latent Dirichlet Allocation or LDA is an algorithm that is used in **topic modelling.** \n",
    ">### Topic Modelling \n",
    ">#### Topic modeling is an unsupervised machine learning approach that can scan a series of documents, find word and phrase patterns within them, and automatically cluster word groupings and related expressions that best represent the set. "
   ]
  },
  {
   "cell_type": "code",
   "execution_count": null,
   "id": "e7ae19ae-7bc0-4733-a682-9a9b93ec3735",
   "metadata": {},
   "outputs": [],
   "source": []
  }
 ],
 "metadata": {
  "kernelspec": {
   "display_name": "Python 3 (ipykernel)",
   "language": "python",
   "name": "python3"
  },
  "language_info": {
   "codemirror_mode": {
    "name": "ipython",
    "version": 3
   },
   "file_extension": ".py",
   "mimetype": "text/x-python",
   "name": "python",
   "nbconvert_exporter": "python",
   "pygments_lexer": "ipython3",
   "version": "3.10.7"
  }
 },
 "nbformat": 4,
 "nbformat_minor": 5
}
