{
 "cells": [
  {
   "cell_type": "markdown",
   "id": "ab547e53",
   "metadata": {},
   "source": [
    "## Objects"
   ]
  },
  {
   "cell_type": "markdown",
   "id": "e4eaf923",
   "metadata": {},
   "source": [
    "#### Objects are a collection of data and their behaviors. Think about real-world objects around you(light, fan, chare, ect.)."
   ]
  },
  {
   "cell_type": "markdown",
   "id": "24b3cad4",
   "metadata": {},
   "source": [
    "### **But where do these objects come from?**"
   ]
  },
  {
   "cell_type": "markdown",
   "id": "1418b27e",
   "metadata": {},
   "source": [
    "#### The answer to the above question is **classes** **(Here ```class``` can be represented as our day to day needs. Like, why we use light at the same time we use switch to on and off the light.)**"
   ]
  },
  {
   "cell_type": "markdown",
   "id": "3192632d",
   "metadata": {},
   "source": [
    "## Porperties"
   ]
  },
  {
   "cell_type": "markdown",
   "id": "16b15aef",
   "metadata": {},
   "source": [
    "#### Properties are variables that contain information regarding the object of a class. An employee object will have an ID, a salary, and the department as its properties.\n"
   ]
  },
  {
   "cell_type": "markdown",
   "id": "2ec72bed",
   "metadata": {},
   "source": [
    "## Methods"
   ]
  },
  {
   "cell_type": "markdown",
   "id": "e30f201f",
   "metadata": {},
   "source": [
    "#### Methods are like **functions** that have access to properties (and other methods) of a class. Methods can accept parameters and return values. They are used to **perform** an action on an object of a class. In the example above, we have tax() and salaryPerDay() as class methods.\n",
    "#### A method is a group of statements that performs some operations and may or may not return a result."
   ]
  },
  {
   "cell_type": "code",
   "execution_count": 1,
   "id": "7589734a",
   "metadata": {},
   "outputs": [
    {
     "name": "stdout",
     "output_type": "stream",
     "text": [
      "Steve ID is 1020\n",
      "And salary is 2590\n",
      "Department Engineer\n",
      "He is also a Manager\n"
     ]
    }
   ],
   "source": [
    "# Defining the Employee Class\n",
    "class employee:\n",
    "    # defining the properties and assigning with NONE\n",
    "    # properties can not be undifined\n",
    "    Id = None\n",
    "    Salary = None\n",
    "    Department = None\n",
    "    \n",
    "    # There are two ways to assign values to properties of a class.\n",
    "    # 1. Assign values when defining the class.\n",
    "    # 2. Assign values in the main code.\n",
    "\n",
    "\n",
    "# Creating a object name steve\n",
    "steve = employee()\n",
    "  \n",
    "# Assigning the value to the steve's properties. steve an object of employee class.\n",
    "steve.Id = 1020\n",
    "steve.Salary = 2590\n",
    "steve.Department = 'Engineer'\n",
    "\n",
    "# Creating a new propertey and assign its value OUT side the class scope\n",
    "steve.Title = 'Manager'\n",
    "\n",
    "# printing the value of Properties\n",
    "print('Steve ID is {}'.format(steve.Id))\n",
    "print('And salary is {}'.format(steve.Salary))\n",
    "print('Department {}'.format(steve.Department))\n",
    "print('He is also a {}'.format(steve.Title))\n"
   ]
  },
  {
   "cell_type": "markdown",
   "id": "5365ee4c",
   "metadata": {},
   "source": [
    "#### In Python the ```__init__()``` method is called the **constructor** and is **always called when an object is created.**\n",
    "#### The task of **constructors** is to **initialize(assign values)** to the data members of the class when an object of the class is created.\n",
    "#### in JavaScript ```this``` key word works like similar way."
   ]
  },
  {
   "cell_type": "markdown",
   "id": "76df3a44",
   "metadata": {},
   "source": [
    "### **There are Two type of Constructor**"
   ]
  },
  {
   "cell_type": "markdown",
   "id": "a3de4c8a",
   "metadata": {},
   "source": [
    "#### **Default constructor:**\n",
    "#### The **default constructor** is a simple constructor which **doesn’t accept any arguments**. Its definition has only one argument which is a reference to the instance being constructed.\n",
    "#### ```Work Like Bridge among methods```"
   ]
  },
  {
   "cell_type": "markdown",
   "id": "1933c541",
   "metadata": {},
   "source": [
    "#### It accepts the **self** keyword as a first argument **which allows accessing the attributes or method of the class.**"
   ]
  },
  {
   "cell_type": "code",
   "execution_count": 5,
   "id": "e3a1426a",
   "metadata": {},
   "outputs": [
    {
     "name": "stdout",
     "output_type": "stream",
     "text": [
      "defalt peramiter\n"
     ]
    }
   ],
   "source": [
    "class Employee:\n",
    "    \n",
    "    def __init__(self):\n",
    "        self.name = 'defalt peramiter' # Here self.name is just a data member.\n",
    "\n",
    "    def print_function(self):\n",
    "        print(self.name)\n",
    "    \n",
    "objt = Employee()\n",
    "\n",
    "objt.print_function()"
   ]
  },
  {
   "cell_type": "markdown",
   "id": "cbd8255b",
   "metadata": {},
   "source": [
    "#### **Parameterized constructor**\n",
    "#### The **parameterized constructor** takes its **first argument** is **self** and the rest of the arguments are provided by the programmer."
   ]
  },
  {
   "cell_type": "code",
   "execution_count": 7,
   "id": "3ecbfaa3",
   "metadata": {},
   "outputs": [
    {
     "name": "stdout",
     "output_type": "stream",
     "text": [
      "First Number: 5\n",
      "Second Number: 3\n",
      "Third Number: 2\n",
      "Answer: 10\n"
     ]
    }
   ],
   "source": [
    "class Addition:\n",
    "    first = 0\n",
    "    second = 0\n",
    "    third = 0\n",
    "    \n",
    "    def __init__(self, f, s, t):\n",
    "        self.first = f\n",
    "        self.second = s\n",
    "        self.third = t\n",
    "    \n",
    "    def display(self):\n",
    "        print('First Number: ' + str(self.first))\n",
    "        print('Second Number: ' + str(self.second))\n",
    "        print('Third Number: ' + str(self.third))\n",
    "        print('Answer: ' + str(self.answer))\n",
    "    \n",
    "    def calculate(self):\n",
    "        self.answer = self.first+self.second+self.third\n",
    "        \n",
    "objt = Addition(5, 3, 2)\n",
    "\n",
    "objt.calculate()\n",
    "\n",
    "objt.display()\n"
   ]
  },
  {
   "cell_type": "code",
   "execution_count": 4,
   "id": "08d1d69e",
   "metadata": {},
   "outputs": [
    {
     "name": "stdout",
     "output_type": "stream",
     "text": [
      "Steve ID is 112\n",
      "And salary is 334433\n",
      "Department Executive\n"
     ]
    }
   ],
   "source": [
    "# Defining the Employee Class\n",
    "class employee:\n",
    "    \n",
    "    # defining the properties and assigning with NONE\n",
    "    # properties can not be undifined\n",
    "    #Initializing the properties\n",
    "    def __init__(self, Id = None, Salary = None, Department = None):\n",
    "        self.Id = Id\n",
    "        self.Salary = Salary\n",
    "        self.Department = Department\n",
    "        \n",
    "        # There are two ways to assign values to properties of a class.\n",
    "        # 1. Assign values when defining the class.\n",
    "        # 2. Assign values in the main code.\n",
    "        \n",
    "# Creating a object name steve with default parameters\n",
    "steve = employee(112, 334433, 'Executive')\n",
    " \n",
    "# printing the value of Properties\n",
    "print('Steve ID is {}'.format(steve.Id))\n",
    "print('And salary is {}'.format(steve.Salary))\n",
    "print('Department {}'.format(steve.Department))\n",
    "\n",
    "# The initializer is automatically called when an object of the class is created. \n",
    "# It is important to define the initializer with complete parameters to avoid any errors.\n",
    "# Similar to methods, initializers also have the provision for optional parameters.\n"
   ]
  },
  {
   "cell_type": "markdown",
   "id": "2b000311",
   "metadata": {},
   "source": [
    "### **Class methods**"
   ]
  },
  {
   "cell_type": "markdown",
   "id": "fdde64fd",
   "metadata": {},
   "source": [
    "#### **Class methods** work with class variables and are accessible using the **class name** rather than its **object**. Since all class objects share the class variables, class methods are used to access and modify class variables."
   ]
  },
  {
   "cell_type": "markdown",
   "id": "4c99d313",
   "metadata": {},
   "source": [
    "#### **Class methods are accessed using the class name and can be accessed without creating a class object.**"
   ]
  },
  {
   "cell_type": "code",
   "execution_count": 8,
   "id": "828dd704",
   "metadata": {},
   "outputs": [
    {
     "name": "stdout",
     "output_type": "stream",
     "text": [
      "Liverpool\n"
     ]
    }
   ],
   "source": [
    "class Player:\n",
    "    teamName = 'Liverpool'  # class variables\n",
    "\n",
    "    def __init__(self, name):\n",
    "        self.name = name  # creating instance variables\n",
    "\n",
    "    @classmethod\n",
    "    def getTeamName(cls):\n",
    "        return cls.teamName\n",
    "\n",
    "\n",
    "print(Player.getTeamName())\n"
   ]
  },
  {
   "cell_type": "markdown",
   "id": "cdcc54e8",
   "metadata": {},
   "source": [
    "### **Static Methods**"
   ]
  },
  {
   "cell_type": "markdown",
   "id": "8a017ff5",
   "metadata": {},
   "source": [
    "#### **Static methods** are methods that are usually limited to class only and not their objects. They have no direct relation to class variables or instance variables. They are used as utility functions inside the class or when we do not want the inherited classes"
   ]
  },
  {
   "cell_type": "markdown",
   "id": "41d02f7a",
   "metadata": {},
   "source": [
    "#### **Static methods can be accessed using the class name or the object name.**"
   ]
  },
  {
   "cell_type": "code",
   "execution_count": 10,
   "id": "345db3bc",
   "metadata": {},
   "outputs": [
    {
     "name": "stdout",
     "output_type": "stream",
     "text": [
      "23.148148148148145\n"
     ]
    }
   ],
   "source": [
    "class BodyInfo:\n",
    "\n",
    "    @staticmethod\n",
    "    def bmi(weight, height):\n",
    "        return weight / (height**2)\n",
    "\n",
    "\n",
    "weight = 75\n",
    "height = 1.8\n",
    "print(BodyInfo.bmi(weight, height))\n"
   ]
  },
  {
   "cell_type": "markdown",
   "id": "e2478b2e",
   "metadata": {},
   "source": [
    "### **Access Modifiers**"
   ]
  },
  {
   "cell_type": "markdown",
   "id": "155a124c",
   "metadata": {},
   "source": [
    "#### we can impose access restrictions on different data members and member functions. The restrictions are specified through access modifiers."
   ]
  },
  {
   "cell_type": "markdown",
   "id": "00dd90ba",
   "metadata": {},
   "source": [
    "### **Public attributes**"
   ]
  },
  {
   "cell_type": "markdown",
   "id": "0c67e20e",
   "metadata": {},
   "source": [
    "#### Public attributes are those that can be accessed inside the class and outside the class."
   ]
  },
  {
   "cell_type": "code",
   "execution_count": 11,
   "id": "4c0429a9",
   "metadata": {},
   "outputs": [
    {
     "name": "stdout",
     "output_type": "stream",
     "text": [
      "ID: 3789\n",
      "2500\n"
     ]
    }
   ],
   "source": [
    "class Employee:\n",
    "    def __init__(self, ID, salary):\n",
    "        # all properties are public\n",
    "        self.ID = ID\n",
    "        self.salary = salary\n",
    "\n",
    "    def displayID(self):\n",
    "        print(\"ID:\", self.ID)\n",
    "\n",
    "\n",
    "Steve = Employee(3789, 2500)\n",
    "Steve.displayID()\n",
    "print(Steve.salary)\n"
   ]
  },
  {
   "cell_type": "markdown",
   "id": "897ad3d3",
   "metadata": {},
   "source": [
    "### **Private Attributes**"
   ]
  },
  {
   "cell_type": "markdown",
   "id": "848c36c9",
   "metadata": {},
   "source": [
    "#### Private attributes cannot be accessed directly from outside the class but can be accessed from inside the class."
   ]
  },
  {
   "cell_type": "markdown",
   "id": "e9382eea",
   "metadata": {},
   "source": [
    "#### We can make members **private** using the double underscore ```__``` prefix"
   ]
  },
  {
   "cell_type": "markdown",
   "id": "fc59966b",
   "metadata": {},
   "source": [
    "#### **Trying to access private attributes in the main code will generate an error.**"
   ]
  },
  {
   "cell_type": "code",
   "execution_count": 12,
   "id": "1f316f1f",
   "metadata": {},
   "outputs": [
    {
     "name": "stdout",
     "output_type": "stream",
     "text": [
      "ID: 3789\n"
     ]
    },
    {
     "ename": "AttributeError",
     "evalue": "'Employee' object has no attribute '__salary'",
     "output_type": "error",
     "traceback": [
      "\u001b[0;31m---------------------------------------------------------------------------\u001b[0m",
      "\u001b[0;31mAttributeError\u001b[0m                            Traceback (most recent call last)",
      "\u001b[0;32m/tmp/ipykernel_5122/1262717620.py\u001b[0m in \u001b[0;36m<cell line: 9>\u001b[0;34m()\u001b[0m\n\u001b[1;32m      7\u001b[0m \u001b[0mSteve\u001b[0m \u001b[0;34m=\u001b[0m \u001b[0mEmployee\u001b[0m\u001b[0;34m(\u001b[0m\u001b[0;36m3789\u001b[0m\u001b[0;34m,\u001b[0m \u001b[0;36m2500\u001b[0m\u001b[0;34m)\u001b[0m\u001b[0;34m\u001b[0m\u001b[0;34m\u001b[0m\u001b[0m\n\u001b[1;32m      8\u001b[0m \u001b[0mprint\u001b[0m\u001b[0;34m(\u001b[0m\u001b[0;34m\"ID:\"\u001b[0m\u001b[0;34m,\u001b[0m \u001b[0mSteve\u001b[0m\u001b[0;34m.\u001b[0m\u001b[0mID\u001b[0m\u001b[0;34m)\u001b[0m\u001b[0;34m\u001b[0m\u001b[0;34m\u001b[0m\u001b[0m\n\u001b[0;32m----> 9\u001b[0;31m \u001b[0mprint\u001b[0m\u001b[0;34m(\u001b[0m\u001b[0;34m\"Salary:\"\u001b[0m\u001b[0;34m,\u001b[0m \u001b[0mSteve\u001b[0m\u001b[0;34m.\u001b[0m\u001b[0m__salary\u001b[0m\u001b[0;34m)\u001b[0m  \u001b[0;31m# this will cause an error\u001b[0m\u001b[0;34m\u001b[0m\u001b[0;34m\u001b[0m\u001b[0m\n\u001b[0m",
      "\u001b[0;31mAttributeError\u001b[0m: 'Employee' object has no attribute '__salary'"
     ]
    }
   ],
   "source": [
    "class Employee:\n",
    "    def __init__(self, ID, salary):\n",
    "        self.ID = ID\n",
    "        self.__salary = salary  # salary is a private property\n",
    "\n",
    "\n",
    "Steve = Employee(3789, 2500)\n",
    "print(\"ID:\", Steve.ID)\n",
    "print(\"Salary:\", Steve.__salary)  # this will cause an error\n"
   ]
  },
  {
   "cell_type": "markdown",
   "id": "85027cc2",
   "metadata": {},
   "source": [
    "1. In the code above, **```ID```** is a public property, but**``` __salary```** is a private property, so it cannot be accessed outside the class.\n",
    "\n",
    "2. When it is tried to be accessed outside the class, the following error is generated:\n",
    "\n",
    "**```Employee' object has no attribute '__salary```**"
   ]
  },
  {
   "cell_type": "markdown",
   "id": "8ae11408",
   "metadata": {},
   "source": [
    "### **Private Methods**"
   ]
  },
  {
   "cell_type": "code",
   "execution_count": 13,
   "id": "a0f3d971",
   "metadata": {},
   "outputs": [
    {
     "name": "stdout",
     "output_type": "stream",
     "text": [
      "Salary: 2500\n"
     ]
    },
    {
     "ename": "AttributeError",
     "evalue": "'Employee' object has no attribute '__displayID'",
     "output_type": "error",
     "traceback": [
      "\u001b[0;31m---------------------------------------------------------------------------\u001b[0m",
      "\u001b[0;31mAttributeError\u001b[0m                            Traceback (most recent call last)",
      "\u001b[0;32m/tmp/ipykernel_5122/2055736984.py\u001b[0m in \u001b[0;36m<cell line: 15>\u001b[0;34m()\u001b[0m\n\u001b[1;32m     13\u001b[0m \u001b[0mSteve\u001b[0m \u001b[0;34m=\u001b[0m \u001b[0mEmployee\u001b[0m\u001b[0;34m(\u001b[0m\u001b[0;36m3789\u001b[0m\u001b[0;34m,\u001b[0m \u001b[0;36m2500\u001b[0m\u001b[0;34m)\u001b[0m\u001b[0;34m\u001b[0m\u001b[0;34m\u001b[0m\u001b[0m\n\u001b[1;32m     14\u001b[0m \u001b[0mSteve\u001b[0m\u001b[0;34m.\u001b[0m\u001b[0mdisplaySalary\u001b[0m\u001b[0;34m(\u001b[0m\u001b[0;34m)\u001b[0m\u001b[0;34m\u001b[0m\u001b[0;34m\u001b[0m\u001b[0m\n\u001b[0;32m---> 15\u001b[0;31m \u001b[0mSteve\u001b[0m\u001b[0;34m.\u001b[0m\u001b[0m__displayID\u001b[0m\u001b[0;34m(\u001b[0m\u001b[0;34m)\u001b[0m  \u001b[0;31m# this will generate an error\u001b[0m\u001b[0;34m\u001b[0m\u001b[0;34m\u001b[0m\u001b[0m\n\u001b[0m",
      "\u001b[0;31mAttributeError\u001b[0m: 'Employee' object has no attribute '__displayID'"
     ]
    }
   ],
   "source": [
    "class Employee:\n",
    "    def __init__(self, ID, salary):\n",
    "        self.ID = ID\n",
    "        self.__salary = salary  # salary is a private property\n",
    "\n",
    "    def displaySalary(self):  # displaySalary is a public method\n",
    "        print(\"Salary:\", self.__salary)\n",
    "\n",
    "    def __displayID(self):  # displayID is a private method\n",
    "        print(\"ID:\", self.ID)\n",
    "\n",
    "\n",
    "Steve = Employee(3789, 2500)\n",
    "Steve.displaySalary()\n",
    "Steve.__displayID()  # this will generate an error"
   ]
  },
  {
   "cell_type": "markdown",
   "id": "dfaa0293",
   "metadata": {},
   "source": [
    "1. ```ID``` is a public property, so it can be accessed from outside and inside the class.\n",
    "\n",
    "2. ```__salary``` is a private property, so it cannot be accessed from outside the class but can be accessed from inside the class.\n",
    "\n",
    "3. The ```displaySalary()``` method is a public method, so it can be accessed from outside the class. This method can access the private property, __salary, as well.\n",
    "\n",
    "4. The ```__displayID()``` method is a private method, so it cannot be accessed from outside the class.\n",
    "\n",
    "5. When you try to access **displayID()** from outside the class, the following error is generated:\n",
    "\n",
    "**```'Employee' object has no attribute '__displayID()'```**"
   ]
  },
  {
   "cell_type": "markdown",
   "id": "6465e0b6",
   "metadata": {},
   "source": [
    "### Accessing a **private method**"
   ]
  },
  {
   "cell_type": "markdown",
   "id": "88ed20db",
   "metadata": {},
   "source": [
    "#### If the user believes it is absolutely necessary to access a private property or a method, they can access it using the **\\_\\_\\<ClassName\\>\\_\\_** prefix for the property or method. "
   ]
  },
  {
   "cell_type": "code",
   "execution_count": 14,
   "id": "61384c66",
   "metadata": {},
   "outputs": [
    {
     "name": "stdout",
     "output_type": "stream",
     "text": [
      "2500\n"
     ]
    }
   ],
   "source": [
    "class Employee:\n",
    "    def __init__(self, ID, salary):\n",
    "        self.ID = ID\n",
    "        self.__salary = salary  # salary is a private property\n",
    "\n",
    "\n",
    "Steve = Employee(3789, 2500)\n",
    "print(Steve._Employee__salary)  # accessing a private property\n"
   ]
  },
  {
   "cell_type": "markdown",
   "id": "35de893c",
   "metadata": {},
   "source": [
    "# Information Hiding"
   ]
  },
  {
   "cell_type": "markdown",
   "id": "c3386a18",
   "metadata": {},
   "source": [
    "#### **Information hiding** refers to the concept of hiding the inner workings of a class and simply providing an interface through which the outside world can interact with the class without knowing what’s going on inside."
   ]
  },
  {
   "cell_type": "markdown",
   "id": "851db014",
   "metadata": {},
   "source": [
    "## **Encapsulation**"
   ]
  },
  {
   "cell_type": "markdown",
   "id": "b9202574",
   "metadata": {},
   "source": [
    "#### Encapsulation in OOP refers to binding data and the methods to manipulate that data together in a single unit, that is, class."
   ]
  },
  {
   "cell_type": "markdown",
   "id": "120ec00e",
   "metadata": {},
   "source": [
    "#### Encapsulation is usually done to hide the state and representation of an object from outside. A class can be thought of as a **capsule** having methods and properties inside it."
   ]
  },
  {
   "cell_type": "markdown",
   "id": "eccb9670",
   "metadata": {},
   "source": [
    "#### When encapsulating classes, a good convention is to declare all variables of a class **private**. This will restrict direct access by the code outside that class."
   ]
  },
  {
   "cell_type": "markdown",
   "id": "6263af81",
   "metadata": {},
   "source": [
    "### **To communicate**"
   ]
  },
  {
   "cell_type": "markdown",
   "id": "515e08f0",
   "metadata": {},
   "source": [
    "### **Getter** And **Setter**"
   ]
  },
  {
   "cell_type": "markdown",
   "id": "e31dfac9",
   "metadata": {},
   "source": [
    "#### One has to implement **public** methods to let the outside world communicate with this class. These methods are called **getters** and **setters**"
   ]
  },
  {
   "cell_type": "markdown",
   "id": "d85b3cce",
   "metadata": {},
   "source": [
    "#### A **getter** method allows reading a property’s value"
   ]
  },
  {
   "cell_type": "markdown",
   "id": "f00d9038",
   "metadata": {},
   "source": [
    "#### A **setter** method allows modifying a property’s value."
   ]
  },
  {
   "cell_type": "code",
   "execution_count": 15,
   "id": "3269ef2a",
   "metadata": {},
   "outputs": [
    {
     "name": "stdout",
     "output_type": "stream",
     "text": [
      "Before setting: opu\n",
      "After setting: Amir\n"
     ]
    }
   ],
   "source": [
    "class User:\n",
    "    def __init__(self, username=None):  # defining initializer\n",
    "        self.__username = username\n",
    "\n",
    "    def setUsername(self, x):\n",
    "        self.__username = x\n",
    "\n",
    "    def getUsername(self):\n",
    "        return (self.__username)\n",
    "\n",
    "\n",
    "Steve = User('opu')\n",
    "print('Before setting:', Steve.getUsername())\n",
    "Steve.setUsername('Amir')\n",
    "print('After setting:', Steve.getUsername())"
   ]
  },
  {
   "cell_type": "markdown",
   "id": "0d42cafd",
   "metadata": {},
   "source": [
    "### Explaing **Encapsulation** with **User** Example."
   ]
  },
  {
   "cell_type": "code",
   "execution_count": 16,
   "id": "3673f144",
   "metadata": {},
   "outputs": [
    {
     "name": "stdout",
     "output_type": "stream",
     "text": [
      "Access Granted!\n",
      "Invalid Credentials!\n",
      "Access Granted!\n"
     ]
    }
   ],
   "source": [
    "class User:\n",
    "    def __init__(self, userName=None, password=None):\n",
    "        self.userName = userName\n",
    "        self.password = password\n",
    "\n",
    "    def login(self, userName, password):\n",
    "        if ((self.userName.lower() == userName.lower())\n",
    "                and (self.password == password)):\n",
    "            print(\"Access Granted!\")\n",
    "        else:\n",
    "            print(\"Invalid Credentials!\")\n",
    "\n",
    "\n",
    "Steve = User(\"Steve\", \"12345\")\n",
    "Steve.login(\"steve\", \"12345\")\n",
    "Steve.login(\"steve\", \"6789\")\n",
    "Steve.password = \"6789\"\n",
    "Steve.login(\"steve\", \"6789\")"
   ]
  },
  {
   "cell_type": "markdown",
   "id": "caf8b408",
   "metadata": {},
   "source": [
    "#### We can observe that anyone can access, change, or print the **password** and **userName** fields directly from the main code. This is dangerous in the case of this User class because there is no encapsulation of the credentials of a user, which means anyone can access their account by **manipulating** the stored data."
   ]
  },
  {
   "cell_type": "markdown",
   "id": "f3d8b4c4",
   "metadata": {},
   "source": [
    ">### But This will solve the Case"
   ]
  },
  {
   "cell_type": "code",
   "execution_count": 19,
   "id": "601a8196",
   "metadata": {},
   "outputs": [
    {
     "name": "stdout",
     "output_type": "stream",
     "text": [
      "Access Granted against username: steve and password: 12345\n",
      "Invalid Credentials!\n"
     ]
    }
   ],
   "source": [
    "class User:\n",
    "    def __init__(self, userName=None, password=None):\n",
    "        self.__userName = userName\n",
    "        self.__password = password\n",
    "\n",
    "    def login(self, userName, password):\n",
    "        if ((self.__userName.lower() == userName.lower())\n",
    "                and (self.__password == password)):\n",
    "            print(\n",
    "                \"Access Granted against username:\",\n",
    "                self.__userName.lower(),\n",
    "                \"and password:\",\n",
    "                self.__password)\n",
    "        else:\n",
    "            print(\"Invalid Credentials!\")\n",
    "\n",
    "\n",
    "# created a new User object and stored the password and username\n",
    "Steve = User(\"Steve\", \"12345\")\n",
    "Steve.login(\"steve\", \"12345\")  # Grants access because credentials are valid\n",
    "\n",
    "# does not grant access since the credentails are invalid\n",
    "Steve.__password = '6789'\n",
    "Steve.login(\"steve\", \"6789\")\n",
    "\n",
    "\n",
    "                "
   ]
  },
  {
   "cell_type": "markdown",
   "id": "7b86017a",
   "metadata": {},
   "source": [
    "#### **Note:** For encapsulating a class, all the properties should be private and any access to the properties should be through methods such as getters and setters."
   ]
  },
  {
   "cell_type": "markdown",
   "id": "aa45b87c",
   "metadata": {},
   "source": [
    "## **Inheritance**"
   ]
  },
  {
   "cell_type": "markdown",
   "id": "186770e0",
   "metadata": {},
   "source": [
    "#### **Inheritance provides a way to create a new class from an existing class.**"
   ]
  },
  {
   "cell_type": "markdown",
   "id": "b197eaa3",
   "metadata": {},
   "source": [
    "#### The new class is a specialized version of the existing class such that it inherits all the **non-private** fields (variables) and methods of the existing class. The existing class is used as a starting point or as a base to create the new class."
   ]
  },
  {
   "cell_type": "markdown",
   "id": "b73e3427",
   "metadata": {},
   "source": [
    "1. Square **IS A** shape\n",
    "2. Python **IS A** programming language\n",
    "3. Car **IS A** vehicle"
   ]
  },
  {
   "cell_type": "markdown",
   "id": "2c72ed6d",
   "metadata": {},
   "source": [
    "#### In Python, whenever we create a **class**, it is, by default, a subclass of the built-in Python **object class**. This makes it an excellent example of inheritance in Python. This class has very few properties and methods, but it does provide a strong basis for object-oriented programming in Python."
   ]
  },
  {
   "cell_type": "markdown",
   "id": "d79dcf8f",
   "metadata": {},
   "source": [
    "#### **A child class has all public attributes of the parent class.**"
   ]
  },
  {
   "cell_type": "code",
   "execution_count": 2,
   "id": "1509de0f",
   "metadata": {},
   "outputs": [
    {
     "name": "stdout",
     "output_type": "stream",
     "text": [
      "Manufacturer: Suzuki\n",
      "Color: Grey\n",
      "Model: 2015\n",
      "Doors: 4\n",
      "Manufacturer: Nissan\n",
      "Color: Space Grey\n",
      "Model: gt-r r35\n",
      "Doors: 2\n",
      "Windows: 4\n"
     ]
    }
   ],
   "source": [
    "class Vehicle:\n",
    "    def __init__(self, make=None, color=None, model=None):\n",
    "        self.make = make\n",
    "        self.color = color\n",
    "        self.model = model\n",
    "\n",
    "    def printDetails(self):\n",
    "        print(\"Manufacturer:\", self.make)\n",
    "        print(\"Color:\", self.color)\n",
    "        print(\"Model:\", self.model)\n",
    "\n",
    "\n",
    "class Car(Vehicle):\n",
    "    def __init__(self, make, color, model, doors):\n",
    "        # calling the constructor from parent class\n",
    "        Vehicle.__init__(self, make, color, model)\n",
    "        self.doors = doors\n",
    "\n",
    "    def printCarDetails(self):\n",
    "        self.printDetails()\n",
    "        print(\"Doors:\", self.doors)\n",
    "\n",
    "class Jeep(Car):\n",
    "    def __init__(self, make, color, model, doors, windows):\n",
    "        # calling the constructor from parent class\n",
    "        Car.__init__(self, make, color, model, doors)\n",
    "        self.windows = windows\n",
    "    \n",
    "    def printJeepDetails(self):\n",
    "        self.printCarDetails()\n",
    "        print('Windows:', self.windows)\n",
    "\n",
    "\n",
    "obj1 = Car(\"Suzuki\", \"Grey\", \"2015\", 4)\n",
    "obj2 = Jeep('Nissan', 'Space Grey', 'gt-r r35', 2, 4)\n",
    "obj1.printCarDetails()\n",
    "obj2.printJeepDetails()"
   ]
  },
  {
   "cell_type": "markdown",
   "id": "e7152bed",
   "metadata": {},
   "source": [
    "### **The Super Function**"
   ]
  },
  {
   "cell_type": "markdown",
   "id": "24305589",
   "metadata": {},
   "source": [
    "#### **super()** comes into play when we implement inheritance. It is used in a **child class** to refer to the **parent class** without explicitly naming it. "
   ]
  },
  {
   "cell_type": "code",
   "execution_count": 4,
   "id": "f3feaec9",
   "metadata": {},
   "outputs": [
    {
     "name": "stdout",
     "output_type": "stream",
     "text": [
      "Fuel cap from the Vehicle Class: 90\n",
      "Fuel cap from the Car Class: 50\n"
     ]
    }
   ],
   "source": [
    "class Vehicle:  # defining the parent class\n",
    "    fuelCap = 90\n",
    "\n",
    "\n",
    "class Car(Vehicle):  # defining the child class\n",
    "    fuelCap = 50\n",
    "\n",
    "    def display(self):\n",
    "        # accessing fuelCap from the Vehicle class using super()\n",
    "        print(\"Fuel cap from the Vehicle Class:\", super().fuelCap)\n",
    "\n",
    "        # accessing fuelCap from the Car class using self\n",
    "        print(\"Fuel cap from the Car Class:\", self.fuelCap)\n",
    "\n",
    "\n",
    "obj1 = Car()  # creating a car object\n",
    "obj1.display()  # calling the Car class method display()\n"
   ]
  },
  {
   "cell_type": "markdown",
   "id": "cadd613d",
   "metadata": {},
   "source": [
    "### **Using with Methods**"
   ]
  },
  {
   "cell_type": "code",
   "execution_count": 5,
   "id": "80884757",
   "metadata": {},
   "outputs": [
    {
     "name": "stdout",
     "output_type": "stream",
     "text": [
      "I am from the Vehicle Class\n",
      "I am from the Car Class\n"
     ]
    }
   ],
   "source": [
    "class Vehicle:  # defining the parent class\n",
    "    def display(self):  # defining display method in the parent class\n",
    "        print(\"I am from the Vehicle Class\")\n",
    "\n",
    "\n",
    "class Car(Vehicle):  # defining the child class\n",
    "    # defining display method in the child class\n",
    "    def display(self):\n",
    "        super().display()\n",
    "        print(\"I am from the Car Class\")\n",
    "\n",
    "\n",
    "obj1 = Car()  # creating a car object\n",
    "obj1.display()  # calling the Car class method display()"
   ]
  },
  {
   "cell_type": "markdown",
   "id": "cb3c937c",
   "metadata": {},
   "source": [
    "#### When using **super()** with initializer. Drop **self** keyward argument."
   ]
  },
  {
   "cell_type": "code",
   "execution_count": 6,
   "id": "0daf7e4b",
   "metadata": {},
   "outputs": [
    {
     "name": "stdout",
     "output_type": "stream",
     "text": [
      "Manufacturer: Suzuki\n",
      "Color: Grey\n",
      "Model: 2015\n",
      "Door: 4\n"
     ]
    }
   ],
   "source": [
    "class Vehicle:\n",
    "    def __init__(self, make=None, color=None, model=None):\n",
    "        self.make = make\n",
    "        self.color = color\n",
    "        self.model = model\n",
    "\n",
    "    def printDetails(self):\n",
    "        print(\"Manufacturer:\", self.make)\n",
    "        print(\"Color:\", self.color)\n",
    "        print(\"Model:\", self.model)\n",
    "\n",
    "\n",
    "class Car(Vehicle):\n",
    "    def __init__(self, make, color, model, doors):\n",
    "        super().__init__(make, color, model)\n",
    "        self.doors = doors\n",
    "\n",
    "    def printCarDetails(self):\n",
    "        self.printDetails()\n",
    "        print(\"Door:\", self.doors)\n",
    "\n",
    "\n",
    "obj1 = Car(\"Suzuki\", \"Grey\", \"2015\", 4)\n",
    "obj1.printCarDetails()"
   ]
  },
  {
   "cell_type": "markdown",
   "id": "64c40d10-3780-42ae-bbed-87d126fa07e7",
   "metadata": {},
   "source": [
    ">### **Handling a Bank Account**"
   ]
  },
  {
   "cell_type": "code",
   "execution_count": 8,
   "id": "93121ff6",
   "metadata": {},
   "outputs": [
    {
     "name": "stdout",
     "output_type": "stream",
     "text": [
      "Initial Balance: 5000\n",
      "Balance after withdrawal: 4000\n",
      "Balance after deposit: 4500\n",
      "Interest on current balance: 450.0\n"
     ]
    }
   ],
   "source": [
    "class Account:  # parent class\n",
    "    def __init__(self, title=None, balance=0):\n",
    "        self.title = title\n",
    "        self.balance = balance\n",
    "    \n",
    "    # withdrawal method subtracts the amount from the balance\n",
    "    def withdrawal(self, amount):\n",
    "        self.balance = self.balance - amount # amount is not a Account class propertiy. It's a property of the methods define within Account class.\n",
    "    \n",
    "    # deposit method adds the amount to the balance\n",
    "    def deposit(self, amount):\n",
    "        self.balance = self.balance + amount\n",
    "    \n",
    "    # this method just returns the value of balance\n",
    "    def getBalance(self):\n",
    "        return self.balance\n",
    "\n",
    "\n",
    "class SavingsAccount(Account):\n",
    "    def __init__(self, title=None, balance=0, interestRate=0):\n",
    "        super().__init__(title, balance)# I have already initialized title and balance before. So, I don't need to initialize again.\n",
    "        self.interestRate = interestRate\n",
    "    \n",
    "    # computes interest amount using the interest rate\n",
    "    def interestAmount(self):\n",
    "        return (self.balance * self.interestRate / 100)\n",
    "\n",
    "\n",
    "obj1 = SavingsAccount(\"Steve\", 5000, 10)\n",
    "print(\"Initial Balance:\", obj1.getBalance())\n",
    "obj1.withdrawal(1000)\n",
    "print(\"Balance after withdrawal:\", obj1.getBalance())\n",
    "obj1.deposit(500)\n",
    "print(\"Balance after deposit:\", obj1.getBalance())\n",
    "print(\"Interest on current balance:\", obj1.interestAmount())\n"
   ]
  },
  {
   "cell_type": "markdown",
   "id": "e9fe2731-c997-4db0-b13a-8dae9018bcd1",
   "metadata": {},
   "source": [
    "## **Polymorphism**"
   ]
  },
  {
   "cell_type": "markdown",
   "id": "608716f3-61c0-48fd-a9c1-991cb01f88e8",
   "metadata": {},
   "source": [
    "#### **Polymorphism** refers to the same object **exhibiting different forms and behaviors**."
   ]
  },
  {
   "cell_type": "markdown",
   "id": "837ee3a3-158d-4fae-9359-d51085090a0b",
   "metadata": {},
   "source": [
    "#### Assume there is a parent **class** named **Shape** from which the child classes **Rectangle**, **Circle**, **Polygon**, and **Diamond** are derived.\n",
    "\n",
    "#### Suppose your application will need methods to calculate the area of **each specific shape**. The area for each shape is calculated differently, which is why you can’t have **a single implementation**. You could throw in separate methods in each class (for instance, getSquareArea(), getCircleArea() etc.). But this makes it harder to remember each method’s name."
   ]
  },
  {
   "cell_type": "markdown",
   "id": "0986874d-b246-48b2-a763-614450d24032",
   "metadata": {},
   "source": [
    "### Make things simpler with **Polymorphism**\n",
    "#### It would be better if all specific area calculation methods could be called **getArea()**. You would only have to remember one method name and when you call that method, the method specific to that object would be called. This can be achieved in object-oriented programming using polymorphism. The base class declares a function without providing an implementation. Each derived class inherits the function declaration and can provide its own implementation.\n",
    "\n",
    "#### Consider that the Shape class has a method called **getArea()**, which is inherited by all **subclasses** mentioned. With polymorphism, each subclass may have its own way of implementing the method. For example, when the **getArea()** method is called on an object of the **Rectangle class**, the method will respond by displaying the area of the rectangle. On the other hand, when the same method is called on an object of the Circle class, the circle’s area will be calculated and displayed on the screen."
   ]
  },
  {
   "cell_type": "code",
   "execution_count": null,
   "id": "de3aa9a6",
   "metadata": {},
   "outputs": [],
   "source": [
    "class Rectangle():\n",
    "\n",
    "    # initializer\n",
    "    def __init__(self, width=0, height=0):\n",
    "        self.width = width\n",
    "        self.height = height\n",
    "        self.sides = 4\n",
    "\n",
    "    # method to calculate Area\n",
    "    def getArea(self):\n",
    "        return (self.width * self.height)\n",
    "\n",
    "\n",
    "class Circle():\n",
    "    # initializer\n",
    "    def __init__(self, radius=0):\n",
    "        self.radius = radius\n",
    "        self.sides = 0\n",
    "\n",
    "    # method to calculate Area\n",
    "    def getArea(self):\n",
    "        return (self.radius **2 * 3.142)\n",
    "\n",
    "\n",
    "shapes = [Rectangle(6, 10), Circle(7)]\n",
    "print(\"Sides of a rectangle are\", str(shapes[0].sides))\n",
    "print(\"Area of rectangle is:\", str(shapes[0].getArea()))\n",
    "\n",
    "print(\"Sides of a circle are\", str(shapes[1].sides))\n",
    "print(\"Area of circle is:\", str(shapes[1].getArea()))\n"
   ]
  },
  {
   "cell_type": "markdown",
   "id": "ec2b48f6-ea71-4504-b585-8ab71bf38cd7",
   "metadata": {},
   "source": [
    "### Implementing **Polymorphism** Using Inheritance"
   ]
  },
  {
   "cell_type": "code",
   "execution_count": null,
   "id": "17bf2515",
   "metadata": {},
   "outputs": [],
   "source": [
    "class Shape:\n",
    "    def __init__(self):  # initializing sides of all shapes to 0\n",
    "        self.sides = 0\n",
    "\n",
    "    def getArea(self):\n",
    "        pass\n",
    "\n",
    "\n",
    "class Rectangle(Shape):  # derived from Shape class\n",
    "    # initializer\n",
    "    def __init__(self, width=0, height=0):\n",
    "        self.width = width\n",
    "        self.height = height\n",
    "        self.sides = 4\n",
    "\n",
    "    # method to calculate Area\n",
    "    def getArea(self):\n",
    "        return (self.width * self.height)\n",
    "\n",
    "\n",
    "class Circle(Shape):  # derived from Shape class\n",
    "    # initializer\n",
    "    def __init__(self, radius=0):\n",
    "        self.radius = radius\n",
    "\n",
    "    # method to calculate Area\n",
    "    def getArea(self):\n",
    "        return (self.radius * self.radius * 3.142)\n",
    "\n",
    "\n",
    "shapes = [Rectangle(6, 10), Circle(7)]\n",
    "print(\"Area of rectangle is:\", str(shapes[0].getArea()))\n",
    "print(\"Area of circle is:\", str(shapes[1].getArea()))\n"
   ]
  },
  {
   "cell_type": "markdown",
   "id": "09efdb04-5cc9-472a-a131-a6771595d6fa",
   "metadata": {},
   "source": [
    "## **Method Overriding**"
   ]
  },
  {
   "cell_type": "markdown",
   "id": "380c8948-8f58-4062-8d78-e754d5565175",
   "metadata": {},
   "source": [
    "#### Method overriding is the process of **redefining a parent class’s method in a subclass.**\n",
    "#### In other words, if a subclass provides a specific implementation of a method that had already been defined in one of its parent classes, it is known as method overriding."
   ]
  },
  {
   "cell_type": "markdown",
   "id": "7bed2345-188a-4087-b112-c1950579b7c6",
   "metadata": {},
   "source": [
    "### **Features**"
   ]
  },
  {
   "cell_type": "markdown",
   "id": "ce3aabca-bde7-4241-8e1a-2f4103bebdac",
   "metadata": {},
   "source": [
    "1. The derived classes can give their **own specific implementations to inherited methods without modifying the parent class methods.**\n",
    "\n",
    "2. For any method, a **child class can use the implementation in the parent class or make its own implementation.**\n",
    "\n",
    "3. Method overriding **needs inheritance, and there should be at least one derived class to implement it.**\n",
    "\n",
    "4. The methods in the derived classes usually **have a dissimilar implementation.**"
   ]
  },
  {
   "cell_type": "code",
   "execution_count": 2,
   "id": "294174f3-8e8e-4e0b-ac42-7ef278397c77",
   "metadata": {},
   "outputs": [
    {
     "name": "stdout",
     "output_type": "stream",
     "text": [
      "0\n",
      "Area of rectangle is: 60\n",
      "Area of circle is: 153.958\n"
     ]
    }
   ],
   "source": [
    "class Shape:\n",
    "    def __init__(self):  # initializing sides of all shapes to 0\n",
    "        self.sides = 0\n",
    "\n",
    "    def getArea(self):\n",
    "        return self.sides\n",
    "    \n",
    "obj = Shape()\n",
    "print(obj.getArea())\n",
    "\n",
    "class Rectangle(Shape):  # derived form Shape class\n",
    "    # initializer\n",
    "    def __init__(self, width=0, height=0):\n",
    "        self.width = width\n",
    "        self.height = height\n",
    "        self.sides = 4\n",
    "\n",
    "    # method to calculate Area\n",
    "    def getArea(self):\n",
    "        return (self.width * self.height)\n",
    "\n",
    "\n",
    "class Circle(Shape):  # derived form Shape class\n",
    "    # initializer\n",
    "    def __init__(self, radius=0):\n",
    "        self.radius = radius\n",
    "\n",
    "    # method to calculate Area\n",
    "    def getArea(self):\n",
    "        return (self.radius * self.radius * 3.142)\n",
    "\n",
    "\n",
    "shapes = [Rectangle(6, 10), Circle(7)]\n",
    "print(\"Area of rectangle is:\", str(shapes[0].getArea()))\n",
    "print(\"Area of circle is:\", str(shapes[1].getArea()))"
   ]
  },
  {
   "cell_type": "markdown",
   "id": "4fb2bfe4-0117-4d67-a152-734f5515ceef",
   "metadata": {},
   "source": [
    "### **Override a Method Using the Super Function**"
   ]
  },
  {
   "cell_type": "markdown",
   "id": "387efd2a-50a3-4543-9382-4c3bf4ac9d90",
   "metadata": {},
   "source": [
    ">#### The ```super()``` function is used to call the parent class method getName()."
   ]
  },
  {
   "cell_type": "code",
   "execution_count": 19,
   "id": "de0576b5-078b-4307-b7e9-3c3bb2e741ba",
   "metadata": {
    "tags": []
   },
   "outputs": [
    {
     "name": "stdout",
     "output_type": "stream",
     "text": [
      "Shape, Circle\n"
     ]
    }
   ],
   "source": [
    "# Parent Class\n",
    "class Shape:\n",
    "    sname = \"Shape\"\n",
    "\n",
    "    def getName(self):\n",
    "        return self.sname\n",
    "\n",
    "\n",
    "# child class\n",
    "class XShape(Shape):\n",
    "    # initializer\n",
    "    def __init__(self, name):\n",
    "        self.xsname = name\n",
    "\n",
    "    def getName(self):  # overriden method\n",
    "        return (super().getName() + \", \" + self.xsname)\n",
    "\n",
    "\n",
    "circle = XShape(\"Circle\")\n",
    "print(circle.getName())\n"
   ]
  },
  {
   "cell_type": "markdown",
   "id": "99118697-f9f6-4c0b-b4cc-40d4636be13f",
   "metadata": {},
   "source": [
    "## **Operator Overloading**"
   ]
  },
  {
   "cell_type": "markdown",
   "id": "c6ac537a-befb-4340-84ba-eabb0c5ae2ac",
   "metadata": {},
   "source": [
    "#### Simplly we will able to perfome **Arithmetic operations** using only **object name** after defining them.\n",
    "#### **Like:** ```object1 + object2```"
   ]
  },
  {
   "cell_type": "code",
   "execution_count": 11,
   "id": "0d1586ce-5623-4209-9b3c-c39feabe3a24",
   "metadata": {},
   "outputs": [
    {
     "name": "stdout",
     "output_type": "stream",
     "text": [
      "11\n"
     ]
    }
   ],
   "source": [
    "a = 5\n",
    "b = 6\n",
    "\n",
    "c = a + b\n",
    "print(c)"
   ]
  },
  {
   "cell_type": "markdown",
   "id": "6c0b73fd-4400-4044-836c-ae8e316feb67",
   "metadata": {},
   "source": [
    "### Without **Operator Overloading**/ **OverWriting**\n",
    "#### ```object1.propertyName + object2.propertyName```(Think about **complex Number** adding)"
   ]
  },
  {
   "cell_type": "code",
   "execution_count": 16,
   "id": "40982563-e252-45d1-8f37-a1110348b423",
   "metadata": {},
   "outputs": [],
   "source": [
    "class Student:\n",
    "\n",
    "    def __init__(self,m1,m2):\n",
    "        self.m1 = m1\n",
    "        self.m2 = m2\n",
    "\n",
    "    def __add__(self, other):\n",
    "        m1 = self.m1 + other.m1\n",
    "        m2 = self.m2 + other.m2\n",
    "        s3 = Student(m1,m2)\n",
    "\n",
    "        return  s3\n",
    "\n",
    "    def __gt__(self, other):\n",
    "        r1 = self.m1 + self.m2\n",
    "        r2 = other.m1 + other.m2\n",
    "        if r1 > r2:\n",
    "            return True\n",
    "        else:\n",
    "            return False\n",
    "\n",
    "    def __str__(self):\n",
    "        return '{} {}'.format( self.m1,self.m2)\n",
    "\n",
    "\n",
    "s1 = Student(58, 69)\n",
    "s2 = Student(69, 65)\n"
   ]
  },
  {
   "cell_type": "markdown",
   "id": "02ac45b0-3ef7-4824-8772-2b32a255f8f5",
   "metadata": {},
   "source": [
    "### Doing **Operator Overloading** like **Arithmetic Operation**"
   ]
  },
  {
   "cell_type": "code",
   "execution_count": 15,
   "id": "261875d4-18af-4520-9c8e-b6bd5a94d476",
   "metadata": {},
   "outputs": [
    {
     "name": "stdout",
     "output_type": "stream",
     "text": [
      "s2 wins\n",
      "9\n",
      "69 65\n"
     ]
    }
   ],
   "source": [
    "s3 = s1 + s2\n",
    "\n",
    "if s1 > s2:\n",
    "    print(\"s1 wins\")\n",
    "else:\n",
    "    print(\"s2 wins\")\n",
    "\n",
    "a = 9\n",
    "print(a.__str__())\n",
    "\n",
    "print(s2)"
   ]
  },
  {
   "cell_type": "markdown",
   "id": "4b5eff7b-d269-4583-a400-0d404319322e",
   "metadata": {},
   "source": [
    "### Applying to Complex Number"
   ]
  },
  {
   "cell_type": "code",
   "execution_count": 17,
   "id": "b3515a80",
   "metadata": {},
   "outputs": [
    {
     "name": "stdout",
     "output_type": "stream",
     "text": [
      "real of obj1: 3\n",
      "real of obj1: 7\n",
      "real of obj1: 2\n",
      "real of obj1: 5\n",
      "\n",
      "\n",
      "real of obj3: 5\n",
      "imag of obj3: 12\n",
      "real of obj4: 1\n",
      "imag of obj4: 2\n"
     ]
    }
   ],
   "source": [
    "class Complex:\n",
    "    def __init__(self, real=None, imag=None):\n",
    "        self.real = real\n",
    "        self.imag = imag\n",
    "\n",
    "    def __add__(self, other):  # overloading the `+` operator\n",
    "        temp = Complex(self.real + other.real, self.imag + other.imag)\n",
    "        return temp\n",
    "\n",
    "    def __sub__(self, other):  # overloading the `-` operator\n",
    "        temp = Complex(self.real - other.real, self.imag - other.imag)\n",
    "        return temp\n",
    "\n",
    "\n",
    "obj1 = Complex(3, 7)\n",
    "obj2 = Complex(2, 5)\n",
    "\n",
    "obj3 = obj1 + obj2\n",
    "obj4 = obj1 - obj2\n",
    "\n",
    "print('real of obj1:', obj1.real)\n",
    "print('real of obj1:', obj1.imag)\n",
    "print('real of obj1:', obj2.real)\n",
    "print('real of obj1:', obj2.imag)\n",
    "\n",
    "print('\\n')\n",
    "\n",
    "print(\"real of obj3:\", obj3.real)\n",
    "print(\"imag of obj3:\", obj3.imag)\n",
    "print(\"real of obj4:\", obj4.real)\n",
    "print(\"imag of obj4:\", obj4.imag)\n"
   ]
  },
  {
   "cell_type": "markdown",
   "id": "dfd9e547-c567-4736-a866-38390ec3674c",
   "metadata": {},
   "source": [
    "![Visual_idea](a.png)"
   ]
  },
  {
   "cell_type": "markdown",
   "id": "8648917f-3c38-4d30-9429-5b8bc399779f",
   "metadata": {},
   "source": [
    "## **Explanation**\n",
    "1. In the above code, we have overloaded the built-in method __add__ (line 6) and __sub__ (line 10) that are invoked when the + and the - operators are used.\n",
    "\n",
    "2. Whenever two objects of class Com are added using the + operator, the overloaded __add__ method is called.\n",
    "\n",
    "3. This method adds the real property separately and the imag property separately and then returns a new Com class object that is initialized by these sums.\n",
    "\n",
    "4. Note that __add__ and __sub__ methods have two input parameters. The first one is self, which we know is the reference to the class itself. The second parameter is other. **other is a reference to the other objects that are interacting with the class object.**\n",
    "\n",
    "5. In line 18, obj2 will be considered the other object, the operator will be called on the obj1 object, and the returned object will be stored in obj3.\n",
    "\n",
    "6. In line 19, obj2 will be considered the other object, the operator will be called on the obj1 object, and the returned object will be stored in obj4.\n",
    "\n",
    "7. Other has Com class attributes and thus, it has the real and imag properties."
   ]
  },
  {
   "cell_type": "markdown",
   "id": "c5930720-2dd8-44f7-a707-a026d30c588a",
   "metadata": {},
   "source": [
    "## **Dynamic typing**"
   ]
  },
  {
   "cell_type": "markdown",
   "id": "fb940f47-1b0b-45ac-a601-aa037c8b8458",
   "metadata": {},
   "source": [
    "#### Dynamic typing means that we can change the type of an object later in the code."
   ]
  },
  {
   "cell_type": "code",
   "execution_count": 19,
   "id": "d14b2ab2",
   "metadata": {},
   "outputs": [
    {
     "name": "stdout",
     "output_type": "stream",
     "text": [
      "Woof woof\n",
      "Meow meow\n"
     ]
    }
   ],
   "source": [
    "class Dog:\n",
    "    def Speak(self):\n",
    "        print(\"Woof woof\")\n",
    "\n",
    "class Cat:\n",
    "    def Speak(self):\n",
    "        print(\"Meow meow\")\n",
    "\n",
    "class AnimalSound:\n",
    "    def Sound(self, animal):\n",
    "        animal.Speak()\n",
    "\n",
    "sound = AnimalSound()\n",
    "dog = Dog()\n",
    "cat = Cat()\n",
    "# dog.Speak()\n",
    "# cat.Speak()\n",
    "sound.Sound(dog)\n",
    "sound.Sound(cat)"
   ]
  },
  {
   "cell_type": "markdown",
   "id": "610f330d-594b-4a04-95d2-b968c6c065ae",
   "metadata": {},
   "source": [
    "## **Explanation**\n",
    "#### The type of animal is not defined in the definition of the **method Sound.**\n",
    "\n",
    "#### Type of animal is determined when the method is called, so it does not matter which object type you are passing as a parameter in the Sound() method, what matters is that the **Speak() method should be defined in all the classes whose objects are passed in the Sound() method.**"
   ]
  },
  {
   "cell_type": "markdown",
   "id": "4d4fbe4d-8f84-4ff5-9915-3f2de887ba52",
   "metadata": {},
   "source": [
    "#### Now coming back to why it is called Duck typing: So, if a bird speaks like a duck, swims like a duck, and eats like a duck, that bird is a duck.\n",
    "\n",
    "#### Similarly, in the above example, the animal object does not matter in the definition of the Sound method as long as it has the associated behavior, Speak(), defined in the object’s class definition. In layman terms, since both the animals, dog and cats, can speak like animals, they both are animals. This is how we have achieved polymorphism without inheritance."
   ]
  },
  {
   "cell_type": "markdown",
   "id": "0a9b44a8-2765-435f-a381-69a9453950d2",
   "metadata": {},
   "source": [
    "## **Abstract Base Classes**"
   ]
  },
  {
   "cell_type": "markdown",
   "id": "b850f839-2ce9-49de-ab78-6dda0bfcc2e7",
   "metadata": {},
   "source": [
    "#### Abstract base classes define **a set of methods and properties that a class must implement in order to be considered a duck-type instance of that class.**"
   ]
  },
  {
   "cell_type": "code",
   "execution_count": null,
   "id": "846a563c",
   "metadata": {},
   "outputs": [],
   "source": []
  },
  {
   "cell_type": "markdown",
   "id": "0c2cdc23-e253-4257-8f6e-229df1cdb744",
   "metadata": {},
   "source": [
    ">#### By using abstract base classes, we can control classes whose objects can or cannot be created.\n",
    "\n"
   ]
  },
  {
   "cell_type": "markdown",
   "id": "d7cb8a27-7516-4803-8550-cd60865d9368",
   "metadata": {},
   "source": [
    "## **Implement an Animal Class**"
   ]
  },
  {
   "cell_type": "code",
   "execution_count": 30,
   "id": "e520781e",
   "metadata": {},
   "outputs": [
    {
     "name": "stdout",
     "output_type": "stream",
     "text": [
      "Pongo\n",
      "Woof Woof\n",
      "Husky\n",
      " \n",
      "Billy\n",
      "Baaa Baaa\n",
      "White\n"
     ]
    }
   ],
   "source": [
    "class Animal:\n",
    "    def __init__(self, name=None, sound=None):\n",
    "        self.name = name\n",
    "        self.sound = sound\n",
    "    \n",
    "    def Animal_details(self):\n",
    "        print(self.name)\n",
    "        print(self.sound)\n",
    "\n",
    "class Dog(Animal):\n",
    "    def __init__(self, name=None, sound=None, family=None):\n",
    "        super().__init__(name, sound)\n",
    "        self.family = family\n",
    "\n",
    "    def Animal_details(self):\n",
    "        super().Animal_details()\n",
    "        print(self.family)\n",
    "\n",
    "class Sheep(Animal):\n",
    "    def __init__(self, name=None, sound=None, color=None):\n",
    "        super().__init__(name, sound)\n",
    "        self.color = color\n",
    "\n",
    "    def Animal_details(self):\n",
    "        super().Animal_details()\n",
    "        print(self.color)\n",
    "\n",
    "\n",
    "d = Dog(\"Pongo\", \"Woof Woof\", \"Husky\")\n",
    "d.Animal_details()\n",
    "print(\" \")\n",
    "s = Sheep(\"Billy\", \"Baaa Baaa\", \"White\")\n",
    "s.Animal_details()"
   ]
  },
  {
   "cell_type": "markdown",
   "id": "1ea4d916-31ae-4be3-8991-92ad43a9d35f",
   "metadata": {},
   "source": [
    "## **Object Relationship**"
   ]
  },
  {
   "cell_type": "markdown",
   "id": "a9e3fbd4-352e-43ea-a696-e3dc4662a453",
   "metadata": {},
   "source": [
    "## **Interaction between class objects**"
   ]
  },
  {
   "cell_type": "markdown",
   "id": "b73c96dd-8f3d-4221-82e5-a141957229cd",
   "metadata": {},
   "source": [
    ">### There are three main class relationships we need to know:\n",
    "1. **IS A**\n",
    "2. **Part-of**\n",
    "3. **Has-a**"
   ]
  },
  {
   "cell_type": "markdown",
   "id": "b0a7a6a3-3463-47b8-8e95-b91558f2822b",
   "metadata": {},
   "source": [
    "### **Part-of**\n",
    "#### In this relationship, one class object is a component of another class object. Given two classes, class A and class B, they are in a part-of relation if a class A object is a part of class B object, or vice-versa."
   ]
  },
  {
   "cell_type": "markdown",
   "id": "86b7b9c9-035c-4640-8fc2-a325dd8d5ab6",
   "metadata": {},
   "source": [
    "![c](imgNotes/c.png)"
   ]
  }
 ],
 "metadata": {
  "kernelspec": {
   "display_name": "Python 3 (ipykernel)",
   "language": "python",
   "name": "python3"
  },
  "language_info": {
   "codemirror_mode": {
    "name": "ipython",
    "version": 3
   },
   "file_extension": ".py",
   "mimetype": "text/x-python",
   "name": "python",
   "nbconvert_exporter": "python",
   "pygments_lexer": "ipython3",
   "version": "3.11.0"
  }
 },
 "nbformat": 4,
 "nbformat_minor": 5
}
