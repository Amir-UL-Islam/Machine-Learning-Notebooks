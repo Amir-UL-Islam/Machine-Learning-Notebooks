{
 "cells": [
  {
   "cell_type": "markdown",
   "id": "016a2285-0da3-4c17-98c7-4c3f1b96976e",
   "metadata": {},
   "source": [
    "# **Neural Network**"
   ]
  },
  {
   "cell_type": "markdown",
   "id": "b50ed3b2-7ecc-4ec9-9b0f-f458cfb935cf",
   "metadata": {},
   "source": [
    "### **Chapter 1.**"
   ]
  },
  {
   "cell_type": "markdown",
   "id": "5d0a421d-3bca-464d-b148-935f3f5672c2",
   "metadata": {},
   "source": [
    ">### What is Neural Network?"
   ]
  },
  {
   "cell_type": "markdown",
   "id": "0e97787f-24e5-4816-ad4f-87dfada51228",
   "metadata": {},
   "source": [
    "#### **Neural** The things holds a Number. **A number between 0 and 1.**\n",
    "#### Thing of a 28x28 pixel picture of digit 9 billow.\n",
    "![9](img/7.png)\n",
    "\n"
   ]
  },
  {
   "cell_type": "markdown",
   "id": "e0ac9431-b0fb-44c2-87f0-c1208650ff09",
   "metadata": {},
   "source": [
    "#### It has total **28 times 28 = 784 Neurons**. Each one of this holds a Number between 0-1 to represents a gray scale color value of the corresponding pixel **(Assume that we are representing 7th pixel of 784 pixels)**. More close to **0 mean more blackish** and the **more close to 1 is whitish.**\n",
    "![a](img/a.png)"
   ]
  },
  {
   "cell_type": "markdown",
   "id": "54b68788-303d-4795-894b-3b78bde0a14d",
   "metadata": {},
   "source": [
    "#### And The Number inside the **Neuron(0.30)** refers The neuron is Activated."
   ]
  },
  {
   "cell_type": "code",
   "execution_count": null,
   "id": "dea301aa-75e6-4ead-9e08-67a001c3ed1b",
   "metadata": {},
   "outputs": [],
   "source": []
  },
  {
   "cell_type": "code",
   "execution_count": null,
   "id": "57f28698-a6b6-4791-b695-80ee62610fdb",
   "metadata": {},
   "outputs": [],
   "source": []
  },
  {
   "cell_type": "code",
   "execution_count": null,
   "id": "3f795daf-bd13-4726-92df-27ee50f83ea1",
   "metadata": {},
   "outputs": [],
   "source": []
  }
 ],
 "metadata": {
  "kernelspec": {
   "display_name": "Python 3 (ipykernel)",
   "language": "python",
   "name": "python3"
  },
  "language_info": {
   "codemirror_mode": {
    "name": "ipython",
    "version": 3
   },
   "file_extension": ".py",
   "mimetype": "text/x-python",
   "name": "python",
   "nbconvert_exporter": "python",
   "pygments_lexer": "ipython3",
   "version": "3.10.6"
  }
 },
 "nbformat": 4,
 "nbformat_minor": 5
}
