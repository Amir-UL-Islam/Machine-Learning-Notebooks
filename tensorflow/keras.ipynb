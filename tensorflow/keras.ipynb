{
 "cells": [
  {
   "cell_type": "markdown",
   "id": "5d5426d0-d988-4264-a47f-d511e0027086",
   "metadata": {},
   "source": [
    "### Functional Approach"
   ]
  },
  {
   "cell_type": "code",
   "execution_count": 1,
   "id": "9bf7b15a-8ec4-404c-8621-ab522a44feff",
   "metadata": {},
   "outputs": [
    {
     "ename": "ModuleNotFoundError",
     "evalue": "No module named 'tensorflow'",
     "output_type": "error",
     "traceback": [
      "\u001b[0;31m---------------------------------------------------------------------------\u001b[0m",
      "\u001b[0;31mModuleNotFoundError\u001b[0m                       Traceback (most recent call last)",
      "Cell \u001b[0;32mIn [1], line 1\u001b[0m\n\u001b[0;32m----> 1\u001b[0m \u001b[38;5;28;01mfrom\u001b[39;00m \u001b[38;5;21;01mtensorflow\u001b[39;00m\u001b[38;5;21;01m.\u001b[39;00m\u001b[38;5;21;01mkeras\u001b[39;00m\u001b[38;5;21;01m.\u001b[39;00m\u001b[38;5;21;01mlayers\u001b[39;00m \u001b[38;5;28;01mimport\u001b[39;00m Dense, Input\n\u001b[1;32m      2\u001b[0m \u001b[38;5;28;01mfrom\u001b[39;00m \u001b[38;5;21;01mkeras\u001b[39;00m\u001b[38;5;21;01m.\u001b[39;00m\u001b[38;5;21;01mutils\u001b[39;00m \u001b[38;5;28;01mimport\u001b[39;00m plot_model\n\u001b[1;32m      3\u001b[0m \u001b[38;5;28;01mimport\u001b[39;00m \u001b[38;5;21;01mmatplotlib\u001b[39;00m\u001b[38;5;21;01m.\u001b[39;00m\u001b[38;5;21;01mpyplot\u001b[39;00m \u001b[38;5;28;01mas\u001b[39;00m \u001b[38;5;21;01mplt\u001b[39;00m\n",
      "\u001b[0;31mModuleNotFoundError\u001b[0m: No module named 'tensorflow'"
     ]
    }
   ],
   "source": [
    "from tensorflow.keras.layers import Dense, Input\n",
    "from keras.utils import plot_model\n",
    "import matplotlib.pyplot as plt\n",
    "from tensorflow.keras.models import Model\n",
    "from tensorflow import keras\n",
    "import tensorflow  as tf\n",
    "\n",
    "\n",
    "# Defining the input Shape\n",
    "input_layer = Input(shape=(1, )) # Here the input will be a row of columns(can be 10, 100 or 20)\n",
    "\n",
    "# Output\n",
    "output_layer = Dense(1)(input_layer)\n",
    "\n",
    "# Creating the model\n",
    "model = Model(input_layer, output_layer)\n",
    "\n",
    "# Compiling the Model\n",
    "model.compile(optimizer='adam',\n",
    "              loss='mae',\n",
    "              metrics=['accuracy'])\n",
    "\n",
    "# Model Summary\n",
    "model.summary()\n"
   ]
  },
  {
   "cell_type": "markdown",
   "id": "c5082116-fdbe-4729-9e7f-e017a35c8ead",
   "metadata": {},
   "source": [
    "### Model : 'model_9'\n",
    "\n",
    "| Layer (type) | Output Shape | Param # |\n",
    "| ------------------------- | ----------------------------- | ------------------------------ |\n",
    "| dense_9 (Dense) | (**None**, 1) | 2 |\n"
   ]
  },
  {
   "cell_type": "markdown",
   "id": "afd9a195-2823-48f3-a700-1dde31ee0264",
   "metadata": {},
   "source": [
    ">#### Dense layers learn a **weight matrix**, where the **first dimension** (**None**, 1) of the matrix is the dimension of the input data, and the **second dimension** (None, **1**) is the dimension of the output data. Recall that your **Input layer has a shape of 1.**\n",
    "#### In this case, your output layer will also have a shape of 1. This means that the Dense layer will learn a 1x1 weight matrix."
   ]
  },
  {
   "cell_type": "code",
   "execution_count": 85,
   "id": "b4f03c2c-93e1-4325-b27d-2965e5ee2b3d",
   "metadata": {},
   "outputs": [
    {
     "data": {
      "image/png": "[encoded data removed]",
      "text/plain": [
       "<IPython.core.display.Image object>"
      ]
     },
     "execution_count": 85,
     "metadata": {},
     "output_type": "execute_result"
    }
   ],
   "source": [
    "def show_model_diagram(model):\n",
    "    img = plot_model(model, to_file='model.png')\n",
    "    return img\n",
    "\n",
    "# Calling the Function\n",
    "show_model_diagram(model)"
   ]
  },
  {
   "cell_type": "code",
   "execution_count": 86,
   "id": "a646f248-704c-4cbe-b45f-c4acc97f7f38",
   "metadata": {},
   "outputs": [
    {
     "data": {
      "text/html": [
       "<div>\n",
       "<style scoped>\n",
       "    .dataframe tbody tr th:only-of-type {\n",
       "        vertical-align: middle;\n",
       "    }\n",
       "\n",
       "    .dataframe tbody tr th {\n",
       "        vertical-align: top;\n",
       "    }\n",
       "\n",
       "    .dataframe thead th {\n",
       "        text-align: right;\n",
       "    }\n",
       "</style>\n",
       "<table border=\"1\" class=\"dataframe\">\n",
       "  <thead>\n",
       "    <tr style=\"text-align: right;\">\n",
       "      <th></th>\n",
       "      <th>season</th>\n",
       "      <th>team_1</th>\n",
       "      <th>team_2</th>\n",
       "      <th>home</th>\n",
       "      <th>seed_diff</th>\n",
       "      <th>score_diff</th>\n",
       "      <th>score_1</th>\n",
       "      <th>score_2</th>\n",
       "      <th>won</th>\n",
       "    </tr>\n",
       "  </thead>\n",
       "  <tbody>\n",
       "    <tr>\n",
       "      <th>0</th>\n",
       "      <td>1985</td>\n",
       "      <td>288</td>\n",
       "      <td>73</td>\n",
       "      <td>0</td>\n",
       "      <td>-3</td>\n",
       "      <td>-9</td>\n",
       "      <td>41</td>\n",
       "      <td>50</td>\n",
       "      <td>0</td>\n",
       "    </tr>\n",
       "    <tr>\n",
       "      <th>1</th>\n",
       "      <td>1985</td>\n",
       "      <td>5929</td>\n",
       "      <td>73</td>\n",
       "      <td>0</td>\n",
       "      <td>4</td>\n",
       "      <td>6</td>\n",
       "      <td>61</td>\n",
       "      <td>55</td>\n",
       "      <td>1</td>\n",
       "    </tr>\n",
       "    <tr>\n",
       "      <th>2</th>\n",
       "      <td>1985</td>\n",
       "      <td>9884</td>\n",
       "      <td>73</td>\n",
       "      <td>0</td>\n",
       "      <td>5</td>\n",
       "      <td>-4</td>\n",
       "      <td>59</td>\n",
       "      <td>63</td>\n",
       "      <td>0</td>\n",
       "    </tr>\n",
       "    <tr>\n",
       "      <th>3</th>\n",
       "      <td>1985</td>\n",
       "      <td>73</td>\n",
       "      <td>288</td>\n",
       "      <td>0</td>\n",
       "      <td>3</td>\n",
       "      <td>9</td>\n",
       "      <td>50</td>\n",
       "      <td>41</td>\n",
       "      <td>1</td>\n",
       "    </tr>\n",
       "    <tr>\n",
       "      <th>4</th>\n",
       "      <td>1985</td>\n",
       "      <td>3920</td>\n",
       "      <td>410</td>\n",
       "      <td>0</td>\n",
       "      <td>1</td>\n",
       "      <td>-9</td>\n",
       "      <td>54</td>\n",
       "      <td>63</td>\n",
       "      <td>0</td>\n",
       "    </tr>\n",
       "  </tbody>\n",
       "</table>\n",
       "</div>"
      ],
      "text/plain": [
       "   season  team_1  team_2  home  seed_diff  score_diff  score_1  score_2  won\n",
       "0    1985     288      73     0         -3          -9       41       50    0\n",
       "1    1985    5929      73     0          4           6       61       55    1\n",
       "2    1985    9884      73     0          5          -4       59       63    0\n",
       "3    1985      73     288     0          3           9       50       41    1\n",
       "4    1985    3920     410     0          1          -9       54       63    0"
      ]
     },
     "metadata": {},
     "output_type": "display_data"
    },
    {
     "name": "stdout",
     "output_type": "stream",
     "text": [
      "(4234, 9)\n"
     ]
    }
   ],
   "source": [
    "import pandas as pd\n",
    "from sklearn.model_selection import train_test_split\n",
    "\n",
    "games_tourney_train = pd.read_csv('datasets/basketball_data/games_tourney.csv')\n",
    "display(games_tourney_train.head())\n",
    "print(games_tourney_train.shape)"
   ]
  },
  {
   "cell_type": "code",
   "execution_count": 87,
   "id": "b9d63810-2ee3-4247-bccf-e6731187681b",
   "metadata": {},
   "outputs": [
    {
     "name": "stdout",
     "output_type": "stream",
     "text": [
      "Epoch 1/10\n",
      "106/106 [==============================] - 0s 2ms/step - loss: 10.1267 - accuracy: 0.0109 - val_loss: 8.9922 - val_accuracy: 0.0000e+00\n",
      "Epoch 2/10\n",
      "106/106 [==============================] - 0s 1ms/step - loss: 9.9057 - accuracy: 0.0142 - val_loss: 8.9526 - val_accuracy: 0.0000e+00\n",
      "Epoch 3/10\n",
      "106/106 [==============================] - 0s 1ms/step - loss: 9.7157 - accuracy: 0.0142 - val_loss: 8.9168 - val_accuracy: 0.0000e+00\n",
      "Epoch 4/10\n",
      "106/106 [==============================] - 0s 2ms/step - loss: 9.5652 - accuracy: 0.0142 - val_loss: 8.8846 - val_accuracy: 0.0000e+00\n",
      "Epoch 5/10\n",
      "106/106 [==============================] - 0s 1ms/step - loss: 9.4497 - accuracy: 0.0142 - val_loss: 8.8532 - val_accuracy: 0.0000e+00\n",
      "Epoch 6/10\n",
      "106/106 [==============================] - 0s 2ms/step - loss: 9.3546 - accuracy: 0.0142 - val_loss: 8.8273 - val_accuracy: 0.0000e+00\n",
      "Epoch 7/10\n",
      "106/106 [==============================] - 0s 1ms/step - loss: 9.2812 - accuracy: 0.0142 - val_loss: 8.8066 - val_accuracy: 0.0000e+00\n",
      "Epoch 8/10\n",
      "106/106 [==============================] - 0s 1ms/step - loss: 9.2290 - accuracy: 0.0142 - val_loss: 8.7832 - val_accuracy: 0.0000e+00\n",
      "Epoch 9/10\n",
      "106/106 [==============================] - 0s 1ms/step - loss: 9.1920 - accuracy: 0.0142 - val_loss: 8.7653 - val_accuracy: 0.0000e+00\n",
      "Epoch 10/10\n",
      "106/106 [==============================] - 0s 1ms/step - loss: 9.1758 - accuracy: 0.0142 - val_loss: 8.7548 - val_accuracy: 0.0000e+00\n"
     ]
    }
   ],
   "source": [
    "X_train, X_test, y_train, y_test = train_test_split(games_tourney_train['seed_diff'],\n",
    "                                                    games_tourney_train['score_diff'],\n",
    "                                                    test_size=0.2,\n",
    "                                                    random_state=0)\n",
    "\n",
    "# Now fit the model\n",
    "movements = model.fit(X_train, y_train,\n",
    "                      epochs=10,\n",
    "                      validation_split=0.001,\n",
    "                      verbose=True)"
   ]
  },
  {
   "cell_type": "code",
   "execution_count": 88,
   "id": "e1227481-ca94-4135-abd1-8fcd60385778",
   "metadata": {},
   "outputs": [
    {
     "data": {
      "image/png": "[encoded data removed]",
      "text/plain": [
       "<Figure size 432x288 with 1 Axes>"
      ]
     },
     "metadata": {
      "needs_background": "light"
     },
     "output_type": "display_data"
    }
   ],
   "source": [
    "plt.plot(movements.history['accuracy'], color='red', label='train')\n",
    "plt.plot(movements.history['val_accuracy'], color='blue', label='validation')\n",
    "plt.legend()\n",
    "plt.show()"
   ]
  },
  {
   "cell_type": "code",
   "execution_count": 89,
   "id": "c1701191-ce75-4d82-b7e0-66da423321c6",
   "metadata": {},
   "outputs": [
    {
     "data": {
      "text/plain": [
       "[9.200105667114258, 0.009445100091397762]"
      ]
     },
     "execution_count": 89,
     "metadata": {},
     "output_type": "execute_result"
    }
   ],
   "source": [
    "# Evaluate the model on the test data\n",
    "model.evaluate(X_test, y_test, verbose=False)"
   ]
  },
  {
   "cell_type": "markdown",
   "id": "44f2c463-7321-494e-b410-6271033fd7ce",
   "metadata": {},
   "source": [
    "## Category embeddings"
   ]
  },
  {
   "cell_type": "markdown",
   "id": "e2f3e1c5-3031-4c24-a546-23a32f918a40",
   "metadata": {},
   "source": [
    "#### Shared layers allow a model to use the same weight matrix for multiple steps."
   ]
  },
  {
   "cell_type": "code",
   "execution_count": 90,
   "id": "29b2767a-0db1-49a2-9d3d-f2dd88a7e722",
   "metadata": {},
   "outputs": [
    {
     "name": "stdout",
     "output_type": "stream",
     "text": [
      "10888\n"
     ]
    }
   ],
   "source": [
    "# Imports\n",
    "from tensorflow.keras.layers import Embedding, Flatten\n",
    "from numpy import unique\n",
    "\n",
    "# Reading data \n",
    "games_season = pd.read_csv('datasets/basketball_data/games_season.csv')\n",
    "\n",
    "# Count the unique number of teams\n",
    "n_teams = unique(games_season['team_1']).shape[0]\n",
    "\n",
    "print(n_teams)\n",
    "\n",
    "# Create an embedding layer\n",
    "team_lookup = Embedding(input_dim=n_teams,\n",
    "                        output_dim=1,\n",
    "                        input_length=1,\n",
    "                        name='Team-Strength')\n",
    "\n",
    "\n"
   ]
  },
  {
   "cell_type": "markdown",
   "id": "7eb79b55-50f0-4da1-90bf-2f5d06e07688",
   "metadata": {},
   "source": [
    "#### We will build a \"team strength\" layer that represents each team by a single number"
   ]
  },
  {
   "cell_type": "code",
   "execution_count": 91,
   "id": "60a45d51-59fa-471d-9bd6-321a01ea2790",
   "metadata": {},
   "outputs": [],
   "source": [
    "# Create an input layer for the team ID\n",
    "teamid_in = Input(shape=(1,))\n",
    "\n",
    "# Lookup the input in the team strength embedding layer\n",
    "strength_lookup = team_lookup(teamid_in)\n",
    "\n",
    "# Flatten the output\n",
    "strength_lookup_flat = Flatten()(strength_lookup)\n",
    "\n",
    "# Combine the operations into a single, re-usable model\n",
    "team_strength_model = Model(teamid_in, strength_lookup_flat, name='Team-Strength-Model')"
   ]
  },
  {
   "cell_type": "markdown",
   "id": "5e060dc6-c8ff-4ef2-a1f1-ec27d059c975",
   "metadata": {},
   "source": [
    "## Shared layers/ \"siamese networks\""
   ]
  },
  {
   "cell_type": "markdown",
   "id": "2cec3415-ecc9-45c4-99fc-17c8aaa4efa3",
   "metadata": {},
   "source": [
    "#### Shared layers are an **advanced deep learning concept,** and are only possible with the Keras functional API. *They allow you to define an operation and then apply the exact same operation **(with the exact same weights)** on different inputs.*"
   ]
  },
  {
   "cell_type": "code",
   "execution_count": 92,
   "id": "af78f0f5-43a1-41e7-917c-30edb16aa4a4",
   "metadata": {},
   "outputs": [],
   "source": [
    "# Load the input layer from tensorflow.keras.layers\n",
    "\n",
    "\n",
    "# Input layer for team 1\n",
    "team_in_1 = Input(shape=(1,), name='Team-1-In')\n",
    "\n",
    "# Separate input layer for team 2\n",
    "team_in_2 = Input(shape=(1,), name='Team-2-In')"
   ]
  },
  {
   "cell_type": "code",
   "execution_count": 93,
   "id": "cc247f4b-e091-4d7c-9878-db6e225e5206",
   "metadata": {},
   "outputs": [
    {
     "name": "stdout",
     "output_type": "stream",
     "text": [
      "True\n"
     ]
    }
   ],
   "source": [
    "# Lookup team 1 in the team strength model\n",
    "team_1_strength = team_strength_model(team_in_1)\n",
    "\n",
    "# Lookup team 2 in the team strength model\n",
    "team_2_strength = team_strength_model(team_in_2)\n",
    "print(team_1_strength.is_tensor_like)"
   ]
  },
  {
   "cell_type": "code",
   "execution_count": 94,
   "id": "3303e410-6477-4754-88d8-36dbe221babf",
   "metadata": {},
   "outputs": [
    {
     "name": "stdout",
     "output_type": "stream",
     "text": [
      "KerasTensor(type_spec=TensorSpec(shape=(None, 1), dtype=tf.float32, name=None), name='subtract_1/sub:0', description=\"created by layer 'subtract_1'\")\n"
     ]
    }
   ],
   "source": [
    "# Import the Subtract layer from tensorflow.keras\n",
    "from tensorflow.keras.layers import Subtract\n",
    "\n",
    "# Create a subtract layer using the inputs from the previous exercise\n",
    "score_diff = Subtract()([team_1_strength, team_2_strength])\n",
    "\n",
    "print(score_diff)"
   ]
  },
  {
   "cell_type": "code",
   "execution_count": 95,
   "id": "8dc7eb63-6009-4c1f-b25b-5040948d5688",
   "metadata": {},
   "outputs": [],
   "source": [
    "# Create the model\n",
    "model = Model([team_in_1, team_in_2], score_diff)\n",
    "\n",
    "# Compile the model\n",
    "model.compile('adam', 'mean_absolute_error')"
   ]
  },
  {
   "cell_type": "code",
   "execution_count": 96,
   "id": "5184f7ae-0cdb-4fa0-a38d-74def8a3b417",
   "metadata": {},
   "outputs": [
    {
     "data": {
      "image/png": "[encoded data removed]",
      "text/plain": [
       "<IPython.core.display.Image object>"
      ]
     },
     "execution_count": 96,
     "metadata": {},
     "output_type": "execute_result"
    }
   ],
   "source": [
    "show_model_diagram(model)"
   ]
  },
  {
   "cell_type": "code",
   "execution_count": 97,
   "id": "80386238-87d9-4561-9ae2-3f47bc5eb04c",
   "metadata": {},
   "outputs": [
    {
     "name": "stdout",
     "output_type": "stream",
     "text": [
      "Epoch 1/5\n",
      "8780/8780 [==============================] - 9s 1ms/step - loss: 12.0493 - val_loss: 11.7257\n",
      "Epoch 2/5\n",
      "8780/8780 [==============================] - 9s 1ms/step - loss: 11.8610 - val_loss: 11.5931\n",
      "Epoch 3/5\n",
      "8780/8780 [==============================] - 8s 952us/step - loss: 11.6773 - val_loss: 11.4622\n",
      "Epoch 4/5\n",
      "8780/8780 [==============================] - 10s 1ms/step - loss: 11.5026 - val_loss: 11.3352\n",
      "Epoch 5/5\n",
      "8780/8780 [==============================] - 9s 969us/step - loss: 11.3375 - val_loss: 11.2125\n"
     ]
    },
    {
     "data": {
      "text/plain": [
       "<keras.callbacks.History at 0x7f9bb1d76ec0>"
      ]
     },
     "execution_count": 97,
     "metadata": {},
     "output_type": "execute_result"
    }
   ],
   "source": [
    "# Get the team_1 column from the regular season data\n",
    "input_1 = games_season['team_1']\n",
    "\n",
    "# Get the team_2 column from the regular season data\n",
    "input_2 = games_season['team_2']\n",
    "\n",
    "# Fit the model to input 1 and 2, using score diff as a target\n",
    "model.fit([input_1, input_2],\n",
    "          games_season['score_diff'],\n",
    "          epochs=5,\n",
    "          validation_split=0.1,\n",
    "          verbose=True)"
   ]
  },
  {
   "cell_type": "code",
   "execution_count": 98,
   "id": "c457acb1-02b3-46f1-8872-3325c22a0c3f",
   "metadata": {},
   "outputs": [
    {
     "name": "stdout",
     "output_type": "stream",
     "text": [
      "11.335820198059082\n"
     ]
    }
   ],
   "source": [
    "# Get team_1 from the tournament data\n",
    "input_1 = games_tourney_train['team_1']\n",
    "\n",
    "# Get team_2 from the tournament data\n",
    "input_2 = games_tourney_train['team_2']\n",
    "\n",
    "# Evaluate the model using these inputs\n",
    "print(model.evaluate([input_1, input_2], games_tourney_train['score_diff'], verbose=False))"
   ]
  },
  {
   "cell_type": "markdown",
   "id": "b133e6ba-8e85-4a1a-a02e-c744b23d048b",
   "metadata": {},
   "source": [
    "## Beyond 2 Inputs"
   ]
  },
  {
   "cell_type": "code",
   "execution_count": 99,
   "id": "9395c0f4-c26e-4777-b856-861905840974",
   "metadata": {},
   "outputs": [],
   "source": [
    "from tensorflow.keras.layers import Concatenate\n",
    "\n",
    "# Create an Input for each team\n",
    "team_in_1 = Input(shape=(1,), name='Team-1-In')\n",
    "team_in_2 = Input(shape=(1,), name='Team-2-In')\n",
    "\n",
    "# Create an input for home vs away\n",
    "home_in = Input(shape=(1,), name='Home-In')\n",
    "\n",
    "# Lookup the team inputs in the team strength model\n",
    "team_1_strength = team_strength_model(team_in_1)\n",
    "team_2_strength = team_strength_model(team_in_2)\n",
    "\n",
    "# Combine the team strengths with the home input using a Concatenate layer, then add a Dense layer\n",
    "out = Concatenate()([team_1_strength, team_2_strength, home_in])\n",
    "out = Dense(1)(out)"
   ]
  },
  {
   "cell_type": "code",
   "execution_count": 100,
   "id": "f37c94e3-bc37-43f0-93b1-9e67f54d96ed",
   "metadata": {},
   "outputs": [],
   "source": [
    "# Import the model class\n",
    "\n",
    "\n",
    "# Make a Model\n",
    "model = Model([team_in_1, team_in_2, home_in], out)\n",
    "\n",
    "# Compile the model\n",
    "model.compile(optimizer='adam', loss='mean_absolute_error', metrics=['accuracy'])"
   ]
  },
  {
   "cell_type": "code",
   "execution_count": 101,
   "id": "d2d21e4f-59bb-435b-a895-0bcdf58c17f3",
   "metadata": {},
   "outputs": [
    {
     "data": {
      "image/png": "[encoded data removed]",
      "text/plain": [
       "<IPython.core.display.Image object>"
      ]
     },
     "execution_count": 101,
     "metadata": {},
     "output_type": "execute_result"
    }
   ],
   "source": [
    "show_model_diagram(model)"
   ]
  },
  {
   "cell_type": "code",
   "execution_count": 107,
   "id": "a0f57076-84e8-47f9-bba5-3042dbf0fcc0",
   "metadata": {},
   "outputs": [
    {
     "name": "stdout",
     "output_type": "stream",
     "text": [
      "8780/8780 [==============================] - 9s 1ms/step - loss: 8.4033 - accuracy: 0.0154 - val_loss: 8.8763 - val_accuracy: 0.0000e+00\n"
     ]
    },
    {
     "data": {
      "text/plain": [
       "[8.342394828796387, 0.013815836049616337]"
      ]
     },
     "execution_count": 107,
     "metadata": {},
     "output_type": "execute_result"
    }
   ],
   "source": [
    "# Fit the model to the games_season dataset\n",
    "movements = model.fit([games_season['team_1'], games_season['team_2'], games_season['home']],\n",
    "          games_season['score_diff'],\n",
    "          epochs=1,\n",
    "          verbose=True,\n",
    "          validation_split=0.1)\n",
    "\n",
    "# Evaluate the model on the games_tourney dataset\n",
    "model.evaluate([games_season['team_1'], games_season['team_2'], games_season['home']],\n",
    "                     games_season['score_diff'],\n",
    "                     verbose=False)"
   ]
  },
  {
   "cell_type": "code",
   "execution_count": 108,
   "id": "f5fe7172-f6d5-4074-a0af-46b966692f89",
   "metadata": {},
   "outputs": [
    {
     "name": "stdout",
     "output_type": "stream",
     "text": [
      "Model: \"model_11\"\n",
      "__________________________________________________________________________________________________\n",
      " Layer (type)                   Output Shape         Param #     Connected to                     \n",
      "==================================================================================================\n",
      " Team-1-In (InputLayer)         [(None, 1)]          0           []                               \n",
      "                                                                                                  \n",
      " Team-2-In (InputLayer)         [(None, 1)]          0           []                               \n",
      "                                                                                                  \n",
      " Team-Strength-Model (Functiona  (None, 1)           10888       ['Team-1-In[0][0]',              \n",
      " l)                                                               'Team-2-In[0][0]']              \n",
      "                                                                                                  \n",
      " Home-In (InputLayer)           [(None, 1)]          0           []                               \n",
      "                                                                                                  \n",
      " concatenate_2 (Concatenate)    (None, 3)            0           ['Team-Strength-Model[2][0]',    \n",
      "                                                                  'Team-Strength-Model[3][0]',    \n",
      "                                                                  'Home-In[0][0]']                \n",
      "                                                                                                  \n",
      " dense_10 (Dense)               (None, 1)            4           ['concatenate_2[0][0]']          \n",
      "                                                                                                  \n",
      "==================================================================================================\n",
      "Total params: 10,892\n",
      "Trainable params: 10,892\n",
      "Non-trainable params: 0\n",
      "__________________________________________________________________________________________________\n"
     ]
    }
   ],
   "source": [
    "model.summary()"
   ]
  },
  {
   "cell_type": "code",
   "execution_count": 110,
   "id": "28ab192b-ea67-4190-891e-01492bafa7d5",
   "metadata": {},
   "outputs": [
    {
     "data": {
      "image/png": "[encoded data removed]",
      "text/plain": [
       "<Figure size 432x288 with 1 Axes>"
      ]
     },
     "metadata": {
      "needs_background": "light"
     },
     "output_type": "display_data"
    }
   ],
   "source": [
    "plt.plot(movements.history['accuracy'], color='red', label='train')\n",
    "plt.plot(movements.history['val_accuracy'], color='blue', label='validation')\n",
    "plt.legend()\n",
    "plt.show()"
   ]
  },
  {
   "cell_type": "markdown",
   "id": "87927166-4422-4384-9914-1f247727d6d8",
   "metadata": {},
   "source": [
    "## Stacking models"
   ]
  },
  {
   "cell_type": "markdown",
   "id": "850dac08-52aa-4d46-b775-8b776681247d",
   "metadata": {},
   "source": [
    "#### Stacking keras models means using the predictions from one model as an input to a second model. "
   ]
  },
  {
   "cell_type": "code",
   "execution_count": 111,
   "id": "31a02c90-7914-4cdf-b38f-11670cd0bc2d",
   "metadata": {},
   "outputs": [
    {
     "data": {
      "text/html": [
       "<div>\n",
       "<style scoped>\n",
       "    .dataframe tbody tr th:only-of-type {\n",
       "        vertical-align: middle;\n",
       "    }\n",
       "\n",
       "    .dataframe tbody tr th {\n",
       "        vertical-align: top;\n",
       "    }\n",
       "\n",
       "    .dataframe thead th {\n",
       "        text-align: right;\n",
       "    }\n",
       "</style>\n",
       "<table border=\"1\" class=\"dataframe\">\n",
       "  <thead>\n",
       "    <tr style=\"text-align: right;\">\n",
       "      <th></th>\n",
       "      <th>season</th>\n",
       "      <th>team_1</th>\n",
       "      <th>team_2</th>\n",
       "      <th>home</th>\n",
       "      <th>seed_diff</th>\n",
       "      <th>score_diff</th>\n",
       "      <th>score_1</th>\n",
       "      <th>score_2</th>\n",
       "      <th>won</th>\n",
       "    </tr>\n",
       "  </thead>\n",
       "  <tbody>\n",
       "    <tr>\n",
       "      <th>0</th>\n",
       "      <td>1985</td>\n",
       "      <td>288</td>\n",
       "      <td>73</td>\n",
       "      <td>0</td>\n",
       "      <td>-3</td>\n",
       "      <td>-9</td>\n",
       "      <td>41</td>\n",
       "      <td>50</td>\n",
       "      <td>0</td>\n",
       "    </tr>\n",
       "    <tr>\n",
       "      <th>1</th>\n",
       "      <td>1985</td>\n",
       "      <td>5929</td>\n",
       "      <td>73</td>\n",
       "      <td>0</td>\n",
       "      <td>4</td>\n",
       "      <td>6</td>\n",
       "      <td>61</td>\n",
       "      <td>55</td>\n",
       "      <td>1</td>\n",
       "    </tr>\n",
       "    <tr>\n",
       "      <th>2</th>\n",
       "      <td>1985</td>\n",
       "      <td>9884</td>\n",
       "      <td>73</td>\n",
       "      <td>0</td>\n",
       "      <td>5</td>\n",
       "      <td>-4</td>\n",
       "      <td>59</td>\n",
       "      <td>63</td>\n",
       "      <td>0</td>\n",
       "    </tr>\n",
       "    <tr>\n",
       "      <th>3</th>\n",
       "      <td>1985</td>\n",
       "      <td>73</td>\n",
       "      <td>288</td>\n",
       "      <td>0</td>\n",
       "      <td>3</td>\n",
       "      <td>9</td>\n",
       "      <td>50</td>\n",
       "      <td>41</td>\n",
       "      <td>1</td>\n",
       "    </tr>\n",
       "    <tr>\n",
       "      <th>4</th>\n",
       "      <td>1985</td>\n",
       "      <td>3920</td>\n",
       "      <td>410</td>\n",
       "      <td>0</td>\n",
       "      <td>1</td>\n",
       "      <td>-9</td>\n",
       "      <td>54</td>\n",
       "      <td>63</td>\n",
       "      <td>0</td>\n",
       "    </tr>\n",
       "  </tbody>\n",
       "</table>\n",
       "</div>"
      ],
      "text/plain": [
       "   season  team_1  team_2  home  seed_diff  score_diff  score_1  score_2  won\n",
       "0    1985     288      73     0         -3          -9       41       50    0\n",
       "1    1985    5929      73     0          4           6       61       55    1\n",
       "2    1985    9884      73     0          5          -4       59       63    0\n",
       "3    1985      73     288     0          3           9       50       41    1\n",
       "4    1985    3920     410     0          1          -9       54       63    0"
      ]
     },
     "execution_count": 111,
     "metadata": {},
     "output_type": "execute_result"
    }
   ],
   "source": [
    "games_tourney = pd.read_csv('datasets/basketball_data/games_tourney.csv')\n",
    "games_tourney.head()"
   ]
  },
  {
   "cell_type": "code",
   "execution_count": 112,
   "id": "ab2a5e02-bc9d-425e-b9f0-58f1eb5667f3",
   "metadata": {},
   "outputs": [
    {
     "name": "stdout",
     "output_type": "stream",
     "text": [
      "133/133 [==============================] - 0s 737us/step\n"
     ]
    },
    {
     "data": {
      "text/html": [
       "<div>\n",
       "<style scoped>\n",
       "    .dataframe tbody tr th:only-of-type {\n",
       "        vertical-align: middle;\n",
       "    }\n",
       "\n",
       "    .dataframe tbody tr th {\n",
       "        vertical-align: top;\n",
       "    }\n",
       "\n",
       "    .dataframe thead th {\n",
       "        text-align: right;\n",
       "    }\n",
       "</style>\n",
       "<table border=\"1\" class=\"dataframe\">\n",
       "  <thead>\n",
       "    <tr style=\"text-align: right;\">\n",
       "      <th></th>\n",
       "      <th>season</th>\n",
       "      <th>team_1</th>\n",
       "      <th>team_2</th>\n",
       "      <th>home</th>\n",
       "      <th>seed_diff</th>\n",
       "      <th>score_diff</th>\n",
       "      <th>score_1</th>\n",
       "      <th>score_2</th>\n",
       "      <th>won</th>\n",
       "      <th>pred</th>\n",
       "    </tr>\n",
       "  </thead>\n",
       "  <tbody>\n",
       "    <tr>\n",
       "      <th>0</th>\n",
       "      <td>1985</td>\n",
       "      <td>288</td>\n",
       "      <td>73</td>\n",
       "      <td>0</td>\n",
       "      <td>-3</td>\n",
       "      <td>-9</td>\n",
       "      <td>41</td>\n",
       "      <td>50</td>\n",
       "      <td>0</td>\n",
       "      <td>-4.725586</td>\n",
       "    </tr>\n",
       "    <tr>\n",
       "      <th>1</th>\n",
       "      <td>1985</td>\n",
       "      <td>5929</td>\n",
       "      <td>73</td>\n",
       "      <td>0</td>\n",
       "      <td>4</td>\n",
       "      <td>6</td>\n",
       "      <td>61</td>\n",
       "      <td>55</td>\n",
       "      <td>1</td>\n",
       "      <td>-1.366482</td>\n",
       "    </tr>\n",
       "    <tr>\n",
       "      <th>2</th>\n",
       "      <td>1985</td>\n",
       "      <td>9884</td>\n",
       "      <td>73</td>\n",
       "      <td>0</td>\n",
       "      <td>5</td>\n",
       "      <td>-4</td>\n",
       "      <td>59</td>\n",
       "      <td>63</td>\n",
       "      <td>0</td>\n",
       "      <td>2.513804</td>\n",
       "    </tr>\n",
       "    <tr>\n",
       "      <th>3</th>\n",
       "      <td>1985</td>\n",
       "      <td>73</td>\n",
       "      <td>288</td>\n",
       "      <td>0</td>\n",
       "      <td>3</td>\n",
       "      <td>9</td>\n",
       "      <td>50</td>\n",
       "      <td>41</td>\n",
       "      <td>1</td>\n",
       "      <td>-0.071169</td>\n",
       "    </tr>\n",
       "    <tr>\n",
       "      <th>4</th>\n",
       "      <td>1985</td>\n",
       "      <td>3920</td>\n",
       "      <td>410</td>\n",
       "      <td>0</td>\n",
       "      <td>1</td>\n",
       "      <td>-9</td>\n",
       "      <td>54</td>\n",
       "      <td>63</td>\n",
       "      <td>0</td>\n",
       "      <td>-0.407283</td>\n",
       "    </tr>\n",
       "  </tbody>\n",
       "</table>\n",
       "</div>"
      ],
      "text/plain": [
       "   season  team_1  team_2  home  seed_diff  score_diff  score_1  score_2  won  \\\n",
       "0    1985     288      73     0         -3          -9       41       50    0   \n",
       "1    1985    5929      73     0          4           6       61       55    1   \n",
       "2    1985    9884      73     0          5          -4       59       63    0   \n",
       "3    1985      73     288     0          3           9       50       41    1   \n",
       "4    1985    3920     410     0          1          -9       54       63    0   \n",
       "\n",
       "       pred  \n",
       "0 -4.725586  \n",
       "1 -1.366482  \n",
       "2  2.513804  \n",
       "3 -0.071169  \n",
       "4 -0.407283  "
      ]
     },
     "execution_count": 112,
     "metadata": {},
     "output_type": "execute_result"
    }
   ],
   "source": [
    "# Predict\n",
    "games_tourney['pred'] = model.predict([games_tourney['team_1'], games_tourney['team_2'] , games_tourney['home']])\n",
    "games_tourney.head()"
   ]
  },
  {
   "cell_type": "code",
   "execution_count": 113,
   "id": "4fd69a41-125a-4571-a46c-af23dedf301b",
   "metadata": {},
   "outputs": [],
   "source": [
    "# Create an input layer with 3 columns\n",
    "input_tensor = Input((3,))\n",
    "\n",
    "# Pass it to a Dense layer with 1 unit\n",
    "output_tensor = Dense(1)(input_tensor)\n",
    "\n",
    "# Create a model\n",
    "model = Model(input_tensor, output_tensor)\n",
    "\n",
    "# Compile the model\n",
    "model.compile(optimizer='adam', loss='mean_absolute_error')"
   ]
  },
  {
   "cell_type": "code",
   "execution_count": 114,
   "id": "15c298ea-77df-4a58-acc5-ce2b926e4079",
   "metadata": {},
   "outputs": [
    {
     "data": {
      "image/png": "[encoded data removed]",
      "text/plain": [
       "<IPython.core.display.Image object>"
      ]
     },
     "execution_count": 114,
     "metadata": {},
     "output_type": "execute_result"
    }
   ],
   "source": [
    "show_model_diagram(model)"
   ]
  },
  {
   "cell_type": "code",
   "execution_count": 115,
   "id": "d6e15522-5f9a-4a45-9902-ba628b5245c4",
   "metadata": {},
   "outputs": [
    {
     "name": "stdout",
     "output_type": "stream",
     "text": [
      "Epoch 1/5\n",
      "133/133 [==============================] - 0s 806us/step - loss: 8.9941\n",
      "Epoch 2/5\n",
      "133/133 [==============================] - 0s 965us/step - loss: 8.9467\n",
      "Epoch 3/5\n",
      "133/133 [==============================] - 0s 955us/step - loss: 8.9303\n",
      "Epoch 4/5\n",
      "133/133 [==============================] - 0s 925us/step - loss: 8.9229\n",
      "Epoch 5/5\n",
      "133/133 [==============================] - 0s 1ms/step - loss: 8.9181\n"
     ]
    },
    {
     "data": {
      "text/plain": [
       "<keras.callbacks.History at 0x7f9bb1484d60>"
      ]
     },
     "execution_count": 115,
     "metadata": {},
     "output_type": "execute_result"
    }
   ],
   "source": [
    "# Fit the model\n",
    "model.fit(games_tourney[['home', 'seed_diff', 'pred']],\n",
    "          games_tourney['score_diff'],\n",
    "          epochs=5,\n",
    "          verbose=True)"
   ]
  },
  {
   "cell_type": "code",
   "execution_count": 116,
   "id": "3d086381-f18b-474f-bf0a-19b17621493c",
   "metadata": {},
   "outputs": [
    {
     "name": "stdout",
     "output_type": "stream",
     "text": [
      "8.91511344909668\n"
     ]
    }
   ],
   "source": [
    "# Evaluate the model on the games_tourney_test dataset\n",
    "print(model.evaluate(games_tourney[['home', 'seed_diff', 'pred']],\n",
    "               games_tourney['score_diff'], verbose=False))"
   ]
  },
  {
   "cell_type": "markdown",
   "id": "60e187b0-a6fe-498d-9edc-6115b51bd34b",
   "metadata": {},
   "source": [
    "### Simple two-output model"
   ]
  },
  {
   "cell_type": "markdown",
   "id": "4cc2f948-9354-490d-9f4d-eee9ed7b2eda",
   "metadata": {},
   "source": [
    "### Classification and regression in one model"
   ]
  },
  {
   "cell_type": "code",
   "execution_count": 117,
   "id": "4c14a637-e5d8-4e1a-af15-e048ba09a656",
   "metadata": {},
   "outputs": [],
   "source": [
    "# Create an input layer with 2 columns\n",
    "input_tensor = Input(shape=(2, ))\n",
    "\n",
    "# Create the first output\n",
    "output_tensor_1 = Dense(1, activation='linear', use_bias=False)(input_tensor)\n",
    "\n",
    "# Create the second output (use the first output as input here)\n",
    "output_tensor_2 = Dense(1, activation='sigmoid', use_bias=False)(output_tensor_1)\n",
    "\n",
    "# Create a model with 2 outputs\n",
    "model = Model(input_tensor, [output_tensor_1, output_tensor_2])"
   ]
  },
  {
   "cell_type": "code",
   "execution_count": 121,
   "id": "1e682490-f739-4525-a0ed-cb6f799fad0f",
   "metadata": {},
   "outputs": [
    {
     "data": {
      "image/png": "[encoded data removed]",
      "text/plain": [
       "<IPython.core.display.Image object>"
      ]
     },
     "execution_count": 121,
     "metadata": {},
     "output_type": "execute_result"
    }
   ],
   "source": [
    "show_model_diagram(model)"
   ]
  },
  {
   "cell_type": "code",
   "execution_count": 119,
   "id": "e5c062c7-20d7-42dd-86a0-190e07605649",
   "metadata": {},
   "outputs": [
    {
     "name": "stdout",
     "output_type": "stream",
     "text": [
      "Epoch 1/10\n",
      "1/1 [==============================] - 0s 340ms/step - loss: 13.7749 - dense_12_loss: 12.3437 - dense_13_loss: 1.4312\n",
      "Epoch 2/10\n",
      "1/1 [==============================] - 0s 3ms/step - loss: 13.7285 - dense_12_loss: 12.2686 - dense_13_loss: 1.4599\n",
      "Epoch 3/10\n",
      "1/1 [==============================] - 0s 5ms/step - loss: 13.6860 - dense_12_loss: 12.1968 - dense_13_loss: 1.4892\n",
      "Epoch 4/10\n",
      "1/1 [==============================] - 0s 5ms/step - loss: 13.6467 - dense_12_loss: 12.1339 - dense_13_loss: 1.5128\n",
      "Epoch 5/10\n",
      "1/1 [==============================] - 0s 4ms/step - loss: 13.6086 - dense_12_loss: 12.0837 - dense_13_loss: 1.5249\n",
      "Epoch 6/10\n",
      "1/1 [==============================] - 0s 4ms/step - loss: 13.5707 - dense_12_loss: 12.0453 - dense_13_loss: 1.5254\n",
      "Epoch 7/10\n",
      "1/1 [==============================] - 0s 5ms/step - loss: 13.5327 - dense_12_loss: 12.0153 - dense_13_loss: 1.5174\n",
      "Epoch 8/10\n",
      "1/1 [==============================] - 0s 7ms/step - loss: 13.4947 - dense_12_loss: 11.9909 - dense_13_loss: 1.5038\n",
      "Epoch 9/10\n",
      "1/1 [==============================] - 0s 7ms/step - loss: 13.4568 - dense_12_loss: 11.9705 - dense_13_loss: 1.4863\n",
      "Epoch 10/10\n",
      "1/1 [==============================] - 0s 5ms/step - loss: 13.4192 - dense_12_loss: 11.9529 - dense_13_loss: 1.4662\n"
     ]
    },
    {
     "data": {
      "text/plain": [
       "<keras.callbacks.History at 0x7f9bb121c100>"
      ]
     },
     "execution_count": 119,
     "metadata": {},
     "output_type": "execute_result"
    }
   ],
   "source": [
    "# Import the Adam optimizer\n",
    "from tensorflow.keras.optimizers import Adam\n",
    "\n",
    "# Compile the model with 2 losses and the Adam optimzer with a higher learning rate\n",
    "model.compile(loss=['mean_absolute_error', 'binary_crossentropy'],optimizer=Adam(learning_rate=0.01))\n",
    "\n",
    "# Fit the model to the tournament training data, with 2 inputs and 2 outputs\n",
    "model.fit(games_tourney[['seed_diff', 'pred']],\n",
    "          [games_tourney[['score_diff']], games_tourney_train[['won']]],\n",
    "          epochs=10,\n",
    "          verbose=True,\n",
    "          batch_size=16384)"
   ]
  },
  {
   "cell_type": "code",
   "execution_count": 122,
   "id": "3eb9b373-de41-4e3c-a889-021090855262",
   "metadata": {},
   "outputs": [
    {
     "name": "stdout",
     "output_type": "stream",
     "text": [
      "[array([[-0.5167884],\n",
      "       [ 0.5378348]], dtype=float32), array([[-1.241304]], dtype=float32)]\n"
     ]
    }
   ],
   "source": [
    "print(model.get_weights())"
   ]
  },
  {
   "cell_type": "code",
   "execution_count": 124,
   "id": "7ccaffef-5018-4745-ba96-08ab9942e769",
   "metadata": {},
   "outputs": [
    {
     "name": "stdout",
     "output_type": "stream",
     "text": [
      "0.22420908722161387\n",
      "4.06521443335604e-06\n"
     ]
    }
   ],
   "source": [
    "# Import the sigmoid function from scipy\n",
    "from scipy.special import expit as sigmoid\n",
    "\n",
    "# Weight from the model\n",
    "weight = -1.241304\n",
    "\n",
    "# Print the approximate win probability of a predicted close game\n",
    "print(sigmoid(1 * weight))\n",
    "\n",
    "# Print the approximate win probability of a predicted blowout game\n",
    "print(sigmoid(10 * weight))"
   ]
  },
  {
   "cell_type": "code",
   "execution_count": 127,
   "id": "650c4620-b9c3-42af-b399-743d822a03ab",
   "metadata": {},
   "outputs": [
    {
     "name": "stdout",
     "output_type": "stream",
     "text": [
      "[13.381877899169922, 11.937427520751953, 1.4444490671157837]\n"
     ]
    }
   ],
   "source": [
    "# Evaluate the model on new data\n",
    "print(model.evaluate(games_tourney[['seed_diff', 'pred']],\n",
    "               [games_tourney[['score_diff']], games_tourney[['won']]], verbose=False))"
   ]
  }
 ],
 "metadata": {
  "kernelspec": {
   "display_name": "Python 3 (ipykernel)",
   "language": "python",
   "name": "python3"
  },
  "language_info": {
   "codemirror_mode": {
    "name": "ipython",
    "version": 3
   },
   "file_extension": ".py",
   "mimetype": "text/x-python",
   "name": "python",
   "nbconvert_exporter": "python",
   "pygments_lexer": "ipython3",
   "version": "3.11.1"
  }
 },
 "nbformat": 4,
 "nbformat_minor": 5
}
