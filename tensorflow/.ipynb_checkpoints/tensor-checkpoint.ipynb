{
 "cells": [
  {
   "cell_type": "code",
   "execution_count": 1,
   "id": "bc78661c-7e73-4ffb-b045-b5ce91bab0a6",
   "metadata": {},
   "outputs": [
    {
     "name": "stderr",
     "output_type": "stream",
     "text": [
      "2022-10-09 04:48:24.147900: I tensorflow/core/platform/cpu_feature_guard.cc:193] This TensorFlow binary is optimized with oneAPI Deep Neural Network Library (oneDNN) to use the following CPU instructions in performance-critical operations:  AVX2 FMA\n",
      "To enable them in other operations, rebuild TensorFlow with the appropriate compiler flags.\n"
     ]
    }
   ],
   "source": [
    "import tensorflow as tf\n",
    "import numpy as np"
   ]
  },
  {
   "cell_type": "markdown",
   "id": "76289c54-0718-4f34-b142-6b4194f49608",
   "metadata": {},
   "source": [
    "### Building Tensors"
   ]
  },
  {
   "cell_type": "markdown",
   "id": "b2e5d5c3-1a0c-446a-b158-68951ec22fef",
   "metadata": {},
   "source": [
    "#### 0D tensor"
   ]
  },
  {
   "cell_type": "code",
   "execution_count": 2,
   "id": "37435da9-3071-4732-b906-fe8100b51c71",
   "metadata": {},
   "outputs": [
    {
     "name": "stderr",
     "output_type": "stream",
     "text": [
      "2022-10-09 04:48:28.756943: I tensorflow/core/platform/cpu_feature_guard.cc:193] This TensorFlow binary is optimized with oneAPI Deep Neural Network Library (oneDNN) to use the following CPU instructions in performance-critical operations:  AVX2 FMA\n",
      "To enable them in other operations, rebuild TensorFlow with the appropriate compiler flags.\n"
     ]
    }
   ],
   "source": [
    "d0 = tf.ones((1, ))"
   ]
  },
  {
   "cell_type": "markdown",
   "id": "fba59de4-6e5e-4cb0-8a69-bd1fb718f959",
   "metadata": {},
   "source": [
    "#### 1D tensor"
   ]
  },
  {
   "cell_type": "code",
   "execution_count": 3,
   "id": "5a1e57b7-56fd-49e7-a6ec-c8c847420a04",
   "metadata": {},
   "outputs": [],
   "source": [
    "d1 = tf.ones((2, ))"
   ]
  },
  {
   "cell_type": "markdown",
   "id": "92548cb5-26d3-4303-968d-4b72b86b0ef9",
   "metadata": {},
   "source": [
    "#### 2D tensor"
   ]
  },
  {
   "cell_type": "code",
   "execution_count": 4,
   "id": "ab1bcc92-6bd5-41dc-bfdc-90baf380353b",
   "metadata": {},
   "outputs": [
    {
     "data": {
      "text/plain": [
       "<tf.Tensor: shape=(2, 2), dtype=float32, numpy=\n",
       "array([[1., 1.],\n",
       "       [1., 1.]], dtype=float32)>"
      ]
     },
     "execution_count": 4,
     "metadata": {},
     "output_type": "execute_result"
    }
   ],
   "source": [
    "d2 = tf.ones((2, 2))\n",
    "d2"
   ]
  },
  {
   "cell_type": "markdown",
   "id": "18703e8b-53ae-47af-b5de-ee01d0c13d60",
   "metadata": {},
   "source": [
    "#### 3D tensor"
   ]
  },
  {
   "cell_type": "code",
   "execution_count": 5,
   "id": "5d0946c3-cc55-4f01-a09f-b25ea7204c89",
   "metadata": {},
   "outputs": [
    {
     "name": "stdout",
     "output_type": "stream",
     "text": [
      "Ones \n",
      " tf.Tensor(\n",
      "[[[1. 1.]\n",
      "  [1. 1.]]\n",
      "\n",
      " [[1. 1.]\n",
      "  [1. 1.]]], shape=(2, 2, 2), dtype=float32)\n",
      "\n",
      " Ones like \n",
      " tf.Tensor([1 1 1], shape=(3,), dtype=int32)\n"
     ]
    }
   ],
   "source": [
    "d3 = tf.ones((2, 2, 2))\n",
    "print('Ones \\n', d3)\n",
    "\n",
    "d3 = tf.ones_like((2, 2, 2))\n",
    "print('\\n Ones like \\n', d3)"
   ]
  },
  {
   "cell_type": "markdown",
   "id": "67c378a5-51cf-4712-93fb-7a91c06871f6",
   "metadata": {},
   "source": [
    "### Constant"
   ]
  },
  {
   "cell_type": "code",
   "execution_count": 6,
   "id": "ae98fb86-411c-4ca8-9d5b-748d1a70728f",
   "metadata": {},
   "outputs": [
    {
     "data": {
      "text/plain": [
       "<tf.Tensor: shape=(2, 2), dtype=int32, numpy=\n",
       "array([[3, 3],\n",
       "       [3, 3]], dtype=int32)>"
      ]
     },
     "execution_count": 6,
     "metadata": {},
     "output_type": "execute_result"
    }
   ],
   "source": [
    "tf.constant(3, shape=(2, 2))"
   ]
  },
  {
   "cell_type": "code",
   "execution_count": 3,
   "id": "0bb2a28b-a17e-4adb-bcfe-1c185886178d",
   "metadata": {},
   "outputs": [
    {
     "data": {
      "text/plain": [
       "TensorShape([3, 4])"
      ]
     },
     "execution_count": 3,
     "metadata": {},
     "output_type": "execute_result"
    }
   ],
   "source": [
    "credit_numpy = np.array([[ 2.0000e+00,  1.0000e+00,  2.4000e+01,  3.9130e+03],\n",
    "                        [ 2.0000e+00,  2.0000e+00,  2.6000e+01,  2.6820e+03],\n",
    "                        [ 2.0000e+00,  2.0000e+00,  3.4000e+01,  2.9239e+04]])\n",
    "\n",
    "# Creating Constant\n",
    "tensor_constant = tf.constant(credit_numpy)\n",
    "\n",
    "tensor_constant.shape"
   ]
  },
  {
   "cell_type": "markdown",
   "id": "56ad23a0-55ac-430f-a817-f2e51d420951",
   "metadata": {},
   "source": [
    "### Variable"
   ]
  },
  {
   "cell_type": "code",
   "execution_count": 8,
   "id": "1de333e4-d13a-4baf-992a-6c7c12d1724e",
   "metadata": {},
   "outputs": [
    {
     "data": {
      "text/plain": [
       "<tf.Variable 'Variable:0' shape=(3, 4) dtype=int32, numpy=\n",
       "array([[    2,     1,    24,  3913],\n",
       "       [    2,     2,    26,  2682],\n",
       "       [    2,     2,    34, 29239]], dtype=int32)>"
      ]
     },
     "execution_count": 8,
     "metadata": {},
     "output_type": "execute_result"
    }
   ],
   "source": [
    "tf.Variable(credit_numpy, dtype=tf.int32)"
   ]
  },
  {
   "cell_type": "markdown",
   "id": "7a3e80b9-0f3b-4000-bb42-6bd891eb8a0f",
   "metadata": {},
   "source": [
    "### Basic Operations"
   ]
  },
  {
   "cell_type": "code",
   "execution_count": 4,
   "id": "c8ce8897-2603-4601-aed4-29d542265cfd",
   "metadata": {},
   "outputs": [
    {
     "name": "stdout",
     "output_type": "stream",
     "text": [
      "\n",
      " C1: [1 2 3 4]\n",
      "\n",
      " C23: [[1 2 3]\n",
      " [1 6 4]]\n"
     ]
    }
   ],
   "source": [
    "# Define tensors A1 and A23 as constants\n",
    "A1 = tf.constant([1, 2, 3, 4])\n",
    "A23 = tf.constant([[1, 2, 3], [1, 6, 4]])\n",
    "\n",
    "# Define B1 and B23 to have the correct shape\n",
    "B1 = tf.ones_like(A1)\n",
    "B23 = tf.ones_like(A23)\n",
    "\n",
    "# Perform element-wise multiplication\n",
    "C1 = tf.multiply(A1, B1)\n",
    "C23 = tf.multiply(A23, B23)\n",
    "\n",
    "# Print the tensors C1 and C23\n",
    "print('\\n C1: {}'.format(C1.numpy()))\n",
    "print('\\n C23: {}'.format(C23.numpy()))"
   ]
  },
  {
   "cell_type": "markdown",
   "id": "0cf41101-ca81-4598-a0ce-429747112b68",
   "metadata": {},
   "source": [
    "### Reduce_"
   ]
  },
  {
   "cell_type": "code",
   "execution_count": 3,
   "id": "b85b93d4-4cca-45a4-845e-cd76db9de66b",
   "metadata": {},
   "outputs": [
    {
     "name": "stdout",
     "output_type": "stream",
     "text": [
      "tf.Tensor(\n",
      "[[ 6]\n",
      " [15]], shape=(2, 1), dtype=int32) \n",
      "\n",
      "row wise mean \n",
      " tf.Tensor([[2 3 4]], shape=(1, 3), dtype=int32)\n",
      "\n",
      " column wise mean \n",
      " tf.Tensor(\n",
      "[[2]\n",
      " [5]], shape=(2, 1), dtype=int32)\n"
     ]
    }
   ],
   "source": [
    "# Library\n",
    "from tensorflow import reduce_sum, reduce_mean, reduce_prod, reduce_max, reduce_min, constant\n",
    "\n",
    "# Defining Tensor Constant\n",
    "b1 = constant([[1, 2, 3], [4, 5, 6]])\n",
    "\n",
    "# Operations\n",
    "rs = reduce_sum(b1, axis=1, keepdims=True) # here the opperation will go thrugh column wise\n",
    "\n",
    "rmin_row = reduce_mean(b1, axis=0, keepdims=True)\n",
    "rmax_column = reduce_mean(b1, axis=1, keepdims=True)\n",
    "\n",
    "print(rs, '\\n')\n",
    "print('row wise mean \\n', rmin_row)\n",
    "print('\\n column wise mean \\n', rmax_column)"
   ]
  },
  {
   "cell_type": "code",
   "execution_count": null,
   "id": "57c5b616-b574-483f-9cd1-c2720addc3f0",
   "metadata": {},
   "outputs": [],
   "source": []
  },
  {
   "cell_type": "code",
   "execution_count": null,
   "id": "ecaa9ad4-1733-4318-9db7-68c055e9c3a5",
   "metadata": {},
   "outputs": [],
   "source": []
  },
  {
   "cell_type": "code",
   "execution_count": null,
   "id": "ebc3cf9f-31ca-40ef-be14-4b17ca3e88e8",
   "metadata": {},
   "outputs": [],
   "source": []
  },
  {
   "cell_type": "code",
   "execution_count": null,
   "id": "6938a28d-6055-4a7c-9ed6-bab269ee31c9",
   "metadata": {},
   "outputs": [],
   "source": []
  },
  {
   "cell_type": "markdown",
   "id": "84d19352-9e73-44a2-b217-db8748cf553d",
   "metadata": {},
   "source": [
    "### Linear Regression"
   ]
  },
  {
   "cell_type": "code",
   "execution_count": 6,
   "id": "18aa3367-3101-4d6f-ad10-7df86428b9d4",
   "metadata": {},
   "outputs": [
    {
     "name": "stdout",
     "output_type": "stream",
     "text": [
      "tf.Tensor(\n",
      "[[ 5600]\n",
      " [ 5900]\n",
      " [10550]\n",
      " [ 6550]], shape=(4, 1), dtype=int32)\n"
     ]
    }
   ],
   "source": [
    "from tensorflow import constant, matmul, keras\n",
    "\n",
    "# Define features, params, and bill as constants\n",
    "features = constant([[2, 24], [2, 26], [2, 57], [1, 37]])\n",
    "params = constant([[1000], [150]])\n",
    "bill = constant([[3913], [2682], [8617], [64400]])\n",
    "\n",
    "# Compute billpred using features and params\n",
    "billpred = matmul(features, params)\n",
    "print(billpred)\n",
    "\n",
    "# Compute and print the error\n",
    "error =  bill - billpred\n",
    "\n",
    "# print(error.numpy())"
   ]
  },
  {
   "cell_type": "code",
   "execution_count": 8,
   "id": "80bfaeb1-2d48-4c20-8906-2b77a1dd5bbd",
   "metadata": {},
   "outputs": [
    {
     "ename": "NameError",
     "evalue": "name 'size_log' is not defined",
     "output_type": "error",
     "traceback": [
      "\u001b[0;31m---------------------------------------------------------------------------\u001b[0m",
      "\u001b[0;31mNameError\u001b[0m                                 Traceback (most recent call last)",
      "\u001b[0;32m/tmp/ipykernel_16322/2181230963.py\u001b[0m in \u001b[0;36m<cell line: 2>\u001b[0;34m()\u001b[0m\n\u001b[1;32m      1\u001b[0m \u001b[0;31m# Define the linear regression model\u001b[0m\u001b[0;34m\u001b[0m\u001b[0;34m\u001b[0m\u001b[0m\n\u001b[0;32m----> 2\u001b[0;31m \u001b[0;32mdef\u001b[0m \u001b[0mlinear_regression\u001b[0m\u001b[0;34m(\u001b[0m\u001b[0mparams\u001b[0m\u001b[0;34m,\u001b[0m \u001b[0mfeature1\u001b[0m \u001b[0;34m=\u001b[0m \u001b[0msize_log\u001b[0m\u001b[0;34m,\u001b[0m \u001b[0mfeature2\u001b[0m \u001b[0;34m=\u001b[0m \u001b[0mbedrooms\u001b[0m\u001b[0;34m)\u001b[0m\u001b[0;34m:\u001b[0m\u001b[0;34m\u001b[0m\u001b[0;34m\u001b[0m\u001b[0m\n\u001b[0m\u001b[1;32m      3\u001b[0m     \u001b[0;32mreturn\u001b[0m \u001b[0mparams\u001b[0m\u001b[0;34m[\u001b[0m\u001b[0;36m0\u001b[0m\u001b[0;34m]\u001b[0m \u001b[0;34m+\u001b[0m \u001b[0mfeature1\u001b[0m\u001b[0;34m*\u001b[0m\u001b[0mparams\u001b[0m\u001b[0;34m[\u001b[0m\u001b[0;36m1\u001b[0m\u001b[0;34m]\u001b[0m \u001b[0;34m+\u001b[0m \u001b[0mfeature2\u001b[0m\u001b[0;34m*\u001b[0m\u001b[0mparams\u001b[0m\u001b[0;34m[\u001b[0m\u001b[0;36m2\u001b[0m\u001b[0;34m]\u001b[0m\u001b[0;34m\u001b[0m\u001b[0;34m\u001b[0m\u001b[0m\n\u001b[1;32m      4\u001b[0m \u001b[0;34m\u001b[0m\u001b[0m\n\u001b[1;32m      5\u001b[0m \u001b[0;31m# Define the loss function\u001b[0m\u001b[0;34m\u001b[0m\u001b[0;34m\u001b[0m\u001b[0m\n",
      "\u001b[0;31mNameError\u001b[0m: name 'size_log' is not defined"
     ]
    }
   ],
   "source": [
    "# Define the linear regression model\n",
    "def linear_regression(params, feature1 = size_log, feature2 = bedrooms):\n",
    "    return params[0] + feature1*params[1] + feature2*params[2]\n",
    "\n",
    "# Define the loss function\n",
    "def loss_function(params, targets = price_log, feature1 = size_log, feature2 = bedrooms):\n",
    "    # Set the predicted values\n",
    "    predictions = linear_regression(params, feature1, feature2)\n",
    "  \n",
    "    # Use the mean absolute error loss\n",
    "    return keras.losses.mae(targets, predictions)\n",
    "\n",
    "# Define the optimize operation\n",
    "opt = keras.optimizers.Adam()\n",
    "\n",
    "# Perform minimization and print trainable variables\n",
    "for j in range(10):\n",
    "    opt.minimize(lambda: loss_function(params, price_log, size_log, bedrooms), var_list=[params])\n",
    "    \n",
    "    print_results(params)"
   ]
  },
  {
   "cell_type": "markdown",
   "id": "400691ac-648b-4f98-a7c9-2e868092dfbc",
   "metadata": {},
   "source": [
    "### Custom Linear Regression"
   ]
  },
  {
   "cell_type": "code",
   "execution_count": 13,
   "id": "6f1c8d95-6756-4225-854f-8179c69c2f41",
   "metadata": {},
   "outputs": [],
   "source": [
    "def linear_regression(intercept, slope, feature, y):\n",
    "    '''\n",
    "    Defining function for prediction and loss Calculation\n",
    "    '''\n",
    "    \n",
    "    prediction = tf.reduce_sum(slope*feature + intercept, axis=1, keepdims=True)\n",
    "    loss = keras.losses.mean_squared_error(bill, prediction)\n",
    "    return print('predictions \\n', prediction, '\\n loss \\n', loss)\n"
   ]
  },
  {
   "cell_type": "code",
   "execution_count": 14,
   "id": "6e30cce8-0012-4897-a367-cd3630706e3a",
   "metadata": {},
   "outputs": [
    {
     "name": "stdout",
     "output_type": "stream",
     "text": [
      "predictions \n",
      " tf.Tensor(\n",
      "[[ 5900]\n",
      " [ 6200]\n",
      " [10850]\n",
      " [ 7700]], shape=(4, 1), dtype=int32) \n",
      " loss \n",
      " tf.Tensor([    3948169    12376324     4986289 -1080077296], shape=(4,), dtype=int32)\n"
     ]
    }
   ],
   "source": [
    "linear_regression(params[0], params[1], features, bill)"
   ]
  },
  {
   "cell_type": "markdown",
   "id": "7258c9e8-11cc-45d8-964f-ba5cea4d1882",
   "metadata": {},
   "source": [
    "### Loss function"
   ]
  },
  {
   "cell_type": "code",
   "execution_count": 15,
   "id": "832273a8-a9c3-4d84-a59b-aab8c324e11f",
   "metadata": {},
   "outputs": [
    {
     "name": "stdout",
     "output_type": "stream",
     "text": [
      "tf.Tensor([   2845969   10355524    3736489 -948344796], shape=(4,), dtype=int32)\n"
     ]
    }
   ],
   "source": [
    "# Define Loss Function\n",
    "loss = keras.losses.mean_squared_error(bill, billpred)\n",
    "print(loss)\n"
   ]
  },
  {
   "cell_type": "markdown",
   "id": "274c1a9d-2730-401e-b535-4957ada8d1db",
   "metadata": {},
   "source": [
    "## **Batch Training**"
   ]
  },
  {
   "cell_type": "code",
   "execution_count": 16,
   "id": "305e248c-62ff-48ac-996a-0fc087a0dec5",
   "metadata": {},
   "outputs": [
    {
     "name": "stdout",
     "output_type": "stream",
     "text": [
      "<class 'pandas.core.frame.DataFrame'>\n",
      "RangeIndex: 20640 entries, 0 to 20639\n",
      "Data columns (total 10 columns):\n",
      " #   Column              Non-Null Count  Dtype  \n",
      "---  ------              --------------  -----  \n",
      " 0   longitude           20640 non-null  float64\n",
      " 1   latitude            20640 non-null  float64\n",
      " 2   housing_median_age  20640 non-null  float64\n",
      " 3   total_rooms         20640 non-null  float64\n",
      " 4   total_bedrooms      20433 non-null  float64\n",
      " 5   population          20640 non-null  float64\n",
      " 6   households          20640 non-null  float64\n",
      " 7   median_income       20640 non-null  float64\n",
      " 8   median_house_value  20640 non-null  float64\n",
      " 9   ocean_proximity     20640 non-null  object \n",
      "dtypes: float64(9), object(1)\n",
      "memory usage: 1.6+ MB\n"
     ]
    },
    {
     "data": {
      "text/plain": [
       "None"
      ]
     },
     "metadata": {},
     "output_type": "display_data"
    },
    {
     "data": {
      "text/html": [
       "<div>\n",
       "<style scoped>\n",
       "    .dataframe tbody tr th:only-of-type {\n",
       "        vertical-align: middle;\n",
       "    }\n",
       "\n",
       "    .dataframe tbody tr th {\n",
       "        vertical-align: top;\n",
       "    }\n",
       "\n",
       "    .dataframe thead th {\n",
       "        text-align: right;\n",
       "    }\n",
       "</style>\n",
       "<table border=\"1\" class=\"dataframe\">\n",
       "  <thead>\n",
       "    <tr style=\"text-align: right;\">\n",
       "      <th></th>\n",
       "      <th>longitude</th>\n",
       "      <th>latitude</th>\n",
       "      <th>housing_median_age</th>\n",
       "      <th>total_rooms</th>\n",
       "      <th>total_bedrooms</th>\n",
       "      <th>population</th>\n",
       "      <th>households</th>\n",
       "      <th>median_income</th>\n",
       "      <th>median_house_value</th>\n",
       "      <th>ocean_proximity</th>\n",
       "    </tr>\n",
       "  </thead>\n",
       "  <tbody>\n",
       "    <tr>\n",
       "      <th>0</th>\n",
       "      <td>-122.23</td>\n",
       "      <td>37.88</td>\n",
       "      <td>41.0</td>\n",
       "      <td>880.0</td>\n",
       "      <td>129.0</td>\n",
       "      <td>322.0</td>\n",
       "      <td>126.0</td>\n",
       "      <td>8.3252</td>\n",
       "      <td>452600.0</td>\n",
       "      <td>NEAR BAY</td>\n",
       "    </tr>\n",
       "    <tr>\n",
       "      <th>1</th>\n",
       "      <td>-122.22</td>\n",
       "      <td>37.86</td>\n",
       "      <td>21.0</td>\n",
       "      <td>7099.0</td>\n",
       "      <td>1106.0</td>\n",
       "      <td>2401.0</td>\n",
       "      <td>1138.0</td>\n",
       "      <td>8.3014</td>\n",
       "      <td>358500.0</td>\n",
       "      <td>NEAR BAY</td>\n",
       "    </tr>\n",
       "    <tr>\n",
       "      <th>2</th>\n",
       "      <td>-122.24</td>\n",
       "      <td>37.85</td>\n",
       "      <td>52.0</td>\n",
       "      <td>1467.0</td>\n",
       "      <td>190.0</td>\n",
       "      <td>496.0</td>\n",
       "      <td>177.0</td>\n",
       "      <td>7.2574</td>\n",
       "      <td>352100.0</td>\n",
       "      <td>NEAR BAY</td>\n",
       "    </tr>\n",
       "    <tr>\n",
       "      <th>3</th>\n",
       "      <td>-122.25</td>\n",
       "      <td>37.85</td>\n",
       "      <td>52.0</td>\n",
       "      <td>1274.0</td>\n",
       "      <td>235.0</td>\n",
       "      <td>558.0</td>\n",
       "      <td>219.0</td>\n",
       "      <td>5.6431</td>\n",
       "      <td>341300.0</td>\n",
       "      <td>NEAR BAY</td>\n",
       "    </tr>\n",
       "    <tr>\n",
       "      <th>4</th>\n",
       "      <td>-122.25</td>\n",
       "      <td>37.85</td>\n",
       "      <td>52.0</td>\n",
       "      <td>1627.0</td>\n",
       "      <td>280.0</td>\n",
       "      <td>565.0</td>\n",
       "      <td>259.0</td>\n",
       "      <td>3.8462</td>\n",
       "      <td>342200.0</td>\n",
       "      <td>NEAR BAY</td>\n",
       "    </tr>\n",
       "  </tbody>\n",
       "</table>\n",
       "</div>"
      ],
      "text/plain": [
       "   longitude  latitude  housing_median_age  total_rooms  total_bedrooms  \\\n",
       "0    -122.23     37.88                41.0        880.0           129.0   \n",
       "1    -122.22     37.86                21.0       7099.0          1106.0   \n",
       "2    -122.24     37.85                52.0       1467.0           190.0   \n",
       "3    -122.25     37.85                52.0       1274.0           235.0   \n",
       "4    -122.25     37.85                52.0       1627.0           280.0   \n",
       "\n",
       "   population  households  median_income  median_house_value ocean_proximity  \n",
       "0       322.0       126.0         8.3252            452600.0        NEAR BAY  \n",
       "1      2401.0      1138.0         8.3014            358500.0        NEAR BAY  \n",
       "2       496.0       177.0         7.2574            352100.0        NEAR BAY  \n",
       "3       558.0       219.0         5.6431            341300.0        NEAR BAY  \n",
       "4       565.0       259.0         3.8462            342200.0        NEAR BAY  "
      ]
     },
     "execution_count": 16,
     "metadata": {},
     "output_type": "execute_result"
    }
   ],
   "source": [
    "# library\n",
    "import pandas as pd\n",
    "\n",
    "housing_data = pd.read_csv('datasets/housing.csv')\n",
    "display(housing_data.info())\n",
    "housing_data.head()\n"
   ]
  },
  {
   "cell_type": "code",
   "execution_count": 17,
   "id": "2ebf6407-0a4b-4d91-9d43-51d1cfc05c9b",
   "metadata": {},
   "outputs": [
    {
     "name": "stdout",
     "output_type": "stream",
     "text": [
      "nan nan\n"
     ]
    }
   ],
   "source": [
    "# Defining slope and intercept\n",
    "intercept = tf.Variable(0.1, tf.float32)\n",
    "slope = tf.Variable(0.1, tf.float32)\n",
    "\n",
    "# model defination\n",
    "def linear_regression(intercept, slope, features):\n",
    "    return intercept + slope*features\n",
    "\n",
    "# loss function\n",
    "def loss_function(intercept, slope, features, targets):\n",
    "    predictions = linear_regression(intercept, slope, features)\n",
    "    return tf.keras.losses.mean_squared_error(targets, predictions)\n",
    "\n",
    "\n",
    "# Optimizer\n",
    "opt = tf.keras.optimizers.Adam()\n",
    "\n",
    "# Loading data in chunk\n",
    "for batch in pd.read_csv('datasets/housing.csv', chunksize=100): \n",
    "    # Extracting features\n",
    "    total_bedroom = np.array(batch['total_bedrooms'], np.float32)\n",
    "    \n",
    "    # Extracting targets\n",
    "    house_value = np.array(batch['median_house_value'], np.float32)\n",
    "    \n",
    "    # Minimize the loss \n",
    "    opt.minimize(lambda: loss_function(intercept, slope, total_bedroom, house_value), var_list=[intercept, slope])\n",
    "    \n",
    "\n",
    "# Printing Values\n",
    "print(intercept.numpy(), slope.numpy())"
   ]
  },
  {
   "cell_type": "markdown",
   "id": "52518d11-e570-40d6-aa29-3bbfdd5f0f2a",
   "metadata": {},
   "source": [
    "## Gradient \n",
    ">### **Differentiation in Tensorflow**\n"
   ]
  },
  {
   "cell_type": "code",
   "execution_count": 18,
   "id": "2df6fc5e-8fe5-40d8-9730-491a88253ee1",
   "metadata": {},
   "outputs": [
    {
     "name": "stdout",
     "output_type": "stream",
     "text": [
      "-2.0\n"
     ]
    }
   ],
   "source": [
    "# Define x\n",
    "x = tf.Variable(-1.0)\n",
    "\n",
    "'''\n",
    "In other words, we are doing differenciation in tensorflow \n",
    "'''\n",
    "\n",
    "# Define y with instance  of GradientTape\n",
    "with tf.GradientTape() as tape:\n",
    "    tape.watch(x) # rate of change y respect of x.\n",
    "    y = tf.multiply(x, x)\n",
    "\n",
    "# Evaluate the gradiant of y at x=-1\n",
    "gradient = tape.gradient(y, x)\n",
    "print(gradient.numpy())"
   ]
  },
  {
   "cell_type": "markdown",
   "id": "be82f0a7-e9c8-41b8-bbc6-4b19b84f8461",
   "metadata": {},
   "source": [
    "### Differentiation of $y = x^4$ in respect of $x=2$  "
   ]
  },
  {
   "cell_type": "code",
   "execution_count": 19,
   "id": "c1a8a61c-bb7f-46d6-be9f-dad1167e83b4",
   "metadata": {},
   "outputs": [
    {
     "name": "stdout",
     "output_type": "stream",
     "text": [
      "96.0\n"
     ]
    }
   ],
   "source": [
    "x = tf.Variable(2.0)\n",
    "with tf.GradientTape() as tape:\n",
    "    tape.watch(x)\n",
    "    y = 3 * x ** 4\n",
    "    \n",
    "gradient = tape.gradient(y, x)\n",
    "print(gradient.numpy())"
   ]
  },
  {
   "cell_type": "markdown",
   "id": "2c0dce35-2291-4356-923b-4534c17a1255",
   "metadata": {},
   "source": [
    "### Tensorflow with Image"
   ]
  },
  {
   "cell_type": "code",
   "execution_count": 35,
   "id": "e194c8ed-744e-4278-9459-810a1636d33c",
   "metadata": {},
   "outputs": [],
   "source": [
    "# Libray\n",
    "from tensorflow import reshape, Variable\n",
    "from skimage import color\n",
    "import matplotlib.pyplot as plt\n",
    "\n",
    "# Reading data\n",
    "color_tensor = plt.imread('datasets/image_data/gabrielle-anwar-og-34387.jpg')\n",
    "color_tensor = Variable(color_tensor)\n",
    "\n",
    "# converting to grayscale \n",
    "# gray_tensor = color.rgb2gray(color_tensor)\n",
    "\n",
    "# Reshape the grayscale image tensor into a vector\n",
    "# gray_vector = reshape(gray_tensor, (784, 1))\n",
    "\n",
    "# Reshape the color image tensor into a vector\n",
    "# color_vector = reshape(color_tensor, (2352, 1))"
   ]
  },
  {
   "cell_type": "code",
   "execution_count": null,
   "id": "9f5590fd-e2dc-406d-8c7b-fe4f607570d2",
   "metadata": {},
   "outputs": [],
   "source": []
  },
  {
   "cell_type": "code",
   "execution_count": null,
   "id": "ff41b0fd-6eaa-4216-9ad5-16ae2b0eb228",
   "metadata": {},
   "outputs": [],
   "source": []
  },
  {
   "cell_type": "code",
   "execution_count": null,
   "id": "c2e6a8db-a16e-42ce-9d72-b45f01adc93c",
   "metadata": {},
   "outputs": [],
   "source": []
  },
  {
   "cell_type": "code",
   "execution_count": null,
   "id": "3490421c-6dc3-40a8-877d-cedef46e8a34",
   "metadata": {},
   "outputs": [],
   "source": []
  },
  {
   "cell_type": "code",
   "execution_count": null,
   "id": "bf78603d-3306-46e7-ae13-99c0440b8052",
   "metadata": {},
   "outputs": [],
   "source": []
  },
  {
   "cell_type": "code",
   "execution_count": null,
   "id": "f4d82267-d333-42be-912a-9beba3bce264",
   "metadata": {},
   "outputs": [],
   "source": []
  },
  {
   "cell_type": "code",
   "execution_count": null,
   "id": "6e502c79-e0f9-4eb9-8435-f8042d347742",
   "metadata": {},
   "outputs": [],
   "source": []
  },
  {
   "cell_type": "code",
   "execution_count": null,
   "id": "d608ce68-7850-4278-af22-438ae7f3f51f",
   "metadata": {},
   "outputs": [],
   "source": []
  },
  {
   "cell_type": "code",
   "execution_count": null,
   "id": "d1ea92cd-14bc-4be3-987d-8b4f2a233e62",
   "metadata": {},
   "outputs": [],
   "source": []
  },
  {
   "cell_type": "code",
   "execution_count": null,
   "id": "7863b8cd-f274-4f7f-836b-c02332a9ea49",
   "metadata": {},
   "outputs": [],
   "source": []
  },
  {
   "cell_type": "code",
   "execution_count": null,
   "id": "a9f78afb-c53b-4b49-abd7-a880d9f1288b",
   "metadata": {},
   "outputs": [],
   "source": []
  },
  {
   "cell_type": "code",
   "execution_count": null,
   "id": "603f209a-0f6d-45ca-8ade-9bb0e69d8cd0",
   "metadata": {},
   "outputs": [],
   "source": []
  },
  {
   "cell_type": "code",
   "execution_count": null,
   "id": "279a365f-db29-423c-9973-e13579ac753a",
   "metadata": {},
   "outputs": [],
   "source": []
  }
 ],
 "metadata": {
  "kernelspec": {
   "display_name": "Python 3 (ipykernel)",
   "language": "python",
   "name": "python3"
  },
  "language_info": {
   "codemirror_mode": {
    "name": "ipython",
    "version": 3
   },
   "file_extension": ".py",
   "mimetype": "text/x-python",
   "name": "python",
   "nbconvert_exporter": "python",
   "pygments_lexer": "ipython3",
   "version": "3.10.7"
  }
 },
 "nbformat": 4,
 "nbformat_minor": 5
}
