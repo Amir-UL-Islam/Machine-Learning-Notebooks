{
 "cells": [
  {
   "cell_type": "markdown",
   "id": "6c0169da-793e-406e-910b-f0e626b10cb9",
   "metadata": {},
   "source": [
    "## Activation Function"
   ]
  },
  {
   "cell_type": "markdown",
   "id": "bcd03c39-c9b8-4565-886b-c9f10fed9998",
   "metadata": {},
   "source": [
    "#### **Activation function are non-linear function used to capture the non-linearity of a dataset.** \n",
    ">### Think of a Credit Card bill data set.\n",
    "![credit card](datasets/credit_card.png)\n",
    "We can see that **bill amount usually increases early in life and decreases later in life.**\n",
    "**This suggests that a high bill for young and older borrowers may mean something different for default**. \n",
    "**If we want our model to capture this, *it can't be linear.** It must allow the impact of the bill amount to depend on the borrower's age.\n",
    "**This is what an activation function does.**"
   ]
  },
  {
   "cell_type": "markdown",
   "id": "a4754420-13c3-48ac-a8bc-64ff0400df63",
   "metadata": {},
   "source": [
    "![neural network](datasets/nur_n.png)"
   ]
  },
  {
   "cell_type": "markdown",
   "id": "f3238037-d4c2-44c6-b34b-09ee7a17d493",
   "metadata": {},
   "source": [
    "### 1. **softmax** is used to multi-classification problem."
   ]
  },
  {
   "cell_type": "code",
   "execution_count": null,
   "id": "36a60c12-6484-42fe-979d-b37b3141196b",
   "metadata": {},
   "outputs": [],
   "source": []
  },
  {
   "cell_type": "markdown",
   "id": "597a0dc7-3281-4636-b2ab-b3ae52894b83",
   "metadata": {},
   "source": [
    "## Weigths/Parameter"
   ]
  },
  {
   "cell_type": "markdown",
   "id": "fa7c38e6-a0e8-48b7-90a1-78b911d2de11",
   "metadata": {},
   "source": [
    ">#### Weight **convey the importance of that corresponding feature in predicting the final output**. "
   ]
  },
  {
   "cell_type": "code",
   "execution_count": null,
   "id": "703d11c9-177f-41dc-8861-160a6bfb71d7",
   "metadata": {},
   "outputs": [],
   "source": []
  },
  {
   "cell_type": "code",
   "execution_count": null,
   "id": "5dfb4931-13c9-40ef-a3cb-a403f4df0df6",
   "metadata": {},
   "outputs": [],
   "source": []
  },
  {
   "cell_type": "markdown",
   "id": "e90d63b8-8ada-4e2a-b8fc-0f60ed3ac8c4",
   "metadata": {},
   "source": [
    "#### **Layers are used to construct a deep learning model,** and **tensors are used to define the data flow through the model**."
   ]
  },
  {
   "cell_type": "code",
   "execution_count": 3,
   "id": "912af9f3-0c04-4b12-a8a3-ea4ce64b4643",
   "metadata": {},
   "outputs": [],
   "source": [
    "import pandas as pd\n",
    "import numpy as np\n",
    "import tensorflow as tf\n"
   ]
  },
  {
   "cell_type": "code",
   "execution_count": 4,
   "id": "92db646c-2ace-4470-9134-ea5de457b5e1",
   "metadata": {},
   "outputs": [
    {
     "data": {
      "text/html": [
       "<div>\n",
       "<style scoped>\n",
       "    .dataframe tbody tr th:only-of-type {\n",
       "        vertical-align: middle;\n",
       "    }\n",
       "\n",
       "    .dataframe tbody tr th {\n",
       "        vertical-align: top;\n",
       "    }\n",
       "\n",
       "    .dataframe thead th {\n",
       "        text-align: right;\n",
       "    }\n",
       "</style>\n",
       "<table border=\"1\" class=\"dataframe\">\n",
       "  <thead>\n",
       "    <tr style=\"text-align: right;\">\n",
       "      <th></th>\n",
       "      <th>longitude</th>\n",
       "      <th>latitude</th>\n",
       "      <th>housing_median_age</th>\n",
       "      <th>total_rooms</th>\n",
       "      <th>total_bedrooms</th>\n",
       "      <th>population</th>\n",
       "      <th>households</th>\n",
       "      <th>median_income</th>\n",
       "      <th>median_house_value</th>\n",
       "      <th>ocean_proximity</th>\n",
       "    </tr>\n",
       "  </thead>\n",
       "  <tbody>\n",
       "    <tr>\n",
       "      <th>0</th>\n",
       "      <td>-122.23</td>\n",
       "      <td>37.88</td>\n",
       "      <td>41.0</td>\n",
       "      <td>880.0</td>\n",
       "      <td>129.0</td>\n",
       "      <td>322.0</td>\n",
       "      <td>126.0</td>\n",
       "      <td>8.3252</td>\n",
       "      <td>452600.0</td>\n",
       "      <td>NEAR BAY</td>\n",
       "    </tr>\n",
       "    <tr>\n",
       "      <th>1</th>\n",
       "      <td>-122.22</td>\n",
       "      <td>37.86</td>\n",
       "      <td>21.0</td>\n",
       "      <td>7099.0</td>\n",
       "      <td>1106.0</td>\n",
       "      <td>2401.0</td>\n",
       "      <td>1138.0</td>\n",
       "      <td>8.3014</td>\n",
       "      <td>358500.0</td>\n",
       "      <td>NEAR BAY</td>\n",
       "    </tr>\n",
       "    <tr>\n",
       "      <th>2</th>\n",
       "      <td>-122.24</td>\n",
       "      <td>37.85</td>\n",
       "      <td>52.0</td>\n",
       "      <td>1467.0</td>\n",
       "      <td>190.0</td>\n",
       "      <td>496.0</td>\n",
       "      <td>177.0</td>\n",
       "      <td>7.2574</td>\n",
       "      <td>352100.0</td>\n",
       "      <td>NEAR BAY</td>\n",
       "    </tr>\n",
       "    <tr>\n",
       "      <th>3</th>\n",
       "      <td>-122.25</td>\n",
       "      <td>37.85</td>\n",
       "      <td>52.0</td>\n",
       "      <td>1274.0</td>\n",
       "      <td>235.0</td>\n",
       "      <td>558.0</td>\n",
       "      <td>219.0</td>\n",
       "      <td>5.6431</td>\n",
       "      <td>341300.0</td>\n",
       "      <td>NEAR BAY</td>\n",
       "    </tr>\n",
       "    <tr>\n",
       "      <th>4</th>\n",
       "      <td>-122.25</td>\n",
       "      <td>37.85</td>\n",
       "      <td>52.0</td>\n",
       "      <td>1627.0</td>\n",
       "      <td>280.0</td>\n",
       "      <td>565.0</td>\n",
       "      <td>259.0</td>\n",
       "      <td>3.8462</td>\n",
       "      <td>342200.0</td>\n",
       "      <td>NEAR BAY</td>\n",
       "    </tr>\n",
       "  </tbody>\n",
       "</table>\n",
       "</div>"
      ],
      "text/plain": [
       "   longitude  latitude  housing_median_age  total_rooms  total_bedrooms  \\\n",
       "0    -122.23     37.88                41.0        880.0           129.0   \n",
       "1    -122.22     37.86                21.0       7099.0          1106.0   \n",
       "2    -122.24     37.85                52.0       1467.0           190.0   \n",
       "3    -122.25     37.85                52.0       1274.0           235.0   \n",
       "4    -122.25     37.85                52.0       1627.0           280.0   \n",
       "\n",
       "   population  households  median_income  median_house_value ocean_proximity  \n",
       "0       322.0       126.0         8.3252            452600.0        NEAR BAY  \n",
       "1      2401.0      1138.0         8.3014            358500.0        NEAR BAY  \n",
       "2       496.0       177.0         7.2574            352100.0        NEAR BAY  \n",
       "3       558.0       219.0         5.6431            341300.0        NEAR BAY  \n",
       "4       565.0       259.0         3.8462            342200.0        NEAR BAY  "
      ]
     },
     "execution_count": 4,
     "metadata": {},
     "output_type": "execute_result"
    }
   ],
   "source": [
    "data = pd.read_csv('datasets/housing.csv')\n",
    "data.head()"
   ]
  },
  {
   "cell_type": "markdown",
   "id": "48da0a99-6af5-4d4b-84d4-dbf083de890a",
   "metadata": {},
   "source": [
    "### Identifying the input **Neurons**\n",
    "#### Let **house_age , total_bedrooms and total_rooms as 3 input Neurons**"
   ]
  },
  {
   "cell_type": "code",
   "execution_count": 7,
   "id": "cca26366-1e47-48e8-8f92-eb1d82b1b5d1",
   "metadata": {},
   "outputs": [
    {
     "data": {
      "text/plain": [
       "TensorShape([1, 3])"
      ]
     },
     "execution_count": 7,
     "metadata": {},
     "output_type": "execute_result"
    }
   ],
   "source": [
    "input_data = tf.constant([data.loc(axis=1)['housing_median_age', 'total_rooms', 'total_bedrooms'].iloc[0].values], tf.float32)\n",
    "input_data.shape"
   ]
  },
  {
   "cell_type": "markdown",
   "id": "9df222f6-1699-44e4-b873-425b3e4b685a",
   "metadata": {},
   "source": [
    "### Slope/ **Weigths**\n",
    "#### Weight convey the importance of that corresponding feature in predicting the final output"
   ]
  },
  {
   "cell_type": "code",
   "execution_count": 6,
   "id": "158bf36e-a155-4e0c-bb2a-df9766cdee45",
   "metadata": {},
   "outputs": [],
   "source": [
    "weights = tf.Variable([[0.2], [0.3], [0.001]])"
   ]
  },
  {
   "cell_type": "markdown",
   "id": "ffb2ebe9-84fd-4aa3-ad3b-b1f8b9d2809f",
   "metadata": {},
   "source": [
    "### Now the **Bias/Intercept**"
   ]
  },
  {
   "cell_type": "code",
   "execution_count": 8,
   "id": "4121b3fb-29a8-4b48-b2cc-236d1b4df24d",
   "metadata": {},
   "outputs": [],
   "source": [
    "bias = tf.Variable([0.5])"
   ]
  },
  {
   "cell_type": "markdown",
   "id": "f91de063-5820-4e73-a395-bd6ab86c9afe",
   "metadata": {},
   "source": [
    "## **Dens Layer**"
   ]
  },
  {
   "cell_type": "markdown",
   "id": "4dc3d71f-495a-4b5d-b322-ddb504622313",
   "metadata": {},
   "source": [
    "#### 1. Matrix Multiplication\n",
    "#### 2. Add bias to the  Matrix Multiplication"
   ]
  },
  {
   "cell_type": "code",
   "execution_count": 7,
   "id": "c3cde2d9-1961-4a07-9693-1583c5924664",
   "metadata": {},
   "outputs": [],
   "source": [
    "product = tf.matmul(input_data, weights)\n",
    "dense = tf.keras.activations.sigmoid(bias + product)"
   ]
  },
  {
   "cell_type": "code",
   "execution_count": null,
   "id": "1284f888-9f43-4463-94d1-f1211427e369",
   "metadata": {},
   "outputs": [],
   "source": []
  },
  {
   "cell_type": "code",
   "execution_count": null,
   "id": "2fda8344-cec0-4c71-bd0a-a906c4258aa7",
   "metadata": {},
   "outputs": [],
   "source": []
  },
  {
   "cell_type": "code",
   "execution_count": null,
   "id": "200210c8-933b-48df-9644-bd6f712a2c88",
   "metadata": {},
   "outputs": [],
   "source": []
  },
  {
   "cell_type": "code",
   "execution_count": null,
   "id": "c9afb797-649b-426b-af61-28f910fa16fb",
   "metadata": {},
   "outputs": [],
   "source": []
  }
 ],
 "metadata": {
  "kernelspec": {
   "display_name": "Python 3 (ipykernel)",
   "language": "python",
   "name": "python3"
  },
  "language_info": {
   "codemirror_mode": {
    "name": "ipython",
    "version": 3
   },
   "file_extension": ".py",
   "mimetype": "text/x-python",
   "name": "python",
   "nbconvert_exporter": "python",
   "pygments_lexer": "ipython3",
   "version": "3.11.1"
  }
 },
 "nbformat": 4,
 "nbformat_minor": 5
}
