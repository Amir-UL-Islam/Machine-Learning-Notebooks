{
 "cells": [
  {
   "cell_type": "markdown",
   "id": "27ee8dbd",
   "metadata": {},
   "source": [
    "# Important Built in Functions"
   ]
  },
  {
   "cell_type": "markdown",
   "id": "22f3c1e4",
   "metadata": {},
   "source": [
    "## **Join Mathod**"
   ]
  },
  {
   "cell_type": "markdown",
   "id": "5d6d2501",
   "metadata": {},
   "source": [
    "## **String Strip Method**"
   ]
  },
  {
   "cell_type": "markdown",
   "id": "bbdea6a2",
   "metadata": {},
   "source": [
    "#### will return a copy of the string with characters removed, at from the beginning, the end or both beginning and end. If no arguments are given the default is to strip whitespace characters."
   ]
  },
  {
   "cell_type": "code",
   "execution_count": 2,
   "id": "6ab8deef",
   "metadata": {},
   "outputs": [
    {
     "name": "stdout",
     "output_type": "stream",
     "text": [
      "example.com\n"
     ]
    }
   ],
   "source": [
    "url = 'www.example.com/'\n",
    "s = url.strip('w./')\n",
    "print(s)"
   ]
  },
  {
   "cell_type": "markdown",
   "id": "adeaf72b",
   "metadata": {},
   "source": [
    "#### However, do notice that only the first ```.``` got stripped from the string. This is because the strip function only strips the argument characters that lie at the left or rightmost. Since ``` w``` comes before the first``` .``` they get stripped together, whereas **‘com’** is present in the right end before the ```. ```after stripping``` /```."
   ]
  },
  {
   "cell_type": "markdown",
   "id": "9e34f67a",
   "metadata": {},
   "source": [
    "### **Python eval()** *aka the evil*"
   ]
  },
  {
   "cell_type": "markdown",
   "id": "c5a1efe5",
   "metadata": {},
   "source": [
    "### **zip()**"
   ]
  },
  {
   "cell_type": "markdown",
   "id": "a9cae06b",
   "metadata": {},
   "source": [
    "#### This function returns a list of tuples"
   ]
  },
  {
   "cell_type": "code",
   "execution_count": null,
   "id": "c325ca57",
   "metadata": {},
   "outputs": [],
   "source": []
  }
 ],
 "metadata": {
  "kernelspec": {
   "display_name": "Python 3 (ipykernel)",
   "language": "python",
   "name": "python3"
  },
  "language_info": {
   "codemirror_mode": {
    "name": "ipython",
    "version": 3
   },
   "file_extension": ".py",
   "mimetype": "text/x-python",
   "name": "python",
   "nbconvert_exporter": "python",
   "pygments_lexer": "ipython3",
   "version": "3.10.6"
  }
 },
 "nbformat": 4,
 "nbformat_minor": 5
}
